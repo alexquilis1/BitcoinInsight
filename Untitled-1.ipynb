{
 "cells": [
  {
   "cell_type": "code",
   "execution_count": 3,
   "metadata": {},
   "outputs": [],
   "source": [
    "from binance.client import Client\n",
    "import pandas as pd\n",
    "import plotly.graph_objects as go\n",
    "from plotly.subplots import make_subplots"
   ]
  },
  {
   "cell_type": "code",
   "execution_count": 4,
   "metadata": {},
   "outputs": [],
   "source": [
    "api_key = 'ayr7sNeJatrdKneSN9onL0vO7PBKLHj5i6CfGOo1lxecXvHJd0D0BtwX0V86W88W'\n",
    "api_secret = 'vpdaFvuqIYxpuSYqtSyNbQrEEpXJI5AR80rAlSszLGkeJCTXLfpRn4pr4vQH7BcV'"
   ]
  },
  {
   "cell_type": "code",
   "execution_count": 5,
   "metadata": {},
   "outputs": [],
   "source": [
    "client = Client(api_key, api_secret)"
   ]
  },
  {
   "cell_type": "code",
   "execution_count": 6,
   "metadata": {},
   "outputs": [],
   "source": [
    "symbol = 'BTCUSDT'\n",
    "start_date = \"1 Jan, 2024\"\n",
    "end_date = \"31 Dec, 2024\""
   ]
  },
  {
   "cell_type": "code",
   "execution_count": 7,
   "metadata": {},
   "outputs": [],
   "source": [
    "candles = client.get_historical_klines(symbol, Client.KLINE_INTERVAL_1DAY, start_date, end_date)"
   ]
  },
  {
   "cell_type": "code",
   "execution_count": 8,
   "metadata": {},
   "outputs": [],
   "source": [
    "columns = ['Open Time', 'Open', 'High', 'Low', 'Close', 'Volume', \n",
    "           'Close Time', 'Quote Asset Volume', 'Number of Trades', \n",
    "           'Taker Buy Base Asset Volume', 'Taker Buy Quote Asset Volume', 'Ignore']\n",
    "df = pd.DataFrame(candles, columns=columns)"
   ]
  },
  {
   "cell_type": "code",
   "execution_count": 9,
   "metadata": {},
   "outputs": [],
   "source": [
    "columns_to_convert = ['Open', 'High', 'Low', 'Close', 'Volume', \n",
    "                      'Quote Asset Volume', 'Number of Trades', \n",
    "                      'Taker Buy Base Asset Volume', 'Taker Buy Quote Asset Volume']\n",
    "for col in columns_to_convert:\n",
    "    df[col] = df[col].astype(float)"
   ]
  },
  {
   "cell_type": "code",
   "execution_count": 10,
   "metadata": {},
   "outputs": [],
   "source": [
    "df['Open Time'] = pd.to_datetime(df['Open Time'], unit='ms')\n",
    "df['Close Time'] = pd.to_datetime(df['Close Time'], unit='ms')"
   ]
  },
  {
   "cell_type": "code",
   "execution_count": 11,
   "metadata": {},
   "outputs": [],
   "source": [
    "df.set_index('Open Time', inplace=True)"
   ]
  },
  {
   "cell_type": "code",
   "execution_count": 12,
   "metadata": {},
   "outputs": [
    {
     "data": {
      "text/html": [
       "<div>\n",
       "<style scoped>\n",
       "    .dataframe tbody tr th:only-of-type {\n",
       "        vertical-align: middle;\n",
       "    }\n",
       "\n",
       "    .dataframe tbody tr th {\n",
       "        vertical-align: top;\n",
       "    }\n",
       "\n",
       "    .dataframe thead th {\n",
       "        text-align: right;\n",
       "    }\n",
       "</style>\n",
       "<table border=\"1\" class=\"dataframe\">\n",
       "  <thead>\n",
       "    <tr style=\"text-align: right;\">\n",
       "      <th></th>\n",
       "      <th>Open</th>\n",
       "      <th>High</th>\n",
       "      <th>Low</th>\n",
       "      <th>Close</th>\n",
       "      <th>Volume</th>\n",
       "      <th>Close Time</th>\n",
       "      <th>Quote Asset Volume</th>\n",
       "      <th>Number of Trades</th>\n",
       "      <th>Taker Buy Base Asset Volume</th>\n",
       "      <th>Taker Buy Quote Asset Volume</th>\n",
       "      <th>Ignore</th>\n",
       "    </tr>\n",
       "    <tr>\n",
       "      <th>Open Time</th>\n",
       "      <th></th>\n",
       "      <th></th>\n",
       "      <th></th>\n",
       "      <th></th>\n",
       "      <th></th>\n",
       "      <th></th>\n",
       "      <th></th>\n",
       "      <th></th>\n",
       "      <th></th>\n",
       "      <th></th>\n",
       "      <th></th>\n",
       "    </tr>\n",
       "  </thead>\n",
       "  <tbody>\n",
       "    <tr>\n",
       "      <th>2024-01-01</th>\n",
       "      <td>42283.58</td>\n",
       "      <td>44184.10</td>\n",
       "      <td>42180.77</td>\n",
       "      <td>44179.55</td>\n",
       "      <td>27174.29903</td>\n",
       "      <td>2024-01-01 23:59:59.999</td>\n",
       "      <td>1.169996e+09</td>\n",
       "      <td>1114623.0</td>\n",
       "      <td>14331.73180</td>\n",
       "      <td>6.173521e+08</td>\n",
       "      <td>0</td>\n",
       "    </tr>\n",
       "    <tr>\n",
       "      <th>2024-01-02</th>\n",
       "      <td>44179.55</td>\n",
       "      <td>45879.63</td>\n",
       "      <td>44148.34</td>\n",
       "      <td>44946.91</td>\n",
       "      <td>65146.40661</td>\n",
       "      <td>2024-01-02 23:59:59.999</td>\n",
       "      <td>2.944332e+09</td>\n",
       "      <td>2247532.0</td>\n",
       "      <td>33817.14447</td>\n",
       "      <td>1.527964e+09</td>\n",
       "      <td>0</td>\n",
       "    </tr>\n",
       "    <tr>\n",
       "      <th>2024-01-03</th>\n",
       "      <td>44946.91</td>\n",
       "      <td>45500.00</td>\n",
       "      <td>40750.00</td>\n",
       "      <td>42845.23</td>\n",
       "      <td>81194.55173</td>\n",
       "      <td>2024-01-03 23:59:59.999</td>\n",
       "      <td>3.507105e+09</td>\n",
       "      <td>2658041.0</td>\n",
       "      <td>39103.99162</td>\n",
       "      <td>1.687665e+09</td>\n",
       "      <td>0</td>\n",
       "    </tr>\n",
       "    <tr>\n",
       "      <th>2024-01-04</th>\n",
       "      <td>42845.23</td>\n",
       "      <td>44729.58</td>\n",
       "      <td>42613.77</td>\n",
       "      <td>44151.10</td>\n",
       "      <td>48038.06334</td>\n",
       "      <td>2024-01-04 23:59:59.999</td>\n",
       "      <td>2.095095e+09</td>\n",
       "      <td>1819944.0</td>\n",
       "      <td>23605.90059</td>\n",
       "      <td>1.030075e+09</td>\n",
       "      <td>0</td>\n",
       "    </tr>\n",
       "    <tr>\n",
       "      <th>2024-01-05</th>\n",
       "      <td>44151.10</td>\n",
       "      <td>44357.46</td>\n",
       "      <td>42450.00</td>\n",
       "      <td>44145.11</td>\n",
       "      <td>48075.25327</td>\n",
       "      <td>2024-01-05 23:59:59.999</td>\n",
       "      <td>2.100954e+09</td>\n",
       "      <td>2064845.0</td>\n",
       "      <td>24015.06426</td>\n",
       "      <td>1.049655e+09</td>\n",
       "      <td>0</td>\n",
       "    </tr>\n",
       "    <tr>\n",
       "      <th>...</th>\n",
       "      <td>...</td>\n",
       "      <td>...</td>\n",
       "      <td>...</td>\n",
       "      <td>...</td>\n",
       "      <td>...</td>\n",
       "      <td>...</td>\n",
       "      <td>...</td>\n",
       "      <td>...</td>\n",
       "      <td>...</td>\n",
       "      <td>...</td>\n",
       "      <td>...</td>\n",
       "    </tr>\n",
       "    <tr>\n",
       "      <th>2024-12-27</th>\n",
       "      <td>95791.60</td>\n",
       "      <td>97544.58</td>\n",
       "      <td>93500.01</td>\n",
       "      <td>94299.03</td>\n",
       "      <td>26501.26429</td>\n",
       "      <td>2024-12-27 23:59:59.999</td>\n",
       "      <td>2.528568e+09</td>\n",
       "      <td>5718866.0</td>\n",
       "      <td>12945.51657</td>\n",
       "      <td>1.235624e+09</td>\n",
       "      <td>0</td>\n",
       "    </tr>\n",
       "    <tr>\n",
       "      <th>2024-12-28</th>\n",
       "      <td>94299.03</td>\n",
       "      <td>95733.99</td>\n",
       "      <td>94135.66</td>\n",
       "      <td>95300.00</td>\n",
       "      <td>8385.89290</td>\n",
       "      <td>2024-12-28 23:59:59.999</td>\n",
       "      <td>7.946516e+08</td>\n",
       "      <td>2732061.0</td>\n",
       "      <td>4203.59876</td>\n",
       "      <td>3.984163e+08</td>\n",
       "      <td>0</td>\n",
       "    </tr>\n",
       "    <tr>\n",
       "      <th>2024-12-29</th>\n",
       "      <td>95300.00</td>\n",
       "      <td>95340.00</td>\n",
       "      <td>93009.52</td>\n",
       "      <td>93738.20</td>\n",
       "      <td>13576.00578</td>\n",
       "      <td>2024-12-29 23:59:59.999</td>\n",
       "      <td>1.278371e+09</td>\n",
       "      <td>2865838.0</td>\n",
       "      <td>5651.38589</td>\n",
       "      <td>5.321954e+08</td>\n",
       "      <td>0</td>\n",
       "    </tr>\n",
       "    <tr>\n",
       "      <th>2024-12-30</th>\n",
       "      <td>93738.19</td>\n",
       "      <td>95024.50</td>\n",
       "      <td>91530.45</td>\n",
       "      <td>92792.05</td>\n",
       "      <td>27619.42250</td>\n",
       "      <td>2024-12-30 23:59:59.999</td>\n",
       "      <td>2.573126e+09</td>\n",
       "      <td>5560563.0</td>\n",
       "      <td>13092.19646</td>\n",
       "      <td>1.220209e+09</td>\n",
       "      <td>0</td>\n",
       "    </tr>\n",
       "    <tr>\n",
       "      <th>2024-12-31</th>\n",
       "      <td>92792.05</td>\n",
       "      <td>96250.00</td>\n",
       "      <td>92033.73</td>\n",
       "      <td>93576.00</td>\n",
       "      <td>19612.03389</td>\n",
       "      <td>2024-12-31 23:59:59.999</td>\n",
       "      <td>1.845719e+09</td>\n",
       "      <td>3347847.0</td>\n",
       "      <td>9687.96775</td>\n",
       "      <td>9.117163e+08</td>\n",
       "      <td>0</td>\n",
       "    </tr>\n",
       "  </tbody>\n",
       "</table>\n",
       "<p>366 rows × 11 columns</p>\n",
       "</div>"
      ],
      "text/plain": [
       "                Open      High       Low     Close       Volume  \\\n",
       "Open Time                                                         \n",
       "2024-01-01  42283.58  44184.10  42180.77  44179.55  27174.29903   \n",
       "2024-01-02  44179.55  45879.63  44148.34  44946.91  65146.40661   \n",
       "2024-01-03  44946.91  45500.00  40750.00  42845.23  81194.55173   \n",
       "2024-01-04  42845.23  44729.58  42613.77  44151.10  48038.06334   \n",
       "2024-01-05  44151.10  44357.46  42450.00  44145.11  48075.25327   \n",
       "...              ...       ...       ...       ...          ...   \n",
       "2024-12-27  95791.60  97544.58  93500.01  94299.03  26501.26429   \n",
       "2024-12-28  94299.03  95733.99  94135.66  95300.00   8385.89290   \n",
       "2024-12-29  95300.00  95340.00  93009.52  93738.20  13576.00578   \n",
       "2024-12-30  93738.19  95024.50  91530.45  92792.05  27619.42250   \n",
       "2024-12-31  92792.05  96250.00  92033.73  93576.00  19612.03389   \n",
       "\n",
       "                        Close Time  Quote Asset Volume  Number of Trades  \\\n",
       "Open Time                                                                  \n",
       "2024-01-01 2024-01-01 23:59:59.999        1.169996e+09         1114623.0   \n",
       "2024-01-02 2024-01-02 23:59:59.999        2.944332e+09         2247532.0   \n",
       "2024-01-03 2024-01-03 23:59:59.999        3.507105e+09         2658041.0   \n",
       "2024-01-04 2024-01-04 23:59:59.999        2.095095e+09         1819944.0   \n",
       "2024-01-05 2024-01-05 23:59:59.999        2.100954e+09         2064845.0   \n",
       "...                            ...                 ...               ...   \n",
       "2024-12-27 2024-12-27 23:59:59.999        2.528568e+09         5718866.0   \n",
       "2024-12-28 2024-12-28 23:59:59.999        7.946516e+08         2732061.0   \n",
       "2024-12-29 2024-12-29 23:59:59.999        1.278371e+09         2865838.0   \n",
       "2024-12-30 2024-12-30 23:59:59.999        2.573126e+09         5560563.0   \n",
       "2024-12-31 2024-12-31 23:59:59.999        1.845719e+09         3347847.0   \n",
       "\n",
       "            Taker Buy Base Asset Volume  Taker Buy Quote Asset Volume Ignore  \n",
       "Open Time                                                                     \n",
       "2024-01-01                  14331.73180                  6.173521e+08      0  \n",
       "2024-01-02                  33817.14447                  1.527964e+09      0  \n",
       "2024-01-03                  39103.99162                  1.687665e+09      0  \n",
       "2024-01-04                  23605.90059                  1.030075e+09      0  \n",
       "2024-01-05                  24015.06426                  1.049655e+09      0  \n",
       "...                                 ...                           ...    ...  \n",
       "2024-12-27                  12945.51657                  1.235624e+09      0  \n",
       "2024-12-28                   4203.59876                  3.984163e+08      0  \n",
       "2024-12-29                   5651.38589                  5.321954e+08      0  \n",
       "2024-12-30                  13092.19646                  1.220209e+09      0  \n",
       "2024-12-31                   9687.96775                  9.117163e+08      0  \n",
       "\n",
       "[366 rows x 11 columns]"
      ]
     },
     "execution_count": 12,
     "metadata": {},
     "output_type": "execute_result"
    }
   ],
   "source": [
    "df"
   ]
  },
  {
   "cell_type": "code",
   "execution_count": 13,
   "metadata": {},
   "outputs": [],
   "source": [
    "# --- Cálculo de Indicadores Técnicos ---\n",
    "\n",
    "# Bollinger Bands (20 periodos y 2 desviaciones estándar)\n",
    "df['SMA20'] = df['Close'].rolling(window=20).mean()\n",
    "df['std20'] = df['Close'].rolling(window=20).std()\n",
    "df['Upper_BB'] = df['SMA20'] + (df['std20'] * 2)\n",
    "df['Lower_BB'] = df['SMA20'] - (df['std20'] * 2)\n",
    "\n",
    "# Medias Móviles adicionales: SMA50 y SMA200\n",
    "df['SMA50'] = df['Close'].rolling(window=50).mean()\n",
    "df['SMA200'] = df['Close'].rolling(window=200).mean()\n",
    "\n",
    "# RSI (14 periodos)\n",
    "delta = df['Close'].diff()\n",
    "gain = delta.clip(lower=0)\n",
    "loss = -delta.clip(upper=0)\n",
    "avg_gain = gain.rolling(window=14).mean()\n",
    "avg_loss = loss.rolling(window=14).mean()\n",
    "rs = avg_gain / avg_loss\n",
    "df['RSI'] = 100 - (100 / (1 + rs))\n",
    "\n",
    "# MACD (EMA de 12 y 26 periodos y señal de 9)\n",
    "ema12 = df['Close'].ewm(span=12, adjust=False).mean()\n",
    "ema26 = df['Close'].ewm(span=26, adjust=False).mean()\n",
    "df['MACD'] = ema12 - ema26\n",
    "df['MACD_signal'] = df['MACD'].ewm(span=9, adjust=False).mean()\n",
    "\n",
    "# --- Cálculo de Indicadores Técnicos Adicionales ---\n",
    "\n",
    "# EMA: Media Móvil Exponencial (por ejemplo, período 20)\n",
    "df['EMA'] = df['Close'].ewm(span=10, adjust=False).mean()\n",
    "\n",
    "# ATR: Average True Range (rango verdadero promedio), con período 14\n",
    "df['prev_close'] = df['Close'].shift(1)\n",
    "df['tr'] = df.apply(lambda row: max(row['High'] - row['Low'],\n",
    "                                      abs(row['High'] - row['prev_close']),\n",
    "                                      abs(row['Low'] - row['prev_close'])), axis=1)\n",
    "df['ATR'] = df['tr'].rolling(window=14).mean()\n",
    "df.drop(['prev_close', 'tr'], axis=1, inplace=True)\n",
    "\n",
    "# OBV: On-Balance Volume\n",
    "df['OBV'] = 0\n",
    "df.loc[df['Close'] > df['Close'].shift(1), 'OBV'] = df['Volume']\n",
    "df.loc[df['Close'] < df['Close'].shift(1), 'OBV'] = -df['Volume']\n",
    "df['OBV'] = df['OBV'].cumsum()\n",
    "\n",
    "# VWAP: Precio Promedio Ponderado por Volumen\n",
    "df['VWAP'] = (df['Close'] * df['Volume']).cumsum() / df['Volume'].cumsum()\n",
    "\n",
    "# Ichimoku Cloud:\n",
    "# Tenkan-sen (Línea de Conversión): (máximo de 9 períodos + mínimo de 9 períodos) / 2\n",
    "df['Ichimoku_Tenkan'] = (df['High'].rolling(window=9).max() + df['Low'].rolling(window=9).min()) / 2\n",
    "# Kijun-sen (Línea Base): (máximo de 26 períodos + mínimo de 26 períodos) / 2\n",
    "df['Ichimoku_Kijun'] = (df['High'].rolling(window=26).max() + df['Low'].rolling(window=26).min()) / 2\n",
    "# Senkou Span A (Primer Líder): (Tenkan-sen + Kijun-sen) / 2 desplazado 26 períodos hacia el futuro\n",
    "df['Ichimoku_SenkouA'] = ((df['Ichimoku_Tenkan'] + df['Ichimoku_Kijun']) / 2).shift(26)\n",
    "# Senkou Span B (Segundo Líder): (máximo de 52 períodos + mínimo de 52 períodos) / 2 desplazado 26 períodos hacia el futuro\n",
    "df['Ichimoku_SenkouB'] = ((df['High'].rolling(window=52).max() + df['Low'].rolling(window=52).min()) / 2).shift(26)\n",
    "\n",
    "# Stochastic Oscillator:\n",
    "# %K = (Close - mínimo de 14 períodos) / (máximo de 14 períodos - mínimo de 14 períodos) * 100\n",
    "df['lowest_low'] = df['Low'].rolling(window=14).min()\n",
    "df['highest_high'] = df['High'].rolling(window=14).max()\n",
    "df['Stochastic_%K'] = (df['Close'] - df['lowest_low']) / (df['highest_high'] - df['lowest_low']) * 100\n",
    "# %D = Media móvil simple de 3 períodos de %K\n",
    "df['Stochastic_%D'] = df['Stochastic_%K'].rolling(window=3).mean()\n",
    "df.drop(['lowest_low', 'highest_high'], axis=1, inplace=True)\n"
   ]
  },
  {
   "cell_type": "code",
   "execution_count": 14,
   "metadata": {},
   "outputs": [
    {
     "data": {
      "application/vnd.plotly.v1+json": {
       "config": {
        "plotlyServerURL": "https://plot.ly"
       },
       "data": [
        {
         "close": {
          "bdata": "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",
          "dtype": "f8"
         },
         "high": {
          "bdata": "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",
          "dtype": "f8"
         },
         "low": {
          "bdata": "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",
          "dtype": "f8"
         },
         "name": "Candlestick",
         "open": {
          "bdata": "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",
          "dtype": "f8"
         },
         "type": "candlestick",
         "x": [
          "2024-01-01T00:00:00.000000000",
          "2024-01-02T00:00:00.000000000",
          "2024-01-03T00:00:00.000000000",
          "2024-01-04T00:00:00.000000000",
          "2024-01-05T00:00:00.000000000",
          "2024-01-06T00:00:00.000000000",
          "2024-01-07T00:00:00.000000000",
          "2024-01-08T00:00:00.000000000",
          "2024-01-09T00:00:00.000000000",
          "2024-01-10T00:00:00.000000000",
          "2024-01-11T00:00:00.000000000",
          "2024-01-12T00:00:00.000000000",
          "2024-01-13T00:00:00.000000000",
          "2024-01-14T00:00:00.000000000",
          "2024-01-15T00:00:00.000000000",
          "2024-01-16T00:00:00.000000000",
          "2024-01-17T00:00:00.000000000",
          "2024-01-18T00:00:00.000000000",
          "2024-01-19T00:00:00.000000000",
          "2024-01-20T00:00:00.000000000",
          "2024-01-21T00:00:00.000000000",
          "2024-01-22T00:00:00.000000000",
          "2024-01-23T00:00:00.000000000",
          "2024-01-24T00:00:00.000000000",
          "2024-01-25T00:00:00.000000000",
          "2024-01-26T00:00:00.000000000",
          "2024-01-27T00:00:00.000000000",
          "2024-01-28T00:00:00.000000000",
          "2024-01-29T00:00:00.000000000",
          "2024-01-30T00:00:00.000000000",
          "2024-01-31T00:00:00.000000000",
          "2024-02-01T00:00:00.000000000",
          "2024-02-02T00:00:00.000000000",
          "2024-02-03T00:00:00.000000000",
          "2024-02-04T00:00:00.000000000",
          "2024-02-05T00:00:00.000000000",
          "2024-02-06T00:00:00.000000000",
          "2024-02-07T00:00:00.000000000",
          "2024-02-08T00:00:00.000000000",
          "2024-02-09T00:00:00.000000000",
          "2024-02-10T00:00:00.000000000",
          "2024-02-11T00:00:00.000000000",
          "2024-02-12T00:00:00.000000000",
          "2024-02-13T00:00:00.000000000",
          "2024-02-14T00:00:00.000000000",
          "2024-02-15T00:00:00.000000000",
          "2024-02-16T00:00:00.000000000",
          "2024-02-17T00:00:00.000000000",
          "2024-02-18T00:00:00.000000000",
          "2024-02-19T00:00:00.000000000",
          "2024-02-20T00:00:00.000000000",
          "2024-02-21T00:00:00.000000000",
          "2024-02-22T00:00:00.000000000",
          "2024-02-23T00:00:00.000000000",
          "2024-02-24T00:00:00.000000000",
          "2024-02-25T00:00:00.000000000",
          "2024-02-26T00:00:00.000000000",
          "2024-02-27T00:00:00.000000000",
          "2024-02-28T00:00:00.000000000",
          "2024-02-29T00:00:00.000000000",
          "2024-03-01T00:00:00.000000000",
          "2024-03-02T00:00:00.000000000",
          "2024-03-03T00:00:00.000000000",
          "2024-03-04T00:00:00.000000000",
          "2024-03-05T00:00:00.000000000",
          "2024-03-06T00:00:00.000000000",
          "2024-03-07T00:00:00.000000000",
          "2024-03-08T00:00:00.000000000",
          "2024-03-09T00:00:00.000000000",
          "2024-03-10T00:00:00.000000000",
          "2024-03-11T00:00:00.000000000",
          "2024-03-12T00:00:00.000000000",
          "2024-03-13T00:00:00.000000000",
          "2024-03-14T00:00:00.000000000",
          "2024-03-15T00:00:00.000000000",
          "2024-03-16T00:00:00.000000000",
          "2024-03-17T00:00:00.000000000",
          "2024-03-18T00:00:00.000000000",
          "2024-03-19T00:00:00.000000000",
          "2024-03-20T00:00:00.000000000",
          "2024-03-21T00:00:00.000000000",
          "2024-03-22T00:00:00.000000000",
          "2024-03-23T00:00:00.000000000",
          "2024-03-24T00:00:00.000000000",
          "2024-03-25T00:00:00.000000000",
          "2024-03-26T00:00:00.000000000",
          "2024-03-27T00:00:00.000000000",
          "2024-03-28T00:00:00.000000000",
          "2024-03-29T00:00:00.000000000",
          "2024-03-30T00:00:00.000000000",
          "2024-03-31T00:00:00.000000000",
          "2024-04-01T00:00:00.000000000",
          "2024-04-02T00:00:00.000000000",
          "2024-04-03T00:00:00.000000000",
          "2024-04-04T00:00:00.000000000",
          "2024-04-05T00:00:00.000000000",
          "2024-04-06T00:00:00.000000000",
          "2024-04-07T00:00:00.000000000",
          "2024-04-08T00:00:00.000000000",
          "2024-04-09T00:00:00.000000000",
          "2024-04-10T00:00:00.000000000",
          "2024-04-11T00:00:00.000000000",
          "2024-04-12T00:00:00.000000000",
          "2024-04-13T00:00:00.000000000",
          "2024-04-14T00:00:00.000000000",
          "2024-04-15T00:00:00.000000000",
          "2024-04-16T00:00:00.000000000",
          "2024-04-17T00:00:00.000000000",
          "2024-04-18T00:00:00.000000000",
          "2024-04-19T00:00:00.000000000",
          "2024-04-20T00:00:00.000000000",
          "2024-04-21T00:00:00.000000000",
          "2024-04-22T00:00:00.000000000",
          "2024-04-23T00:00:00.000000000",
          "2024-04-24T00:00:00.000000000",
          "2024-04-25T00:00:00.000000000",
          "2024-04-26T00:00:00.000000000",
          "2024-04-27T00:00:00.000000000",
          "2024-04-28T00:00:00.000000000",
          "2024-04-29T00:00:00.000000000",
          "2024-04-30T00:00:00.000000000",
          "2024-05-01T00:00:00.000000000",
          "2024-05-02T00:00:00.000000000",
          "2024-05-03T00:00:00.000000000",
          "2024-05-04T00:00:00.000000000",
          "2024-05-05T00:00:00.000000000",
          "2024-05-06T00:00:00.000000000",
          "2024-05-07T00:00:00.000000000",
          "2024-05-08T00:00:00.000000000",
          "2024-05-09T00:00:00.000000000",
          "2024-05-10T00:00:00.000000000",
          "2024-05-11T00:00:00.000000000",
          "2024-05-12T00:00:00.000000000",
          "2024-05-13T00:00:00.000000000",
          "2024-05-14T00:00:00.000000000",
          "2024-05-15T00:00:00.000000000",
          "2024-05-16T00:00:00.000000000",
          "2024-05-17T00:00:00.000000000",
          "2024-05-18T00:00:00.000000000",
          "2024-05-19T00:00:00.000000000",
          "2024-05-20T00:00:00.000000000",
          "2024-05-21T00:00:00.000000000",
          "2024-05-22T00:00:00.000000000",
          "2024-05-23T00:00:00.000000000",
          "2024-05-24T00:00:00.000000000",
          "2024-05-25T00:00:00.000000000",
          "2024-05-26T00:00:00.000000000",
          "2024-05-27T00:00:00.000000000",
          "2024-05-28T00:00:00.000000000",
          "2024-05-29T00:00:00.000000000",
          "2024-05-30T00:00:00.000000000",
          "2024-05-31T00:00:00.000000000",
          "2024-06-01T00:00:00.000000000",
          "2024-06-02T00:00:00.000000000",
          "2024-06-03T00:00:00.000000000",
          "2024-06-04T00:00:00.000000000",
          "2024-06-05T00:00:00.000000000",
          "2024-06-06T00:00:00.000000000",
          "2024-06-07T00:00:00.000000000",
          "2024-06-08T00:00:00.000000000",
          "2024-06-09T00:00:00.000000000",
          "2024-06-10T00:00:00.000000000",
          "2024-06-11T00:00:00.000000000",
          "2024-06-12T00:00:00.000000000",
          "2024-06-13T00:00:00.000000000",
          "2024-06-14T00:00:00.000000000",
          "2024-06-15T00:00:00.000000000",
          "2024-06-16T00:00:00.000000000",
          "2024-06-17T00:00:00.000000000",
          "2024-06-18T00:00:00.000000000",
          "2024-06-19T00:00:00.000000000",
          "2024-06-20T00:00:00.000000000",
          "2024-06-21T00:00:00.000000000",
          "2024-06-22T00:00:00.000000000",
          "2024-06-23T00:00:00.000000000",
          "2024-06-24T00:00:00.000000000",
          "2024-06-25T00:00:00.000000000",
          "2024-06-26T00:00:00.000000000",
          "2024-06-27T00:00:00.000000000",
          "2024-06-28T00:00:00.000000000",
          "2024-06-29T00:00:00.000000000",
          "2024-06-30T00:00:00.000000000",
          "2024-07-01T00:00:00.000000000",
          "2024-07-02T00:00:00.000000000",
          "2024-07-03T00:00:00.000000000",
          "2024-07-04T00:00:00.000000000",
          "2024-07-05T00:00:00.000000000",
          "2024-07-06T00:00:00.000000000",
          "2024-07-07T00:00:00.000000000",
          "2024-07-08T00:00:00.000000000",
          "2024-07-09T00:00:00.000000000",
          "2024-07-10T00:00:00.000000000",
          "2024-07-11T00:00:00.000000000",
          "2024-07-12T00:00:00.000000000",
          "2024-07-13T00:00:00.000000000",
          "2024-07-14T00:00:00.000000000",
          "2024-07-15T00:00:00.000000000",
          "2024-07-16T00:00:00.000000000",
          "2024-07-17T00:00:00.000000000",
          "2024-07-18T00:00:00.000000000",
          "2024-07-19T00:00:00.000000000",
          "2024-07-20T00:00:00.000000000",
          "2024-07-21T00:00:00.000000000",
          "2024-07-22T00:00:00.000000000",
          "2024-07-23T00:00:00.000000000",
          "2024-07-24T00:00:00.000000000",
          "2024-07-25T00:00:00.000000000",
          "2024-07-26T00:00:00.000000000",
          "2024-07-27T00:00:00.000000000",
          "2024-07-28T00:00:00.000000000",
          "2024-07-29T00:00:00.000000000",
          "2024-07-30T00:00:00.000000000",
          "2024-07-31T00:00:00.000000000",
          "2024-08-01T00:00:00.000000000",
          "2024-08-02T00:00:00.000000000",
          "2024-08-03T00:00:00.000000000",
          "2024-08-04T00:00:00.000000000",
          "2024-08-05T00:00:00.000000000",
          "2024-08-06T00:00:00.000000000",
          "2024-08-07T00:00:00.000000000",
          "2024-08-08T00:00:00.000000000",
          "2024-08-09T00:00:00.000000000",
          "2024-08-10T00:00:00.000000000",
          "2024-08-11T00:00:00.000000000",
          "2024-08-12T00:00:00.000000000",
          "2024-08-13T00:00:00.000000000",
          "2024-08-14T00:00:00.000000000",
          "2024-08-15T00:00:00.000000000",
          "2024-08-16T00:00:00.000000000",
          "2024-08-17T00:00:00.000000000",
          "2024-08-18T00:00:00.000000000",
          "2024-08-19T00:00:00.000000000",
          "2024-08-20T00:00:00.000000000",
          "2024-08-21T00:00:00.000000000",
          "2024-08-22T00:00:00.000000000",
          "2024-08-23T00:00:00.000000000",
          "2024-08-24T00:00:00.000000000",
          "2024-08-25T00:00:00.000000000",
          "2024-08-26T00:00:00.000000000",
          "2024-08-27T00:00:00.000000000",
          "2024-08-28T00:00:00.000000000",
          "2024-08-29T00:00:00.000000000",
          "2024-08-30T00:00:00.000000000",
          "2024-08-31T00:00:00.000000000",
          "2024-09-01T00:00:00.000000000",
          "2024-09-02T00:00:00.000000000",
          "2024-09-03T00:00:00.000000000",
          "2024-09-04T00:00:00.000000000",
          "2024-09-05T00:00:00.000000000",
          "2024-09-06T00:00:00.000000000",
          "2024-09-07T00:00:00.000000000",
          "2024-09-08T00:00:00.000000000",
          "2024-09-09T00:00:00.000000000",
          "2024-09-10T00:00:00.000000000",
          "2024-09-11T00:00:00.000000000",
          "2024-09-12T00:00:00.000000000",
          "2024-09-13T00:00:00.000000000",
          "2024-09-14T00:00:00.000000000",
          "2024-09-15T00:00:00.000000000",
          "2024-09-16T00:00:00.000000000",
          "2024-09-17T00:00:00.000000000",
          "2024-09-18T00:00:00.000000000",
          "2024-09-19T00:00:00.000000000",
          "2024-09-20T00:00:00.000000000",
          "2024-09-21T00:00:00.000000000",
          "2024-09-22T00:00:00.000000000",
          "2024-09-23T00:00:00.000000000",
          "2024-09-24T00:00:00.000000000",
          "2024-09-25T00:00:00.000000000",
          "2024-09-26T00:00:00.000000000",
          "2024-09-27T00:00:00.000000000",
          "2024-09-28T00:00:00.000000000",
          "2024-09-29T00:00:00.000000000",
          "2024-09-30T00:00:00.000000000",
          "2024-10-01T00:00:00.000000000",
          "2024-10-02T00:00:00.000000000",
          "2024-10-03T00:00:00.000000000",
          "2024-10-04T00:00:00.000000000",
          "2024-10-05T00:00:00.000000000",
          "2024-10-06T00:00:00.000000000",
          "2024-10-07T00:00:00.000000000",
          "2024-10-08T00:00:00.000000000",
          "2024-10-09T00:00:00.000000000",
          "2024-10-10T00:00:00.000000000",
          "2024-10-11T00:00:00.000000000",
          "2024-10-12T00:00:00.000000000",
          "2024-10-13T00:00:00.000000000",
          "2024-10-14T00:00:00.000000000",
          "2024-10-15T00:00:00.000000000",
          "2024-10-16T00:00:00.000000000",
          "2024-10-17T00:00:00.000000000",
          "2024-10-18T00:00:00.000000000",
          "2024-10-19T00:00:00.000000000",
          "2024-10-20T00:00:00.000000000",
          "2024-10-21T00:00:00.000000000",
          "2024-10-22T00:00:00.000000000",
          "2024-10-23T00:00:00.000000000",
          "2024-10-24T00:00:00.000000000",
          "2024-10-25T00:00:00.000000000",
          "2024-10-26T00:00:00.000000000",
          "2024-10-27T00:00:00.000000000",
          "2024-10-28T00:00:00.000000000",
          "2024-10-29T00:00:00.000000000",
          "2024-10-30T00:00:00.000000000",
          "2024-10-31T00:00:00.000000000",
          "2024-11-01T00:00:00.000000000",
          "2024-11-02T00:00:00.000000000",
          "2024-11-03T00:00:00.000000000",
          "2024-11-04T00:00:00.000000000",
          "2024-11-05T00:00:00.000000000",
          "2024-11-06T00:00:00.000000000",
          "2024-11-07T00:00:00.000000000",
          "2024-11-08T00:00:00.000000000",
          "2024-11-09T00:00:00.000000000",
          "2024-11-10T00:00:00.000000000",
          "2024-11-11T00:00:00.000000000",
          "2024-11-12T00:00:00.000000000",
          "2024-11-13T00:00:00.000000000",
          "2024-11-14T00:00:00.000000000",
          "2024-11-15T00:00:00.000000000",
          "2024-11-16T00:00:00.000000000",
          "2024-11-17T00:00:00.000000000",
          "2024-11-18T00:00:00.000000000",
          "2024-11-19T00:00:00.000000000",
          "2024-11-20T00:00:00.000000000",
          "2024-11-21T00:00:00.000000000",
          "2024-11-22T00:00:00.000000000",
          "2024-11-23T00:00:00.000000000",
          "2024-11-24T00:00:00.000000000",
          "2024-11-25T00:00:00.000000000",
          "2024-11-26T00:00:00.000000000",
          "2024-11-27T00:00:00.000000000",
          "2024-11-28T00:00:00.000000000",
          "2024-11-29T00:00:00.000000000",
          "2024-11-30T00:00:00.000000000",
          "2024-12-01T00:00:00.000000000",
          "2024-12-02T00:00:00.000000000",
          "2024-12-03T00:00:00.000000000",
          "2024-12-04T00:00:00.000000000",
          "2024-12-05T00:00:00.000000000",
          "2024-12-06T00:00:00.000000000",
          "2024-12-07T00:00:00.000000000",
          "2024-12-08T00:00:00.000000000",
          "2024-12-09T00:00:00.000000000",
          "2024-12-10T00:00:00.000000000",
          "2024-12-11T00:00:00.000000000",
          "2024-12-12T00:00:00.000000000",
          "2024-12-13T00:00:00.000000000",
          "2024-12-14T00:00:00.000000000",
          "2024-12-15T00:00:00.000000000",
          "2024-12-16T00:00:00.000000000",
          "2024-12-17T00:00:00.000000000",
          "2024-12-18T00:00:00.000000000",
          "2024-12-19T00:00:00.000000000",
          "2024-12-20T00:00:00.000000000",
          "2024-12-21T00:00:00.000000000",
          "2024-12-22T00:00:00.000000000",
          "2024-12-23T00:00:00.000000000",
          "2024-12-24T00:00:00.000000000",
          "2024-12-25T00:00:00.000000000",
          "2024-12-26T00:00:00.000000000",
          "2024-12-27T00:00:00.000000000",
          "2024-12-28T00:00:00.000000000",
          "2024-12-29T00:00:00.000000000",
          "2024-12-30T00:00:00.000000000",
          "2024-12-31T00:00:00.000000000"
         ]
        },
        {
         "line": {
          "color": "rgba(173,216,230,0.7)",
          "width": 1
         },
         "name": "Upper Bollinger Band",
         "type": "scatter",
         "x": [
          "2024-01-01T00:00:00.000000000",
          "2024-01-02T00:00:00.000000000",
          "2024-01-03T00:00:00.000000000",
          "2024-01-04T00:00:00.000000000",
          "2024-01-05T00:00:00.000000000",
          "2024-01-06T00:00:00.000000000",
          "2024-01-07T00:00:00.000000000",
          "2024-01-08T00:00:00.000000000",
          "2024-01-09T00:00:00.000000000",
          "2024-01-10T00:00:00.000000000",
          "2024-01-11T00:00:00.000000000",
          "2024-01-12T00:00:00.000000000",
          "2024-01-13T00:00:00.000000000",
          "2024-01-14T00:00:00.000000000",
          "2024-01-15T00:00:00.000000000",
          "2024-01-16T00:00:00.000000000",
          "2024-01-17T00:00:00.000000000",
          "2024-01-18T00:00:00.000000000",
          "2024-01-19T00:00:00.000000000",
          "2024-01-20T00:00:00.000000000",
          "2024-01-21T00:00:00.000000000",
          "2024-01-22T00:00:00.000000000",
          "2024-01-23T00:00:00.000000000",
          "2024-01-24T00:00:00.000000000",
          "2024-01-25T00:00:00.000000000",
          "2024-01-26T00:00:00.000000000",
          "2024-01-27T00:00:00.000000000",
          "2024-01-28T00:00:00.000000000",
          "2024-01-29T00:00:00.000000000",
          "2024-01-30T00:00:00.000000000",
          "2024-01-31T00:00:00.000000000",
          "2024-02-01T00:00:00.000000000",
          "2024-02-02T00:00:00.000000000",
          "2024-02-03T00:00:00.000000000",
          "2024-02-04T00:00:00.000000000",
          "2024-02-05T00:00:00.000000000",
          "2024-02-06T00:00:00.000000000",
          "2024-02-07T00:00:00.000000000",
          "2024-02-08T00:00:00.000000000",
          "2024-02-09T00:00:00.000000000",
          "2024-02-10T00:00:00.000000000",
          "2024-02-11T00:00:00.000000000",
          "2024-02-12T00:00:00.000000000",
          "2024-02-13T00:00:00.000000000",
          "2024-02-14T00:00:00.000000000",
          "2024-02-15T00:00:00.000000000",
          "2024-02-16T00:00:00.000000000",
          "2024-02-17T00:00:00.000000000",
          "2024-02-18T00:00:00.000000000",
          "2024-02-19T00:00:00.000000000",
          "2024-02-20T00:00:00.000000000",
          "2024-02-21T00:00:00.000000000",
          "2024-02-22T00:00:00.000000000",
          "2024-02-23T00:00:00.000000000",
          "2024-02-24T00:00:00.000000000",
          "2024-02-25T00:00:00.000000000",
          "2024-02-26T00:00:00.000000000",
          "2024-02-27T00:00:00.000000000",
          "2024-02-28T00:00:00.000000000",
          "2024-02-29T00:00:00.000000000",
          "2024-03-01T00:00:00.000000000",
          "2024-03-02T00:00:00.000000000",
          "2024-03-03T00:00:00.000000000",
          "2024-03-04T00:00:00.000000000",
          "2024-03-05T00:00:00.000000000",
          "2024-03-06T00:00:00.000000000",
          "2024-03-07T00:00:00.000000000",
          "2024-03-08T00:00:00.000000000",
          "2024-03-09T00:00:00.000000000",
          "2024-03-10T00:00:00.000000000",
          "2024-03-11T00:00:00.000000000",
          "2024-03-12T00:00:00.000000000",
          "2024-03-13T00:00:00.000000000",
          "2024-03-14T00:00:00.000000000",
          "2024-03-15T00:00:00.000000000",
          "2024-03-16T00:00:00.000000000",
          "2024-03-17T00:00:00.000000000",
          "2024-03-18T00:00:00.000000000",
          "2024-03-19T00:00:00.000000000",
          "2024-03-20T00:00:00.000000000",
          "2024-03-21T00:00:00.000000000",
          "2024-03-22T00:00:00.000000000",
          "2024-03-23T00:00:00.000000000",
          "2024-03-24T00:00:00.000000000",
          "2024-03-25T00:00:00.000000000",
          "2024-03-26T00:00:00.000000000",
          "2024-03-27T00:00:00.000000000",
          "2024-03-28T00:00:00.000000000",
          "2024-03-29T00:00:00.000000000",
          "2024-03-30T00:00:00.000000000",
          "2024-03-31T00:00:00.000000000",
          "2024-04-01T00:00:00.000000000",
          "2024-04-02T00:00:00.000000000",
          "2024-04-03T00:00:00.000000000",
          "2024-04-04T00:00:00.000000000",
          "2024-04-05T00:00:00.000000000",
          "2024-04-06T00:00:00.000000000",
          "2024-04-07T00:00:00.000000000",
          "2024-04-08T00:00:00.000000000",
          "2024-04-09T00:00:00.000000000",
          "2024-04-10T00:00:00.000000000",
          "2024-04-11T00:00:00.000000000",
          "2024-04-12T00:00:00.000000000",
          "2024-04-13T00:00:00.000000000",
          "2024-04-14T00:00:00.000000000",
          "2024-04-15T00:00:00.000000000",
          "2024-04-16T00:00:00.000000000",
          "2024-04-17T00:00:00.000000000",
          "2024-04-18T00:00:00.000000000",
          "2024-04-19T00:00:00.000000000",
          "2024-04-20T00:00:00.000000000",
          "2024-04-21T00:00:00.000000000",
          "2024-04-22T00:00:00.000000000",
          "2024-04-23T00:00:00.000000000",
          "2024-04-24T00:00:00.000000000",
          "2024-04-25T00:00:00.000000000",
          "2024-04-26T00:00:00.000000000",
          "2024-04-27T00:00:00.000000000",
          "2024-04-28T00:00:00.000000000",
          "2024-04-29T00:00:00.000000000",
          "2024-04-30T00:00:00.000000000",
          "2024-05-01T00:00:00.000000000",
          "2024-05-02T00:00:00.000000000",
          "2024-05-03T00:00:00.000000000",
          "2024-05-04T00:00:00.000000000",
          "2024-05-05T00:00:00.000000000",
          "2024-05-06T00:00:00.000000000",
          "2024-05-07T00:00:00.000000000",
          "2024-05-08T00:00:00.000000000",
          "2024-05-09T00:00:00.000000000",
          "2024-05-10T00:00:00.000000000",
          "2024-05-11T00:00:00.000000000",
          "2024-05-12T00:00:00.000000000",
          "2024-05-13T00:00:00.000000000",
          "2024-05-14T00:00:00.000000000",
          "2024-05-15T00:00:00.000000000",
          "2024-05-16T00:00:00.000000000",
          "2024-05-17T00:00:00.000000000",
          "2024-05-18T00:00:00.000000000",
          "2024-05-19T00:00:00.000000000",
          "2024-05-20T00:00:00.000000000",
          "2024-05-21T00:00:00.000000000",
          "2024-05-22T00:00:00.000000000",
          "2024-05-23T00:00:00.000000000",
          "2024-05-24T00:00:00.000000000",
          "2024-05-25T00:00:00.000000000",
          "2024-05-26T00:00:00.000000000",
          "2024-05-27T00:00:00.000000000",
          "2024-05-28T00:00:00.000000000",
          "2024-05-29T00:00:00.000000000",
          "2024-05-30T00:00:00.000000000",
          "2024-05-31T00:00:00.000000000",
          "2024-06-01T00:00:00.000000000",
          "2024-06-02T00:00:00.000000000",
          "2024-06-03T00:00:00.000000000",
          "2024-06-04T00:00:00.000000000",
          "2024-06-05T00:00:00.000000000",
          "2024-06-06T00:00:00.000000000",
          "2024-06-07T00:00:00.000000000",
          "2024-06-08T00:00:00.000000000",
          "2024-06-09T00:00:00.000000000",
          "2024-06-10T00:00:00.000000000",
          "2024-06-11T00:00:00.000000000",
          "2024-06-12T00:00:00.000000000",
          "2024-06-13T00:00:00.000000000",
          "2024-06-14T00:00:00.000000000",
          "2024-06-15T00:00:00.000000000",
          "2024-06-16T00:00:00.000000000",
          "2024-06-17T00:00:00.000000000",
          "2024-06-18T00:00:00.000000000",
          "2024-06-19T00:00:00.000000000",
          "2024-06-20T00:00:00.000000000",
          "2024-06-21T00:00:00.000000000",
          "2024-06-22T00:00:00.000000000",
          "2024-06-23T00:00:00.000000000",
          "2024-06-24T00:00:00.000000000",
          "2024-06-25T00:00:00.000000000",
          "2024-06-26T00:00:00.000000000",
          "2024-06-27T00:00:00.000000000",
          "2024-06-28T00:00:00.000000000",
          "2024-06-29T00:00:00.000000000",
          "2024-06-30T00:00:00.000000000",
          "2024-07-01T00:00:00.000000000",
          "2024-07-02T00:00:00.000000000",
          "2024-07-03T00:00:00.000000000",
          "2024-07-04T00:00:00.000000000",
          "2024-07-05T00:00:00.000000000",
          "2024-07-06T00:00:00.000000000",
          "2024-07-07T00:00:00.000000000",
          "2024-07-08T00:00:00.000000000",
          "2024-07-09T00:00:00.000000000",
          "2024-07-10T00:00:00.000000000",
          "2024-07-11T00:00:00.000000000",
          "2024-07-12T00:00:00.000000000",
          "2024-07-13T00:00:00.000000000",
          "2024-07-14T00:00:00.000000000",
          "2024-07-15T00:00:00.000000000",
          "2024-07-16T00:00:00.000000000",
          "2024-07-17T00:00:00.000000000",
          "2024-07-18T00:00:00.000000000",
          "2024-07-19T00:00:00.000000000",
          "2024-07-20T00:00:00.000000000",
          "2024-07-21T00:00:00.000000000",
          "2024-07-22T00:00:00.000000000",
          "2024-07-23T00:00:00.000000000",
          "2024-07-24T00:00:00.000000000",
          "2024-07-25T00:00:00.000000000",
          "2024-07-26T00:00:00.000000000",
          "2024-07-27T00:00:00.000000000",
          "2024-07-28T00:00:00.000000000",
          "2024-07-29T00:00:00.000000000",
          "2024-07-30T00:00:00.000000000",
          "2024-07-31T00:00:00.000000000",
          "2024-08-01T00:00:00.000000000",
          "2024-08-02T00:00:00.000000000",
          "2024-08-03T00:00:00.000000000",
          "2024-08-04T00:00:00.000000000",
          "2024-08-05T00:00:00.000000000",
          "2024-08-06T00:00:00.000000000",
          "2024-08-07T00:00:00.000000000",
          "2024-08-08T00:00:00.000000000",
          "2024-08-09T00:00:00.000000000",
          "2024-08-10T00:00:00.000000000",
          "2024-08-11T00:00:00.000000000",
          "2024-08-12T00:00:00.000000000",
          "2024-08-13T00:00:00.000000000",
          "2024-08-14T00:00:00.000000000",
          "2024-08-15T00:00:00.000000000",
          "2024-08-16T00:00:00.000000000",
          "2024-08-17T00:00:00.000000000",
          "2024-08-18T00:00:00.000000000",
          "2024-08-19T00:00:00.000000000",
          "2024-08-20T00:00:00.000000000",
          "2024-08-21T00:00:00.000000000",
          "2024-08-22T00:00:00.000000000",
          "2024-08-23T00:00:00.000000000",
          "2024-08-24T00:00:00.000000000",
          "2024-08-25T00:00:00.000000000",
          "2024-08-26T00:00:00.000000000",
          "2024-08-27T00:00:00.000000000",
          "2024-08-28T00:00:00.000000000",
          "2024-08-29T00:00:00.000000000",
          "2024-08-30T00:00:00.000000000",
          "2024-08-31T00:00:00.000000000",
          "2024-09-01T00:00:00.000000000",
          "2024-09-02T00:00:00.000000000",
          "2024-09-03T00:00:00.000000000",
          "2024-09-04T00:00:00.000000000",
          "2024-09-05T00:00:00.000000000",
          "2024-09-06T00:00:00.000000000",
          "2024-09-07T00:00:00.000000000",
          "2024-09-08T00:00:00.000000000",
          "2024-09-09T00:00:00.000000000",
          "2024-09-10T00:00:00.000000000",
          "2024-09-11T00:00:00.000000000",
          "2024-09-12T00:00:00.000000000",
          "2024-09-13T00:00:00.000000000",
          "2024-09-14T00:00:00.000000000",
          "2024-09-15T00:00:00.000000000",
          "2024-09-16T00:00:00.000000000",
          "2024-09-17T00:00:00.000000000",
          "2024-09-18T00:00:00.000000000",
          "2024-09-19T00:00:00.000000000",
          "2024-09-20T00:00:00.000000000",
          "2024-09-21T00:00:00.000000000",
          "2024-09-22T00:00:00.000000000",
          "2024-09-23T00:00:00.000000000",
          "2024-09-24T00:00:00.000000000",
          "2024-09-25T00:00:00.000000000",
          "2024-09-26T00:00:00.000000000",
          "2024-09-27T00:00:00.000000000",
          "2024-09-28T00:00:00.000000000",
          "2024-09-29T00:00:00.000000000",
          "2024-09-30T00:00:00.000000000",
          "2024-10-01T00:00:00.000000000",
          "2024-10-02T00:00:00.000000000",
          "2024-10-03T00:00:00.000000000",
          "2024-10-04T00:00:00.000000000",
          "2024-10-05T00:00:00.000000000",
          "2024-10-06T00:00:00.000000000",
          "2024-10-07T00:00:00.000000000",
          "2024-10-08T00:00:00.000000000",
          "2024-10-09T00:00:00.000000000",
          "2024-10-10T00:00:00.000000000",
          "2024-10-11T00:00:00.000000000",
          "2024-10-12T00:00:00.000000000",
          "2024-10-13T00:00:00.000000000",
          "2024-10-14T00:00:00.000000000",
          "2024-10-15T00:00:00.000000000",
          "2024-10-16T00:00:00.000000000",
          "2024-10-17T00:00:00.000000000",
          "2024-10-18T00:00:00.000000000",
          "2024-10-19T00:00:00.000000000",
          "2024-10-20T00:00:00.000000000",
          "2024-10-21T00:00:00.000000000",
          "2024-10-22T00:00:00.000000000",
          "2024-10-23T00:00:00.000000000",
          "2024-10-24T00:00:00.000000000",
          "2024-10-25T00:00:00.000000000",
          "2024-10-26T00:00:00.000000000",
          "2024-10-27T00:00:00.000000000",
          "2024-10-28T00:00:00.000000000",
          "2024-10-29T00:00:00.000000000",
          "2024-10-30T00:00:00.000000000",
          "2024-10-31T00:00:00.000000000",
          "2024-11-01T00:00:00.000000000",
          "2024-11-02T00:00:00.000000000",
          "2024-11-03T00:00:00.000000000",
          "2024-11-04T00:00:00.000000000",
          "2024-11-05T00:00:00.000000000",
          "2024-11-06T00:00:00.000000000",
          "2024-11-07T00:00:00.000000000",
          "2024-11-08T00:00:00.000000000",
          "2024-11-09T00:00:00.000000000",
          "2024-11-10T00:00:00.000000000",
          "2024-11-11T00:00:00.000000000",
          "2024-11-12T00:00:00.000000000",
          "2024-11-13T00:00:00.000000000",
          "2024-11-14T00:00:00.000000000",
          "2024-11-15T00:00:00.000000000",
          "2024-11-16T00:00:00.000000000",
          "2024-11-17T00:00:00.000000000",
          "2024-11-18T00:00:00.000000000",
          "2024-11-19T00:00:00.000000000",
          "2024-11-20T00:00:00.000000000",
          "2024-11-21T00:00:00.000000000",
          "2024-11-22T00:00:00.000000000",
          "2024-11-23T00:00:00.000000000",
          "2024-11-24T00:00:00.000000000",
          "2024-11-25T00:00:00.000000000",
          "2024-11-26T00:00:00.000000000",
          "2024-11-27T00:00:00.000000000",
          "2024-11-28T00:00:00.000000000",
          "2024-11-29T00:00:00.000000000",
          "2024-11-30T00:00:00.000000000",
          "2024-12-01T00:00:00.000000000",
          "2024-12-02T00:00:00.000000000",
          "2024-12-03T00:00:00.000000000",
          "2024-12-04T00:00:00.000000000",
          "2024-12-05T00:00:00.000000000",
          "2024-12-06T00:00:00.000000000",
          "2024-12-07T00:00:00.000000000",
          "2024-12-08T00:00:00.000000000",
          "2024-12-09T00:00:00.000000000",
          "2024-12-10T00:00:00.000000000",
          "2024-12-11T00:00:00.000000000",
          "2024-12-12T00:00:00.000000000",
          "2024-12-13T00:00:00.000000000",
          "2024-12-14T00:00:00.000000000",
          "2024-12-15T00:00:00.000000000",
          "2024-12-16T00:00:00.000000000",
          "2024-12-17T00:00:00.000000000",
          "2024-12-18T00:00:00.000000000",
          "2024-12-19T00:00:00.000000000",
          "2024-12-20T00:00:00.000000000",
          "2024-12-21T00:00:00.000000000",
          "2024-12-22T00:00:00.000000000",
          "2024-12-23T00:00:00.000000000",
          "2024-12-24T00:00:00.000000000",
          "2024-12-25T00:00:00.000000000",
          "2024-12-26T00:00:00.000000000",
          "2024-12-27T00:00:00.000000000",
          "2024-12-28T00:00:00.000000000",
          "2024-12-29T00:00:00.000000000",
          "2024-12-30T00:00:00.000000000",
          "2024-12-31T00:00:00.000000000"
         ],
         "y": {
          "bdata": "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",
          "dtype": "f8"
         }
        },
        {
         "line": {
          "color": "blue",
          "dash": "dash",
          "width": 1
         },
         "name": "20-Day SMA",
         "type": "scatter",
         "x": [
          "2024-01-01T00:00:00.000000000",
          "2024-01-02T00:00:00.000000000",
          "2024-01-03T00:00:00.000000000",
          "2024-01-04T00:00:00.000000000",
          "2024-01-05T00:00:00.000000000",
          "2024-01-06T00:00:00.000000000",
          "2024-01-07T00:00:00.000000000",
          "2024-01-08T00:00:00.000000000",
          "2024-01-09T00:00:00.000000000",
          "2024-01-10T00:00:00.000000000",
          "2024-01-11T00:00:00.000000000",
          "2024-01-12T00:00:00.000000000",
          "2024-01-13T00:00:00.000000000",
          "2024-01-14T00:00:00.000000000",
          "2024-01-15T00:00:00.000000000",
          "2024-01-16T00:00:00.000000000",
          "2024-01-17T00:00:00.000000000",
          "2024-01-18T00:00:00.000000000",
          "2024-01-19T00:00:00.000000000",
          "2024-01-20T00:00:00.000000000",
          "2024-01-21T00:00:00.000000000",
          "2024-01-22T00:00:00.000000000",
          "2024-01-23T00:00:00.000000000",
          "2024-01-24T00:00:00.000000000",
          "2024-01-25T00:00:00.000000000",
          "2024-01-26T00:00:00.000000000",
          "2024-01-27T00:00:00.000000000",
          "2024-01-28T00:00:00.000000000",
          "2024-01-29T00:00:00.000000000",
          "2024-01-30T00:00:00.000000000",
          "2024-01-31T00:00:00.000000000",
          "2024-02-01T00:00:00.000000000",
          "2024-02-02T00:00:00.000000000",
          "2024-02-03T00:00:00.000000000",
          "2024-02-04T00:00:00.000000000",
          "2024-02-05T00:00:00.000000000",
          "2024-02-06T00:00:00.000000000",
          "2024-02-07T00:00:00.000000000",
          "2024-02-08T00:00:00.000000000",
          "2024-02-09T00:00:00.000000000",
          "2024-02-10T00:00:00.000000000",
          "2024-02-11T00:00:00.000000000",
          "2024-02-12T00:00:00.000000000",
          "2024-02-13T00:00:00.000000000",
          "2024-02-14T00:00:00.000000000",
          "2024-02-15T00:00:00.000000000",
          "2024-02-16T00:00:00.000000000",
          "2024-02-17T00:00:00.000000000",
          "2024-02-18T00:00:00.000000000",
          "2024-02-19T00:00:00.000000000",
          "2024-02-20T00:00:00.000000000",
          "2024-02-21T00:00:00.000000000",
          "2024-02-22T00:00:00.000000000",
          "2024-02-23T00:00:00.000000000",
          "2024-02-24T00:00:00.000000000",
          "2024-02-25T00:00:00.000000000",
          "2024-02-26T00:00:00.000000000",
          "2024-02-27T00:00:00.000000000",
          "2024-02-28T00:00:00.000000000",
          "2024-02-29T00:00:00.000000000",
          "2024-03-01T00:00:00.000000000",
          "2024-03-02T00:00:00.000000000",
          "2024-03-03T00:00:00.000000000",
          "2024-03-04T00:00:00.000000000",
          "2024-03-05T00:00:00.000000000",
          "2024-03-06T00:00:00.000000000",
          "2024-03-07T00:00:00.000000000",
          "2024-03-08T00:00:00.000000000",
          "2024-03-09T00:00:00.000000000",
          "2024-03-10T00:00:00.000000000",
          "2024-03-11T00:00:00.000000000",
          "2024-03-12T00:00:00.000000000",
          "2024-03-13T00:00:00.000000000",
          "2024-03-14T00:00:00.000000000",
          "2024-03-15T00:00:00.000000000",
          "2024-03-16T00:00:00.000000000",
          "2024-03-17T00:00:00.000000000",
          "2024-03-18T00:00:00.000000000",
          "2024-03-19T00:00:00.000000000",
          "2024-03-20T00:00:00.000000000",
          "2024-03-21T00:00:00.000000000",
          "2024-03-22T00:00:00.000000000",
          "2024-03-23T00:00:00.000000000",
          "2024-03-24T00:00:00.000000000",
          "2024-03-25T00:00:00.000000000",
          "2024-03-26T00:00:00.000000000",
          "2024-03-27T00:00:00.000000000",
          "2024-03-28T00:00:00.000000000",
          "2024-03-29T00:00:00.000000000",
          "2024-03-30T00:00:00.000000000",
          "2024-03-31T00:00:00.000000000",
          "2024-04-01T00:00:00.000000000",
          "2024-04-02T00:00:00.000000000",
          "2024-04-03T00:00:00.000000000",
          "2024-04-04T00:00:00.000000000",
          "2024-04-05T00:00:00.000000000",
          "2024-04-06T00:00:00.000000000",
          "2024-04-07T00:00:00.000000000",
          "2024-04-08T00:00:00.000000000",
          "2024-04-09T00:00:00.000000000",
          "2024-04-10T00:00:00.000000000",
          "2024-04-11T00:00:00.000000000",
          "2024-04-12T00:00:00.000000000",
          "2024-04-13T00:00:00.000000000",
          "2024-04-14T00:00:00.000000000",
          "2024-04-15T00:00:00.000000000",
          "2024-04-16T00:00:00.000000000",
          "2024-04-17T00:00:00.000000000",
          "2024-04-18T00:00:00.000000000",
          "2024-04-19T00:00:00.000000000",
          "2024-04-20T00:00:00.000000000",
          "2024-04-21T00:00:00.000000000",
          "2024-04-22T00:00:00.000000000",
          "2024-04-23T00:00:00.000000000",
          "2024-04-24T00:00:00.000000000",
          "2024-04-25T00:00:00.000000000",
          "2024-04-26T00:00:00.000000000",
          "2024-04-27T00:00:00.000000000",
          "2024-04-28T00:00:00.000000000",
          "2024-04-29T00:00:00.000000000",
          "2024-04-30T00:00:00.000000000",
          "2024-05-01T00:00:00.000000000",
          "2024-05-02T00:00:00.000000000",
          "2024-05-03T00:00:00.000000000",
          "2024-05-04T00:00:00.000000000",
          "2024-05-05T00:00:00.000000000",
          "2024-05-06T00:00:00.000000000",
          "2024-05-07T00:00:00.000000000",
          "2024-05-08T00:00:00.000000000",
          "2024-05-09T00:00:00.000000000",
          "2024-05-10T00:00:00.000000000",
          "2024-05-11T00:00:00.000000000",
          "2024-05-12T00:00:00.000000000",
          "2024-05-13T00:00:00.000000000",
          "2024-05-14T00:00:00.000000000",
          "2024-05-15T00:00:00.000000000",
          "2024-05-16T00:00:00.000000000",
          "2024-05-17T00:00:00.000000000",
          "2024-05-18T00:00:00.000000000",
          "2024-05-19T00:00:00.000000000",
          "2024-05-20T00:00:00.000000000",
          "2024-05-21T00:00:00.000000000",
          "2024-05-22T00:00:00.000000000",
          "2024-05-23T00:00:00.000000000",
          "2024-05-24T00:00:00.000000000",
          "2024-05-25T00:00:00.000000000",
          "2024-05-26T00:00:00.000000000",
          "2024-05-27T00:00:00.000000000",
          "2024-05-28T00:00:00.000000000",
          "2024-05-29T00:00:00.000000000",
          "2024-05-30T00:00:00.000000000",
          "2024-05-31T00:00:00.000000000",
          "2024-06-01T00:00:00.000000000",
          "2024-06-02T00:00:00.000000000",
          "2024-06-03T00:00:00.000000000",
          "2024-06-04T00:00:00.000000000",
          "2024-06-05T00:00:00.000000000",
          "2024-06-06T00:00:00.000000000",
          "2024-06-07T00:00:00.000000000",
          "2024-06-08T00:00:00.000000000",
          "2024-06-09T00:00:00.000000000",
          "2024-06-10T00:00:00.000000000",
          "2024-06-11T00:00:00.000000000",
          "2024-06-12T00:00:00.000000000",
          "2024-06-13T00:00:00.000000000",
          "2024-06-14T00:00:00.000000000",
          "2024-06-15T00:00:00.000000000",
          "2024-06-16T00:00:00.000000000",
          "2024-06-17T00:00:00.000000000",
          "2024-06-18T00:00:00.000000000",
          "2024-06-19T00:00:00.000000000",
          "2024-06-20T00:00:00.000000000",
          "2024-06-21T00:00:00.000000000",
          "2024-06-22T00:00:00.000000000",
          "2024-06-23T00:00:00.000000000",
          "2024-06-24T00:00:00.000000000",
          "2024-06-25T00:00:00.000000000",
          "2024-06-26T00:00:00.000000000",
          "2024-06-27T00:00:00.000000000",
          "2024-06-28T00:00:00.000000000",
          "2024-06-29T00:00:00.000000000",
          "2024-06-30T00:00:00.000000000",
          "2024-07-01T00:00:00.000000000",
          "2024-07-02T00:00:00.000000000",
          "2024-07-03T00:00:00.000000000",
          "2024-07-04T00:00:00.000000000",
          "2024-07-05T00:00:00.000000000",
          "2024-07-06T00:00:00.000000000",
          "2024-07-07T00:00:00.000000000",
          "2024-07-08T00:00:00.000000000",
          "2024-07-09T00:00:00.000000000",
          "2024-07-10T00:00:00.000000000",
          "2024-07-11T00:00:00.000000000",
          "2024-07-12T00:00:00.000000000",
          "2024-07-13T00:00:00.000000000",
          "2024-07-14T00:00:00.000000000",
          "2024-07-15T00:00:00.000000000",
          "2024-07-16T00:00:00.000000000",
          "2024-07-17T00:00:00.000000000",
          "2024-07-18T00:00:00.000000000",
          "2024-07-19T00:00:00.000000000",
          "2024-07-20T00:00:00.000000000",
          "2024-07-21T00:00:00.000000000",
          "2024-07-22T00:00:00.000000000",
          "2024-07-23T00:00:00.000000000",
          "2024-07-24T00:00:00.000000000",
          "2024-07-25T00:00:00.000000000",
          "2024-07-26T00:00:00.000000000",
          "2024-07-27T00:00:00.000000000",
          "2024-07-28T00:00:00.000000000",
          "2024-07-29T00:00:00.000000000",
          "2024-07-30T00:00:00.000000000",
          "2024-07-31T00:00:00.000000000",
          "2024-08-01T00:00:00.000000000",
          "2024-08-02T00:00:00.000000000",
          "2024-08-03T00:00:00.000000000",
          "2024-08-04T00:00:00.000000000",
          "2024-08-05T00:00:00.000000000",
          "2024-08-06T00:00:00.000000000",
          "2024-08-07T00:00:00.000000000",
          "2024-08-08T00:00:00.000000000",
          "2024-08-09T00:00:00.000000000",
          "2024-08-10T00:00:00.000000000",
          "2024-08-11T00:00:00.000000000",
          "2024-08-12T00:00:00.000000000",
          "2024-08-13T00:00:00.000000000",
          "2024-08-14T00:00:00.000000000",
          "2024-08-15T00:00:00.000000000",
          "2024-08-16T00:00:00.000000000",
          "2024-08-17T00:00:00.000000000",
          "2024-08-18T00:00:00.000000000",
          "2024-08-19T00:00:00.000000000",
          "2024-08-20T00:00:00.000000000",
          "2024-08-21T00:00:00.000000000",
          "2024-08-22T00:00:00.000000000",
          "2024-08-23T00:00:00.000000000",
          "2024-08-24T00:00:00.000000000",
          "2024-08-25T00:00:00.000000000",
          "2024-08-26T00:00:00.000000000",
          "2024-08-27T00:00:00.000000000",
          "2024-08-28T00:00:00.000000000",
          "2024-08-29T00:00:00.000000000",
          "2024-08-30T00:00:00.000000000",
          "2024-08-31T00:00:00.000000000",
          "2024-09-01T00:00:00.000000000",
          "2024-09-02T00:00:00.000000000",
          "2024-09-03T00:00:00.000000000",
          "2024-09-04T00:00:00.000000000",
          "2024-09-05T00:00:00.000000000",
          "2024-09-06T00:00:00.000000000",
          "2024-09-07T00:00:00.000000000",
          "2024-09-08T00:00:00.000000000",
          "2024-09-09T00:00:00.000000000",
          "2024-09-10T00:00:00.000000000",
          "2024-09-11T00:00:00.000000000",
          "2024-09-12T00:00:00.000000000",
          "2024-09-13T00:00:00.000000000",
          "2024-09-14T00:00:00.000000000",
          "2024-09-15T00:00:00.000000000",
          "2024-09-16T00:00:00.000000000",
          "2024-09-17T00:00:00.000000000",
          "2024-09-18T00:00:00.000000000",
          "2024-09-19T00:00:00.000000000",
          "2024-09-20T00:00:00.000000000",
          "2024-09-21T00:00:00.000000000",
          "2024-09-22T00:00:00.000000000",
          "2024-09-23T00:00:00.000000000",
          "2024-09-24T00:00:00.000000000",
          "2024-09-25T00:00:00.000000000",
          "2024-09-26T00:00:00.000000000",
          "2024-09-27T00:00:00.000000000",
          "2024-09-28T00:00:00.000000000",
          "2024-09-29T00:00:00.000000000",
          "2024-09-30T00:00:00.000000000",
          "2024-10-01T00:00:00.000000000",
          "2024-10-02T00:00:00.000000000",
          "2024-10-03T00:00:00.000000000",
          "2024-10-04T00:00:00.000000000",
          "2024-10-05T00:00:00.000000000",
          "2024-10-06T00:00:00.000000000",
          "2024-10-07T00:00:00.000000000",
          "2024-10-08T00:00:00.000000000",
          "2024-10-09T00:00:00.000000000",
          "2024-10-10T00:00:00.000000000",
          "2024-10-11T00:00:00.000000000",
          "2024-10-12T00:00:00.000000000",
          "2024-10-13T00:00:00.000000000",
          "2024-10-14T00:00:00.000000000",
          "2024-10-15T00:00:00.000000000",
          "2024-10-16T00:00:00.000000000",
          "2024-10-17T00:00:00.000000000",
          "2024-10-18T00:00:00.000000000",
          "2024-10-19T00:00:00.000000000",
          "2024-10-20T00:00:00.000000000",
          "2024-10-21T00:00:00.000000000",
          "2024-10-22T00:00:00.000000000",
          "2024-10-23T00:00:00.000000000",
          "2024-10-24T00:00:00.000000000",
          "2024-10-25T00:00:00.000000000",
          "2024-10-26T00:00:00.000000000",
          "2024-10-27T00:00:00.000000000",
          "2024-10-28T00:00:00.000000000",
          "2024-10-29T00:00:00.000000000",
          "2024-10-30T00:00:00.000000000",
          "2024-10-31T00:00:00.000000000",
          "2024-11-01T00:00:00.000000000",
          "2024-11-02T00:00:00.000000000",
          "2024-11-03T00:00:00.000000000",
          "2024-11-04T00:00:00.000000000",
          "2024-11-05T00:00:00.000000000",
          "2024-11-06T00:00:00.000000000",
          "2024-11-07T00:00:00.000000000",
          "2024-11-08T00:00:00.000000000",
          "2024-11-09T00:00:00.000000000",
          "2024-11-10T00:00:00.000000000",
          "2024-11-11T00:00:00.000000000",
          "2024-11-12T00:00:00.000000000",
          "2024-11-13T00:00:00.000000000",
          "2024-11-14T00:00:00.000000000",
          "2024-11-15T00:00:00.000000000",
          "2024-11-16T00:00:00.000000000",
          "2024-11-17T00:00:00.000000000",
          "2024-11-18T00:00:00.000000000",
          "2024-11-19T00:00:00.000000000",
          "2024-11-20T00:00:00.000000000",
          "2024-11-21T00:00:00.000000000",
          "2024-11-22T00:00:00.000000000",
          "2024-11-23T00:00:00.000000000",
          "2024-11-24T00:00:00.000000000",
          "2024-11-25T00:00:00.000000000",
          "2024-11-26T00:00:00.000000000",
          "2024-11-27T00:00:00.000000000",
          "2024-11-28T00:00:00.000000000",
          "2024-11-29T00:00:00.000000000",
          "2024-11-30T00:00:00.000000000",
          "2024-12-01T00:00:00.000000000",
          "2024-12-02T00:00:00.000000000",
          "2024-12-03T00:00:00.000000000",
          "2024-12-04T00:00:00.000000000",
          "2024-12-05T00:00:00.000000000",
          "2024-12-06T00:00:00.000000000",
          "2024-12-07T00:00:00.000000000",
          "2024-12-08T00:00:00.000000000",
          "2024-12-09T00:00:00.000000000",
          "2024-12-10T00:00:00.000000000",
          "2024-12-11T00:00:00.000000000",
          "2024-12-12T00:00:00.000000000",
          "2024-12-13T00:00:00.000000000",
          "2024-12-14T00:00:00.000000000",
          "2024-12-15T00:00:00.000000000",
          "2024-12-16T00:00:00.000000000",
          "2024-12-17T00:00:00.000000000",
          "2024-12-18T00:00:00.000000000",
          "2024-12-19T00:00:00.000000000",
          "2024-12-20T00:00:00.000000000",
          "2024-12-21T00:00:00.000000000",
          "2024-12-22T00:00:00.000000000",
          "2024-12-23T00:00:00.000000000",
          "2024-12-24T00:00:00.000000000",
          "2024-12-25T00:00:00.000000000",
          "2024-12-26T00:00:00.000000000",
          "2024-12-27T00:00:00.000000000",
          "2024-12-28T00:00:00.000000000",
          "2024-12-29T00:00:00.000000000",
          "2024-12-30T00:00:00.000000000",
          "2024-12-31T00:00:00.000000000"
         ],
         "y": {
          "bdata": "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",
          "dtype": "f8"
         }
        },
        {
         "line": {
          "color": "rgba(173,216,230,0.7)",
          "width": 1
         },
         "name": "Lower Bollinger Band",
         "type": "scatter",
         "x": [
          "2024-01-01T00:00:00.000000000",
          "2024-01-02T00:00:00.000000000",
          "2024-01-03T00:00:00.000000000",
          "2024-01-04T00:00:00.000000000",
          "2024-01-05T00:00:00.000000000",
          "2024-01-06T00:00:00.000000000",
          "2024-01-07T00:00:00.000000000",
          "2024-01-08T00:00:00.000000000",
          "2024-01-09T00:00:00.000000000",
          "2024-01-10T00:00:00.000000000",
          "2024-01-11T00:00:00.000000000",
          "2024-01-12T00:00:00.000000000",
          "2024-01-13T00:00:00.000000000",
          "2024-01-14T00:00:00.000000000",
          "2024-01-15T00:00:00.000000000",
          "2024-01-16T00:00:00.000000000",
          "2024-01-17T00:00:00.000000000",
          "2024-01-18T00:00:00.000000000",
          "2024-01-19T00:00:00.000000000",
          "2024-01-20T00:00:00.000000000",
          "2024-01-21T00:00:00.000000000",
          "2024-01-22T00:00:00.000000000",
          "2024-01-23T00:00:00.000000000",
          "2024-01-24T00:00:00.000000000",
          "2024-01-25T00:00:00.000000000",
          "2024-01-26T00:00:00.000000000",
          "2024-01-27T00:00:00.000000000",
          "2024-01-28T00:00:00.000000000",
          "2024-01-29T00:00:00.000000000",
          "2024-01-30T00:00:00.000000000",
          "2024-01-31T00:00:00.000000000",
          "2024-02-01T00:00:00.000000000",
          "2024-02-02T00:00:00.000000000",
          "2024-02-03T00:00:00.000000000",
          "2024-02-04T00:00:00.000000000",
          "2024-02-05T00:00:00.000000000",
          "2024-02-06T00:00:00.000000000",
          "2024-02-07T00:00:00.000000000",
          "2024-02-08T00:00:00.000000000",
          "2024-02-09T00:00:00.000000000",
          "2024-02-10T00:00:00.000000000",
          "2024-02-11T00:00:00.000000000",
          "2024-02-12T00:00:00.000000000",
          "2024-02-13T00:00:00.000000000",
          "2024-02-14T00:00:00.000000000",
          "2024-02-15T00:00:00.000000000",
          "2024-02-16T00:00:00.000000000",
          "2024-02-17T00:00:00.000000000",
          "2024-02-18T00:00:00.000000000",
          "2024-02-19T00:00:00.000000000",
          "2024-02-20T00:00:00.000000000",
          "2024-02-21T00:00:00.000000000",
          "2024-02-22T00:00:00.000000000",
          "2024-02-23T00:00:00.000000000",
          "2024-02-24T00:00:00.000000000",
          "2024-02-25T00:00:00.000000000",
          "2024-02-26T00:00:00.000000000",
          "2024-02-27T00:00:00.000000000",
          "2024-02-28T00:00:00.000000000",
          "2024-02-29T00:00:00.000000000",
          "2024-03-01T00:00:00.000000000",
          "2024-03-02T00:00:00.000000000",
          "2024-03-03T00:00:00.000000000",
          "2024-03-04T00:00:00.000000000",
          "2024-03-05T00:00:00.000000000",
          "2024-03-06T00:00:00.000000000",
          "2024-03-07T00:00:00.000000000",
          "2024-03-08T00:00:00.000000000",
          "2024-03-09T00:00:00.000000000",
          "2024-03-10T00:00:00.000000000",
          "2024-03-11T00:00:00.000000000",
          "2024-03-12T00:00:00.000000000",
          "2024-03-13T00:00:00.000000000",
          "2024-03-14T00:00:00.000000000",
          "2024-03-15T00:00:00.000000000",
          "2024-03-16T00:00:00.000000000",
          "2024-03-17T00:00:00.000000000",
          "2024-03-18T00:00:00.000000000",
          "2024-03-19T00:00:00.000000000",
          "2024-03-20T00:00:00.000000000",
          "2024-03-21T00:00:00.000000000",
          "2024-03-22T00:00:00.000000000",
          "2024-03-23T00:00:00.000000000",
          "2024-03-24T00:00:00.000000000",
          "2024-03-25T00:00:00.000000000",
          "2024-03-26T00:00:00.000000000",
          "2024-03-27T00:00:00.000000000",
          "2024-03-28T00:00:00.000000000",
          "2024-03-29T00:00:00.000000000",
          "2024-03-30T00:00:00.000000000",
          "2024-03-31T00:00:00.000000000",
          "2024-04-01T00:00:00.000000000",
          "2024-04-02T00:00:00.000000000",
          "2024-04-03T00:00:00.000000000",
          "2024-04-04T00:00:00.000000000",
          "2024-04-05T00:00:00.000000000",
          "2024-04-06T00:00:00.000000000",
          "2024-04-07T00:00:00.000000000",
          "2024-04-08T00:00:00.000000000",
          "2024-04-09T00:00:00.000000000",
          "2024-04-10T00:00:00.000000000",
          "2024-04-11T00:00:00.000000000",
          "2024-04-12T00:00:00.000000000",
          "2024-04-13T00:00:00.000000000",
          "2024-04-14T00:00:00.000000000",
          "2024-04-15T00:00:00.000000000",
          "2024-04-16T00:00:00.000000000",
          "2024-04-17T00:00:00.000000000",
          "2024-04-18T00:00:00.000000000",
          "2024-04-19T00:00:00.000000000",
          "2024-04-20T00:00:00.000000000",
          "2024-04-21T00:00:00.000000000",
          "2024-04-22T00:00:00.000000000",
          "2024-04-23T00:00:00.000000000",
          "2024-04-24T00:00:00.000000000",
          "2024-04-25T00:00:00.000000000",
          "2024-04-26T00:00:00.000000000",
          "2024-04-27T00:00:00.000000000",
          "2024-04-28T00:00:00.000000000",
          "2024-04-29T00:00:00.000000000",
          "2024-04-30T00:00:00.000000000",
          "2024-05-01T00:00:00.000000000",
          "2024-05-02T00:00:00.000000000",
          "2024-05-03T00:00:00.000000000",
          "2024-05-04T00:00:00.000000000",
          "2024-05-05T00:00:00.000000000",
          "2024-05-06T00:00:00.000000000",
          "2024-05-07T00:00:00.000000000",
          "2024-05-08T00:00:00.000000000",
          "2024-05-09T00:00:00.000000000",
          "2024-05-10T00:00:00.000000000",
          "2024-05-11T00:00:00.000000000",
          "2024-05-12T00:00:00.000000000",
          "2024-05-13T00:00:00.000000000",
          "2024-05-14T00:00:00.000000000",
          "2024-05-15T00:00:00.000000000",
          "2024-05-16T00:00:00.000000000",
          "2024-05-17T00:00:00.000000000",
          "2024-05-18T00:00:00.000000000",
          "2024-05-19T00:00:00.000000000",
          "2024-05-20T00:00:00.000000000",
          "2024-05-21T00:00:00.000000000",
          "2024-05-22T00:00:00.000000000",
          "2024-05-23T00:00:00.000000000",
          "2024-05-24T00:00:00.000000000",
          "2024-05-25T00:00:00.000000000",
          "2024-05-26T00:00:00.000000000",
          "2024-05-27T00:00:00.000000000",
          "2024-05-28T00:00:00.000000000",
          "2024-05-29T00:00:00.000000000",
          "2024-05-30T00:00:00.000000000",
          "2024-05-31T00:00:00.000000000",
          "2024-06-01T00:00:00.000000000",
          "2024-06-02T00:00:00.000000000",
          "2024-06-03T00:00:00.000000000",
          "2024-06-04T00:00:00.000000000",
          "2024-06-05T00:00:00.000000000",
          "2024-06-06T00:00:00.000000000",
          "2024-06-07T00:00:00.000000000",
          "2024-06-08T00:00:00.000000000",
          "2024-06-09T00:00:00.000000000",
          "2024-06-10T00:00:00.000000000",
          "2024-06-11T00:00:00.000000000",
          "2024-06-12T00:00:00.000000000",
          "2024-06-13T00:00:00.000000000",
          "2024-06-14T00:00:00.000000000",
          "2024-06-15T00:00:00.000000000",
          "2024-06-16T00:00:00.000000000",
          "2024-06-17T00:00:00.000000000",
          "2024-06-18T00:00:00.000000000",
          "2024-06-19T00:00:00.000000000",
          "2024-06-20T00:00:00.000000000",
          "2024-06-21T00:00:00.000000000",
          "2024-06-22T00:00:00.000000000",
          "2024-06-23T00:00:00.000000000",
          "2024-06-24T00:00:00.000000000",
          "2024-06-25T00:00:00.000000000",
          "2024-06-26T00:00:00.000000000",
          "2024-06-27T00:00:00.000000000",
          "2024-06-28T00:00:00.000000000",
          "2024-06-29T00:00:00.000000000",
          "2024-06-30T00:00:00.000000000",
          "2024-07-01T00:00:00.000000000",
          "2024-07-02T00:00:00.000000000",
          "2024-07-03T00:00:00.000000000",
          "2024-07-04T00:00:00.000000000",
          "2024-07-05T00:00:00.000000000",
          "2024-07-06T00:00:00.000000000",
          "2024-07-07T00:00:00.000000000",
          "2024-07-08T00:00:00.000000000",
          "2024-07-09T00:00:00.000000000",
          "2024-07-10T00:00:00.000000000",
          "2024-07-11T00:00:00.000000000",
          "2024-07-12T00:00:00.000000000",
          "2024-07-13T00:00:00.000000000",
          "2024-07-14T00:00:00.000000000",
          "2024-07-15T00:00:00.000000000",
          "2024-07-16T00:00:00.000000000",
          "2024-07-17T00:00:00.000000000",
          "2024-07-18T00:00:00.000000000",
          "2024-07-19T00:00:00.000000000",
          "2024-07-20T00:00:00.000000000",
          "2024-07-21T00:00:00.000000000",
          "2024-07-22T00:00:00.000000000",
          "2024-07-23T00:00:00.000000000",
          "2024-07-24T00:00:00.000000000",
          "2024-07-25T00:00:00.000000000",
          "2024-07-26T00:00:00.000000000",
          "2024-07-27T00:00:00.000000000",
          "2024-07-28T00:00:00.000000000",
          "2024-07-29T00:00:00.000000000",
          "2024-07-30T00:00:00.000000000",
          "2024-07-31T00:00:00.000000000",
          "2024-08-01T00:00:00.000000000",
          "2024-08-02T00:00:00.000000000",
          "2024-08-03T00:00:00.000000000",
          "2024-08-04T00:00:00.000000000",
          "2024-08-05T00:00:00.000000000",
          "2024-08-06T00:00:00.000000000",
          "2024-08-07T00:00:00.000000000",
          "2024-08-08T00:00:00.000000000",
          "2024-08-09T00:00:00.000000000",
          "2024-08-10T00:00:00.000000000",
          "2024-08-11T00:00:00.000000000",
          "2024-08-12T00:00:00.000000000",
          "2024-08-13T00:00:00.000000000",
          "2024-08-14T00:00:00.000000000",
          "2024-08-15T00:00:00.000000000",
          "2024-08-16T00:00:00.000000000",
          "2024-08-17T00:00:00.000000000",
          "2024-08-18T00:00:00.000000000",
          "2024-08-19T00:00:00.000000000",
          "2024-08-20T00:00:00.000000000",
          "2024-08-21T00:00:00.000000000",
          "2024-08-22T00:00:00.000000000",
          "2024-08-23T00:00:00.000000000",
          "2024-08-24T00:00:00.000000000",
          "2024-08-25T00:00:00.000000000",
          "2024-08-26T00:00:00.000000000",
          "2024-08-27T00:00:00.000000000",
          "2024-08-28T00:00:00.000000000",
          "2024-08-29T00:00:00.000000000",
          "2024-08-30T00:00:00.000000000",
          "2024-08-31T00:00:00.000000000",
          "2024-09-01T00:00:00.000000000",
          "2024-09-02T00:00:00.000000000",
          "2024-09-03T00:00:00.000000000",
          "2024-09-04T00:00:00.000000000",
          "2024-09-05T00:00:00.000000000",
          "2024-09-06T00:00:00.000000000",
          "2024-09-07T00:00:00.000000000",
          "2024-09-08T00:00:00.000000000",
          "2024-09-09T00:00:00.000000000",
          "2024-09-10T00:00:00.000000000",
          "2024-09-11T00:00:00.000000000",
          "2024-09-12T00:00:00.000000000",
          "2024-09-13T00:00:00.000000000",
          "2024-09-14T00:00:00.000000000",
          "2024-09-15T00:00:00.000000000",
          "2024-09-16T00:00:00.000000000",
          "2024-09-17T00:00:00.000000000",
          "2024-09-18T00:00:00.000000000",
          "2024-09-19T00:00:00.000000000",
          "2024-09-20T00:00:00.000000000",
          "2024-09-21T00:00:00.000000000",
          "2024-09-22T00:00:00.000000000",
          "2024-09-23T00:00:00.000000000",
          "2024-09-24T00:00:00.000000000",
          "2024-09-25T00:00:00.000000000",
          "2024-09-26T00:00:00.000000000",
          "2024-09-27T00:00:00.000000000",
          "2024-09-28T00:00:00.000000000",
          "2024-09-29T00:00:00.000000000",
          "2024-09-30T00:00:00.000000000",
          "2024-10-01T00:00:00.000000000",
          "2024-10-02T00:00:00.000000000",
          "2024-10-03T00:00:00.000000000",
          "2024-10-04T00:00:00.000000000",
          "2024-10-05T00:00:00.000000000",
          "2024-10-06T00:00:00.000000000",
          "2024-10-07T00:00:00.000000000",
          "2024-10-08T00:00:00.000000000",
          "2024-10-09T00:00:00.000000000",
          "2024-10-10T00:00:00.000000000",
          "2024-10-11T00:00:00.000000000",
          "2024-10-12T00:00:00.000000000",
          "2024-10-13T00:00:00.000000000",
          "2024-10-14T00:00:00.000000000",
          "2024-10-15T00:00:00.000000000",
          "2024-10-16T00:00:00.000000000",
          "2024-10-17T00:00:00.000000000",
          "2024-10-18T00:00:00.000000000",
          "2024-10-19T00:00:00.000000000",
          "2024-10-20T00:00:00.000000000",
          "2024-10-21T00:00:00.000000000",
          "2024-10-22T00:00:00.000000000",
          "2024-10-23T00:00:00.000000000",
          "2024-10-24T00:00:00.000000000",
          "2024-10-25T00:00:00.000000000",
          "2024-10-26T00:00:00.000000000",
          "2024-10-27T00:00:00.000000000",
          "2024-10-28T00:00:00.000000000",
          "2024-10-29T00:00:00.000000000",
          "2024-10-30T00:00:00.000000000",
          "2024-10-31T00:00:00.000000000",
          "2024-11-01T00:00:00.000000000",
          "2024-11-02T00:00:00.000000000",
          "2024-11-03T00:00:00.000000000",
          "2024-11-04T00:00:00.000000000",
          "2024-11-05T00:00:00.000000000",
          "2024-11-06T00:00:00.000000000",
          "2024-11-07T00:00:00.000000000",
          "2024-11-08T00:00:00.000000000",
          "2024-11-09T00:00:00.000000000",
          "2024-11-10T00:00:00.000000000",
          "2024-11-11T00:00:00.000000000",
          "2024-11-12T00:00:00.000000000",
          "2024-11-13T00:00:00.000000000",
          "2024-11-14T00:00:00.000000000",
          "2024-11-15T00:00:00.000000000",
          "2024-11-16T00:00:00.000000000",
          "2024-11-17T00:00:00.000000000",
          "2024-11-18T00:00:00.000000000",
          "2024-11-19T00:00:00.000000000",
          "2024-11-20T00:00:00.000000000",
          "2024-11-21T00:00:00.000000000",
          "2024-11-22T00:00:00.000000000",
          "2024-11-23T00:00:00.000000000",
          "2024-11-24T00:00:00.000000000",
          "2024-11-25T00:00:00.000000000",
          "2024-11-26T00:00:00.000000000",
          "2024-11-27T00:00:00.000000000",
          "2024-11-28T00:00:00.000000000",
          "2024-11-29T00:00:00.000000000",
          "2024-11-30T00:00:00.000000000",
          "2024-12-01T00:00:00.000000000",
          "2024-12-02T00:00:00.000000000",
          "2024-12-03T00:00:00.000000000",
          "2024-12-04T00:00:00.000000000",
          "2024-12-05T00:00:00.000000000",
          "2024-12-06T00:00:00.000000000",
          "2024-12-07T00:00:00.000000000",
          "2024-12-08T00:00:00.000000000",
          "2024-12-09T00:00:00.000000000",
          "2024-12-10T00:00:00.000000000",
          "2024-12-11T00:00:00.000000000",
          "2024-12-12T00:00:00.000000000",
          "2024-12-13T00:00:00.000000000",
          "2024-12-14T00:00:00.000000000",
          "2024-12-15T00:00:00.000000000",
          "2024-12-16T00:00:00.000000000",
          "2024-12-17T00:00:00.000000000",
          "2024-12-18T00:00:00.000000000",
          "2024-12-19T00:00:00.000000000",
          "2024-12-20T00:00:00.000000000",
          "2024-12-21T00:00:00.000000000",
          "2024-12-22T00:00:00.000000000",
          "2024-12-23T00:00:00.000000000",
          "2024-12-24T00:00:00.000000000",
          "2024-12-25T00:00:00.000000000",
          "2024-12-26T00:00:00.000000000",
          "2024-12-27T00:00:00.000000000",
          "2024-12-28T00:00:00.000000000",
          "2024-12-29T00:00:00.000000000",
          "2024-12-30T00:00:00.000000000",
          "2024-12-31T00:00:00.000000000"
         ],
         "y": {
          "bdata": "AAAAAAAA+H8AAAAAAAD4fwAAAAAAAPh/AAAAAAAA+H8AAAAAAAD4fwAAAAAAAPh/AAAAAAAA+H8AAAAAAAD4fwAAAAAAAPh/AAAAAAAA+H8AAAAAAAD4fwAAAAAAAPh/AAAAAAAA+H8AAAAAAAD4fwAAAAAAAPh/AAAAAAAA+H8AAAAAAAD4fwAAAAAAAPh/AAAAAAAA+H9hk1ORHKrjQOF7tjWJiuNAnKOk01g740CiNPLBFgXjQEphmuS+0+JAgVqM5mOl4kDq/uuWIJriQKA6d0QFk+JAxYUpiK+x4kAHFJic7s7iQLTsCxE/BuNAqiG3N0hN40Aru6wxXEvjQOn0Dt/fSONAyHFaIvZJ40A/lZ6c6knjQLWCoPsFTONArbB5Pl9K40D+s4/bXELjQIS+6vcQLONAUyy5DrX24kCgOyBqYsziQK2cVFua1eJAqj28QXbK4kCvSacNRd3iQMRDZ5GE4OJArjbMoSPX4kA2J8y03NviQFXivZDB/eJA94gnSb0Q40DG6RjAsDzjQHnbJJQDeuNA+eYIK+e940Bswbc25w7kQEwleqcUc+RAda++f6Hz5EDUzAZnhojlQK7wyMAXGOZAdFQtsftn5kC7MYz62BnmQBeNgr9KDeZA1xXGxzAA5kB3yk2EghbmQDMSyeE8FeZA6G9AywzQ5UAH2244gOXlQP480ovH7+VAuxRwCIAF5kACKiCGry3mQMMIe3dsZuZA+n++RO265kCK1BZD1vvmQO4T029HdOdABJv0AtMO6EA0bglakvnoQAwNXX4IBupA79IPpd0960B04jAvxE7sQPfuorjXLO1AWdJvvCkh7UBsTKLzt43tQEIz47zey+1AjL1SVBX67UDooeqLxg7uQEIEvNX3CO5AwdX6OCRI7kDnWa4rWl/uQBdSTDOgb+5AtUjZlBdy7kCoBmVn1XbuQI97yBdpeO5AH4TkVeV+7kBEh9YNdoXuQMCsSjITf+5AUkmtEdx07kDYdnW1fHXuQM8MKgZik+5A+l43hS2U7kBHUpKT7pjuQJai88UKGe9A3WHZ3isg70Cly/STcE3vQBN90tBNve9ApnwUZMYP8ECR6JwACLnvQEpiLrKqge9A57hzmNwQ70Dx6iFCZbzuQLPEK0/KLO5AQScEcYbt7UD4A7edbL3tQNB+oP/6t+1Awv+niEmp7UD5btifH7TtQMB77KC5t+1AjsvgbNqb7UBGzbgFLIXtQLQdz5I9a+1A3SCR90VX7UC3KosWunTtQFxuWGArfe1A/Iy/CZR37UDDGbVlwy/tQCtGufq43+xAouUSheTY7ED89x0T+tzsQDn0QX1X3+xA7sdJKenb7EDIeEtbj+zsQGLxt5IX0OxA8GhWo1DM7EBlozgjvKvsQNGOYPfpkOxAhOBpZk+h7EDlmNeuBcLsQCIXu7vjvexANF4EDrSh7EBWqmmhIZXsQPB/0PHmbOxAZyKYspdR7EDSSf9EtUPsQDiDu2Vn9OtAJaXycAQk7ECpgiP692nsQCiI8dupeexAJEtCqRl+7EBlBR3NUYDsQOaxyYIlmexAFKCeTq3B7ECoxWJ3QxLtQJRsa1ZCQe1AicWjI7uy7UBNxH+tSDXuQG7O39aDt+5ApTf10YsY70AMCQ7sSdzvQMoVeffN8e9A5y4p1MkT8EDmq4SOUxzwQC4Mx2CjLPBANTgGHHFJ8EC9L2v0f1PwQGHygzzXVPBAsoIu7TlH8ECxkmZ2gknwQF5h5OfAN/BAIvygmaob8EB39bbXVQfwQLwp4TVP8+9AoUg3l6/Y70CxmdWnWKTvQKUjvKAla+9AcINomks670BbN0zvCfnuQAqUlP7Bwe5AxOCn7eFz7kDCpsJEn+LtQCT+rz7tpu1Aq8vzcWtg7UAZaMEOJy/tQIrXyjmw6+xAXapAH9bN7EDkslYYKOHsQDLmHlpr3uxA+2c54D/p7ECRl4CB5MDsQObf5Gi9O+xA4alfnZnG60DNV2OrbZ3rQOS4Zz7sQOtA5fUBpXUB60DeZce6Y+zqQMQju4dL3OpAfMJgx93G6kASPgxKT8rqQCMzJYBO1+pAuyJxkTjX6kAkP3gTCK3qQI8k3EVLg+pAieNiWLtw6kBwizMfhWTqQNP6JyzJNOpAWCWcKUsH6kAsQC8RrtHpQDQkgXrXselAS89tlK626UCx4pval/XpQGm1ZAVWR+pAvOwdzoV06kDXhQdToO3qQG1iUFsPY+tAI171RN7O60Bzk53JE1fsQM0y0gVa/+xAsiPiIOa67UBwH9uIvxHuQPsNhav4De5AnryNyQJQ7UCUSYdDKQ3sQBgg7lW+X+tAqmxVd4Cu6kDIT1guM5TqQCPYTUeqdOpAUks7Z0pj6kBkH1o+OzTqQC7S8Zg9D+pAVEmtMkj96UChimybTtnpQGwD4buDwulAt5w3pk/S6UBlxFSiZAXqQKFdT437JepAgNzpIC9a6kCiWqAUK3zqQHuIxmmuxepAvEJozqPM6kBCUvOcJZ7qQBQ4yPxXhupAoJEexDrk6kD1eOr3QijrQLJ29qXIk+tA+sO5UiaC60Bq9De0x3brQMnkMOcKaetATH4mzfps60BxzyHwYEjrQJizBlZrPetAdawAMu8n60DJ7e9IbjDrQEo/Grp8+epAZl8gGEF/6kC8ZlmmgSTqQNPQcmff3elAuy/JiqrI6UCS4id0S7npQOUFgc8zp+lAg2t5PJTE6UBW63NcqfXpQBUqMWCVOepAKxwI2nts6kDEnx3PnG3qQO6DQlu6ZOpA/+aFsklJ6kD83z7uCh3qQAnvf1aW9+lAGKaUcP7n6UDVPgVH7c/pQECKrywK0ulAW1CgHfDL6UC3nFb6nvfpQERkzwivVupA0uHw9X7C6kD4XH2CSTLrQHfTe6NxeOtAsbJ9XQDI60DqG9Mg1RfsQEDrEHsJU+xATXceqHtX7EB4zT+iE3jsQEwNp/acsexAkGc1NJwc7UDuCItOLkTtQJAiuECcSu1Az0jpKdEj7UAD+vX6j/fsQObct43p8uxAH8bz1RXy7EDUMFavHvDsQMzPWi9J3exA09C5lne/7EDv4i0Vlp/sQFFcL41Ei+xA45dqcM5o7ECLU+XKVkvsQGv13xETMOxAnJw7NDZX7EBvcWQw4YrsQEZ82cf4yOxARzUJQpnq7EAFDrtUthntQF5+j4dwPu1AtJl5zddy7UCcSGJhe6PtQN2aBveo5+1AWkgxB8ti7kDDKtrgbMXuQE4YsWxaKO9AymMcmuiv70A+ySIEetfvQHzNvSpx4+9AuWp5oUHx70AHxZD12pfvQMsQXft0Vu9AEwPTc0ck70BZd+u1c//uQGByWCfKu+5AVK9XufnB7UCwfp/QqGjtQHdKBiXnBO1AhjvRWDoz7UB+FtEkDEntQC59v9Q4hO1AowQ0BnzI7UDia1CoEPPtQBAWy1dzK+5AXLVLJ1GX7kDsPNPfQQ7vQKxS/h8Fuu9Ai0p0XMtf8EATBiNykhHxQHCSGY8a3fFA6rnytmdd8kDeW78f0+vyQCxRD9HejPNAnsK9L5tP9EAyy56NCfP0QJ51zSC7FvVAsa8OsfdM9UDioB+DPWr1QFnydc19tfVA8WYbkaLW9UDG0wP+4vn1QEdkQmvEM/ZAtKv9lt1n9kDu82cq8pP2QFvmEQYvpvZAYX8iow6a9kDH9Cl2ypb2QOlQunIGjfZAnHYJ9bKF9kA8RCk2Q5T2QGLMT77tsvZAiJr/tUSs9kC6egiMycn2QFLC7TrNyfZA5bIoN9DV9kALtzBet9b2QEHBfGnazvZAB4CcEinD9kD2SFYakMP2QOazhIlM0/ZALv7xuEu39kC26A44J4z2QBhFn5lgb/ZASzlpcmpO9kBtEJ2MFyj2QG9p/NJ4AvZA",
          "dtype": "f8"
         }
        },
        {
         "line": {
          "color": "red",
          "width": 1
         },
         "name": "200-Day SMA",
         "type": "scatter",
         "x": [
          "2024-01-01T00:00:00.000000000",
          "2024-01-02T00:00:00.000000000",
          "2024-01-03T00:00:00.000000000",
          "2024-01-04T00:00:00.000000000",
          "2024-01-05T00:00:00.000000000",
          "2024-01-06T00:00:00.000000000",
          "2024-01-07T00:00:00.000000000",
          "2024-01-08T00:00:00.000000000",
          "2024-01-09T00:00:00.000000000",
          "2024-01-10T00:00:00.000000000",
          "2024-01-11T00:00:00.000000000",
          "2024-01-12T00:00:00.000000000",
          "2024-01-13T00:00:00.000000000",
          "2024-01-14T00:00:00.000000000",
          "2024-01-15T00:00:00.000000000",
          "2024-01-16T00:00:00.000000000",
          "2024-01-17T00:00:00.000000000",
          "2024-01-18T00:00:00.000000000",
          "2024-01-19T00:00:00.000000000",
          "2024-01-20T00:00:00.000000000",
          "2024-01-21T00:00:00.000000000",
          "2024-01-22T00:00:00.000000000",
          "2024-01-23T00:00:00.000000000",
          "2024-01-24T00:00:00.000000000",
          "2024-01-25T00:00:00.000000000",
          "2024-01-26T00:00:00.000000000",
          "2024-01-27T00:00:00.000000000",
          "2024-01-28T00:00:00.000000000",
          "2024-01-29T00:00:00.000000000",
          "2024-01-30T00:00:00.000000000",
          "2024-01-31T00:00:00.000000000",
          "2024-02-01T00:00:00.000000000",
          "2024-02-02T00:00:00.000000000",
          "2024-02-03T00:00:00.000000000",
          "2024-02-04T00:00:00.000000000",
          "2024-02-05T00:00:00.000000000",
          "2024-02-06T00:00:00.000000000",
          "2024-02-07T00:00:00.000000000",
          "2024-02-08T00:00:00.000000000",
          "2024-02-09T00:00:00.000000000",
          "2024-02-10T00:00:00.000000000",
          "2024-02-11T00:00:00.000000000",
          "2024-02-12T00:00:00.000000000",
          "2024-02-13T00:00:00.000000000",
          "2024-02-14T00:00:00.000000000",
          "2024-02-15T00:00:00.000000000",
          "2024-02-16T00:00:00.000000000",
          "2024-02-17T00:00:00.000000000",
          "2024-02-18T00:00:00.000000000",
          "2024-02-19T00:00:00.000000000",
          "2024-02-20T00:00:00.000000000",
          "2024-02-21T00:00:00.000000000",
          "2024-02-22T00:00:00.000000000",
          "2024-02-23T00:00:00.000000000",
          "2024-02-24T00:00:00.000000000",
          "2024-02-25T00:00:00.000000000",
          "2024-02-26T00:00:00.000000000",
          "2024-02-27T00:00:00.000000000",
          "2024-02-28T00:00:00.000000000",
          "2024-02-29T00:00:00.000000000",
          "2024-03-01T00:00:00.000000000",
          "2024-03-02T00:00:00.000000000",
          "2024-03-03T00:00:00.000000000",
          "2024-03-04T00:00:00.000000000",
          "2024-03-05T00:00:00.000000000",
          "2024-03-06T00:00:00.000000000",
          "2024-03-07T00:00:00.000000000",
          "2024-03-08T00:00:00.000000000",
          "2024-03-09T00:00:00.000000000",
          "2024-03-10T00:00:00.000000000",
          "2024-03-11T00:00:00.000000000",
          "2024-03-12T00:00:00.000000000",
          "2024-03-13T00:00:00.000000000",
          "2024-03-14T00:00:00.000000000",
          "2024-03-15T00:00:00.000000000",
          "2024-03-16T00:00:00.000000000",
          "2024-03-17T00:00:00.000000000",
          "2024-03-18T00:00:00.000000000",
          "2024-03-19T00:00:00.000000000",
          "2024-03-20T00:00:00.000000000",
          "2024-03-21T00:00:00.000000000",
          "2024-03-22T00:00:00.000000000",
          "2024-03-23T00:00:00.000000000",
          "2024-03-24T00:00:00.000000000",
          "2024-03-25T00:00:00.000000000",
          "2024-03-26T00:00:00.000000000",
          "2024-03-27T00:00:00.000000000",
          "2024-03-28T00:00:00.000000000",
          "2024-03-29T00:00:00.000000000",
          "2024-03-30T00:00:00.000000000",
          "2024-03-31T00:00:00.000000000",
          "2024-04-01T00:00:00.000000000",
          "2024-04-02T00:00:00.000000000",
          "2024-04-03T00:00:00.000000000",
          "2024-04-04T00:00:00.000000000",
          "2024-04-05T00:00:00.000000000",
          "2024-04-06T00:00:00.000000000",
          "2024-04-07T00:00:00.000000000",
          "2024-04-08T00:00:00.000000000",
          "2024-04-09T00:00:00.000000000",
          "2024-04-10T00:00:00.000000000",
          "2024-04-11T00:00:00.000000000",
          "2024-04-12T00:00:00.000000000",
          "2024-04-13T00:00:00.000000000",
          "2024-04-14T00:00:00.000000000",
          "2024-04-15T00:00:00.000000000",
          "2024-04-16T00:00:00.000000000",
          "2024-04-17T00:00:00.000000000",
          "2024-04-18T00:00:00.000000000",
          "2024-04-19T00:00:00.000000000",
          "2024-04-20T00:00:00.000000000",
          "2024-04-21T00:00:00.000000000",
          "2024-04-22T00:00:00.000000000",
          "2024-04-23T00:00:00.000000000",
          "2024-04-24T00:00:00.000000000",
          "2024-04-25T00:00:00.000000000",
          "2024-04-26T00:00:00.000000000",
          "2024-04-27T00:00:00.000000000",
          "2024-04-28T00:00:00.000000000",
          "2024-04-29T00:00:00.000000000",
          "2024-04-30T00:00:00.000000000",
          "2024-05-01T00:00:00.000000000",
          "2024-05-02T00:00:00.000000000",
          "2024-05-03T00:00:00.000000000",
          "2024-05-04T00:00:00.000000000",
          "2024-05-05T00:00:00.000000000",
          "2024-05-06T00:00:00.000000000",
          "2024-05-07T00:00:00.000000000",
          "2024-05-08T00:00:00.000000000",
          "2024-05-09T00:00:00.000000000",
          "2024-05-10T00:00:00.000000000",
          "2024-05-11T00:00:00.000000000",
          "2024-05-12T00:00:00.000000000",
          "2024-05-13T00:00:00.000000000",
          "2024-05-14T00:00:00.000000000",
          "2024-05-15T00:00:00.000000000",
          "2024-05-16T00:00:00.000000000",
          "2024-05-17T00:00:00.000000000",
          "2024-05-18T00:00:00.000000000",
          "2024-05-19T00:00:00.000000000",
          "2024-05-20T00:00:00.000000000",
          "2024-05-21T00:00:00.000000000",
          "2024-05-22T00:00:00.000000000",
          "2024-05-23T00:00:00.000000000",
          "2024-05-24T00:00:00.000000000",
          "2024-05-25T00:00:00.000000000",
          "2024-05-26T00:00:00.000000000",
          "2024-05-27T00:00:00.000000000",
          "2024-05-28T00:00:00.000000000",
          "2024-05-29T00:00:00.000000000",
          "2024-05-30T00:00:00.000000000",
          "2024-05-31T00:00:00.000000000",
          "2024-06-01T00:00:00.000000000",
          "2024-06-02T00:00:00.000000000",
          "2024-06-03T00:00:00.000000000",
          "2024-06-04T00:00:00.000000000",
          "2024-06-05T00:00:00.000000000",
          "2024-06-06T00:00:00.000000000",
          "2024-06-07T00:00:00.000000000",
          "2024-06-08T00:00:00.000000000",
          "2024-06-09T00:00:00.000000000",
          "2024-06-10T00:00:00.000000000",
          "2024-06-11T00:00:00.000000000",
          "2024-06-12T00:00:00.000000000",
          "2024-06-13T00:00:00.000000000",
          "2024-06-14T00:00:00.000000000",
          "2024-06-15T00:00:00.000000000",
          "2024-06-16T00:00:00.000000000",
          "2024-06-17T00:00:00.000000000",
          "2024-06-18T00:00:00.000000000",
          "2024-06-19T00:00:00.000000000",
          "2024-06-20T00:00:00.000000000",
          "2024-06-21T00:00:00.000000000",
          "2024-06-22T00:00:00.000000000",
          "2024-06-23T00:00:00.000000000",
          "2024-06-24T00:00:00.000000000",
          "2024-06-25T00:00:00.000000000",
          "2024-06-26T00:00:00.000000000",
          "2024-06-27T00:00:00.000000000",
          "2024-06-28T00:00:00.000000000",
          "2024-06-29T00:00:00.000000000",
          "2024-06-30T00:00:00.000000000",
          "2024-07-01T00:00:00.000000000",
          "2024-07-02T00:00:00.000000000",
          "2024-07-03T00:00:00.000000000",
          "2024-07-04T00:00:00.000000000",
          "2024-07-05T00:00:00.000000000",
          "2024-07-06T00:00:00.000000000",
          "2024-07-07T00:00:00.000000000",
          "2024-07-08T00:00:00.000000000",
          "2024-07-09T00:00:00.000000000",
          "2024-07-10T00:00:00.000000000",
          "2024-07-11T00:00:00.000000000",
          "2024-07-12T00:00:00.000000000",
          "2024-07-13T00:00:00.000000000",
          "2024-07-14T00:00:00.000000000",
          "2024-07-15T00:00:00.000000000",
          "2024-07-16T00:00:00.000000000",
          "2024-07-17T00:00:00.000000000",
          "2024-07-18T00:00:00.000000000",
          "2024-07-19T00:00:00.000000000",
          "2024-07-20T00:00:00.000000000",
          "2024-07-21T00:00:00.000000000",
          "2024-07-22T00:00:00.000000000",
          "2024-07-23T00:00:00.000000000",
          "2024-07-24T00:00:00.000000000",
          "2024-07-25T00:00:00.000000000",
          "2024-07-26T00:00:00.000000000",
          "2024-07-27T00:00:00.000000000",
          "2024-07-28T00:00:00.000000000",
          "2024-07-29T00:00:00.000000000",
          "2024-07-30T00:00:00.000000000",
          "2024-07-31T00:00:00.000000000",
          "2024-08-01T00:00:00.000000000",
          "2024-08-02T00:00:00.000000000",
          "2024-08-03T00:00:00.000000000",
          "2024-08-04T00:00:00.000000000",
          "2024-08-05T00:00:00.000000000",
          "2024-08-06T00:00:00.000000000",
          "2024-08-07T00:00:00.000000000",
          "2024-08-08T00:00:00.000000000",
          "2024-08-09T00:00:00.000000000",
          "2024-08-10T00:00:00.000000000",
          "2024-08-11T00:00:00.000000000",
          "2024-08-12T00:00:00.000000000",
          "2024-08-13T00:00:00.000000000",
          "2024-08-14T00:00:00.000000000",
          "2024-08-15T00:00:00.000000000",
          "2024-08-16T00:00:00.000000000",
          "2024-08-17T00:00:00.000000000",
          "2024-08-18T00:00:00.000000000",
          "2024-08-19T00:00:00.000000000",
          "2024-08-20T00:00:00.000000000",
          "2024-08-21T00:00:00.000000000",
          "2024-08-22T00:00:00.000000000",
          "2024-08-23T00:00:00.000000000",
          "2024-08-24T00:00:00.000000000",
          "2024-08-25T00:00:00.000000000",
          "2024-08-26T00:00:00.000000000",
          "2024-08-27T00:00:00.000000000",
          "2024-08-28T00:00:00.000000000",
          "2024-08-29T00:00:00.000000000",
          "2024-08-30T00:00:00.000000000",
          "2024-08-31T00:00:00.000000000",
          "2024-09-01T00:00:00.000000000",
          "2024-09-02T00:00:00.000000000",
          "2024-09-03T00:00:00.000000000",
          "2024-09-04T00:00:00.000000000",
          "2024-09-05T00:00:00.000000000",
          "2024-09-06T00:00:00.000000000",
          "2024-09-07T00:00:00.000000000",
          "2024-09-08T00:00:00.000000000",
          "2024-09-09T00:00:00.000000000",
          "2024-09-10T00:00:00.000000000",
          "2024-09-11T00:00:00.000000000",
          "2024-09-12T00:00:00.000000000",
          "2024-09-13T00:00:00.000000000",
          "2024-09-14T00:00:00.000000000",
          "2024-09-15T00:00:00.000000000",
          "2024-09-16T00:00:00.000000000",
          "2024-09-17T00:00:00.000000000",
          "2024-09-18T00:00:00.000000000",
          "2024-09-19T00:00:00.000000000",
          "2024-09-20T00:00:00.000000000",
          "2024-09-21T00:00:00.000000000",
          "2024-09-22T00:00:00.000000000",
          "2024-09-23T00:00:00.000000000",
          "2024-09-24T00:00:00.000000000",
          "2024-09-25T00:00:00.000000000",
          "2024-09-26T00:00:00.000000000",
          "2024-09-27T00:00:00.000000000",
          "2024-09-28T00:00:00.000000000",
          "2024-09-29T00:00:00.000000000",
          "2024-09-30T00:00:00.000000000",
          "2024-10-01T00:00:00.000000000",
          "2024-10-02T00:00:00.000000000",
          "2024-10-03T00:00:00.000000000",
          "2024-10-04T00:00:00.000000000",
          "2024-10-05T00:00:00.000000000",
          "2024-10-06T00:00:00.000000000",
          "2024-10-07T00:00:00.000000000",
          "2024-10-08T00:00:00.000000000",
          "2024-10-09T00:00:00.000000000",
          "2024-10-10T00:00:00.000000000",
          "2024-10-11T00:00:00.000000000",
          "2024-10-12T00:00:00.000000000",
          "2024-10-13T00:00:00.000000000",
          "2024-10-14T00:00:00.000000000",
          "2024-10-15T00:00:00.000000000",
          "2024-10-16T00:00:00.000000000",
          "2024-10-17T00:00:00.000000000",
          "2024-10-18T00:00:00.000000000",
          "2024-10-19T00:00:00.000000000",
          "2024-10-20T00:00:00.000000000",
          "2024-10-21T00:00:00.000000000",
          "2024-10-22T00:00:00.000000000",
          "2024-10-23T00:00:00.000000000",
          "2024-10-24T00:00:00.000000000",
          "2024-10-25T00:00:00.000000000",
          "2024-10-26T00:00:00.000000000",
          "2024-10-27T00:00:00.000000000",
          "2024-10-28T00:00:00.000000000",
          "2024-10-29T00:00:00.000000000",
          "2024-10-30T00:00:00.000000000",
          "2024-10-31T00:00:00.000000000",
          "2024-11-01T00:00:00.000000000",
          "2024-11-02T00:00:00.000000000",
          "2024-11-03T00:00:00.000000000",
          "2024-11-04T00:00:00.000000000",
          "2024-11-05T00:00:00.000000000",
          "2024-11-06T00:00:00.000000000",
          "2024-11-07T00:00:00.000000000",
          "2024-11-08T00:00:00.000000000",
          "2024-11-09T00:00:00.000000000",
          "2024-11-10T00:00:00.000000000",
          "2024-11-11T00:00:00.000000000",
          "2024-11-12T00:00:00.000000000",
          "2024-11-13T00:00:00.000000000",
          "2024-11-14T00:00:00.000000000",
          "2024-11-15T00:00:00.000000000",
          "2024-11-16T00:00:00.000000000",
          "2024-11-17T00:00:00.000000000",
          "2024-11-18T00:00:00.000000000",
          "2024-11-19T00:00:00.000000000",
          "2024-11-20T00:00:00.000000000",
          "2024-11-21T00:00:00.000000000",
          "2024-11-22T00:00:00.000000000",
          "2024-11-23T00:00:00.000000000",
          "2024-11-24T00:00:00.000000000",
          "2024-11-25T00:00:00.000000000",
          "2024-11-26T00:00:00.000000000",
          "2024-11-27T00:00:00.000000000",
          "2024-11-28T00:00:00.000000000",
          "2024-11-29T00:00:00.000000000",
          "2024-11-30T00:00:00.000000000",
          "2024-12-01T00:00:00.000000000",
          "2024-12-02T00:00:00.000000000",
          "2024-12-03T00:00:00.000000000",
          "2024-12-04T00:00:00.000000000",
          "2024-12-05T00:00:00.000000000",
          "2024-12-06T00:00:00.000000000",
          "2024-12-07T00:00:00.000000000",
          "2024-12-08T00:00:00.000000000",
          "2024-12-09T00:00:00.000000000",
          "2024-12-10T00:00:00.000000000",
          "2024-12-11T00:00:00.000000000",
          "2024-12-12T00:00:00.000000000",
          "2024-12-13T00:00:00.000000000",
          "2024-12-14T00:00:00.000000000",
          "2024-12-15T00:00:00.000000000",
          "2024-12-16T00:00:00.000000000",
          "2024-12-17T00:00:00.000000000",
          "2024-12-18T00:00:00.000000000",
          "2024-12-19T00:00:00.000000000",
          "2024-12-20T00:00:00.000000000",
          "2024-12-21T00:00:00.000000000",
          "2024-12-22T00:00:00.000000000",
          "2024-12-23T00:00:00.000000000",
          "2024-12-24T00:00:00.000000000",
          "2024-12-25T00:00:00.000000000",
          "2024-12-26T00:00:00.000000000",
          "2024-12-27T00:00:00.000000000",
          "2024-12-28T00:00:00.000000000",
          "2024-12-29T00:00:00.000000000",
          "2024-12-30T00:00:00.000000000",
          "2024-12-31T00:00:00.000000000"
         ],
         "y": {
          "bdata": "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",
          "dtype": "f8"
         }
        }
       ],
       "layout": {
        "showlegend": true,
        "template": {
         "data": {
          "bar": [
           {
            "error_x": {
             "color": "#2a3f5f"
            },
            "error_y": {
             "color": "#2a3f5f"
            },
            "marker": {
             "line": {
              "color": "#E5ECF6",
              "width": 0.5
             },
             "pattern": {
              "fillmode": "overlay",
              "size": 10,
              "solidity": 0.2
             }
            },
            "type": "bar"
           }
          ],
          "barpolar": [
           {
            "marker": {
             "line": {
              "color": "#E5ECF6",
              "width": 0.5
             },
             "pattern": {
              "fillmode": "overlay",
              "size": 10,
              "solidity": 0.2
             }
            },
            "type": "barpolar"
           }
          ],
          "carpet": [
           {
            "aaxis": {
             "endlinecolor": "#2a3f5f",
             "gridcolor": "white",
             "linecolor": "white",
             "minorgridcolor": "white",
             "startlinecolor": "#2a3f5f"
            },
            "baxis": {
             "endlinecolor": "#2a3f5f",
             "gridcolor": "white",
             "linecolor": "white",
             "minorgridcolor": "white",
             "startlinecolor": "#2a3f5f"
            },
            "type": "carpet"
           }
          ],
          "choropleth": [
           {
            "colorbar": {
             "outlinewidth": 0,
             "ticks": ""
            },
            "type": "choropleth"
           }
          ],
          "contour": [
           {
            "colorbar": {
             "outlinewidth": 0,
             "ticks": ""
            },
            "colorscale": [
             [
              0,
              "#0d0887"
             ],
             [
              0.1111111111111111,
              "#46039f"
             ],
             [
              0.2222222222222222,
              "#7201a8"
             ],
             [
              0.3333333333333333,
              "#9c179e"
             ],
             [
              0.4444444444444444,
              "#bd3786"
             ],
             [
              0.5555555555555556,
              "#d8576b"
             ],
             [
              0.6666666666666666,
              "#ed7953"
             ],
             [
              0.7777777777777778,
              "#fb9f3a"
             ],
             [
              0.8888888888888888,
              "#fdca26"
             ],
             [
              1,
              "#f0f921"
             ]
            ],
            "type": "contour"
           }
          ],
          "contourcarpet": [
           {
            "colorbar": {
             "outlinewidth": 0,
             "ticks": ""
            },
            "type": "contourcarpet"
           }
          ],
          "heatmap": [
           {
            "colorbar": {
             "outlinewidth": 0,
             "ticks": ""
            },
            "colorscale": [
             [
              0,
              "#0d0887"
             ],
             [
              0.1111111111111111,
              "#46039f"
             ],
             [
              0.2222222222222222,
              "#7201a8"
             ],
             [
              0.3333333333333333,
              "#9c179e"
             ],
             [
              0.4444444444444444,
              "#bd3786"
             ],
             [
              0.5555555555555556,
              "#d8576b"
             ],
             [
              0.6666666666666666,
              "#ed7953"
             ],
             [
              0.7777777777777778,
              "#fb9f3a"
             ],
             [
              0.8888888888888888,
              "#fdca26"
             ],
             [
              1,
              "#f0f921"
             ]
            ],
            "type": "heatmap"
           }
          ],
          "histogram": [
           {
            "marker": {
             "pattern": {
              "fillmode": "overlay",
              "size": 10,
              "solidity": 0.2
             }
            },
            "type": "histogram"
           }
          ],
          "histogram2d": [
           {
            "colorbar": {
             "outlinewidth": 0,
             "ticks": ""
            },
            "colorscale": [
             [
              0,
              "#0d0887"
             ],
             [
              0.1111111111111111,
              "#46039f"
             ],
             [
              0.2222222222222222,
              "#7201a8"
             ],
             [
              0.3333333333333333,
              "#9c179e"
             ],
             [
              0.4444444444444444,
              "#bd3786"
             ],
             [
              0.5555555555555556,
              "#d8576b"
             ],
             [
              0.6666666666666666,
              "#ed7953"
             ],
             [
              0.7777777777777778,
              "#fb9f3a"
             ],
             [
              0.8888888888888888,
              "#fdca26"
             ],
             [
              1,
              "#f0f921"
             ]
            ],
            "type": "histogram2d"
           }
          ],
          "histogram2dcontour": [
           {
            "colorbar": {
             "outlinewidth": 0,
             "ticks": ""
            },
            "colorscale": [
             [
              0,
              "#0d0887"
             ],
             [
              0.1111111111111111,
              "#46039f"
             ],
             [
              0.2222222222222222,
              "#7201a8"
             ],
             [
              0.3333333333333333,
              "#9c179e"
             ],
             [
              0.4444444444444444,
              "#bd3786"
             ],
             [
              0.5555555555555556,
              "#d8576b"
             ],
             [
              0.6666666666666666,
              "#ed7953"
             ],
             [
              0.7777777777777778,
              "#fb9f3a"
             ],
             [
              0.8888888888888888,
              "#fdca26"
             ],
             [
              1,
              "#f0f921"
             ]
            ],
            "type": "histogram2dcontour"
           }
          ],
          "mesh3d": [
           {
            "colorbar": {
             "outlinewidth": 0,
             "ticks": ""
            },
            "type": "mesh3d"
           }
          ],
          "parcoords": [
           {
            "line": {
             "colorbar": {
              "outlinewidth": 0,
              "ticks": ""
             }
            },
            "type": "parcoords"
           }
          ],
          "pie": [
           {
            "automargin": true,
            "type": "pie"
           }
          ],
          "scatter": [
           {
            "fillpattern": {
             "fillmode": "overlay",
             "size": 10,
             "solidity": 0.2
            },
            "type": "scatter"
           }
          ],
          "scatter3d": [
           {
            "line": {
             "colorbar": {
              "outlinewidth": 0,
              "ticks": ""
             }
            },
            "marker": {
             "colorbar": {
              "outlinewidth": 0,
              "ticks": ""
             }
            },
            "type": "scatter3d"
           }
          ],
          "scattercarpet": [
           {
            "marker": {
             "colorbar": {
              "outlinewidth": 0,
              "ticks": ""
             }
            },
            "type": "scattercarpet"
           }
          ],
          "scattergeo": [
           {
            "marker": {
             "colorbar": {
              "outlinewidth": 0,
              "ticks": ""
             }
            },
            "type": "scattergeo"
           }
          ],
          "scattergl": [
           {
            "marker": {
             "colorbar": {
              "outlinewidth": 0,
              "ticks": ""
             }
            },
            "type": "scattergl"
           }
          ],
          "scattermap": [
           {
            "marker": {
             "colorbar": {
              "outlinewidth": 0,
              "ticks": ""
             }
            },
            "type": "scattermap"
           }
          ],
          "scattermapbox": [
           {
            "marker": {
             "colorbar": {
              "outlinewidth": 0,
              "ticks": ""
             }
            },
            "type": "scattermapbox"
           }
          ],
          "scatterpolar": [
           {
            "marker": {
             "colorbar": {
              "outlinewidth": 0,
              "ticks": ""
             }
            },
            "type": "scatterpolar"
           }
          ],
          "scatterpolargl": [
           {
            "marker": {
             "colorbar": {
              "outlinewidth": 0,
              "ticks": ""
             }
            },
            "type": "scatterpolargl"
           }
          ],
          "scatterternary": [
           {
            "marker": {
             "colorbar": {
              "outlinewidth": 0,
              "ticks": ""
             }
            },
            "type": "scatterternary"
           }
          ],
          "surface": [
           {
            "colorbar": {
             "outlinewidth": 0,
             "ticks": ""
            },
            "colorscale": [
             [
              0,
              "#0d0887"
             ],
             [
              0.1111111111111111,
              "#46039f"
             ],
             [
              0.2222222222222222,
              "#7201a8"
             ],
             [
              0.3333333333333333,
              "#9c179e"
             ],
             [
              0.4444444444444444,
              "#bd3786"
             ],
             [
              0.5555555555555556,
              "#d8576b"
             ],
             [
              0.6666666666666666,
              "#ed7953"
             ],
             [
              0.7777777777777778,
              "#fb9f3a"
             ],
             [
              0.8888888888888888,
              "#fdca26"
             ],
             [
              1,
              "#f0f921"
             ]
            ],
            "type": "surface"
           }
          ],
          "table": [
           {
            "cells": {
             "fill": {
              "color": "#EBF0F8"
             },
             "line": {
              "color": "white"
             }
            },
            "header": {
             "fill": {
              "color": "#C8D4E3"
             },
             "line": {
              "color": "white"
             }
            },
            "type": "table"
           }
          ]
         },
         "layout": {
          "annotationdefaults": {
           "arrowcolor": "#2a3f5f",
           "arrowhead": 0,
           "arrowwidth": 1
          },
          "autotypenumbers": "strict",
          "coloraxis": {
           "colorbar": {
            "outlinewidth": 0,
            "ticks": ""
           }
          },
          "colorscale": {
           "diverging": [
            [
             0,
             "#8e0152"
            ],
            [
             0.1,
             "#c51b7d"
            ],
            [
             0.2,
             "#de77ae"
            ],
            [
             0.3,
             "#f1b6da"
            ],
            [
             0.4,
             "#fde0ef"
            ],
            [
             0.5,
             "#f7f7f7"
            ],
            [
             0.6,
             "#e6f5d0"
            ],
            [
             0.7,
             "#b8e186"
            ],
            [
             0.8,
             "#7fbc41"
            ],
            [
             0.9,
             "#4d9221"
            ],
            [
             1,
             "#276419"
            ]
           ],
           "sequential": [
            [
             0,
             "#0d0887"
            ],
            [
             0.1111111111111111,
             "#46039f"
            ],
            [
             0.2222222222222222,
             "#7201a8"
            ],
            [
             0.3333333333333333,
             "#9c179e"
            ],
            [
             0.4444444444444444,
             "#bd3786"
            ],
            [
             0.5555555555555556,
             "#d8576b"
            ],
            [
             0.6666666666666666,
             "#ed7953"
            ],
            [
             0.7777777777777778,
             "#fb9f3a"
            ],
            [
             0.8888888888888888,
             "#fdca26"
            ],
            [
             1,
             "#f0f921"
            ]
           ],
           "sequentialminus": [
            [
             0,
             "#0d0887"
            ],
            [
             0.1111111111111111,
             "#46039f"
            ],
            [
             0.2222222222222222,
             "#7201a8"
            ],
            [
             0.3333333333333333,
             "#9c179e"
            ],
            [
             0.4444444444444444,
             "#bd3786"
            ],
            [
             0.5555555555555556,
             "#d8576b"
            ],
            [
             0.6666666666666666,
             "#ed7953"
            ],
            [
             0.7777777777777778,
             "#fb9f3a"
            ],
            [
             0.8888888888888888,
             "#fdca26"
            ],
            [
             1,
             "#f0f921"
            ]
           ]
          },
          "colorway": [
           "#636efa",
           "#EF553B",
           "#00cc96",
           "#ab63fa",
           "#FFA15A",
           "#19d3f3",
           "#FF6692",
           "#B6E880",
           "#FF97FF",
           "#FECB52"
          ],
          "font": {
           "color": "#2a3f5f"
          },
          "geo": {
           "bgcolor": "white",
           "lakecolor": "white",
           "landcolor": "#E5ECF6",
           "showlakes": true,
           "showland": true,
           "subunitcolor": "white"
          },
          "hoverlabel": {
           "align": "left"
          },
          "hovermode": "closest",
          "mapbox": {
           "style": "light"
          },
          "paper_bgcolor": "white",
          "plot_bgcolor": "#E5ECF6",
          "polar": {
           "angularaxis": {
            "gridcolor": "white",
            "linecolor": "white",
            "ticks": ""
           },
           "bgcolor": "#E5ECF6",
           "radialaxis": {
            "gridcolor": "white",
            "linecolor": "white",
            "ticks": ""
           }
          },
          "scene": {
           "xaxis": {
            "backgroundcolor": "#E5ECF6",
            "gridcolor": "white",
            "gridwidth": 2,
            "linecolor": "white",
            "showbackground": true,
            "ticks": "",
            "zerolinecolor": "white"
           },
           "yaxis": {
            "backgroundcolor": "#E5ECF6",
            "gridcolor": "white",
            "gridwidth": 2,
            "linecolor": "white",
            "showbackground": true,
            "ticks": "",
            "zerolinecolor": "white"
           },
           "zaxis": {
            "backgroundcolor": "#E5ECF6",
            "gridcolor": "white",
            "gridwidth": 2,
            "linecolor": "white",
            "showbackground": true,
            "ticks": "",
            "zerolinecolor": "white"
           }
          },
          "shapedefaults": {
           "line": {
            "color": "#2a3f5f"
           }
          },
          "ternary": {
           "aaxis": {
            "gridcolor": "white",
            "linecolor": "white",
            "ticks": ""
           },
           "baxis": {
            "gridcolor": "white",
            "linecolor": "white",
            "ticks": ""
           },
           "bgcolor": "#E5ECF6",
           "caxis": {
            "gridcolor": "white",
            "linecolor": "white",
            "ticks": ""
           }
          },
          "title": {
           "x": 0.05
          },
          "xaxis": {
           "automargin": true,
           "gridcolor": "white",
           "linecolor": "white",
           "ticks": "",
           "title": {
            "standoff": 15
           },
           "zerolinecolor": "white",
           "zerolinewidth": 2
          },
          "yaxis": {
           "automargin": true,
           "gridcolor": "white",
           "linecolor": "white",
           "ticks": "",
           "title": {
            "standoff": 15
           },
           "zerolinecolor": "white",
           "zerolinewidth": 2
          }
         }
        },
        "title": {
         "text": "Price Chart: Candlestick, Bollinger Bands, 20-Day SMA, and 200-Day SMA"
        },
        "xaxis": {
         "title": {
          "text": "Date"
         }
        },
        "yaxis": {
         "title": {
          "text": "Price (USDT)"
         }
        }
       }
      }
     },
     "metadata": {},
     "output_type": "display_data"
    },
    {
     "data": {
      "application/vnd.plotly.v1+json": {
       "config": {
        "plotlyServerURL": "https://plot.ly"
       },
       "data": [
        {
         "marker": {
          "color": "blue"
         },
         "name": "Volume",
         "type": "bar",
         "x": [
          "2024-01-01T00:00:00.000000000",
          "2024-01-02T00:00:00.000000000",
          "2024-01-03T00:00:00.000000000",
          "2024-01-04T00:00:00.000000000",
          "2024-01-05T00:00:00.000000000",
          "2024-01-06T00:00:00.000000000",
          "2024-01-07T00:00:00.000000000",
          "2024-01-08T00:00:00.000000000",
          "2024-01-09T00:00:00.000000000",
          "2024-01-10T00:00:00.000000000",
          "2024-01-11T00:00:00.000000000",
          "2024-01-12T00:00:00.000000000",
          "2024-01-13T00:00:00.000000000",
          "2024-01-14T00:00:00.000000000",
          "2024-01-15T00:00:00.000000000",
          "2024-01-16T00:00:00.000000000",
          "2024-01-17T00:00:00.000000000",
          "2024-01-18T00:00:00.000000000",
          "2024-01-19T00:00:00.000000000",
          "2024-01-20T00:00:00.000000000",
          "2024-01-21T00:00:00.000000000",
          "2024-01-22T00:00:00.000000000",
          "2024-01-23T00:00:00.000000000",
          "2024-01-24T00:00:00.000000000",
          "2024-01-25T00:00:00.000000000",
          "2024-01-26T00:00:00.000000000",
          "2024-01-27T00:00:00.000000000",
          "2024-01-28T00:00:00.000000000",
          "2024-01-29T00:00:00.000000000",
          "2024-01-30T00:00:00.000000000",
          "2024-01-31T00:00:00.000000000",
          "2024-02-01T00:00:00.000000000",
          "2024-02-02T00:00:00.000000000",
          "2024-02-03T00:00:00.000000000",
          "2024-02-04T00:00:00.000000000",
          "2024-02-05T00:00:00.000000000",
          "2024-02-06T00:00:00.000000000",
          "2024-02-07T00:00:00.000000000",
          "2024-02-08T00:00:00.000000000",
          "2024-02-09T00:00:00.000000000",
          "2024-02-10T00:00:00.000000000",
          "2024-02-11T00:00:00.000000000",
          "2024-02-12T00:00:00.000000000",
          "2024-02-13T00:00:00.000000000",
          "2024-02-14T00:00:00.000000000",
          "2024-02-15T00:00:00.000000000",
          "2024-02-16T00:00:00.000000000",
          "2024-02-17T00:00:00.000000000",
          "2024-02-18T00:00:00.000000000",
          "2024-02-19T00:00:00.000000000",
          "2024-02-20T00:00:00.000000000",
          "2024-02-21T00:00:00.000000000",
          "2024-02-22T00:00:00.000000000",
          "2024-02-23T00:00:00.000000000",
          "2024-02-24T00:00:00.000000000",
          "2024-02-25T00:00:00.000000000",
          "2024-02-26T00:00:00.000000000",
          "2024-02-27T00:00:00.000000000",
          "2024-02-28T00:00:00.000000000",
          "2024-02-29T00:00:00.000000000",
          "2024-03-01T00:00:00.000000000",
          "2024-03-02T00:00:00.000000000",
          "2024-03-03T00:00:00.000000000",
          "2024-03-04T00:00:00.000000000",
          "2024-03-05T00:00:00.000000000",
          "2024-03-06T00:00:00.000000000",
          "2024-03-07T00:00:00.000000000",
          "2024-03-08T00:00:00.000000000",
          "2024-03-09T00:00:00.000000000",
          "2024-03-10T00:00:00.000000000",
          "2024-03-11T00:00:00.000000000",
          "2024-03-12T00:00:00.000000000",
          "2024-03-13T00:00:00.000000000",
          "2024-03-14T00:00:00.000000000",
          "2024-03-15T00:00:00.000000000",
          "2024-03-16T00:00:00.000000000",
          "2024-03-17T00:00:00.000000000",
          "2024-03-18T00:00:00.000000000",
          "2024-03-19T00:00:00.000000000",
          "2024-03-20T00:00:00.000000000",
          "2024-03-21T00:00:00.000000000",
          "2024-03-22T00:00:00.000000000",
          "2024-03-23T00:00:00.000000000",
          "2024-03-24T00:00:00.000000000",
          "2024-03-25T00:00:00.000000000",
          "2024-03-26T00:00:00.000000000",
          "2024-03-27T00:00:00.000000000",
          "2024-03-28T00:00:00.000000000",
          "2024-03-29T00:00:00.000000000",
          "2024-03-30T00:00:00.000000000",
          "2024-03-31T00:00:00.000000000",
          "2024-04-01T00:00:00.000000000",
          "2024-04-02T00:00:00.000000000",
          "2024-04-03T00:00:00.000000000",
          "2024-04-04T00:00:00.000000000",
          "2024-04-05T00:00:00.000000000",
          "2024-04-06T00:00:00.000000000",
          "2024-04-07T00:00:00.000000000",
          "2024-04-08T00:00:00.000000000",
          "2024-04-09T00:00:00.000000000",
          "2024-04-10T00:00:00.000000000",
          "2024-04-11T00:00:00.000000000",
          "2024-04-12T00:00:00.000000000",
          "2024-04-13T00:00:00.000000000",
          "2024-04-14T00:00:00.000000000",
          "2024-04-15T00:00:00.000000000",
          "2024-04-16T00:00:00.000000000",
          "2024-04-17T00:00:00.000000000",
          "2024-04-18T00:00:00.000000000",
          "2024-04-19T00:00:00.000000000",
          "2024-04-20T00:00:00.000000000",
          "2024-04-21T00:00:00.000000000",
          "2024-04-22T00:00:00.000000000",
          "2024-04-23T00:00:00.000000000",
          "2024-04-24T00:00:00.000000000",
          "2024-04-25T00:00:00.000000000",
          "2024-04-26T00:00:00.000000000",
          "2024-04-27T00:00:00.000000000",
          "2024-04-28T00:00:00.000000000",
          "2024-04-29T00:00:00.000000000",
          "2024-04-30T00:00:00.000000000",
          "2024-05-01T00:00:00.000000000",
          "2024-05-02T00:00:00.000000000",
          "2024-05-03T00:00:00.000000000",
          "2024-05-04T00:00:00.000000000",
          "2024-05-05T00:00:00.000000000",
          "2024-05-06T00:00:00.000000000",
          "2024-05-07T00:00:00.000000000",
          "2024-05-08T00:00:00.000000000",
          "2024-05-09T00:00:00.000000000",
          "2024-05-10T00:00:00.000000000",
          "2024-05-11T00:00:00.000000000",
          "2024-05-12T00:00:00.000000000",
          "2024-05-13T00:00:00.000000000",
          "2024-05-14T00:00:00.000000000",
          "2024-05-15T00:00:00.000000000",
          "2024-05-16T00:00:00.000000000",
          "2024-05-17T00:00:00.000000000",
          "2024-05-18T00:00:00.000000000",
          "2024-05-19T00:00:00.000000000",
          "2024-05-20T00:00:00.000000000",
          "2024-05-21T00:00:00.000000000",
          "2024-05-22T00:00:00.000000000",
          "2024-05-23T00:00:00.000000000",
          "2024-05-24T00:00:00.000000000",
          "2024-05-25T00:00:00.000000000",
          "2024-05-26T00:00:00.000000000",
          "2024-05-27T00:00:00.000000000",
          "2024-05-28T00:00:00.000000000",
          "2024-05-29T00:00:00.000000000",
          "2024-05-30T00:00:00.000000000",
          "2024-05-31T00:00:00.000000000",
          "2024-06-01T00:00:00.000000000",
          "2024-06-02T00:00:00.000000000",
          "2024-06-03T00:00:00.000000000",
          "2024-06-04T00:00:00.000000000",
          "2024-06-05T00:00:00.000000000",
          "2024-06-06T00:00:00.000000000",
          "2024-06-07T00:00:00.000000000",
          "2024-06-08T00:00:00.000000000",
          "2024-06-09T00:00:00.000000000",
          "2024-06-10T00:00:00.000000000",
          "2024-06-11T00:00:00.000000000",
          "2024-06-12T00:00:00.000000000",
          "2024-06-13T00:00:00.000000000",
          "2024-06-14T00:00:00.000000000",
          "2024-06-15T00:00:00.000000000",
          "2024-06-16T00:00:00.000000000",
          "2024-06-17T00:00:00.000000000",
          "2024-06-18T00:00:00.000000000",
          "2024-06-19T00:00:00.000000000",
          "2024-06-20T00:00:00.000000000",
          "2024-06-21T00:00:00.000000000",
          "2024-06-22T00:00:00.000000000",
          "2024-06-23T00:00:00.000000000",
          "2024-06-24T00:00:00.000000000",
          "2024-06-25T00:00:00.000000000",
          "2024-06-26T00:00:00.000000000",
          "2024-06-27T00:00:00.000000000",
          "2024-06-28T00:00:00.000000000",
          "2024-06-29T00:00:00.000000000",
          "2024-06-30T00:00:00.000000000",
          "2024-07-01T00:00:00.000000000",
          "2024-07-02T00:00:00.000000000",
          "2024-07-03T00:00:00.000000000",
          "2024-07-04T00:00:00.000000000",
          "2024-07-05T00:00:00.000000000",
          "2024-07-06T00:00:00.000000000",
          "2024-07-07T00:00:00.000000000",
          "2024-07-08T00:00:00.000000000",
          "2024-07-09T00:00:00.000000000",
          "2024-07-10T00:00:00.000000000",
          "2024-07-11T00:00:00.000000000",
          "2024-07-12T00:00:00.000000000",
          "2024-07-13T00:00:00.000000000",
          "2024-07-14T00:00:00.000000000",
          "2024-07-15T00:00:00.000000000",
          "2024-07-16T00:00:00.000000000",
          "2024-07-17T00:00:00.000000000",
          "2024-07-18T00:00:00.000000000",
          "2024-07-19T00:00:00.000000000",
          "2024-07-20T00:00:00.000000000",
          "2024-07-21T00:00:00.000000000",
          "2024-07-22T00:00:00.000000000",
          "2024-07-23T00:00:00.000000000",
          "2024-07-24T00:00:00.000000000",
          "2024-07-25T00:00:00.000000000",
          "2024-07-26T00:00:00.000000000",
          "2024-07-27T00:00:00.000000000",
          "2024-07-28T00:00:00.000000000",
          "2024-07-29T00:00:00.000000000",
          "2024-07-30T00:00:00.000000000",
          "2024-07-31T00:00:00.000000000",
          "2024-08-01T00:00:00.000000000",
          "2024-08-02T00:00:00.000000000",
          "2024-08-03T00:00:00.000000000",
          "2024-08-04T00:00:00.000000000",
          "2024-08-05T00:00:00.000000000",
          "2024-08-06T00:00:00.000000000",
          "2024-08-07T00:00:00.000000000",
          "2024-08-08T00:00:00.000000000",
          "2024-08-09T00:00:00.000000000",
          "2024-08-10T00:00:00.000000000",
          "2024-08-11T00:00:00.000000000",
          "2024-08-12T00:00:00.000000000",
          "2024-08-13T00:00:00.000000000",
          "2024-08-14T00:00:00.000000000",
          "2024-08-15T00:00:00.000000000",
          "2024-08-16T00:00:00.000000000",
          "2024-08-17T00:00:00.000000000",
          "2024-08-18T00:00:00.000000000",
          "2024-08-19T00:00:00.000000000",
          "2024-08-20T00:00:00.000000000",
          "2024-08-21T00:00:00.000000000",
          "2024-08-22T00:00:00.000000000",
          "2024-08-23T00:00:00.000000000",
          "2024-08-24T00:00:00.000000000",
          "2024-08-25T00:00:00.000000000",
          "2024-08-26T00:00:00.000000000",
          "2024-08-27T00:00:00.000000000",
          "2024-08-28T00:00:00.000000000",
          "2024-08-29T00:00:00.000000000",
          "2024-08-30T00:00:00.000000000",
          "2024-08-31T00:00:00.000000000",
          "2024-09-01T00:00:00.000000000",
          "2024-09-02T00:00:00.000000000",
          "2024-09-03T00:00:00.000000000",
          "2024-09-04T00:00:00.000000000",
          "2024-09-05T00:00:00.000000000",
          "2024-09-06T00:00:00.000000000",
          "2024-09-07T00:00:00.000000000",
          "2024-09-08T00:00:00.000000000",
          "2024-09-09T00:00:00.000000000",
          "2024-09-10T00:00:00.000000000",
          "2024-09-11T00:00:00.000000000",
          "2024-09-12T00:00:00.000000000",
          "2024-09-13T00:00:00.000000000",
          "2024-09-14T00:00:00.000000000",
          "2024-09-15T00:00:00.000000000",
          "2024-09-16T00:00:00.000000000",
          "2024-09-17T00:00:00.000000000",
          "2024-09-18T00:00:00.000000000",
          "2024-09-19T00:00:00.000000000",
          "2024-09-20T00:00:00.000000000",
          "2024-09-21T00:00:00.000000000",
          "2024-09-22T00:00:00.000000000",
          "2024-09-23T00:00:00.000000000",
          "2024-09-24T00:00:00.000000000",
          "2024-09-25T00:00:00.000000000",
          "2024-09-26T00:00:00.000000000",
          "2024-09-27T00:00:00.000000000",
          "2024-09-28T00:00:00.000000000",
          "2024-09-29T00:00:00.000000000",
          "2024-09-30T00:00:00.000000000",
          "2024-10-01T00:00:00.000000000",
          "2024-10-02T00:00:00.000000000",
          "2024-10-03T00:00:00.000000000",
          "2024-10-04T00:00:00.000000000",
          "2024-10-05T00:00:00.000000000",
          "2024-10-06T00:00:00.000000000",
          "2024-10-07T00:00:00.000000000",
          "2024-10-08T00:00:00.000000000",
          "2024-10-09T00:00:00.000000000",
          "2024-10-10T00:00:00.000000000",
          "2024-10-11T00:00:00.000000000",
          "2024-10-12T00:00:00.000000000",
          "2024-10-13T00:00:00.000000000",
          "2024-10-14T00:00:00.000000000",
          "2024-10-15T00:00:00.000000000",
          "2024-10-16T00:00:00.000000000",
          "2024-10-17T00:00:00.000000000",
          "2024-10-18T00:00:00.000000000",
          "2024-10-19T00:00:00.000000000",
          "2024-10-20T00:00:00.000000000",
          "2024-10-21T00:00:00.000000000",
          "2024-10-22T00:00:00.000000000",
          "2024-10-23T00:00:00.000000000",
          "2024-10-24T00:00:00.000000000",
          "2024-10-25T00:00:00.000000000",
          "2024-10-26T00:00:00.000000000",
          "2024-10-27T00:00:00.000000000",
          "2024-10-28T00:00:00.000000000",
          "2024-10-29T00:00:00.000000000",
          "2024-10-30T00:00:00.000000000",
          "2024-10-31T00:00:00.000000000",
          "2024-11-01T00:00:00.000000000",
          "2024-11-02T00:00:00.000000000",
          "2024-11-03T00:00:00.000000000",
          "2024-11-04T00:00:00.000000000",
          "2024-11-05T00:00:00.000000000",
          "2024-11-06T00:00:00.000000000",
          "2024-11-07T00:00:00.000000000",
          "2024-11-08T00:00:00.000000000",
          "2024-11-09T00:00:00.000000000",
          "2024-11-10T00:00:00.000000000",
          "2024-11-11T00:00:00.000000000",
          "2024-11-12T00:00:00.000000000",
          "2024-11-13T00:00:00.000000000",
          "2024-11-14T00:00:00.000000000",
          "2024-11-15T00:00:00.000000000",
          "2024-11-16T00:00:00.000000000",
          "2024-11-17T00:00:00.000000000",
          "2024-11-18T00:00:00.000000000",
          "2024-11-19T00:00:00.000000000",
          "2024-11-20T00:00:00.000000000",
          "2024-11-21T00:00:00.000000000",
          "2024-11-22T00:00:00.000000000",
          "2024-11-23T00:00:00.000000000",
          "2024-11-24T00:00:00.000000000",
          "2024-11-25T00:00:00.000000000",
          "2024-11-26T00:00:00.000000000",
          "2024-11-27T00:00:00.000000000",
          "2024-11-28T00:00:00.000000000",
          "2024-11-29T00:00:00.000000000",
          "2024-11-30T00:00:00.000000000",
          "2024-12-01T00:00:00.000000000",
          "2024-12-02T00:00:00.000000000",
          "2024-12-03T00:00:00.000000000",
          "2024-12-04T00:00:00.000000000",
          "2024-12-05T00:00:00.000000000",
          "2024-12-06T00:00:00.000000000",
          "2024-12-07T00:00:00.000000000",
          "2024-12-08T00:00:00.000000000",
          "2024-12-09T00:00:00.000000000",
          "2024-12-10T00:00:00.000000000",
          "2024-12-11T00:00:00.000000000",
          "2024-12-12T00:00:00.000000000",
          "2024-12-13T00:00:00.000000000",
          "2024-12-14T00:00:00.000000000",
          "2024-12-15T00:00:00.000000000",
          "2024-12-16T00:00:00.000000000",
          "2024-12-17T00:00:00.000000000",
          "2024-12-18T00:00:00.000000000",
          "2024-12-19T00:00:00.000000000",
          "2024-12-20T00:00:00.000000000",
          "2024-12-21T00:00:00.000000000",
          "2024-12-22T00:00:00.000000000",
          "2024-12-23T00:00:00.000000000",
          "2024-12-24T00:00:00.000000000",
          "2024-12-25T00:00:00.000000000",
          "2024-12-26T00:00:00.000000000",
          "2024-12-27T00:00:00.000000000",
          "2024-12-28T00:00:00.000000000",
          "2024-12-29T00:00:00.000000000",
          "2024-12-30T00:00:00.000000000",
          "2024-12-31T00:00:00.000000000"
         ],
         "y": {
          "bdata": "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",
          "dtype": "f8"
         }
        }
       ],
       "layout": {
        "showlegend": true,
        "template": {
         "data": {
          "bar": [
           {
            "error_x": {
             "color": "#2a3f5f"
            },
            "error_y": {
             "color": "#2a3f5f"
            },
            "marker": {
             "line": {
              "color": "#E5ECF6",
              "width": 0.5
             },
             "pattern": {
              "fillmode": "overlay",
              "size": 10,
              "solidity": 0.2
             }
            },
            "type": "bar"
           }
          ],
          "barpolar": [
           {
            "marker": {
             "line": {
              "color": "#E5ECF6",
              "width": 0.5
             },
             "pattern": {
              "fillmode": "overlay",
              "size": 10,
              "solidity": 0.2
             }
            },
            "type": "barpolar"
           }
          ],
          "carpet": [
           {
            "aaxis": {
             "endlinecolor": "#2a3f5f",
             "gridcolor": "white",
             "linecolor": "white",
             "minorgridcolor": "white",
             "startlinecolor": "#2a3f5f"
            },
            "baxis": {
             "endlinecolor": "#2a3f5f",
             "gridcolor": "white",
             "linecolor": "white",
             "minorgridcolor": "white",
             "startlinecolor": "#2a3f5f"
            },
            "type": "carpet"
           }
          ],
          "choropleth": [
           {
            "colorbar": {
             "outlinewidth": 0,
             "ticks": ""
            },
            "type": "choropleth"
           }
          ],
          "contour": [
           {
            "colorbar": {
             "outlinewidth": 0,
             "ticks": ""
            },
            "colorscale": [
             [
              0,
              "#0d0887"
             ],
             [
              0.1111111111111111,
              "#46039f"
             ],
             [
              0.2222222222222222,
              "#7201a8"
             ],
             [
              0.3333333333333333,
              "#9c179e"
             ],
             [
              0.4444444444444444,
              "#bd3786"
             ],
             [
              0.5555555555555556,
              "#d8576b"
             ],
             [
              0.6666666666666666,
              "#ed7953"
             ],
             [
              0.7777777777777778,
              "#fb9f3a"
             ],
             [
              0.8888888888888888,
              "#fdca26"
             ],
             [
              1,
              "#f0f921"
             ]
            ],
            "type": "contour"
           }
          ],
          "contourcarpet": [
           {
            "colorbar": {
             "outlinewidth": 0,
             "ticks": ""
            },
            "type": "contourcarpet"
           }
          ],
          "heatmap": [
           {
            "colorbar": {
             "outlinewidth": 0,
             "ticks": ""
            },
            "colorscale": [
             [
              0,
              "#0d0887"
             ],
             [
              0.1111111111111111,
              "#46039f"
             ],
             [
              0.2222222222222222,
              "#7201a8"
             ],
             [
              0.3333333333333333,
              "#9c179e"
             ],
             [
              0.4444444444444444,
              "#bd3786"
             ],
             [
              0.5555555555555556,
              "#d8576b"
             ],
             [
              0.6666666666666666,
              "#ed7953"
             ],
             [
              0.7777777777777778,
              "#fb9f3a"
             ],
             [
              0.8888888888888888,
              "#fdca26"
             ],
             [
              1,
              "#f0f921"
             ]
            ],
            "type": "heatmap"
           }
          ],
          "histogram": [
           {
            "marker": {
             "pattern": {
              "fillmode": "overlay",
              "size": 10,
              "solidity": 0.2
             }
            },
            "type": "histogram"
           }
          ],
          "histogram2d": [
           {
            "colorbar": {
             "outlinewidth": 0,
             "ticks": ""
            },
            "colorscale": [
             [
              0,
              "#0d0887"
             ],
             [
              0.1111111111111111,
              "#46039f"
             ],
             [
              0.2222222222222222,
              "#7201a8"
             ],
             [
              0.3333333333333333,
              "#9c179e"
             ],
             [
              0.4444444444444444,
              "#bd3786"
             ],
             [
              0.5555555555555556,
              "#d8576b"
             ],
             [
              0.6666666666666666,
              "#ed7953"
             ],
             [
              0.7777777777777778,
              "#fb9f3a"
             ],
             [
              0.8888888888888888,
              "#fdca26"
             ],
             [
              1,
              "#f0f921"
             ]
            ],
            "type": "histogram2d"
           }
          ],
          "histogram2dcontour": [
           {
            "colorbar": {
             "outlinewidth": 0,
             "ticks": ""
            },
            "colorscale": [
             [
              0,
              "#0d0887"
             ],
             [
              0.1111111111111111,
              "#46039f"
             ],
             [
              0.2222222222222222,
              "#7201a8"
             ],
             [
              0.3333333333333333,
              "#9c179e"
             ],
             [
              0.4444444444444444,
              "#bd3786"
             ],
             [
              0.5555555555555556,
              "#d8576b"
             ],
             [
              0.6666666666666666,
              "#ed7953"
             ],
             [
              0.7777777777777778,
              "#fb9f3a"
             ],
             [
              0.8888888888888888,
              "#fdca26"
             ],
             [
              1,
              "#f0f921"
             ]
            ],
            "type": "histogram2dcontour"
           }
          ],
          "mesh3d": [
           {
            "colorbar": {
             "outlinewidth": 0,
             "ticks": ""
            },
            "type": "mesh3d"
           }
          ],
          "parcoords": [
           {
            "line": {
             "colorbar": {
              "outlinewidth": 0,
              "ticks": ""
             }
            },
            "type": "parcoords"
           }
          ],
          "pie": [
           {
            "automargin": true,
            "type": "pie"
           }
          ],
          "scatter": [
           {
            "fillpattern": {
             "fillmode": "overlay",
             "size": 10,
             "solidity": 0.2
            },
            "type": "scatter"
           }
          ],
          "scatter3d": [
           {
            "line": {
             "colorbar": {
              "outlinewidth": 0,
              "ticks": ""
             }
            },
            "marker": {
             "colorbar": {
              "outlinewidth": 0,
              "ticks": ""
             }
            },
            "type": "scatter3d"
           }
          ],
          "scattercarpet": [
           {
            "marker": {
             "colorbar": {
              "outlinewidth": 0,
              "ticks": ""
             }
            },
            "type": "scattercarpet"
           }
          ],
          "scattergeo": [
           {
            "marker": {
             "colorbar": {
              "outlinewidth": 0,
              "ticks": ""
             }
            },
            "type": "scattergeo"
           }
          ],
          "scattergl": [
           {
            "marker": {
             "colorbar": {
              "outlinewidth": 0,
              "ticks": ""
             }
            },
            "type": "scattergl"
           }
          ],
          "scattermap": [
           {
            "marker": {
             "colorbar": {
              "outlinewidth": 0,
              "ticks": ""
             }
            },
            "type": "scattermap"
           }
          ],
          "scattermapbox": [
           {
            "marker": {
             "colorbar": {
              "outlinewidth": 0,
              "ticks": ""
             }
            },
            "type": "scattermapbox"
           }
          ],
          "scatterpolar": [
           {
            "marker": {
             "colorbar": {
              "outlinewidth": 0,
              "ticks": ""
             }
            },
            "type": "scatterpolar"
           }
          ],
          "scatterpolargl": [
           {
            "marker": {
             "colorbar": {
              "outlinewidth": 0,
              "ticks": ""
             }
            },
            "type": "scatterpolargl"
           }
          ],
          "scatterternary": [
           {
            "marker": {
             "colorbar": {
              "outlinewidth": 0,
              "ticks": ""
             }
            },
            "type": "scatterternary"
           }
          ],
          "surface": [
           {
            "colorbar": {
             "outlinewidth": 0,
             "ticks": ""
            },
            "colorscale": [
             [
              0,
              "#0d0887"
             ],
             [
              0.1111111111111111,
              "#46039f"
             ],
             [
              0.2222222222222222,
              "#7201a8"
             ],
             [
              0.3333333333333333,
              "#9c179e"
             ],
             [
              0.4444444444444444,
              "#bd3786"
             ],
             [
              0.5555555555555556,
              "#d8576b"
             ],
             [
              0.6666666666666666,
              "#ed7953"
             ],
             [
              0.7777777777777778,
              "#fb9f3a"
             ],
             [
              0.8888888888888888,
              "#fdca26"
             ],
             [
              1,
              "#f0f921"
             ]
            ],
            "type": "surface"
           }
          ],
          "table": [
           {
            "cells": {
             "fill": {
              "color": "#EBF0F8"
             },
             "line": {
              "color": "white"
             }
            },
            "header": {
             "fill": {
              "color": "#C8D4E3"
             },
             "line": {
              "color": "white"
             }
            },
            "type": "table"
           }
          ]
         },
         "layout": {
          "annotationdefaults": {
           "arrowcolor": "#2a3f5f",
           "arrowhead": 0,
           "arrowwidth": 1
          },
          "autotypenumbers": "strict",
          "coloraxis": {
           "colorbar": {
            "outlinewidth": 0,
            "ticks": ""
           }
          },
          "colorscale": {
           "diverging": [
            [
             0,
             "#8e0152"
            ],
            [
             0.1,
             "#c51b7d"
            ],
            [
             0.2,
             "#de77ae"
            ],
            [
             0.3,
             "#f1b6da"
            ],
            [
             0.4,
             "#fde0ef"
            ],
            [
             0.5,
             "#f7f7f7"
            ],
            [
             0.6,
             "#e6f5d0"
            ],
            [
             0.7,
             "#b8e186"
            ],
            [
             0.8,
             "#7fbc41"
            ],
            [
             0.9,
             "#4d9221"
            ],
            [
             1,
             "#276419"
            ]
           ],
           "sequential": [
            [
             0,
             "#0d0887"
            ],
            [
             0.1111111111111111,
             "#46039f"
            ],
            [
             0.2222222222222222,
             "#7201a8"
            ],
            [
             0.3333333333333333,
             "#9c179e"
            ],
            [
             0.4444444444444444,
             "#bd3786"
            ],
            [
             0.5555555555555556,
             "#d8576b"
            ],
            [
             0.6666666666666666,
             "#ed7953"
            ],
            [
             0.7777777777777778,
             "#fb9f3a"
            ],
            [
             0.8888888888888888,
             "#fdca26"
            ],
            [
             1,
             "#f0f921"
            ]
           ],
           "sequentialminus": [
            [
             0,
             "#0d0887"
            ],
            [
             0.1111111111111111,
             "#46039f"
            ],
            [
             0.2222222222222222,
             "#7201a8"
            ],
            [
             0.3333333333333333,
             "#9c179e"
            ],
            [
             0.4444444444444444,
             "#bd3786"
            ],
            [
             0.5555555555555556,
             "#d8576b"
            ],
            [
             0.6666666666666666,
             "#ed7953"
            ],
            [
             0.7777777777777778,
             "#fb9f3a"
            ],
            [
             0.8888888888888888,
             "#fdca26"
            ],
            [
             1,
             "#f0f921"
            ]
           ]
          },
          "colorway": [
           "#636efa",
           "#EF553B",
           "#00cc96",
           "#ab63fa",
           "#FFA15A",
           "#19d3f3",
           "#FF6692",
           "#B6E880",
           "#FF97FF",
           "#FECB52"
          ],
          "font": {
           "color": "#2a3f5f"
          },
          "geo": {
           "bgcolor": "white",
           "lakecolor": "white",
           "landcolor": "#E5ECF6",
           "showlakes": true,
           "showland": true,
           "subunitcolor": "white"
          },
          "hoverlabel": {
           "align": "left"
          },
          "hovermode": "closest",
          "mapbox": {
           "style": "light"
          },
          "paper_bgcolor": "white",
          "plot_bgcolor": "#E5ECF6",
          "polar": {
           "angularaxis": {
            "gridcolor": "white",
            "linecolor": "white",
            "ticks": ""
           },
           "bgcolor": "#E5ECF6",
           "radialaxis": {
            "gridcolor": "white",
            "linecolor": "white",
            "ticks": ""
           }
          },
          "scene": {
           "xaxis": {
            "backgroundcolor": "#E5ECF6",
            "gridcolor": "white",
            "gridwidth": 2,
            "linecolor": "white",
            "showbackground": true,
            "ticks": "",
            "zerolinecolor": "white"
           },
           "yaxis": {
            "backgroundcolor": "#E5ECF6",
            "gridcolor": "white",
            "gridwidth": 2,
            "linecolor": "white",
            "showbackground": true,
            "ticks": "",
            "zerolinecolor": "white"
           },
           "zaxis": {
            "backgroundcolor": "#E5ECF6",
            "gridcolor": "white",
            "gridwidth": 2,
            "linecolor": "white",
            "showbackground": true,
            "ticks": "",
            "zerolinecolor": "white"
           }
          },
          "shapedefaults": {
           "line": {
            "color": "#2a3f5f"
           }
          },
          "ternary": {
           "aaxis": {
            "gridcolor": "white",
            "linecolor": "white",
            "ticks": ""
           },
           "baxis": {
            "gridcolor": "white",
            "linecolor": "white",
            "ticks": ""
           },
           "bgcolor": "#E5ECF6",
           "caxis": {
            "gridcolor": "white",
            "linecolor": "white",
            "ticks": ""
           }
          },
          "title": {
           "x": 0.05
          },
          "xaxis": {
           "automargin": true,
           "gridcolor": "white",
           "linecolor": "white",
           "ticks": "",
           "title": {
            "standoff": 15
           },
           "zerolinecolor": "white",
           "zerolinewidth": 2
          },
          "yaxis": {
           "automargin": true,
           "gridcolor": "white",
           "linecolor": "white",
           "ticks": "",
           "title": {
            "standoff": 15
           },
           "zerolinecolor": "white",
           "zerolinewidth": 2
          }
         }
        },
        "title": {
         "text": "Volume Chart"
        },
        "xaxis": {
         "title": {
          "text": "Date"
         }
        },
        "yaxis": {
         "title": {
          "text": "Volume"
         }
        }
       }
      }
     },
     "metadata": {},
     "output_type": "display_data"
    },
    {
     "data": {
      "application/vnd.plotly.v1+json": {
       "config": {
        "plotlyServerURL": "https://plot.ly"
       },
       "data": [
        {
         "line": {
          "color": "purple",
          "width": 1
         },
         "name": "20-Day EMA",
         "type": "scatter",
         "x": [
          "2024-01-01T00:00:00.000000000",
          "2024-01-02T00:00:00.000000000",
          "2024-01-03T00:00:00.000000000",
          "2024-01-04T00:00:00.000000000",
          "2024-01-05T00:00:00.000000000",
          "2024-01-06T00:00:00.000000000",
          "2024-01-07T00:00:00.000000000",
          "2024-01-08T00:00:00.000000000",
          "2024-01-09T00:00:00.000000000",
          "2024-01-10T00:00:00.000000000",
          "2024-01-11T00:00:00.000000000",
          "2024-01-12T00:00:00.000000000",
          "2024-01-13T00:00:00.000000000",
          "2024-01-14T00:00:00.000000000",
          "2024-01-15T00:00:00.000000000",
          "2024-01-16T00:00:00.000000000",
          "2024-01-17T00:00:00.000000000",
          "2024-01-18T00:00:00.000000000",
          "2024-01-19T00:00:00.000000000",
          "2024-01-20T00:00:00.000000000",
          "2024-01-21T00:00:00.000000000",
          "2024-01-22T00:00:00.000000000",
          "2024-01-23T00:00:00.000000000",
          "2024-01-24T00:00:00.000000000",
          "2024-01-25T00:00:00.000000000",
          "2024-01-26T00:00:00.000000000",
          "2024-01-27T00:00:00.000000000",
          "2024-01-28T00:00:00.000000000",
          "2024-01-29T00:00:00.000000000",
          "2024-01-30T00:00:00.000000000",
          "2024-01-31T00:00:00.000000000",
          "2024-02-01T00:00:00.000000000",
          "2024-02-02T00:00:00.000000000",
          "2024-02-03T00:00:00.000000000",
          "2024-02-04T00:00:00.000000000",
          "2024-02-05T00:00:00.000000000",
          "2024-02-06T00:00:00.000000000",
          "2024-02-07T00:00:00.000000000",
          "2024-02-08T00:00:00.000000000",
          "2024-02-09T00:00:00.000000000",
          "2024-02-10T00:00:00.000000000",
          "2024-02-11T00:00:00.000000000",
          "2024-02-12T00:00:00.000000000",
          "2024-02-13T00:00:00.000000000",
          "2024-02-14T00:00:00.000000000",
          "2024-02-15T00:00:00.000000000",
          "2024-02-16T00:00:00.000000000",
          "2024-02-17T00:00:00.000000000",
          "2024-02-18T00:00:00.000000000",
          "2024-02-19T00:00:00.000000000",
          "2024-02-20T00:00:00.000000000",
          "2024-02-21T00:00:00.000000000",
          "2024-02-22T00:00:00.000000000",
          "2024-02-23T00:00:00.000000000",
          "2024-02-24T00:00:00.000000000",
          "2024-02-25T00:00:00.000000000",
          "2024-02-26T00:00:00.000000000",
          "2024-02-27T00:00:00.000000000",
          "2024-02-28T00:00:00.000000000",
          "2024-02-29T00:00:00.000000000",
          "2024-03-01T00:00:00.000000000",
          "2024-03-02T00:00:00.000000000",
          "2024-03-03T00:00:00.000000000",
          "2024-03-04T00:00:00.000000000",
          "2024-03-05T00:00:00.000000000",
          "2024-03-06T00:00:00.000000000",
          "2024-03-07T00:00:00.000000000",
          "2024-03-08T00:00:00.000000000",
          "2024-03-09T00:00:00.000000000",
          "2024-03-10T00:00:00.000000000",
          "2024-03-11T00:00:00.000000000",
          "2024-03-12T00:00:00.000000000",
          "2024-03-13T00:00:00.000000000",
          "2024-03-14T00:00:00.000000000",
          "2024-03-15T00:00:00.000000000",
          "2024-03-16T00:00:00.000000000",
          "2024-03-17T00:00:00.000000000",
          "2024-03-18T00:00:00.000000000",
          "2024-03-19T00:00:00.000000000",
          "2024-03-20T00:00:00.000000000",
          "2024-03-21T00:00:00.000000000",
          "2024-03-22T00:00:00.000000000",
          "2024-03-23T00:00:00.000000000",
          "2024-03-24T00:00:00.000000000",
          "2024-03-25T00:00:00.000000000",
          "2024-03-26T00:00:00.000000000",
          "2024-03-27T00:00:00.000000000",
          "2024-03-28T00:00:00.000000000",
          "2024-03-29T00:00:00.000000000",
          "2024-03-30T00:00:00.000000000",
          "2024-03-31T00:00:00.000000000",
          "2024-04-01T00:00:00.000000000",
          "2024-04-02T00:00:00.000000000",
          "2024-04-03T00:00:00.000000000",
          "2024-04-04T00:00:00.000000000",
          "2024-04-05T00:00:00.000000000",
          "2024-04-06T00:00:00.000000000",
          "2024-04-07T00:00:00.000000000",
          "2024-04-08T00:00:00.000000000",
          "2024-04-09T00:00:00.000000000",
          "2024-04-10T00:00:00.000000000",
          "2024-04-11T00:00:00.000000000",
          "2024-04-12T00:00:00.000000000",
          "2024-04-13T00:00:00.000000000",
          "2024-04-14T00:00:00.000000000",
          "2024-04-15T00:00:00.000000000",
          "2024-04-16T00:00:00.000000000",
          "2024-04-17T00:00:00.000000000",
          "2024-04-18T00:00:00.000000000",
          "2024-04-19T00:00:00.000000000",
          "2024-04-20T00:00:00.000000000",
          "2024-04-21T00:00:00.000000000",
          "2024-04-22T00:00:00.000000000",
          "2024-04-23T00:00:00.000000000",
          "2024-04-24T00:00:00.000000000",
          "2024-04-25T00:00:00.000000000",
          "2024-04-26T00:00:00.000000000",
          "2024-04-27T00:00:00.000000000",
          "2024-04-28T00:00:00.000000000",
          "2024-04-29T00:00:00.000000000",
          "2024-04-30T00:00:00.000000000",
          "2024-05-01T00:00:00.000000000",
          "2024-05-02T00:00:00.000000000",
          "2024-05-03T00:00:00.000000000",
          "2024-05-04T00:00:00.000000000",
          "2024-05-05T00:00:00.000000000",
          "2024-05-06T00:00:00.000000000",
          "2024-05-07T00:00:00.000000000",
          "2024-05-08T00:00:00.000000000",
          "2024-05-09T00:00:00.000000000",
          "2024-05-10T00:00:00.000000000",
          "2024-05-11T00:00:00.000000000",
          "2024-05-12T00:00:00.000000000",
          "2024-05-13T00:00:00.000000000",
          "2024-05-14T00:00:00.000000000",
          "2024-05-15T00:00:00.000000000",
          "2024-05-16T00:00:00.000000000",
          "2024-05-17T00:00:00.000000000",
          "2024-05-18T00:00:00.000000000",
          "2024-05-19T00:00:00.000000000",
          "2024-05-20T00:00:00.000000000",
          "2024-05-21T00:00:00.000000000",
          "2024-05-22T00:00:00.000000000",
          "2024-05-23T00:00:00.000000000",
          "2024-05-24T00:00:00.000000000",
          "2024-05-25T00:00:00.000000000",
          "2024-05-26T00:00:00.000000000",
          "2024-05-27T00:00:00.000000000",
          "2024-05-28T00:00:00.000000000",
          "2024-05-29T00:00:00.000000000",
          "2024-05-30T00:00:00.000000000",
          "2024-05-31T00:00:00.000000000",
          "2024-06-01T00:00:00.000000000",
          "2024-06-02T00:00:00.000000000",
          "2024-06-03T00:00:00.000000000",
          "2024-06-04T00:00:00.000000000",
          "2024-06-05T00:00:00.000000000",
          "2024-06-06T00:00:00.000000000",
          "2024-06-07T00:00:00.000000000",
          "2024-06-08T00:00:00.000000000",
          "2024-06-09T00:00:00.000000000",
          "2024-06-10T00:00:00.000000000",
          "2024-06-11T00:00:00.000000000",
          "2024-06-12T00:00:00.000000000",
          "2024-06-13T00:00:00.000000000",
          "2024-06-14T00:00:00.000000000",
          "2024-06-15T00:00:00.000000000",
          "2024-06-16T00:00:00.000000000",
          "2024-06-17T00:00:00.000000000",
          "2024-06-18T00:00:00.000000000",
          "2024-06-19T00:00:00.000000000",
          "2024-06-20T00:00:00.000000000",
          "2024-06-21T00:00:00.000000000",
          "2024-06-22T00:00:00.000000000",
          "2024-06-23T00:00:00.000000000",
          "2024-06-24T00:00:00.000000000",
          "2024-06-25T00:00:00.000000000",
          "2024-06-26T00:00:00.000000000",
          "2024-06-27T00:00:00.000000000",
          "2024-06-28T00:00:00.000000000",
          "2024-06-29T00:00:00.000000000",
          "2024-06-30T00:00:00.000000000",
          "2024-07-01T00:00:00.000000000",
          "2024-07-02T00:00:00.000000000",
          "2024-07-03T00:00:00.000000000",
          "2024-07-04T00:00:00.000000000",
          "2024-07-05T00:00:00.000000000",
          "2024-07-06T00:00:00.000000000",
          "2024-07-07T00:00:00.000000000",
          "2024-07-08T00:00:00.000000000",
          "2024-07-09T00:00:00.000000000",
          "2024-07-10T00:00:00.000000000",
          "2024-07-11T00:00:00.000000000",
          "2024-07-12T00:00:00.000000000",
          "2024-07-13T00:00:00.000000000",
          "2024-07-14T00:00:00.000000000",
          "2024-07-15T00:00:00.000000000",
          "2024-07-16T00:00:00.000000000",
          "2024-07-17T00:00:00.000000000",
          "2024-07-18T00:00:00.000000000",
          "2024-07-19T00:00:00.000000000",
          "2024-07-20T00:00:00.000000000",
          "2024-07-21T00:00:00.000000000",
          "2024-07-22T00:00:00.000000000",
          "2024-07-23T00:00:00.000000000",
          "2024-07-24T00:00:00.000000000",
          "2024-07-25T00:00:00.000000000",
          "2024-07-26T00:00:00.000000000",
          "2024-07-27T00:00:00.000000000",
          "2024-07-28T00:00:00.000000000",
          "2024-07-29T00:00:00.000000000",
          "2024-07-30T00:00:00.000000000",
          "2024-07-31T00:00:00.000000000",
          "2024-08-01T00:00:00.000000000",
          "2024-08-02T00:00:00.000000000",
          "2024-08-03T00:00:00.000000000",
          "2024-08-04T00:00:00.000000000",
          "2024-08-05T00:00:00.000000000",
          "2024-08-06T00:00:00.000000000",
          "2024-08-07T00:00:00.000000000",
          "2024-08-08T00:00:00.000000000",
          "2024-08-09T00:00:00.000000000",
          "2024-08-10T00:00:00.000000000",
          "2024-08-11T00:00:00.000000000",
          "2024-08-12T00:00:00.000000000",
          "2024-08-13T00:00:00.000000000",
          "2024-08-14T00:00:00.000000000",
          "2024-08-15T00:00:00.000000000",
          "2024-08-16T00:00:00.000000000",
          "2024-08-17T00:00:00.000000000",
          "2024-08-18T00:00:00.000000000",
          "2024-08-19T00:00:00.000000000",
          "2024-08-20T00:00:00.000000000",
          "2024-08-21T00:00:00.000000000",
          "2024-08-22T00:00:00.000000000",
          "2024-08-23T00:00:00.000000000",
          "2024-08-24T00:00:00.000000000",
          "2024-08-25T00:00:00.000000000",
          "2024-08-26T00:00:00.000000000",
          "2024-08-27T00:00:00.000000000",
          "2024-08-28T00:00:00.000000000",
          "2024-08-29T00:00:00.000000000",
          "2024-08-30T00:00:00.000000000",
          "2024-08-31T00:00:00.000000000",
          "2024-09-01T00:00:00.000000000",
          "2024-09-02T00:00:00.000000000",
          "2024-09-03T00:00:00.000000000",
          "2024-09-04T00:00:00.000000000",
          "2024-09-05T00:00:00.000000000",
          "2024-09-06T00:00:00.000000000",
          "2024-09-07T00:00:00.000000000",
          "2024-09-08T00:00:00.000000000",
          "2024-09-09T00:00:00.000000000",
          "2024-09-10T00:00:00.000000000",
          "2024-09-11T00:00:00.000000000",
          "2024-09-12T00:00:00.000000000",
          "2024-09-13T00:00:00.000000000",
          "2024-09-14T00:00:00.000000000",
          "2024-09-15T00:00:00.000000000",
          "2024-09-16T00:00:00.000000000",
          "2024-09-17T00:00:00.000000000",
          "2024-09-18T00:00:00.000000000",
          "2024-09-19T00:00:00.000000000",
          "2024-09-20T00:00:00.000000000",
          "2024-09-21T00:00:00.000000000",
          "2024-09-22T00:00:00.000000000",
          "2024-09-23T00:00:00.000000000",
          "2024-09-24T00:00:00.000000000",
          "2024-09-25T00:00:00.000000000",
          "2024-09-26T00:00:00.000000000",
          "2024-09-27T00:00:00.000000000",
          "2024-09-28T00:00:00.000000000",
          "2024-09-29T00:00:00.000000000",
          "2024-09-30T00:00:00.000000000",
          "2024-10-01T00:00:00.000000000",
          "2024-10-02T00:00:00.000000000",
          "2024-10-03T00:00:00.000000000",
          "2024-10-04T00:00:00.000000000",
          "2024-10-05T00:00:00.000000000",
          "2024-10-06T00:00:00.000000000",
          "2024-10-07T00:00:00.000000000",
          "2024-10-08T00:00:00.000000000",
          "2024-10-09T00:00:00.000000000",
          "2024-10-10T00:00:00.000000000",
          "2024-10-11T00:00:00.000000000",
          "2024-10-12T00:00:00.000000000",
          "2024-10-13T00:00:00.000000000",
          "2024-10-14T00:00:00.000000000",
          "2024-10-15T00:00:00.000000000",
          "2024-10-16T00:00:00.000000000",
          "2024-10-17T00:00:00.000000000",
          "2024-10-18T00:00:00.000000000",
          "2024-10-19T00:00:00.000000000",
          "2024-10-20T00:00:00.000000000",
          "2024-10-21T00:00:00.000000000",
          "2024-10-22T00:00:00.000000000",
          "2024-10-23T00:00:00.000000000",
          "2024-10-24T00:00:00.000000000",
          "2024-10-25T00:00:00.000000000",
          "2024-10-26T00:00:00.000000000",
          "2024-10-27T00:00:00.000000000",
          "2024-10-28T00:00:00.000000000",
          "2024-10-29T00:00:00.000000000",
          "2024-10-30T00:00:00.000000000",
          "2024-10-31T00:00:00.000000000",
          "2024-11-01T00:00:00.000000000",
          "2024-11-02T00:00:00.000000000",
          "2024-11-03T00:00:00.000000000",
          "2024-11-04T00:00:00.000000000",
          "2024-11-05T00:00:00.000000000",
          "2024-11-06T00:00:00.000000000",
          "2024-11-07T00:00:00.000000000",
          "2024-11-08T00:00:00.000000000",
          "2024-11-09T00:00:00.000000000",
          "2024-11-10T00:00:00.000000000",
          "2024-11-11T00:00:00.000000000",
          "2024-11-12T00:00:00.000000000",
          "2024-11-13T00:00:00.000000000",
          "2024-11-14T00:00:00.000000000",
          "2024-11-15T00:00:00.000000000",
          "2024-11-16T00:00:00.000000000",
          "2024-11-17T00:00:00.000000000",
          "2024-11-18T00:00:00.000000000",
          "2024-11-19T00:00:00.000000000",
          "2024-11-20T00:00:00.000000000",
          "2024-11-21T00:00:00.000000000",
          "2024-11-22T00:00:00.000000000",
          "2024-11-23T00:00:00.000000000",
          "2024-11-24T00:00:00.000000000",
          "2024-11-25T00:00:00.000000000",
          "2024-11-26T00:00:00.000000000",
          "2024-11-27T00:00:00.000000000",
          "2024-11-28T00:00:00.000000000",
          "2024-11-29T00:00:00.000000000",
          "2024-11-30T00:00:00.000000000",
          "2024-12-01T00:00:00.000000000",
          "2024-12-02T00:00:00.000000000",
          "2024-12-03T00:00:00.000000000",
          "2024-12-04T00:00:00.000000000",
          "2024-12-05T00:00:00.000000000",
          "2024-12-06T00:00:00.000000000",
          "2024-12-07T00:00:00.000000000",
          "2024-12-08T00:00:00.000000000",
          "2024-12-09T00:00:00.000000000",
          "2024-12-10T00:00:00.000000000",
          "2024-12-11T00:00:00.000000000",
          "2024-12-12T00:00:00.000000000",
          "2024-12-13T00:00:00.000000000",
          "2024-12-14T00:00:00.000000000",
          "2024-12-15T00:00:00.000000000",
          "2024-12-16T00:00:00.000000000",
          "2024-12-17T00:00:00.000000000",
          "2024-12-18T00:00:00.000000000",
          "2024-12-19T00:00:00.000000000",
          "2024-12-20T00:00:00.000000000",
          "2024-12-21T00:00:00.000000000",
          "2024-12-22T00:00:00.000000000",
          "2024-12-23T00:00:00.000000000",
          "2024-12-24T00:00:00.000000000",
          "2024-12-25T00:00:00.000000000",
          "2024-12-26T00:00:00.000000000",
          "2024-12-27T00:00:00.000000000",
          "2024-12-28T00:00:00.000000000",
          "2024-12-29T00:00:00.000000000",
          "2024-12-30T00:00:00.000000000",
          "2024-12-31T00:00:00.000000000"
         ],
         "y": {
          "bdata": "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",
          "dtype": "f8"
         }
        },
        {
         "line": {
          "color": "orange",
          "width": 1
         },
         "name": "VWAP",
         "type": "scatter",
         "x": [
          "2024-01-01T00:00:00.000000000",
          "2024-01-02T00:00:00.000000000",
          "2024-01-03T00:00:00.000000000",
          "2024-01-04T00:00:00.000000000",
          "2024-01-05T00:00:00.000000000",
          "2024-01-06T00:00:00.000000000",
          "2024-01-07T00:00:00.000000000",
          "2024-01-08T00:00:00.000000000",
          "2024-01-09T00:00:00.000000000",
          "2024-01-10T00:00:00.000000000",
          "2024-01-11T00:00:00.000000000",
          "2024-01-12T00:00:00.000000000",
          "2024-01-13T00:00:00.000000000",
          "2024-01-14T00:00:00.000000000",
          "2024-01-15T00:00:00.000000000",
          "2024-01-16T00:00:00.000000000",
          "2024-01-17T00:00:00.000000000",
          "2024-01-18T00:00:00.000000000",
          "2024-01-19T00:00:00.000000000",
          "2024-01-20T00:00:00.000000000",
          "2024-01-21T00:00:00.000000000",
          "2024-01-22T00:00:00.000000000",
          "2024-01-23T00:00:00.000000000",
          "2024-01-24T00:00:00.000000000",
          "2024-01-25T00:00:00.000000000",
          "2024-01-26T00:00:00.000000000",
          "2024-01-27T00:00:00.000000000",
          "2024-01-28T00:00:00.000000000",
          "2024-01-29T00:00:00.000000000",
          "2024-01-30T00:00:00.000000000",
          "2024-01-31T00:00:00.000000000",
          "2024-02-01T00:00:00.000000000",
          "2024-02-02T00:00:00.000000000",
          "2024-02-03T00:00:00.000000000",
          "2024-02-04T00:00:00.000000000",
          "2024-02-05T00:00:00.000000000",
          "2024-02-06T00:00:00.000000000",
          "2024-02-07T00:00:00.000000000",
          "2024-02-08T00:00:00.000000000",
          "2024-02-09T00:00:00.000000000",
          "2024-02-10T00:00:00.000000000",
          "2024-02-11T00:00:00.000000000",
          "2024-02-12T00:00:00.000000000",
          "2024-02-13T00:00:00.000000000",
          "2024-02-14T00:00:00.000000000",
          "2024-02-15T00:00:00.000000000",
          "2024-02-16T00:00:00.000000000",
          "2024-02-17T00:00:00.000000000",
          "2024-02-18T00:00:00.000000000",
          "2024-02-19T00:00:00.000000000",
          "2024-02-20T00:00:00.000000000",
          "2024-02-21T00:00:00.000000000",
          "2024-02-22T00:00:00.000000000",
          "2024-02-23T00:00:00.000000000",
          "2024-02-24T00:00:00.000000000",
          "2024-02-25T00:00:00.000000000",
          "2024-02-26T00:00:00.000000000",
          "2024-02-27T00:00:00.000000000",
          "2024-02-28T00:00:00.000000000",
          "2024-02-29T00:00:00.000000000",
          "2024-03-01T00:00:00.000000000",
          "2024-03-02T00:00:00.000000000",
          "2024-03-03T00:00:00.000000000",
          "2024-03-04T00:00:00.000000000",
          "2024-03-05T00:00:00.000000000",
          "2024-03-06T00:00:00.000000000",
          "2024-03-07T00:00:00.000000000",
          "2024-03-08T00:00:00.000000000",
          "2024-03-09T00:00:00.000000000",
          "2024-03-10T00:00:00.000000000",
          "2024-03-11T00:00:00.000000000",
          "2024-03-12T00:00:00.000000000",
          "2024-03-13T00:00:00.000000000",
          "2024-03-14T00:00:00.000000000",
          "2024-03-15T00:00:00.000000000",
          "2024-03-16T00:00:00.000000000",
          "2024-03-17T00:00:00.000000000",
          "2024-03-18T00:00:00.000000000",
          "2024-03-19T00:00:00.000000000",
          "2024-03-20T00:00:00.000000000",
          "2024-03-21T00:00:00.000000000",
          "2024-03-22T00:00:00.000000000",
          "2024-03-23T00:00:00.000000000",
          "2024-03-24T00:00:00.000000000",
          "2024-03-25T00:00:00.000000000",
          "2024-03-26T00:00:00.000000000",
          "2024-03-27T00:00:00.000000000",
          "2024-03-28T00:00:00.000000000",
          "2024-03-29T00:00:00.000000000",
          "2024-03-30T00:00:00.000000000",
          "2024-03-31T00:00:00.000000000",
          "2024-04-01T00:00:00.000000000",
          "2024-04-02T00:00:00.000000000",
          "2024-04-03T00:00:00.000000000",
          "2024-04-04T00:00:00.000000000",
          "2024-04-05T00:00:00.000000000",
          "2024-04-06T00:00:00.000000000",
          "2024-04-07T00:00:00.000000000",
          "2024-04-08T00:00:00.000000000",
          "2024-04-09T00:00:00.000000000",
          "2024-04-10T00:00:00.000000000",
          "2024-04-11T00:00:00.000000000",
          "2024-04-12T00:00:00.000000000",
          "2024-04-13T00:00:00.000000000",
          "2024-04-14T00:00:00.000000000",
          "2024-04-15T00:00:00.000000000",
          "2024-04-16T00:00:00.000000000",
          "2024-04-17T00:00:00.000000000",
          "2024-04-18T00:00:00.000000000",
          "2024-04-19T00:00:00.000000000",
          "2024-04-20T00:00:00.000000000",
          "2024-04-21T00:00:00.000000000",
          "2024-04-22T00:00:00.000000000",
          "2024-04-23T00:00:00.000000000",
          "2024-04-24T00:00:00.000000000",
          "2024-04-25T00:00:00.000000000",
          "2024-04-26T00:00:00.000000000",
          "2024-04-27T00:00:00.000000000",
          "2024-04-28T00:00:00.000000000",
          "2024-04-29T00:00:00.000000000",
          "2024-04-30T00:00:00.000000000",
          "2024-05-01T00:00:00.000000000",
          "2024-05-02T00:00:00.000000000",
          "2024-05-03T00:00:00.000000000",
          "2024-05-04T00:00:00.000000000",
          "2024-05-05T00:00:00.000000000",
          "2024-05-06T00:00:00.000000000",
          "2024-05-07T00:00:00.000000000",
          "2024-05-08T00:00:00.000000000",
          "2024-05-09T00:00:00.000000000",
          "2024-05-10T00:00:00.000000000",
          "2024-05-11T00:00:00.000000000",
          "2024-05-12T00:00:00.000000000",
          "2024-05-13T00:00:00.000000000",
          "2024-05-14T00:00:00.000000000",
          "2024-05-15T00:00:00.000000000",
          "2024-05-16T00:00:00.000000000",
          "2024-05-17T00:00:00.000000000",
          "2024-05-18T00:00:00.000000000",
          "2024-05-19T00:00:00.000000000",
          "2024-05-20T00:00:00.000000000",
          "2024-05-21T00:00:00.000000000",
          "2024-05-22T00:00:00.000000000",
          "2024-05-23T00:00:00.000000000",
          "2024-05-24T00:00:00.000000000",
          "2024-05-25T00:00:00.000000000",
          "2024-05-26T00:00:00.000000000",
          "2024-05-27T00:00:00.000000000",
          "2024-05-28T00:00:00.000000000",
          "2024-05-29T00:00:00.000000000",
          "2024-05-30T00:00:00.000000000",
          "2024-05-31T00:00:00.000000000",
          "2024-06-01T00:00:00.000000000",
          "2024-06-02T00:00:00.000000000",
          "2024-06-03T00:00:00.000000000",
          "2024-06-04T00:00:00.000000000",
          "2024-06-05T00:00:00.000000000",
          "2024-06-06T00:00:00.000000000",
          "2024-06-07T00:00:00.000000000",
          "2024-06-08T00:00:00.000000000",
          "2024-06-09T00:00:00.000000000",
          "2024-06-10T00:00:00.000000000",
          "2024-06-11T00:00:00.000000000",
          "2024-06-12T00:00:00.000000000",
          "2024-06-13T00:00:00.000000000",
          "2024-06-14T00:00:00.000000000",
          "2024-06-15T00:00:00.000000000",
          "2024-06-16T00:00:00.000000000",
          "2024-06-17T00:00:00.000000000",
          "2024-06-18T00:00:00.000000000",
          "2024-06-19T00:00:00.000000000",
          "2024-06-20T00:00:00.000000000",
          "2024-06-21T00:00:00.000000000",
          "2024-06-22T00:00:00.000000000",
          "2024-06-23T00:00:00.000000000",
          "2024-06-24T00:00:00.000000000",
          "2024-06-25T00:00:00.000000000",
          "2024-06-26T00:00:00.000000000",
          "2024-06-27T00:00:00.000000000",
          "2024-06-28T00:00:00.000000000",
          "2024-06-29T00:00:00.000000000",
          "2024-06-30T00:00:00.000000000",
          "2024-07-01T00:00:00.000000000",
          "2024-07-02T00:00:00.000000000",
          "2024-07-03T00:00:00.000000000",
          "2024-07-04T00:00:00.000000000",
          "2024-07-05T00:00:00.000000000",
          "2024-07-06T00:00:00.000000000",
          "2024-07-07T00:00:00.000000000",
          "2024-07-08T00:00:00.000000000",
          "2024-07-09T00:00:00.000000000",
          "2024-07-10T00:00:00.000000000",
          "2024-07-11T00:00:00.000000000",
          "2024-07-12T00:00:00.000000000",
          "2024-07-13T00:00:00.000000000",
          "2024-07-14T00:00:00.000000000",
          "2024-07-15T00:00:00.000000000",
          "2024-07-16T00:00:00.000000000",
          "2024-07-17T00:00:00.000000000",
          "2024-07-18T00:00:00.000000000",
          "2024-07-19T00:00:00.000000000",
          "2024-07-20T00:00:00.000000000",
          "2024-07-21T00:00:00.000000000",
          "2024-07-22T00:00:00.000000000",
          "2024-07-23T00:00:00.000000000",
          "2024-07-24T00:00:00.000000000",
          "2024-07-25T00:00:00.000000000",
          "2024-07-26T00:00:00.000000000",
          "2024-07-27T00:00:00.000000000",
          "2024-07-28T00:00:00.000000000",
          "2024-07-29T00:00:00.000000000",
          "2024-07-30T00:00:00.000000000",
          "2024-07-31T00:00:00.000000000",
          "2024-08-01T00:00:00.000000000",
          "2024-08-02T00:00:00.000000000",
          "2024-08-03T00:00:00.000000000",
          "2024-08-04T00:00:00.000000000",
          "2024-08-05T00:00:00.000000000",
          "2024-08-06T00:00:00.000000000",
          "2024-08-07T00:00:00.000000000",
          "2024-08-08T00:00:00.000000000",
          "2024-08-09T00:00:00.000000000",
          "2024-08-10T00:00:00.000000000",
          "2024-08-11T00:00:00.000000000",
          "2024-08-12T00:00:00.000000000",
          "2024-08-13T00:00:00.000000000",
          "2024-08-14T00:00:00.000000000",
          "2024-08-15T00:00:00.000000000",
          "2024-08-16T00:00:00.000000000",
          "2024-08-17T00:00:00.000000000",
          "2024-08-18T00:00:00.000000000",
          "2024-08-19T00:00:00.000000000",
          "2024-08-20T00:00:00.000000000",
          "2024-08-21T00:00:00.000000000",
          "2024-08-22T00:00:00.000000000",
          "2024-08-23T00:00:00.000000000",
          "2024-08-24T00:00:00.000000000",
          "2024-08-25T00:00:00.000000000",
          "2024-08-26T00:00:00.000000000",
          "2024-08-27T00:00:00.000000000",
          "2024-08-28T00:00:00.000000000",
          "2024-08-29T00:00:00.000000000",
          "2024-08-30T00:00:00.000000000",
          "2024-08-31T00:00:00.000000000",
          "2024-09-01T00:00:00.000000000",
          "2024-09-02T00:00:00.000000000",
          "2024-09-03T00:00:00.000000000",
          "2024-09-04T00:00:00.000000000",
          "2024-09-05T00:00:00.000000000",
          "2024-09-06T00:00:00.000000000",
          "2024-09-07T00:00:00.000000000",
          "2024-09-08T00:00:00.000000000",
          "2024-09-09T00:00:00.000000000",
          "2024-09-10T00:00:00.000000000",
          "2024-09-11T00:00:00.000000000",
          "2024-09-12T00:00:00.000000000",
          "2024-09-13T00:00:00.000000000",
          "2024-09-14T00:00:00.000000000",
          "2024-09-15T00:00:00.000000000",
          "2024-09-16T00:00:00.000000000",
          "2024-09-17T00:00:00.000000000",
          "2024-09-18T00:00:00.000000000",
          "2024-09-19T00:00:00.000000000",
          "2024-09-20T00:00:00.000000000",
          "2024-09-21T00:00:00.000000000",
          "2024-09-22T00:00:00.000000000",
          "2024-09-23T00:00:00.000000000",
          "2024-09-24T00:00:00.000000000",
          "2024-09-25T00:00:00.000000000",
          "2024-09-26T00:00:00.000000000",
          "2024-09-27T00:00:00.000000000",
          "2024-09-28T00:00:00.000000000",
          "2024-09-29T00:00:00.000000000",
          "2024-09-30T00:00:00.000000000",
          "2024-10-01T00:00:00.000000000",
          "2024-10-02T00:00:00.000000000",
          "2024-10-03T00:00:00.000000000",
          "2024-10-04T00:00:00.000000000",
          "2024-10-05T00:00:00.000000000",
          "2024-10-06T00:00:00.000000000",
          "2024-10-07T00:00:00.000000000",
          "2024-10-08T00:00:00.000000000",
          "2024-10-09T00:00:00.000000000",
          "2024-10-10T00:00:00.000000000",
          "2024-10-11T00:00:00.000000000",
          "2024-10-12T00:00:00.000000000",
          "2024-10-13T00:00:00.000000000",
          "2024-10-14T00:00:00.000000000",
          "2024-10-15T00:00:00.000000000",
          "2024-10-16T00:00:00.000000000",
          "2024-10-17T00:00:00.000000000",
          "2024-10-18T00:00:00.000000000",
          "2024-10-19T00:00:00.000000000",
          "2024-10-20T00:00:00.000000000",
          "2024-10-21T00:00:00.000000000",
          "2024-10-22T00:00:00.000000000",
          "2024-10-23T00:00:00.000000000",
          "2024-10-24T00:00:00.000000000",
          "2024-10-25T00:00:00.000000000",
          "2024-10-26T00:00:00.000000000",
          "2024-10-27T00:00:00.000000000",
          "2024-10-28T00:00:00.000000000",
          "2024-10-29T00:00:00.000000000",
          "2024-10-30T00:00:00.000000000",
          "2024-10-31T00:00:00.000000000",
          "2024-11-01T00:00:00.000000000",
          "2024-11-02T00:00:00.000000000",
          "2024-11-03T00:00:00.000000000",
          "2024-11-04T00:00:00.000000000",
          "2024-11-05T00:00:00.000000000",
          "2024-11-06T00:00:00.000000000",
          "2024-11-07T00:00:00.000000000",
          "2024-11-08T00:00:00.000000000",
          "2024-11-09T00:00:00.000000000",
          "2024-11-10T00:00:00.000000000",
          "2024-11-11T00:00:00.000000000",
          "2024-11-12T00:00:00.000000000",
          "2024-11-13T00:00:00.000000000",
          "2024-11-14T00:00:00.000000000",
          "2024-11-15T00:00:00.000000000",
          "2024-11-16T00:00:00.000000000",
          "2024-11-17T00:00:00.000000000",
          "2024-11-18T00:00:00.000000000",
          "2024-11-19T00:00:00.000000000",
          "2024-11-20T00:00:00.000000000",
          "2024-11-21T00:00:00.000000000",
          "2024-11-22T00:00:00.000000000",
          "2024-11-23T00:00:00.000000000",
          "2024-11-24T00:00:00.000000000",
          "2024-11-25T00:00:00.000000000",
          "2024-11-26T00:00:00.000000000",
          "2024-11-27T00:00:00.000000000",
          "2024-11-28T00:00:00.000000000",
          "2024-11-29T00:00:00.000000000",
          "2024-11-30T00:00:00.000000000",
          "2024-12-01T00:00:00.000000000",
          "2024-12-02T00:00:00.000000000",
          "2024-12-03T00:00:00.000000000",
          "2024-12-04T00:00:00.000000000",
          "2024-12-05T00:00:00.000000000",
          "2024-12-06T00:00:00.000000000",
          "2024-12-07T00:00:00.000000000",
          "2024-12-08T00:00:00.000000000",
          "2024-12-09T00:00:00.000000000",
          "2024-12-10T00:00:00.000000000",
          "2024-12-11T00:00:00.000000000",
          "2024-12-12T00:00:00.000000000",
          "2024-12-13T00:00:00.000000000",
          "2024-12-14T00:00:00.000000000",
          "2024-12-15T00:00:00.000000000",
          "2024-12-16T00:00:00.000000000",
          "2024-12-17T00:00:00.000000000",
          "2024-12-18T00:00:00.000000000",
          "2024-12-19T00:00:00.000000000",
          "2024-12-20T00:00:00.000000000",
          "2024-12-21T00:00:00.000000000",
          "2024-12-22T00:00:00.000000000",
          "2024-12-23T00:00:00.000000000",
          "2024-12-24T00:00:00.000000000",
          "2024-12-25T00:00:00.000000000",
          "2024-12-26T00:00:00.000000000",
          "2024-12-27T00:00:00.000000000",
          "2024-12-28T00:00:00.000000000",
          "2024-12-29T00:00:00.000000000",
          "2024-12-30T00:00:00.000000000",
          "2024-12-31T00:00:00.000000000"
         ],
         "y": {
          "bdata": "mpmZmXGS5UB2hVxIIdblQJweXdBoaOVAnssIncBw5UDtzwT2/XXlQBwOIH0eduVATaq3suV15UASdyWmIb3lQKt9iJrG2+VA/FL2s9YC5kCE6ilgsRjmQBwTvOWA8+VALxyBfN3m5UChUMY5w9jlQI+axNQXy+VAxcIudmHB5UA4wMcEKbnlQPrkMe/FpuVAozZkNG6W5UA33HepdpHlQEVEEs+8jeVAh8bCxkNw5UAXh+4do1blQEjFMOB8R+VAp8Yn09M75UAKHCjD8zPlQPl7Sd7dMeVAR10dbz0u5UDjOxksBC7lQAV8sxmELOVAJEuGOrsp5UCS/B1V8CjlQLLm0bOYKOVAmOCxBkUo5UDPjCF6NCflQN+1RvC5JeVAXKdJoE4l5UAYduaCIijlQLOlZRf1LuVA4eKCdSlD5UC49QhNs0rlQBB6P92wVOVAiTGlSfdt5UA/Xk+1f4PlQP2JoTkPoOVAEsb5GMm55UC/bd4kmMvlQHW7w+GR1uVAXt8khmng5UB/Zc/9quzlQJ7C6PPkAeZAjxZYUIoS5kCifbS2lx7mQGl4Q3zLJ+ZAe0UhK24t5kBfnof+3TPmQJs34Y94TOZAEql03A505kC7uEHrhtTmQPJWJkWHCudARpeeTqks50DWTMOO8T3nQOjW2M6tUudADwBGUlag50DDZl0LL/fnQO/L7YrILuhAUCX8pEJU6EDqckc5b4roQGoEUuqlmOhAkG3xtJS06EAG2IKKbfLoQMt9RVrgJulApu1e57xQ6UCJo/KoXoPpQE1GKY7bwelAXUnvghXa6UDcIQ/aP/TpQP+3AnZAD+pA3ZG9m4Ir6kCCd0pxmVTqQMGbpkUKaOpArQcPCZV36kBIY7o1j3/qQEQZqDoBjOpABl0xVxCl6kAG9Eu0C7fqQCeYU1WBzOpAFJZ9Rwvd6kBHwO44D+jqQEVVTlvO7epAde7CxN326kDSJaB1BAjrQK2cuUR9HOtAFZYujCIo60BMmV6O8DbrQKP3peqHQ+tAW4g5h7lK60BOmDIRn1LrQCGwAiruZetA7wwyjp9z60B/OmB2qYPrQJTe2k4ij+tAu4diXrSe60CbtKyuK6zrQPgHVVUvuutATZTJ3uPC60ApbcnHE8zrQOFYChx60etAfTGiil7Y60BcLkvMvePrQKStXOkQ6OtA2LDuyKXr60BPSLcPz/LrQI2ghvGx9+tA/4Q2Cjb960Bq7r1xcgLsQEKq5U53BuxA1UXcV2UJ7EBgLd0ingvsQIBgF0PCD+xAWPG5mL4T7EDn8f/wThXsQBFxneHvFuxAkQRgoBEc7EDq5+6DcB/sQIN8BwoIIuxAY3FTiTMm7EB2ErHKxijsQLtjzMnAKuxA5Nvsa0gu7EAXIBIqrTDsQA1taH+NMexAHwWU4I8y7ECYGt2DIjbsQNZI75xyOOxAyu6otw5A7EBDChnhzETsQNo6bya9SexA4oeOqWZM7EBG4r49eE/sQFZjhehbXexAKdat3GZp7EC/XSLzfW/sQHLUp2hYd+xAxx+VPg597EBsFdrhrn/sQLjOi7QPguxAd6i37BeH7EBrGBS3do3sQMotQRickexAPgel0A2X7EAVNUiOsZvsQGf3qJdCnexAcEY05vuf7EBLMj8XxqXsQPU/hmB8rOxAVKwrXj6z7ECtCzoBOLjsQFrnbudJv+xAoalVTjXB7EBW+2IsNcPsQKOszNmexuxAsuWu4BbN7EA7CXe/etPsQN4SeiKh1+xAXIQ52ETb7EB/2SkkxNzsQKbjRk4R3uxAze/Dc8Hh7EAhMNeKYebsQMy/Pbh66OxAYYedp/Tq7EDo7b0aQO3sQCV4Jnjo7exARcqe2H3u7EBWajn2dO/sQIoRaKvc8OxA9n2FgH7x7EBIFn1IR/LsQN39f+PG8uxA7VBckx7z7ECHAi1NLPTsQLECzzO29exAuVEiX5/27EBiOhEyHvfsQGEW+jH+9OxAz23sa03x7EDoGXqM6/DsQOjTlMXR7+xAf7b6JsTt7EA1j2piNu3sQAYr1UWV7OxAkbUyxKXr7EDlqsK0H+vsQBNkv1ge6+xABfAmkarr7ECYxKXpJO/sQELV8+sl8+xAmABblXL17EAiuuaIJ/fsQBcHrF5c++xAq9Adtij97EC02WxSOwDtQK+dHNwEA+1AxwNBdUYG7UB52jdscgjtQK5/a2/2C+1AnbG54iwP7UBJbd2XVxPtQOeYP6bSFO1AxdCz1e0Y7UAa8EjKTBvtQADYBxUPHe1AfPwpRTMg7UCIQORVTSHtQG/VOHy/Ie1AA7FxVAYh7UBUCZvEXhPtQAxHqRNyEO1AjbAqapMN7UAySPigIA/tQNxTZ1e6D+1APSEl6O4P7UBUZnUbtQ/tQL9l7JSdD+1AO7QrCwwQ7UCuOSsytA/tQKONrFGiDu1AmOTaHGIO7UA2tLmvYQ7tQLd3rtwrDu1A4P3FTCYO7UDtSm4Y7g3tQEhd95mVDu1Adq3EKNgO7UDbehPzRBHtQNh/nHRMEu1Ake9/ExsT7UCNKqJCABTtQMjPkBnvE+1A0D5hfKsT7UDczMtHmRPtQKocj4huE+1A0zVqv1wT7UB7iaRDuRLtQDXMTlyYEu1Au9SYWvQR7UAWfLpjMhHtQOhbcLHuD+1AkUdSdNkL7UBvZc3TpgrtQCa6VbOkCe1AjA2jCpcI7UCfT3mCAwjtQF4h6/cUB+1Aizcm8okG7UBqgS9r9AbtQHoLcdEKB+1AGL0GHfwG7UAVNG8JjgbtQPwOKrnuBu1AeAWv3QUI7UAX0XBulQntQMaEq2TRCu1AyhRDDj0L7UBnEEKP/gvtQMC7nGIxDe1AbWcc/p0O7UD8Bb/Dcw/tQHFJ2BaDEe1AnT9Y0UUT7UAilIBvAhTtQCumynKnFO1Aqop/eBgW7UCuIzjfxxbtQKMjYJc1F+1ARaUFDJkX7UBS8j7hRBjtQCh7Gv6CGO1Aq77pjd8Y7UDq12XUuhntQIBaWXFcGu1AWLSEfJ4a7UDeYIKX1RrtQKQmWhOyG+1AFWQTky4c7UBhW4ZzqRztQPMcI9mqH+1AI0SBDagj7UA0smolkibtQOY/Azr2KO1A73ve9QIs7UDAHsKT3yztQL5hWURHLu1A5eujMi0x7UDWQ+pyczPtQBtwCBGRNe1Aqdp4odg37UArxN2ErzrtQCtywWq2O+1AOb0iyY487UA38FbgDkDtQB6m3wm1R+1ADxofoadL7UD1NImaOk/tQIGPf/aAU+1AaMn9W6hU7UD50hTFNlftQKRdkTjsWe1AimQKkIdd7UA6QNSUHHDtQAF9vBwoeO1AVbWN4O1+7UBUwF2PFoLtQGQubK8ikO1AO4DjfE2q7UBpaG4A+cftQB4KIeBV5O1AAvpqvbr07UC3/I8CaQTuQPHltHevC+5Ad/a3JRsT7kDL/7AvzCHuQJkwrS1ZMO5Aiax7qzY/7kAhvEGBX1ruQCMdzXaZbO5AwYAjXvx17kBvym6Q1YHuQP1MY4Bcku5A70eniFqk7kBfBY3RvLLuQE3PCtauvO5ARkErN7rG7kBKS9DAzsvuQJn32+zc0e5A4UoXYNbe7kC2hzvsAuvuQPJ7EA8P++5AmAdhxOsg70BjSp/1hzHvQHt9FQUGN+9AeHGdkZM870ATAEfE207vQIeHbYLfX+9Aqn/vOO9t70DZMOzXbnjvQIFFLIiUgO9AF17Lx9eF70CMt/SavY7vQMFEVvrYn+9A4qxvDter70Cr+QLNgL3vQKVBFz01z+9AFOt/8mvj70D78tX0zOrvQGVFkzN28O9AO3H0Cuz570AGcA7RywDwQMPb8iEwA/BAqNrpDk4G8EAHrmb3/gnwQHeIh5czC/BA4jPCCwwN8EA6HznFqRDwQDUylLtLE/BA",
          "dtype": "f8"
         }
        }
       ],
       "layout": {
        "showlegend": true,
        "template": {
         "data": {
          "bar": [
           {
            "error_x": {
             "color": "#2a3f5f"
            },
            "error_y": {
             "color": "#2a3f5f"
            },
            "marker": {
             "line": {
              "color": "#E5ECF6",
              "width": 0.5
             },
             "pattern": {
              "fillmode": "overlay",
              "size": 10,
              "solidity": 0.2
             }
            },
            "type": "bar"
           }
          ],
          "barpolar": [
           {
            "marker": {
             "line": {
              "color": "#E5ECF6",
              "width": 0.5
             },
             "pattern": {
              "fillmode": "overlay",
              "size": 10,
              "solidity": 0.2
             }
            },
            "type": "barpolar"
           }
          ],
          "carpet": [
           {
            "aaxis": {
             "endlinecolor": "#2a3f5f",
             "gridcolor": "white",
             "linecolor": "white",
             "minorgridcolor": "white",
             "startlinecolor": "#2a3f5f"
            },
            "baxis": {
             "endlinecolor": "#2a3f5f",
             "gridcolor": "white",
             "linecolor": "white",
             "minorgridcolor": "white",
             "startlinecolor": "#2a3f5f"
            },
            "type": "carpet"
           }
          ],
          "choropleth": [
           {
            "colorbar": {
             "outlinewidth": 0,
             "ticks": ""
            },
            "type": "choropleth"
           }
          ],
          "contour": [
           {
            "colorbar": {
             "outlinewidth": 0,
             "ticks": ""
            },
            "colorscale": [
             [
              0,
              "#0d0887"
             ],
             [
              0.1111111111111111,
              "#46039f"
             ],
             [
              0.2222222222222222,
              "#7201a8"
             ],
             [
              0.3333333333333333,
              "#9c179e"
             ],
             [
              0.4444444444444444,
              "#bd3786"
             ],
             [
              0.5555555555555556,
              "#d8576b"
             ],
             [
              0.6666666666666666,
              "#ed7953"
             ],
             [
              0.7777777777777778,
              "#fb9f3a"
             ],
             [
              0.8888888888888888,
              "#fdca26"
             ],
             [
              1,
              "#f0f921"
             ]
            ],
            "type": "contour"
           }
          ],
          "contourcarpet": [
           {
            "colorbar": {
             "outlinewidth": 0,
             "ticks": ""
            },
            "type": "contourcarpet"
           }
          ],
          "heatmap": [
           {
            "colorbar": {
             "outlinewidth": 0,
             "ticks": ""
            },
            "colorscale": [
             [
              0,
              "#0d0887"
             ],
             [
              0.1111111111111111,
              "#46039f"
             ],
             [
              0.2222222222222222,
              "#7201a8"
             ],
             [
              0.3333333333333333,
              "#9c179e"
             ],
             [
              0.4444444444444444,
              "#bd3786"
             ],
             [
              0.5555555555555556,
              "#d8576b"
             ],
             [
              0.6666666666666666,
              "#ed7953"
             ],
             [
              0.7777777777777778,
              "#fb9f3a"
             ],
             [
              0.8888888888888888,
              "#fdca26"
             ],
             [
              1,
              "#f0f921"
             ]
            ],
            "type": "heatmap"
           }
          ],
          "histogram": [
           {
            "marker": {
             "pattern": {
              "fillmode": "overlay",
              "size": 10,
              "solidity": 0.2
             }
            },
            "type": "histogram"
           }
          ],
          "histogram2d": [
           {
            "colorbar": {
             "outlinewidth": 0,
             "ticks": ""
            },
            "colorscale": [
             [
              0,
              "#0d0887"
             ],
             [
              0.1111111111111111,
              "#46039f"
             ],
             [
              0.2222222222222222,
              "#7201a8"
             ],
             [
              0.3333333333333333,
              "#9c179e"
             ],
             [
              0.4444444444444444,
              "#bd3786"
             ],
             [
              0.5555555555555556,
              "#d8576b"
             ],
             [
              0.6666666666666666,
              "#ed7953"
             ],
             [
              0.7777777777777778,
              "#fb9f3a"
             ],
             [
              0.8888888888888888,
              "#fdca26"
             ],
             [
              1,
              "#f0f921"
             ]
            ],
            "type": "histogram2d"
           }
          ],
          "histogram2dcontour": [
           {
            "colorbar": {
             "outlinewidth": 0,
             "ticks": ""
            },
            "colorscale": [
             [
              0,
              "#0d0887"
             ],
             [
              0.1111111111111111,
              "#46039f"
             ],
             [
              0.2222222222222222,
              "#7201a8"
             ],
             [
              0.3333333333333333,
              "#9c179e"
             ],
             [
              0.4444444444444444,
              "#bd3786"
             ],
             [
              0.5555555555555556,
              "#d8576b"
             ],
             [
              0.6666666666666666,
              "#ed7953"
             ],
             [
              0.7777777777777778,
              "#fb9f3a"
             ],
             [
              0.8888888888888888,
              "#fdca26"
             ],
             [
              1,
              "#f0f921"
             ]
            ],
            "type": "histogram2dcontour"
           }
          ],
          "mesh3d": [
           {
            "colorbar": {
             "outlinewidth": 0,
             "ticks": ""
            },
            "type": "mesh3d"
           }
          ],
          "parcoords": [
           {
            "line": {
             "colorbar": {
              "outlinewidth": 0,
              "ticks": ""
             }
            },
            "type": "parcoords"
           }
          ],
          "pie": [
           {
            "automargin": true,
            "type": "pie"
           }
          ],
          "scatter": [
           {
            "fillpattern": {
             "fillmode": "overlay",
             "size": 10,
             "solidity": 0.2
            },
            "type": "scatter"
           }
          ],
          "scatter3d": [
           {
            "line": {
             "colorbar": {
              "outlinewidth": 0,
              "ticks": ""
             }
            },
            "marker": {
             "colorbar": {
              "outlinewidth": 0,
              "ticks": ""
             }
            },
            "type": "scatter3d"
           }
          ],
          "scattercarpet": [
           {
            "marker": {
             "colorbar": {
              "outlinewidth": 0,
              "ticks": ""
             }
            },
            "type": "scattercarpet"
           }
          ],
          "scattergeo": [
           {
            "marker": {
             "colorbar": {
              "outlinewidth": 0,
              "ticks": ""
             }
            },
            "type": "scattergeo"
           }
          ],
          "scattergl": [
           {
            "marker": {
             "colorbar": {
              "outlinewidth": 0,
              "ticks": ""
             }
            },
            "type": "scattergl"
           }
          ],
          "scattermap": [
           {
            "marker": {
             "colorbar": {
              "outlinewidth": 0,
              "ticks": ""
             }
            },
            "type": "scattermap"
           }
          ],
          "scattermapbox": [
           {
            "marker": {
             "colorbar": {
              "outlinewidth": 0,
              "ticks": ""
             }
            },
            "type": "scattermapbox"
           }
          ],
          "scatterpolar": [
           {
            "marker": {
             "colorbar": {
              "outlinewidth": 0,
              "ticks": ""
             }
            },
            "type": "scatterpolar"
           }
          ],
          "scatterpolargl": [
           {
            "marker": {
             "colorbar": {
              "outlinewidth": 0,
              "ticks": ""
             }
            },
            "type": "scatterpolargl"
           }
          ],
          "scatterternary": [
           {
            "marker": {
             "colorbar": {
              "outlinewidth": 0,
              "ticks": ""
             }
            },
            "type": "scatterternary"
           }
          ],
          "surface": [
           {
            "colorbar": {
             "outlinewidth": 0,
             "ticks": ""
            },
            "colorscale": [
             [
              0,
              "#0d0887"
             ],
             [
              0.1111111111111111,
              "#46039f"
             ],
             [
              0.2222222222222222,
              "#7201a8"
             ],
             [
              0.3333333333333333,
              "#9c179e"
             ],
             [
              0.4444444444444444,
              "#bd3786"
             ],
             [
              0.5555555555555556,
              "#d8576b"
             ],
             [
              0.6666666666666666,
              "#ed7953"
             ],
             [
              0.7777777777777778,
              "#fb9f3a"
             ],
             [
              0.8888888888888888,
              "#fdca26"
             ],
             [
              1,
              "#f0f921"
             ]
            ],
            "type": "surface"
           }
          ],
          "table": [
           {
            "cells": {
             "fill": {
              "color": "#EBF0F8"
             },
             "line": {
              "color": "white"
             }
            },
            "header": {
             "fill": {
              "color": "#C8D4E3"
             },
             "line": {
              "color": "white"
             }
            },
            "type": "table"
           }
          ]
         },
         "layout": {
          "annotationdefaults": {
           "arrowcolor": "#2a3f5f",
           "arrowhead": 0,
           "arrowwidth": 1
          },
          "autotypenumbers": "strict",
          "coloraxis": {
           "colorbar": {
            "outlinewidth": 0,
            "ticks": ""
           }
          },
          "colorscale": {
           "diverging": [
            [
             0,
             "#8e0152"
            ],
            [
             0.1,
             "#c51b7d"
            ],
            [
             0.2,
             "#de77ae"
            ],
            [
             0.3,
             "#f1b6da"
            ],
            [
             0.4,
             "#fde0ef"
            ],
            [
             0.5,
             "#f7f7f7"
            ],
            [
             0.6,
             "#e6f5d0"
            ],
            [
             0.7,
             "#b8e186"
            ],
            [
             0.8,
             "#7fbc41"
            ],
            [
             0.9,
             "#4d9221"
            ],
            [
             1,
             "#276419"
            ]
           ],
           "sequential": [
            [
             0,
             "#0d0887"
            ],
            [
             0.1111111111111111,
             "#46039f"
            ],
            [
             0.2222222222222222,
             "#7201a8"
            ],
            [
             0.3333333333333333,
             "#9c179e"
            ],
            [
             0.4444444444444444,
             "#bd3786"
            ],
            [
             0.5555555555555556,
             "#d8576b"
            ],
            [
             0.6666666666666666,
             "#ed7953"
            ],
            [
             0.7777777777777778,
             "#fb9f3a"
            ],
            [
             0.8888888888888888,
             "#fdca26"
            ],
            [
             1,
             "#f0f921"
            ]
           ],
           "sequentialminus": [
            [
             0,
             "#0d0887"
            ],
            [
             0.1111111111111111,
             "#46039f"
            ],
            [
             0.2222222222222222,
             "#7201a8"
            ],
            [
             0.3333333333333333,
             "#9c179e"
            ],
            [
             0.4444444444444444,
             "#bd3786"
            ],
            [
             0.5555555555555556,
             "#d8576b"
            ],
            [
             0.6666666666666666,
             "#ed7953"
            ],
            [
             0.7777777777777778,
             "#fb9f3a"
            ],
            [
             0.8888888888888888,
             "#fdca26"
            ],
            [
             1,
             "#f0f921"
            ]
           ]
          },
          "colorway": [
           "#636efa",
           "#EF553B",
           "#00cc96",
           "#ab63fa",
           "#FFA15A",
           "#19d3f3",
           "#FF6692",
           "#B6E880",
           "#FF97FF",
           "#FECB52"
          ],
          "font": {
           "color": "#2a3f5f"
          },
          "geo": {
           "bgcolor": "white",
           "lakecolor": "white",
           "landcolor": "#E5ECF6",
           "showlakes": true,
           "showland": true,
           "subunitcolor": "white"
          },
          "hoverlabel": {
           "align": "left"
          },
          "hovermode": "closest",
          "mapbox": {
           "style": "light"
          },
          "paper_bgcolor": "white",
          "plot_bgcolor": "#E5ECF6",
          "polar": {
           "angularaxis": {
            "gridcolor": "white",
            "linecolor": "white",
            "ticks": ""
           },
           "bgcolor": "#E5ECF6",
           "radialaxis": {
            "gridcolor": "white",
            "linecolor": "white",
            "ticks": ""
           }
          },
          "scene": {
           "xaxis": {
            "backgroundcolor": "#E5ECF6",
            "gridcolor": "white",
            "gridwidth": 2,
            "linecolor": "white",
            "showbackground": true,
            "ticks": "",
            "zerolinecolor": "white"
           },
           "yaxis": {
            "backgroundcolor": "#E5ECF6",
            "gridcolor": "white",
            "gridwidth": 2,
            "linecolor": "white",
            "showbackground": true,
            "ticks": "",
            "zerolinecolor": "white"
           },
           "zaxis": {
            "backgroundcolor": "#E5ECF6",
            "gridcolor": "white",
            "gridwidth": 2,
            "linecolor": "white",
            "showbackground": true,
            "ticks": "",
            "zerolinecolor": "white"
           }
          },
          "shapedefaults": {
           "line": {
            "color": "#2a3f5f"
           }
          },
          "ternary": {
           "aaxis": {
            "gridcolor": "white",
            "linecolor": "white",
            "ticks": ""
           },
           "baxis": {
            "gridcolor": "white",
            "linecolor": "white",
            "ticks": ""
           },
           "bgcolor": "#E5ECF6",
           "caxis": {
            "gridcolor": "white",
            "linecolor": "white",
            "ticks": ""
           }
          },
          "title": {
           "x": 0.05
          },
          "xaxis": {
           "automargin": true,
           "gridcolor": "white",
           "linecolor": "white",
           "ticks": "",
           "title": {
            "standoff": 15
           },
           "zerolinecolor": "white",
           "zerolinewidth": 2
          },
          "yaxis": {
           "automargin": true,
           "gridcolor": "white",
           "linecolor": "white",
           "ticks": "",
           "title": {
            "standoff": 15
           },
           "zerolinecolor": "white",
           "zerolinewidth": 2
          }
         }
        },
        "title": {
         "text": "Trend Indicators: EMA and VWAP"
        },
        "xaxis": {
         "title": {
          "text": "Date"
         }
        },
        "yaxis": {
         "title": {
          "text": "Indicator Value"
         }
        }
       }
      }
     },
     "metadata": {},
     "output_type": "display_data"
    },
    {
     "data": {
      "application/vnd.plotly.v1+json": {
       "config": {
        "plotlyServerURL": "https://plot.ly"
       },
       "data": [
        {
         "line": {
          "color": "magenta",
          "width": 1
         },
         "name": "Tenkan (Conversion Line)",
         "type": "scatter",
         "x": [
          "2024-01-01T00:00:00.000000000",
          "2024-01-02T00:00:00.000000000",
          "2024-01-03T00:00:00.000000000",
          "2024-01-04T00:00:00.000000000",
          "2024-01-05T00:00:00.000000000",
          "2024-01-06T00:00:00.000000000",
          "2024-01-07T00:00:00.000000000",
          "2024-01-08T00:00:00.000000000",
          "2024-01-09T00:00:00.000000000",
          "2024-01-10T00:00:00.000000000",
          "2024-01-11T00:00:00.000000000",
          "2024-01-12T00:00:00.000000000",
          "2024-01-13T00:00:00.000000000",
          "2024-01-14T00:00:00.000000000",
          "2024-01-15T00:00:00.000000000",
          "2024-01-16T00:00:00.000000000",
          "2024-01-17T00:00:00.000000000",
          "2024-01-18T00:00:00.000000000",
          "2024-01-19T00:00:00.000000000",
          "2024-01-20T00:00:00.000000000",
          "2024-01-21T00:00:00.000000000",
          "2024-01-22T00:00:00.000000000",
          "2024-01-23T00:00:00.000000000",
          "2024-01-24T00:00:00.000000000",
          "2024-01-25T00:00:00.000000000",
          "2024-01-26T00:00:00.000000000",
          "2024-01-27T00:00:00.000000000",
          "2024-01-28T00:00:00.000000000",
          "2024-01-29T00:00:00.000000000",
          "2024-01-30T00:00:00.000000000",
          "2024-01-31T00:00:00.000000000",
          "2024-02-01T00:00:00.000000000",
          "2024-02-02T00:00:00.000000000",
          "2024-02-03T00:00:00.000000000",
          "2024-02-04T00:00:00.000000000",
          "2024-02-05T00:00:00.000000000",
          "2024-02-06T00:00:00.000000000",
          "2024-02-07T00:00:00.000000000",
          "2024-02-08T00:00:00.000000000",
          "2024-02-09T00:00:00.000000000",
          "2024-02-10T00:00:00.000000000",
          "2024-02-11T00:00:00.000000000",
          "2024-02-12T00:00:00.000000000",
          "2024-02-13T00:00:00.000000000",
          "2024-02-14T00:00:00.000000000",
          "2024-02-15T00:00:00.000000000",
          "2024-02-16T00:00:00.000000000",
          "2024-02-17T00:00:00.000000000",
          "2024-02-18T00:00:00.000000000",
          "2024-02-19T00:00:00.000000000",
          "2024-02-20T00:00:00.000000000",
          "2024-02-21T00:00:00.000000000",
          "2024-02-22T00:00:00.000000000",
          "2024-02-23T00:00:00.000000000",
          "2024-02-24T00:00:00.000000000",
          "2024-02-25T00:00:00.000000000",
          "2024-02-26T00:00:00.000000000",
          "2024-02-27T00:00:00.000000000",
          "2024-02-28T00:00:00.000000000",
          "2024-02-29T00:00:00.000000000",
          "2024-03-01T00:00:00.000000000",
          "2024-03-02T00:00:00.000000000",
          "2024-03-03T00:00:00.000000000",
          "2024-03-04T00:00:00.000000000",
          "2024-03-05T00:00:00.000000000",
          "2024-03-06T00:00:00.000000000",
          "2024-03-07T00:00:00.000000000",
          "2024-03-08T00:00:00.000000000",
          "2024-03-09T00:00:00.000000000",
          "2024-03-10T00:00:00.000000000",
          "2024-03-11T00:00:00.000000000",
          "2024-03-12T00:00:00.000000000",
          "2024-03-13T00:00:00.000000000",
          "2024-03-14T00:00:00.000000000",
          "2024-03-15T00:00:00.000000000",
          "2024-03-16T00:00:00.000000000",
          "2024-03-17T00:00:00.000000000",
          "2024-03-18T00:00:00.000000000",
          "2024-03-19T00:00:00.000000000",
          "2024-03-20T00:00:00.000000000",
          "2024-03-21T00:00:00.000000000",
          "2024-03-22T00:00:00.000000000",
          "2024-03-23T00:00:00.000000000",
          "2024-03-24T00:00:00.000000000",
          "2024-03-25T00:00:00.000000000",
          "2024-03-26T00:00:00.000000000",
          "2024-03-27T00:00:00.000000000",
          "2024-03-28T00:00:00.000000000",
          "2024-03-29T00:00:00.000000000",
          "2024-03-30T00:00:00.000000000",
          "2024-03-31T00:00:00.000000000",
          "2024-04-01T00:00:00.000000000",
          "2024-04-02T00:00:00.000000000",
          "2024-04-03T00:00:00.000000000",
          "2024-04-04T00:00:00.000000000",
          "2024-04-05T00:00:00.000000000",
          "2024-04-06T00:00:00.000000000",
          "2024-04-07T00:00:00.000000000",
          "2024-04-08T00:00:00.000000000",
          "2024-04-09T00:00:00.000000000",
          "2024-04-10T00:00:00.000000000",
          "2024-04-11T00:00:00.000000000",
          "2024-04-12T00:00:00.000000000",
          "2024-04-13T00:00:00.000000000",
          "2024-04-14T00:00:00.000000000",
          "2024-04-15T00:00:00.000000000",
          "2024-04-16T00:00:00.000000000",
          "2024-04-17T00:00:00.000000000",
          "2024-04-18T00:00:00.000000000",
          "2024-04-19T00:00:00.000000000",
          "2024-04-20T00:00:00.000000000",
          "2024-04-21T00:00:00.000000000",
          "2024-04-22T00:00:00.000000000",
          "2024-04-23T00:00:00.000000000",
          "2024-04-24T00:00:00.000000000",
          "2024-04-25T00:00:00.000000000",
          "2024-04-26T00:00:00.000000000",
          "2024-04-27T00:00:00.000000000",
          "2024-04-28T00:00:00.000000000",
          "2024-04-29T00:00:00.000000000",
          "2024-04-30T00:00:00.000000000",
          "2024-05-01T00:00:00.000000000",
          "2024-05-02T00:00:00.000000000",
          "2024-05-03T00:00:00.000000000",
          "2024-05-04T00:00:00.000000000",
          "2024-05-05T00:00:00.000000000",
          "2024-05-06T00:00:00.000000000",
          "2024-05-07T00:00:00.000000000",
          "2024-05-08T00:00:00.000000000",
          "2024-05-09T00:00:00.000000000",
          "2024-05-10T00:00:00.000000000",
          "2024-05-11T00:00:00.000000000",
          "2024-05-12T00:00:00.000000000",
          "2024-05-13T00:00:00.000000000",
          "2024-05-14T00:00:00.000000000",
          "2024-05-15T00:00:00.000000000",
          "2024-05-16T00:00:00.000000000",
          "2024-05-17T00:00:00.000000000",
          "2024-05-18T00:00:00.000000000",
          "2024-05-19T00:00:00.000000000",
          "2024-05-20T00:00:00.000000000",
          "2024-05-21T00:00:00.000000000",
          "2024-05-22T00:00:00.000000000",
          "2024-05-23T00:00:00.000000000",
          "2024-05-24T00:00:00.000000000",
          "2024-05-25T00:00:00.000000000",
          "2024-05-26T00:00:00.000000000",
          "2024-05-27T00:00:00.000000000",
          "2024-05-28T00:00:00.000000000",
          "2024-05-29T00:00:00.000000000",
          "2024-05-30T00:00:00.000000000",
          "2024-05-31T00:00:00.000000000",
          "2024-06-01T00:00:00.000000000",
          "2024-06-02T00:00:00.000000000",
          "2024-06-03T00:00:00.000000000",
          "2024-06-04T00:00:00.000000000",
          "2024-06-05T00:00:00.000000000",
          "2024-06-06T00:00:00.000000000",
          "2024-06-07T00:00:00.000000000",
          "2024-06-08T00:00:00.000000000",
          "2024-06-09T00:00:00.000000000",
          "2024-06-10T00:00:00.000000000",
          "2024-06-11T00:00:00.000000000",
          "2024-06-12T00:00:00.000000000",
          "2024-06-13T00:00:00.000000000",
          "2024-06-14T00:00:00.000000000",
          "2024-06-15T00:00:00.000000000",
          "2024-06-16T00:00:00.000000000",
          "2024-06-17T00:00:00.000000000",
          "2024-06-18T00:00:00.000000000",
          "2024-06-19T00:00:00.000000000",
          "2024-06-20T00:00:00.000000000",
          "2024-06-21T00:00:00.000000000",
          "2024-06-22T00:00:00.000000000",
          "2024-06-23T00:00:00.000000000",
          "2024-06-24T00:00:00.000000000",
          "2024-06-25T00:00:00.000000000",
          "2024-06-26T00:00:00.000000000",
          "2024-06-27T00:00:00.000000000",
          "2024-06-28T00:00:00.000000000",
          "2024-06-29T00:00:00.000000000",
          "2024-06-30T00:00:00.000000000",
          "2024-07-01T00:00:00.000000000",
          "2024-07-02T00:00:00.000000000",
          "2024-07-03T00:00:00.000000000",
          "2024-07-04T00:00:00.000000000",
          "2024-07-05T00:00:00.000000000",
          "2024-07-06T00:00:00.000000000",
          "2024-07-07T00:00:00.000000000",
          "2024-07-08T00:00:00.000000000",
          "2024-07-09T00:00:00.000000000",
          "2024-07-10T00:00:00.000000000",
          "2024-07-11T00:00:00.000000000",
          "2024-07-12T00:00:00.000000000",
          "2024-07-13T00:00:00.000000000",
          "2024-07-14T00:00:00.000000000",
          "2024-07-15T00:00:00.000000000",
          "2024-07-16T00:00:00.000000000",
          "2024-07-17T00:00:00.000000000",
          "2024-07-18T00:00:00.000000000",
          "2024-07-19T00:00:00.000000000",
          "2024-07-20T00:00:00.000000000",
          "2024-07-21T00:00:00.000000000",
          "2024-07-22T00:00:00.000000000",
          "2024-07-23T00:00:00.000000000",
          "2024-07-24T00:00:00.000000000",
          "2024-07-25T00:00:00.000000000",
          "2024-07-26T00:00:00.000000000",
          "2024-07-27T00:00:00.000000000",
          "2024-07-28T00:00:00.000000000",
          "2024-07-29T00:00:00.000000000",
          "2024-07-30T00:00:00.000000000",
          "2024-07-31T00:00:00.000000000",
          "2024-08-01T00:00:00.000000000",
          "2024-08-02T00:00:00.000000000",
          "2024-08-03T00:00:00.000000000",
          "2024-08-04T00:00:00.000000000",
          "2024-08-05T00:00:00.000000000",
          "2024-08-06T00:00:00.000000000",
          "2024-08-07T00:00:00.000000000",
          "2024-08-08T00:00:00.000000000",
          "2024-08-09T00:00:00.000000000",
          "2024-08-10T00:00:00.000000000",
          "2024-08-11T00:00:00.000000000",
          "2024-08-12T00:00:00.000000000",
          "2024-08-13T00:00:00.000000000",
          "2024-08-14T00:00:00.000000000",
          "2024-08-15T00:00:00.000000000",
          "2024-08-16T00:00:00.000000000",
          "2024-08-17T00:00:00.000000000",
          "2024-08-18T00:00:00.000000000",
          "2024-08-19T00:00:00.000000000",
          "2024-08-20T00:00:00.000000000",
          "2024-08-21T00:00:00.000000000",
          "2024-08-22T00:00:00.000000000",
          "2024-08-23T00:00:00.000000000",
          "2024-08-24T00:00:00.000000000",
          "2024-08-25T00:00:00.000000000",
          "2024-08-26T00:00:00.000000000",
          "2024-08-27T00:00:00.000000000",
          "2024-08-28T00:00:00.000000000",
          "2024-08-29T00:00:00.000000000",
          "2024-08-30T00:00:00.000000000",
          "2024-08-31T00:00:00.000000000",
          "2024-09-01T00:00:00.000000000",
          "2024-09-02T00:00:00.000000000",
          "2024-09-03T00:00:00.000000000",
          "2024-09-04T00:00:00.000000000",
          "2024-09-05T00:00:00.000000000",
          "2024-09-06T00:00:00.000000000",
          "2024-09-07T00:00:00.000000000",
          "2024-09-08T00:00:00.000000000",
          "2024-09-09T00:00:00.000000000",
          "2024-09-10T00:00:00.000000000",
          "2024-09-11T00:00:00.000000000",
          "2024-09-12T00:00:00.000000000",
          "2024-09-13T00:00:00.000000000",
          "2024-09-14T00:00:00.000000000",
          "2024-09-15T00:00:00.000000000",
          "2024-09-16T00:00:00.000000000",
          "2024-09-17T00:00:00.000000000",
          "2024-09-18T00:00:00.000000000",
          "2024-09-19T00:00:00.000000000",
          "2024-09-20T00:00:00.000000000",
          "2024-09-21T00:00:00.000000000",
          "2024-09-22T00:00:00.000000000",
          "2024-09-23T00:00:00.000000000",
          "2024-09-24T00:00:00.000000000",
          "2024-09-25T00:00:00.000000000",
          "2024-09-26T00:00:00.000000000",
          "2024-09-27T00:00:00.000000000",
          "2024-09-28T00:00:00.000000000",
          "2024-09-29T00:00:00.000000000",
          "2024-09-30T00:00:00.000000000",
          "2024-10-01T00:00:00.000000000",
          "2024-10-02T00:00:00.000000000",
          "2024-10-03T00:00:00.000000000",
          "2024-10-04T00:00:00.000000000",
          "2024-10-05T00:00:00.000000000",
          "2024-10-06T00:00:00.000000000",
          "2024-10-07T00:00:00.000000000",
          "2024-10-08T00:00:00.000000000",
          "2024-10-09T00:00:00.000000000",
          "2024-10-10T00:00:00.000000000",
          "2024-10-11T00:00:00.000000000",
          "2024-10-12T00:00:00.000000000",
          "2024-10-13T00:00:00.000000000",
          "2024-10-14T00:00:00.000000000",
          "2024-10-15T00:00:00.000000000",
          "2024-10-16T00:00:00.000000000",
          "2024-10-17T00:00:00.000000000",
          "2024-10-18T00:00:00.000000000",
          "2024-10-19T00:00:00.000000000",
          "2024-10-20T00:00:00.000000000",
          "2024-10-21T00:00:00.000000000",
          "2024-10-22T00:00:00.000000000",
          "2024-10-23T00:00:00.000000000",
          "2024-10-24T00:00:00.000000000",
          "2024-10-25T00:00:00.000000000",
          "2024-10-26T00:00:00.000000000",
          "2024-10-27T00:00:00.000000000",
          "2024-10-28T00:00:00.000000000",
          "2024-10-29T00:00:00.000000000",
          "2024-10-30T00:00:00.000000000",
          "2024-10-31T00:00:00.000000000",
          "2024-11-01T00:00:00.000000000",
          "2024-11-02T00:00:00.000000000",
          "2024-11-03T00:00:00.000000000",
          "2024-11-04T00:00:00.000000000",
          "2024-11-05T00:00:00.000000000",
          "2024-11-06T00:00:00.000000000",
          "2024-11-07T00:00:00.000000000",
          "2024-11-08T00:00:00.000000000",
          "2024-11-09T00:00:00.000000000",
          "2024-11-10T00:00:00.000000000",
          "2024-11-11T00:00:00.000000000",
          "2024-11-12T00:00:00.000000000",
          "2024-11-13T00:00:00.000000000",
          "2024-11-14T00:00:00.000000000",
          "2024-11-15T00:00:00.000000000",
          "2024-11-16T00:00:00.000000000",
          "2024-11-17T00:00:00.000000000",
          "2024-11-18T00:00:00.000000000",
          "2024-11-19T00:00:00.000000000",
          "2024-11-20T00:00:00.000000000",
          "2024-11-21T00:00:00.000000000",
          "2024-11-22T00:00:00.000000000",
          "2024-11-23T00:00:00.000000000",
          "2024-11-24T00:00:00.000000000",
          "2024-11-25T00:00:00.000000000",
          "2024-11-26T00:00:00.000000000",
          "2024-11-27T00:00:00.000000000",
          "2024-11-28T00:00:00.000000000",
          "2024-11-29T00:00:00.000000000",
          "2024-11-30T00:00:00.000000000",
          "2024-12-01T00:00:00.000000000",
          "2024-12-02T00:00:00.000000000",
          "2024-12-03T00:00:00.000000000",
          "2024-12-04T00:00:00.000000000",
          "2024-12-05T00:00:00.000000000",
          "2024-12-06T00:00:00.000000000",
          "2024-12-07T00:00:00.000000000",
          "2024-12-08T00:00:00.000000000",
          "2024-12-09T00:00:00.000000000",
          "2024-12-10T00:00:00.000000000",
          "2024-12-11T00:00:00.000000000",
          "2024-12-12T00:00:00.000000000",
          "2024-12-13T00:00:00.000000000",
          "2024-12-14T00:00:00.000000000",
          "2024-12-15T00:00:00.000000000",
          "2024-12-16T00:00:00.000000000",
          "2024-12-17T00:00:00.000000000",
          "2024-12-18T00:00:00.000000000",
          "2024-12-19T00:00:00.000000000",
          "2024-12-20T00:00:00.000000000",
          "2024-12-21T00:00:00.000000000",
          "2024-12-22T00:00:00.000000000",
          "2024-12-23T00:00:00.000000000",
          "2024-12-24T00:00:00.000000000",
          "2024-12-25T00:00:00.000000000",
          "2024-12-26T00:00:00.000000000",
          "2024-12-27T00:00:00.000000000",
          "2024-12-28T00:00:00.000000000",
          "2024-12-29T00:00:00.000000000",
          "2024-12-30T00:00:00.000000000",
          "2024-12-31T00:00:00.000000000"
         ],
         "y": {
          "bdata": "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",
          "dtype": "f8"
         }
        },
        {
         "line": {
          "color": "brown",
          "width": 1
         },
         "name": "Kijun (Base Line)",
         "type": "scatter",
         "x": [
          "2024-01-01T00:00:00.000000000",
          "2024-01-02T00:00:00.000000000",
          "2024-01-03T00:00:00.000000000",
          "2024-01-04T00:00:00.000000000",
          "2024-01-05T00:00:00.000000000",
          "2024-01-06T00:00:00.000000000",
          "2024-01-07T00:00:00.000000000",
          "2024-01-08T00:00:00.000000000",
          "2024-01-09T00:00:00.000000000",
          "2024-01-10T00:00:00.000000000",
          "2024-01-11T00:00:00.000000000",
          "2024-01-12T00:00:00.000000000",
          "2024-01-13T00:00:00.000000000",
          "2024-01-14T00:00:00.000000000",
          "2024-01-15T00:00:00.000000000",
          "2024-01-16T00:00:00.000000000",
          "2024-01-17T00:00:00.000000000",
          "2024-01-18T00:00:00.000000000",
          "2024-01-19T00:00:00.000000000",
          "2024-01-20T00:00:00.000000000",
          "2024-01-21T00:00:00.000000000",
          "2024-01-22T00:00:00.000000000",
          "2024-01-23T00:00:00.000000000",
          "2024-01-24T00:00:00.000000000",
          "2024-01-25T00:00:00.000000000",
          "2024-01-26T00:00:00.000000000",
          "2024-01-27T00:00:00.000000000",
          "2024-01-28T00:00:00.000000000",
          "2024-01-29T00:00:00.000000000",
          "2024-01-30T00:00:00.000000000",
          "2024-01-31T00:00:00.000000000",
          "2024-02-01T00:00:00.000000000",
          "2024-02-02T00:00:00.000000000",
          "2024-02-03T00:00:00.000000000",
          "2024-02-04T00:00:00.000000000",
          "2024-02-05T00:00:00.000000000",
          "2024-02-06T00:00:00.000000000",
          "2024-02-07T00:00:00.000000000",
          "2024-02-08T00:00:00.000000000",
          "2024-02-09T00:00:00.000000000",
          "2024-02-10T00:00:00.000000000",
          "2024-02-11T00:00:00.000000000",
          "2024-02-12T00:00:00.000000000",
          "2024-02-13T00:00:00.000000000",
          "2024-02-14T00:00:00.000000000",
          "2024-02-15T00:00:00.000000000",
          "2024-02-16T00:00:00.000000000",
          "2024-02-17T00:00:00.000000000",
          "2024-02-18T00:00:00.000000000",
          "2024-02-19T00:00:00.000000000",
          "2024-02-20T00:00:00.000000000",
          "2024-02-21T00:00:00.000000000",
          "2024-02-22T00:00:00.000000000",
          "2024-02-23T00:00:00.000000000",
          "2024-02-24T00:00:00.000000000",
          "2024-02-25T00:00:00.000000000",
          "2024-02-26T00:00:00.000000000",
          "2024-02-27T00:00:00.000000000",
          "2024-02-28T00:00:00.000000000",
          "2024-02-29T00:00:00.000000000",
          "2024-03-01T00:00:00.000000000",
          "2024-03-02T00:00:00.000000000",
          "2024-03-03T00:00:00.000000000",
          "2024-03-04T00:00:00.000000000",
          "2024-03-05T00:00:00.000000000",
          "2024-03-06T00:00:00.000000000",
          "2024-03-07T00:00:00.000000000",
          "2024-03-08T00:00:00.000000000",
          "2024-03-09T00:00:00.000000000",
          "2024-03-10T00:00:00.000000000",
          "2024-03-11T00:00:00.000000000",
          "2024-03-12T00:00:00.000000000",
          "2024-03-13T00:00:00.000000000",
          "2024-03-14T00:00:00.000000000",
          "2024-03-15T00:00:00.000000000",
          "2024-03-16T00:00:00.000000000",
          "2024-03-17T00:00:00.000000000",
          "2024-03-18T00:00:00.000000000",
          "2024-03-19T00:00:00.000000000",
          "2024-03-20T00:00:00.000000000",
          "2024-03-21T00:00:00.000000000",
          "2024-03-22T00:00:00.000000000",
          "2024-03-23T00:00:00.000000000",
          "2024-03-24T00:00:00.000000000",
          "2024-03-25T00:00:00.000000000",
          "2024-03-26T00:00:00.000000000",
          "2024-03-27T00:00:00.000000000",
          "2024-03-28T00:00:00.000000000",
          "2024-03-29T00:00:00.000000000",
          "2024-03-30T00:00:00.000000000",
          "2024-03-31T00:00:00.000000000",
          "2024-04-01T00:00:00.000000000",
          "2024-04-02T00:00:00.000000000",
          "2024-04-03T00:00:00.000000000",
          "2024-04-04T00:00:00.000000000",
          "2024-04-05T00:00:00.000000000",
          "2024-04-06T00:00:00.000000000",
          "2024-04-07T00:00:00.000000000",
          "2024-04-08T00:00:00.000000000",
          "2024-04-09T00:00:00.000000000",
          "2024-04-10T00:00:00.000000000",
          "2024-04-11T00:00:00.000000000",
          "2024-04-12T00:00:00.000000000",
          "2024-04-13T00:00:00.000000000",
          "2024-04-14T00:00:00.000000000",
          "2024-04-15T00:00:00.000000000",
          "2024-04-16T00:00:00.000000000",
          "2024-04-17T00:00:00.000000000",
          "2024-04-18T00:00:00.000000000",
          "2024-04-19T00:00:00.000000000",
          "2024-04-20T00:00:00.000000000",
          "2024-04-21T00:00:00.000000000",
          "2024-04-22T00:00:00.000000000",
          "2024-04-23T00:00:00.000000000",
          "2024-04-24T00:00:00.000000000",
          "2024-04-25T00:00:00.000000000",
          "2024-04-26T00:00:00.000000000",
          "2024-04-27T00:00:00.000000000",
          "2024-04-28T00:00:00.000000000",
          "2024-04-29T00:00:00.000000000",
          "2024-04-30T00:00:00.000000000",
          "2024-05-01T00:00:00.000000000",
          "2024-05-02T00:00:00.000000000",
          "2024-05-03T00:00:00.000000000",
          "2024-05-04T00:00:00.000000000",
          "2024-05-05T00:00:00.000000000",
          "2024-05-06T00:00:00.000000000",
          "2024-05-07T00:00:00.000000000",
          "2024-05-08T00:00:00.000000000",
          "2024-05-09T00:00:00.000000000",
          "2024-05-10T00:00:00.000000000",
          "2024-05-11T00:00:00.000000000",
          "2024-05-12T00:00:00.000000000",
          "2024-05-13T00:00:00.000000000",
          "2024-05-14T00:00:00.000000000",
          "2024-05-15T00:00:00.000000000",
          "2024-05-16T00:00:00.000000000",
          "2024-05-17T00:00:00.000000000",
          "2024-05-18T00:00:00.000000000",
          "2024-05-19T00:00:00.000000000",
          "2024-05-20T00:00:00.000000000",
          "2024-05-21T00:00:00.000000000",
          "2024-05-22T00:00:00.000000000",
          "2024-05-23T00:00:00.000000000",
          "2024-05-24T00:00:00.000000000",
          "2024-05-25T00:00:00.000000000",
          "2024-05-26T00:00:00.000000000",
          "2024-05-27T00:00:00.000000000",
          "2024-05-28T00:00:00.000000000",
          "2024-05-29T00:00:00.000000000",
          "2024-05-30T00:00:00.000000000",
          "2024-05-31T00:00:00.000000000",
          "2024-06-01T00:00:00.000000000",
          "2024-06-02T00:00:00.000000000",
          "2024-06-03T00:00:00.000000000",
          "2024-06-04T00:00:00.000000000",
          "2024-06-05T00:00:00.000000000",
          "2024-06-06T00:00:00.000000000",
          "2024-06-07T00:00:00.000000000",
          "2024-06-08T00:00:00.000000000",
          "2024-06-09T00:00:00.000000000",
          "2024-06-10T00:00:00.000000000",
          "2024-06-11T00:00:00.000000000",
          "2024-06-12T00:00:00.000000000",
          "2024-06-13T00:00:00.000000000",
          "2024-06-14T00:00:00.000000000",
          "2024-06-15T00:00:00.000000000",
          "2024-06-16T00:00:00.000000000",
          "2024-06-17T00:00:00.000000000",
          "2024-06-18T00:00:00.000000000",
          "2024-06-19T00:00:00.000000000",
          "2024-06-20T00:00:00.000000000",
          "2024-06-21T00:00:00.000000000",
          "2024-06-22T00:00:00.000000000",
          "2024-06-23T00:00:00.000000000",
          "2024-06-24T00:00:00.000000000",
          "2024-06-25T00:00:00.000000000",
          "2024-06-26T00:00:00.000000000",
          "2024-06-27T00:00:00.000000000",
          "2024-06-28T00:00:00.000000000",
          "2024-06-29T00:00:00.000000000",
          "2024-06-30T00:00:00.000000000",
          "2024-07-01T00:00:00.000000000",
          "2024-07-02T00:00:00.000000000",
          "2024-07-03T00:00:00.000000000",
          "2024-07-04T00:00:00.000000000",
          "2024-07-05T00:00:00.000000000",
          "2024-07-06T00:00:00.000000000",
          "2024-07-07T00:00:00.000000000",
          "2024-07-08T00:00:00.000000000",
          "2024-07-09T00:00:00.000000000",
          "2024-07-10T00:00:00.000000000",
          "2024-07-11T00:00:00.000000000",
          "2024-07-12T00:00:00.000000000",
          "2024-07-13T00:00:00.000000000",
          "2024-07-14T00:00:00.000000000",
          "2024-07-15T00:00:00.000000000",
          "2024-07-16T00:00:00.000000000",
          "2024-07-17T00:00:00.000000000",
          "2024-07-18T00:00:00.000000000",
          "2024-07-19T00:00:00.000000000",
          "2024-07-20T00:00:00.000000000",
          "2024-07-21T00:00:00.000000000",
          "2024-07-22T00:00:00.000000000",
          "2024-07-23T00:00:00.000000000",
          "2024-07-24T00:00:00.000000000",
          "2024-07-25T00:00:00.000000000",
          "2024-07-26T00:00:00.000000000",
          "2024-07-27T00:00:00.000000000",
          "2024-07-28T00:00:00.000000000",
          "2024-07-29T00:00:00.000000000",
          "2024-07-30T00:00:00.000000000",
          "2024-07-31T00:00:00.000000000",
          "2024-08-01T00:00:00.000000000",
          "2024-08-02T00:00:00.000000000",
          "2024-08-03T00:00:00.000000000",
          "2024-08-04T00:00:00.000000000",
          "2024-08-05T00:00:00.000000000",
          "2024-08-06T00:00:00.000000000",
          "2024-08-07T00:00:00.000000000",
          "2024-08-08T00:00:00.000000000",
          "2024-08-09T00:00:00.000000000",
          "2024-08-10T00:00:00.000000000",
          "2024-08-11T00:00:00.000000000",
          "2024-08-12T00:00:00.000000000",
          "2024-08-13T00:00:00.000000000",
          "2024-08-14T00:00:00.000000000",
          "2024-08-15T00:00:00.000000000",
          "2024-08-16T00:00:00.000000000",
          "2024-08-17T00:00:00.000000000",
          "2024-08-18T00:00:00.000000000",
          "2024-08-19T00:00:00.000000000",
          "2024-08-20T00:00:00.000000000",
          "2024-08-21T00:00:00.000000000",
          "2024-08-22T00:00:00.000000000",
          "2024-08-23T00:00:00.000000000",
          "2024-08-24T00:00:00.000000000",
          "2024-08-25T00:00:00.000000000",
          "2024-08-26T00:00:00.000000000",
          "2024-08-27T00:00:00.000000000",
          "2024-08-28T00:00:00.000000000",
          "2024-08-29T00:00:00.000000000",
          "2024-08-30T00:00:00.000000000",
          "2024-08-31T00:00:00.000000000",
          "2024-09-01T00:00:00.000000000",
          "2024-09-02T00:00:00.000000000",
          "2024-09-03T00:00:00.000000000",
          "2024-09-04T00:00:00.000000000",
          "2024-09-05T00:00:00.000000000",
          "2024-09-06T00:00:00.000000000",
          "2024-09-07T00:00:00.000000000",
          "2024-09-08T00:00:00.000000000",
          "2024-09-09T00:00:00.000000000",
          "2024-09-10T00:00:00.000000000",
          "2024-09-11T00:00:00.000000000",
          "2024-09-12T00:00:00.000000000",
          "2024-09-13T00:00:00.000000000",
          "2024-09-14T00:00:00.000000000",
          "2024-09-15T00:00:00.000000000",
          "2024-09-16T00:00:00.000000000",
          "2024-09-17T00:00:00.000000000",
          "2024-09-18T00:00:00.000000000",
          "2024-09-19T00:00:00.000000000",
          "2024-09-20T00:00:00.000000000",
          "2024-09-21T00:00:00.000000000",
          "2024-09-22T00:00:00.000000000",
          "2024-09-23T00:00:00.000000000",
          "2024-09-24T00:00:00.000000000",
          "2024-09-25T00:00:00.000000000",
          "2024-09-26T00:00:00.000000000",
          "2024-09-27T00:00:00.000000000",
          "2024-09-28T00:00:00.000000000",
          "2024-09-29T00:00:00.000000000",
          "2024-09-30T00:00:00.000000000",
          "2024-10-01T00:00:00.000000000",
          "2024-10-02T00:00:00.000000000",
          "2024-10-03T00:00:00.000000000",
          "2024-10-04T00:00:00.000000000",
          "2024-10-05T00:00:00.000000000",
          "2024-10-06T00:00:00.000000000",
          "2024-10-07T00:00:00.000000000",
          "2024-10-08T00:00:00.000000000",
          "2024-10-09T00:00:00.000000000",
          "2024-10-10T00:00:00.000000000",
          "2024-10-11T00:00:00.000000000",
          "2024-10-12T00:00:00.000000000",
          "2024-10-13T00:00:00.000000000",
          "2024-10-14T00:00:00.000000000",
          "2024-10-15T00:00:00.000000000",
          "2024-10-16T00:00:00.000000000",
          "2024-10-17T00:00:00.000000000",
          "2024-10-18T00:00:00.000000000",
          "2024-10-19T00:00:00.000000000",
          "2024-10-20T00:00:00.000000000",
          "2024-10-21T00:00:00.000000000",
          "2024-10-22T00:00:00.000000000",
          "2024-10-23T00:00:00.000000000",
          "2024-10-24T00:00:00.000000000",
          "2024-10-25T00:00:00.000000000",
          "2024-10-26T00:00:00.000000000",
          "2024-10-27T00:00:00.000000000",
          "2024-10-28T00:00:00.000000000",
          "2024-10-29T00:00:00.000000000",
          "2024-10-30T00:00:00.000000000",
          "2024-10-31T00:00:00.000000000",
          "2024-11-01T00:00:00.000000000",
          "2024-11-02T00:00:00.000000000",
          "2024-11-03T00:00:00.000000000",
          "2024-11-04T00:00:00.000000000",
          "2024-11-05T00:00:00.000000000",
          "2024-11-06T00:00:00.000000000",
          "2024-11-07T00:00:00.000000000",
          "2024-11-08T00:00:00.000000000",
          "2024-11-09T00:00:00.000000000",
          "2024-11-10T00:00:00.000000000",
          "2024-11-11T00:00:00.000000000",
          "2024-11-12T00:00:00.000000000",
          "2024-11-13T00:00:00.000000000",
          "2024-11-14T00:00:00.000000000",
          "2024-11-15T00:00:00.000000000",
          "2024-11-16T00:00:00.000000000",
          "2024-11-17T00:00:00.000000000",
          "2024-11-18T00:00:00.000000000",
          "2024-11-19T00:00:00.000000000",
          "2024-11-20T00:00:00.000000000",
          "2024-11-21T00:00:00.000000000",
          "2024-11-22T00:00:00.000000000",
          "2024-11-23T00:00:00.000000000",
          "2024-11-24T00:00:00.000000000",
          "2024-11-25T00:00:00.000000000",
          "2024-11-26T00:00:00.000000000",
          "2024-11-27T00:00:00.000000000",
          "2024-11-28T00:00:00.000000000",
          "2024-11-29T00:00:00.000000000",
          "2024-11-30T00:00:00.000000000",
          "2024-12-01T00:00:00.000000000",
          "2024-12-02T00:00:00.000000000",
          "2024-12-03T00:00:00.000000000",
          "2024-12-04T00:00:00.000000000",
          "2024-12-05T00:00:00.000000000",
          "2024-12-06T00:00:00.000000000",
          "2024-12-07T00:00:00.000000000",
          "2024-12-08T00:00:00.000000000",
          "2024-12-09T00:00:00.000000000",
          "2024-12-10T00:00:00.000000000",
          "2024-12-11T00:00:00.000000000",
          "2024-12-12T00:00:00.000000000",
          "2024-12-13T00:00:00.000000000",
          "2024-12-14T00:00:00.000000000",
          "2024-12-15T00:00:00.000000000",
          "2024-12-16T00:00:00.000000000",
          "2024-12-17T00:00:00.000000000",
          "2024-12-18T00:00:00.000000000",
          "2024-12-19T00:00:00.000000000",
          "2024-12-20T00:00:00.000000000",
          "2024-12-21T00:00:00.000000000",
          "2024-12-22T00:00:00.000000000",
          "2024-12-23T00:00:00.000000000",
          "2024-12-24T00:00:00.000000000",
          "2024-12-25T00:00:00.000000000",
          "2024-12-26T00:00:00.000000000",
          "2024-12-27T00:00:00.000000000",
          "2024-12-28T00:00:00.000000000",
          "2024-12-29T00:00:00.000000000",
          "2024-12-30T00:00:00.000000000",
          "2024-12-31T00:00:00.000000000"
         ],
         "y": {
          "bdata": "AAAAAAAA+H8AAAAAAAD4fwAAAAAAAPh/AAAAAAAA+H8AAAAAAAD4fwAAAAAAAPh/AAAAAAAA+H8AAAAAAAD4fwAAAAAAAPh/AAAAAAAA+H8AAAAAAAD4fwAAAAAAAPh/AAAAAAAA+H8AAAAAAAD4fwAAAAAAAPh/AAAAAAAA+H8AAAAAAAD4fwAAAAAAAPh/AAAAAAAA+H8AAAAAAAD4fwAAAAAAAPh/AAAAAAAA+H8AAAAAAAD4fwAAAAAAAPh/AAAAAAAA+H/iehSuR17lQOJ6FK5HXuVA4noUrkde5UDiehSuR17lQOJ6FK5HXuVA4noUrkde5UDiehSuR17lQOJ6FK5HXuVA4noUrkde5UDiehSuR17lQOJ6FK5HXuVArkfheujE5EAAAAAAeEDkQM3MzMyUjORAAAAAADAu5UAAAAAAMC7lQPYoXI+6RuVA7FG4Hp2z5UApXI/CubXlQML1KFxrHuZAuB6F67lO5kC4HoXruU7mQLgeheu5TuZAXI/C9cyI5kC4HoXr6YzmQB6F61F4qOZACtejcLUK50Bcj8L13BjnQEjhehReJOdArkfhelQp50CuR+F6VCnnQK5H4XqkoedAZmZmZiJe6EAAAAAA4O7pQAAAAADg7ulAmpmZmSHx6UAAAAAA4ATqQAAAAABAEupAmpmZmeGL60C4HoXrIeTrQAAAAACARexA9ihcj9J07ECQwvUoQLzsQDMzMzMv4exAkML1KPAa7UAAAAAAkBvuQAAAAAAQKO5AAAAAALRQ7kAAAAAAoFjuQAAAAACgWO5AAAAAAKBY7kAAAAAAoFjuQAAAAACgWO5AAAAAAKBY7kAAAAAAoFzuQKRwPQpncO5ApHA9Cmdw7kBI4XoUMk7vQJqZmZlN2u9AAAAAAHA18EAAAAAAcDXwQAAAAABwNfBAAAAAAHA18EAAAAAAcDXwQAAAAABwNfBAAAAAAMBs8EAAAAAAwGzwQAAAAADAbPBAAAAAAMBs8EAAAAAAwGzwQAAAAADAbPBAAAAAAMBs8EAAAAAAwGzwQAAAAADAbPBAuB6F6ydO8EC4HoXrJ07wQLgehesnTvBAuB6F6ydO8ECuR+F6lErwQK5H4XqUSvBArkfhepRK8ECuR+F6lErwQDQzMzPhK/BANDMzM+Er8EAAAAAAcCnwQAAAAABwKfBAAAAAAHAp8EAAAAAAcCnwQAAAAABwKfBAAAAAAHAp8EAAAAAAcCnwQAAAAABwKfBAAAAAAHAp8EAAAAAAcCnwQAAAAABwKfBAhetRuKwc8EBcj8L1bJTvQFyPwvVslO9AXI/C9WyU70CQwvUocFPvQML1KFwrN+9AwvUoXCs370CuR+F6RDLvQOxRuB4dZO5AhutRuJI47kCG61G4kjjuQIbrUbiSOO5AhutRuJI47kCG61G4kjjuQIbrUbiSOO5AhutRuJI47kCG61G4kjjuQB6F61FARu5AHoXrUUBG7kDsUbgezVXuQEjhehRGRO9A7FG4Hj1h70DsUbgePWHvQOxRuB49Ye9A7FG4Hj1h70DsUbgePWHvQOxRuB49Ye9ACtejcK1370DsUbgeZe7vQFyPwvUwIvBAXI/C9TAi8EBcj8L1MCLwQFyPwvUwIvBAXI/C9TAi8EBcj8L1MCLwQFyPwvUwIvBAhetRuJAr8EAAAAAAaC/wQHE9CtdRNPBAH4XrUZ5A8EC4HoXrI0bwQB+F61G+rPBAMzMzM3u88ECQwvUo8tPwQJDC9Sjy0/BAkML1KJi78ECQwvUomLvwQJDC9SiYu/BAkML1KJi78ECQwvUoyJvwQJDC9SjIm/BAkML1KMib8EBcj8L1gobwQFyPwvWChvBAhetRuDqA8EAfhetR8NXvQB+F61Hw1e9AH4XrUfDV70AfhetR8NXvQB+F61Hw1e9AH4XrUfDV70AfhetR8NXvQB+F61Hw1e9AH4XrUfDV70CkcD0KX2XvQKRwPQpv/+5AuB6F6x0y7kAUrkfhziXuQBSuR+HOJe5A4noUrvPE7UCG61G4goHtQHA9CtcLfe1AcD0K1wt97UBwPQrXC33tQPYoXI+iUO1AuB6F6w1K7UC4HoXrDUrtQGZmZmauBe1AXI/C9egz7UBcj8L16DPtQBSuR+F+gu1AFK5H4b6P7UAK16Nwyb/tQOJ6FK6Hxu1A4noUrofG7UDiehSuh8btQOJ6FK6Hxu1A4noUrofG7UCG61G4XgDuQIbrUbheAO5AhutRuN4q7kCG61G43iruQGdmZmZCW+5AZ2ZmZkJb7kBnZmZmQlvuQKRwPQoX2u5Aw/UoXOfp7kBxPQrXfxLtQHE9Ctd/Eu1AcT0K138S7UBxPQrXfxLtQHE9Ctd/Eu1AcT0K138S7UBxPQrXfxLtQHE9Ctd/Eu1AcT0K138S7UBxPQrXfxLtQHE9Ctd/Eu1AcT0K138S7UBxPQrXfxLtQHE9Ctd/Eu1AcT0K138S7UBxPQrXfxLtQHE9Ctd/Eu1AcT0K138S7UBxPQrXfxLtQAAAAAAAUuxAcT0K15NI7ECuR+F6PP7rQNejcD1C+utAAAAAAADV60AAAAAAANXrQAAAAAAA1etAAAAAAGAK7UC4HoXraTDtQAAAAAAgO+1APgrXo2iP7UAAAAAA4HHtQAAAAADgce1AAAAAAOCy7EAAAAAA4LLsQAAAAADgsuxAAAAAAOCy7EAAAAAA4LLsQAAAAADgsuxAAAAAAOCy7EAAAAAA4LLsQAAAAADgsuxAAAAAAOCy7EAAAAAA4LLsQAAAAADgsuxAAAAAAOCy7EAAAAAA4LLsQAAAAABwkuxA7FG4HrV87EDsUbgetXzsQEjhehT+ouxASOF6FP6i7EBwPQrXf6fsQAAAAABQ5+xAAAAAAIAQ7UAAAAAAgBDtQAAAAACAEO1AAAAAAIAQ7UAAAAAAgBDtQJDC9SjwU+1AkML1KPBT7UDC9ShcH5DtQKRwPQqzy+1ApHA9CrPL7UAAAAAA4DruQM3MzMx0Re5AzczMzHRF7kDNzMzMdEXuQM3MzMx0Re5AkML1KMBM7kAAAAAAQKDuQAAAAABgoO5AAAAAAAD77kAAAAAAoBjvQAAAAACgGO9AAAAAAKA870AAAAAAoDzvQAAAAACgVe9AH4XrURhd70AfhetRGF3vQB+F61EYXe9AH4XrURhd70AfhetRGF3vQB+F61EYXe9AH4XrURhd70AAAAAAAIzvQFyPwvWwLvBAXI/C9bAu8EBcj8L1sC7wQFyPwvWwLvBAXI/C9bAu8EBcj8L1sC7wQFyPwvWwLvBASOF6FF5S8EAAAAAAkObwQLgeheuf9PBAZmZmZk4M8UAAAAAAgFXxQAAAAABA6vFAHoXrUTTl8kAAAAAAAPLyQOxRuB7tWfNA7FG4Hu1Z80DsUbge7VnzQOxRuB7tWfNA7FG4Hu1Z80AK16Nwb2TzQGZmZmZuePNAXI/C9b6v80AAAAAA+D30QEjhehS4UPRASOF6FLhQ9EBI4XoUuFD0QEjhehS4UPRASOF6FLhQ9EBI4XoUuFD0QEjhehS4UPRASOF6FLhQ9EDsUbgexWT0QEjhehSwnfRASOF6FKA99UBI4XoUOGH1QML1KFw1ZvVAAAAAACAL9kBI4XoUgH/2QAAAAABAF/dAuB6F6z8490DiehSuIUn3QKRwPQrLVfdAAAAAAFCJ90AAAAAAUIn3QDMzMzPHnfdAAAAAAGi890AAAAAAMOX3QPYoXI+oNPhAAAAAAChG+EAAAAAAKEb4QAAAAAAoRvhAAAAAAChG+EAAAAAAKEb4QAAAAAAoRvhAAAAAAChG+EAAAAAAKEb4QAAAAAAoRvhAAAAAAChG+EAAAAAAKEb4QAAAAAAoRvhAAAAAAChG+EAAAAAAKEb4QJqZmZlbZvhA",
          "dtype": "f8"
         }
        },
        {
         "line": {
          "color": "rgba(0,0,0,0)"
         },
         "name": "Senkou Span A",
         "showlegend": false,
         "type": "scatter",
         "x": [
          "2024-01-01T00:00:00.000000000",
          "2024-01-02T00:00:00.000000000",
          "2024-01-03T00:00:00.000000000",
          "2024-01-04T00:00:00.000000000",
          "2024-01-05T00:00:00.000000000",
          "2024-01-06T00:00:00.000000000",
          "2024-01-07T00:00:00.000000000",
          "2024-01-08T00:00:00.000000000",
          "2024-01-09T00:00:00.000000000",
          "2024-01-10T00:00:00.000000000",
          "2024-01-11T00:00:00.000000000",
          "2024-01-12T00:00:00.000000000",
          "2024-01-13T00:00:00.000000000",
          "2024-01-14T00:00:00.000000000",
          "2024-01-15T00:00:00.000000000",
          "2024-01-16T00:00:00.000000000",
          "2024-01-17T00:00:00.000000000",
          "2024-01-18T00:00:00.000000000",
          "2024-01-19T00:00:00.000000000",
          "2024-01-20T00:00:00.000000000",
          "2024-01-21T00:00:00.000000000",
          "2024-01-22T00:00:00.000000000",
          "2024-01-23T00:00:00.000000000",
          "2024-01-24T00:00:00.000000000",
          "2024-01-25T00:00:00.000000000",
          "2024-01-26T00:00:00.000000000",
          "2024-01-27T00:00:00.000000000",
          "2024-01-28T00:00:00.000000000",
          "2024-01-29T00:00:00.000000000",
          "2024-01-30T00:00:00.000000000",
          "2024-01-31T00:00:00.000000000",
          "2024-02-01T00:00:00.000000000",
          "2024-02-02T00:00:00.000000000",
          "2024-02-03T00:00:00.000000000",
          "2024-02-04T00:00:00.000000000",
          "2024-02-05T00:00:00.000000000",
          "2024-02-06T00:00:00.000000000",
          "2024-02-07T00:00:00.000000000",
          "2024-02-08T00:00:00.000000000",
          "2024-02-09T00:00:00.000000000",
          "2024-02-10T00:00:00.000000000",
          "2024-02-11T00:00:00.000000000",
          "2024-02-12T00:00:00.000000000",
          "2024-02-13T00:00:00.000000000",
          "2024-02-14T00:00:00.000000000",
          "2024-02-15T00:00:00.000000000",
          "2024-02-16T00:00:00.000000000",
          "2024-02-17T00:00:00.000000000",
          "2024-02-18T00:00:00.000000000",
          "2024-02-19T00:00:00.000000000",
          "2024-02-20T00:00:00.000000000",
          "2024-02-21T00:00:00.000000000",
          "2024-02-22T00:00:00.000000000",
          "2024-02-23T00:00:00.000000000",
          "2024-02-24T00:00:00.000000000",
          "2024-02-25T00:00:00.000000000",
          "2024-02-26T00:00:00.000000000",
          "2024-02-27T00:00:00.000000000",
          "2024-02-28T00:00:00.000000000",
          "2024-02-29T00:00:00.000000000",
          "2024-03-01T00:00:00.000000000",
          "2024-03-02T00:00:00.000000000",
          "2024-03-03T00:00:00.000000000",
          "2024-03-04T00:00:00.000000000",
          "2024-03-05T00:00:00.000000000",
          "2024-03-06T00:00:00.000000000",
          "2024-03-07T00:00:00.000000000",
          "2024-03-08T00:00:00.000000000",
          "2024-03-09T00:00:00.000000000",
          "2024-03-10T00:00:00.000000000",
          "2024-03-11T00:00:00.000000000",
          "2024-03-12T00:00:00.000000000",
          "2024-03-13T00:00:00.000000000",
          "2024-03-14T00:00:00.000000000",
          "2024-03-15T00:00:00.000000000",
          "2024-03-16T00:00:00.000000000",
          "2024-03-17T00:00:00.000000000",
          "2024-03-18T00:00:00.000000000",
          "2024-03-19T00:00:00.000000000",
          "2024-03-20T00:00:00.000000000",
          "2024-03-21T00:00:00.000000000",
          "2024-03-22T00:00:00.000000000",
          "2024-03-23T00:00:00.000000000",
          "2024-03-24T00:00:00.000000000",
          "2024-03-25T00:00:00.000000000",
          "2024-03-26T00:00:00.000000000",
          "2024-03-27T00:00:00.000000000",
          "2024-03-28T00:00:00.000000000",
          "2024-03-29T00:00:00.000000000",
          "2024-03-30T00:00:00.000000000",
          "2024-03-31T00:00:00.000000000",
          "2024-04-01T00:00:00.000000000",
          "2024-04-02T00:00:00.000000000",
          "2024-04-03T00:00:00.000000000",
          "2024-04-04T00:00:00.000000000",
          "2024-04-05T00:00:00.000000000",
          "2024-04-06T00:00:00.000000000",
          "2024-04-07T00:00:00.000000000",
          "2024-04-08T00:00:00.000000000",
          "2024-04-09T00:00:00.000000000",
          "2024-04-10T00:00:00.000000000",
          "2024-04-11T00:00:00.000000000",
          "2024-04-12T00:00:00.000000000",
          "2024-04-13T00:00:00.000000000",
          "2024-04-14T00:00:00.000000000",
          "2024-04-15T00:00:00.000000000",
          "2024-04-16T00:00:00.000000000",
          "2024-04-17T00:00:00.000000000",
          "2024-04-18T00:00:00.000000000",
          "2024-04-19T00:00:00.000000000",
          "2024-04-20T00:00:00.000000000",
          "2024-04-21T00:00:00.000000000",
          "2024-04-22T00:00:00.000000000",
          "2024-04-23T00:00:00.000000000",
          "2024-04-24T00:00:00.000000000",
          "2024-04-25T00:00:00.000000000",
          "2024-04-26T00:00:00.000000000",
          "2024-04-27T00:00:00.000000000",
          "2024-04-28T00:00:00.000000000",
          "2024-04-29T00:00:00.000000000",
          "2024-04-30T00:00:00.000000000",
          "2024-05-01T00:00:00.000000000",
          "2024-05-02T00:00:00.000000000",
          "2024-05-03T00:00:00.000000000",
          "2024-05-04T00:00:00.000000000",
          "2024-05-05T00:00:00.000000000",
          "2024-05-06T00:00:00.000000000",
          "2024-05-07T00:00:00.000000000",
          "2024-05-08T00:00:00.000000000",
          "2024-05-09T00:00:00.000000000",
          "2024-05-10T00:00:00.000000000",
          "2024-05-11T00:00:00.000000000",
          "2024-05-12T00:00:00.000000000",
          "2024-05-13T00:00:00.000000000",
          "2024-05-14T00:00:00.000000000",
          "2024-05-15T00:00:00.000000000",
          "2024-05-16T00:00:00.000000000",
          "2024-05-17T00:00:00.000000000",
          "2024-05-18T00:00:00.000000000",
          "2024-05-19T00:00:00.000000000",
          "2024-05-20T00:00:00.000000000",
          "2024-05-21T00:00:00.000000000",
          "2024-05-22T00:00:00.000000000",
          "2024-05-23T00:00:00.000000000",
          "2024-05-24T00:00:00.000000000",
          "2024-05-25T00:00:00.000000000",
          "2024-05-26T00:00:00.000000000",
          "2024-05-27T00:00:00.000000000",
          "2024-05-28T00:00:00.000000000",
          "2024-05-29T00:00:00.000000000",
          "2024-05-30T00:00:00.000000000",
          "2024-05-31T00:00:00.000000000",
          "2024-06-01T00:00:00.000000000",
          "2024-06-02T00:00:00.000000000",
          "2024-06-03T00:00:00.000000000",
          "2024-06-04T00:00:00.000000000",
          "2024-06-05T00:00:00.000000000",
          "2024-06-06T00:00:00.000000000",
          "2024-06-07T00:00:00.000000000",
          "2024-06-08T00:00:00.000000000",
          "2024-06-09T00:00:00.000000000",
          "2024-06-10T00:00:00.000000000",
          "2024-06-11T00:00:00.000000000",
          "2024-06-12T00:00:00.000000000",
          "2024-06-13T00:00:00.000000000",
          "2024-06-14T00:00:00.000000000",
          "2024-06-15T00:00:00.000000000",
          "2024-06-16T00:00:00.000000000",
          "2024-06-17T00:00:00.000000000",
          "2024-06-18T00:00:00.000000000",
          "2024-06-19T00:00:00.000000000",
          "2024-06-20T00:00:00.000000000",
          "2024-06-21T00:00:00.000000000",
          "2024-06-22T00:00:00.000000000",
          "2024-06-23T00:00:00.000000000",
          "2024-06-24T00:00:00.000000000",
          "2024-06-25T00:00:00.000000000",
          "2024-06-26T00:00:00.000000000",
          "2024-06-27T00:00:00.000000000",
          "2024-06-28T00:00:00.000000000",
          "2024-06-29T00:00:00.000000000",
          "2024-06-30T00:00:00.000000000",
          "2024-07-01T00:00:00.000000000",
          "2024-07-02T00:00:00.000000000",
          "2024-07-03T00:00:00.000000000",
          "2024-07-04T00:00:00.000000000",
          "2024-07-05T00:00:00.000000000",
          "2024-07-06T00:00:00.000000000",
          "2024-07-07T00:00:00.000000000",
          "2024-07-08T00:00:00.000000000",
          "2024-07-09T00:00:00.000000000",
          "2024-07-10T00:00:00.000000000",
          "2024-07-11T00:00:00.000000000",
          "2024-07-12T00:00:00.000000000",
          "2024-07-13T00:00:00.000000000",
          "2024-07-14T00:00:00.000000000",
          "2024-07-15T00:00:00.000000000",
          "2024-07-16T00:00:00.000000000",
          "2024-07-17T00:00:00.000000000",
          "2024-07-18T00:00:00.000000000",
          "2024-07-19T00:00:00.000000000",
          "2024-07-20T00:00:00.000000000",
          "2024-07-21T00:00:00.000000000",
          "2024-07-22T00:00:00.000000000",
          "2024-07-23T00:00:00.000000000",
          "2024-07-24T00:00:00.000000000",
          "2024-07-25T00:00:00.000000000",
          "2024-07-26T00:00:00.000000000",
          "2024-07-27T00:00:00.000000000",
          "2024-07-28T00:00:00.000000000",
          "2024-07-29T00:00:00.000000000",
          "2024-07-30T00:00:00.000000000",
          "2024-07-31T00:00:00.000000000",
          "2024-08-01T00:00:00.000000000",
          "2024-08-02T00:00:00.000000000",
          "2024-08-03T00:00:00.000000000",
          "2024-08-04T00:00:00.000000000",
          "2024-08-05T00:00:00.000000000",
          "2024-08-06T00:00:00.000000000",
          "2024-08-07T00:00:00.000000000",
          "2024-08-08T00:00:00.000000000",
          "2024-08-09T00:00:00.000000000",
          "2024-08-10T00:00:00.000000000",
          "2024-08-11T00:00:00.000000000",
          "2024-08-12T00:00:00.000000000",
          "2024-08-13T00:00:00.000000000",
          "2024-08-14T00:00:00.000000000",
          "2024-08-15T00:00:00.000000000",
          "2024-08-16T00:00:00.000000000",
          "2024-08-17T00:00:00.000000000",
          "2024-08-18T00:00:00.000000000",
          "2024-08-19T00:00:00.000000000",
          "2024-08-20T00:00:00.000000000",
          "2024-08-21T00:00:00.000000000",
          "2024-08-22T00:00:00.000000000",
          "2024-08-23T00:00:00.000000000",
          "2024-08-24T00:00:00.000000000",
          "2024-08-25T00:00:00.000000000",
          "2024-08-26T00:00:00.000000000",
          "2024-08-27T00:00:00.000000000",
          "2024-08-28T00:00:00.000000000",
          "2024-08-29T00:00:00.000000000",
          "2024-08-30T00:00:00.000000000",
          "2024-08-31T00:00:00.000000000",
          "2024-09-01T00:00:00.000000000",
          "2024-09-02T00:00:00.000000000",
          "2024-09-03T00:00:00.000000000",
          "2024-09-04T00:00:00.000000000",
          "2024-09-05T00:00:00.000000000",
          "2024-09-06T00:00:00.000000000",
          "2024-09-07T00:00:00.000000000",
          "2024-09-08T00:00:00.000000000",
          "2024-09-09T00:00:00.000000000",
          "2024-09-10T00:00:00.000000000",
          "2024-09-11T00:00:00.000000000",
          "2024-09-12T00:00:00.000000000",
          "2024-09-13T00:00:00.000000000",
          "2024-09-14T00:00:00.000000000",
          "2024-09-15T00:00:00.000000000",
          "2024-09-16T00:00:00.000000000",
          "2024-09-17T00:00:00.000000000",
          "2024-09-18T00:00:00.000000000",
          "2024-09-19T00:00:00.000000000",
          "2024-09-20T00:00:00.000000000",
          "2024-09-21T00:00:00.000000000",
          "2024-09-22T00:00:00.000000000",
          "2024-09-23T00:00:00.000000000",
          "2024-09-24T00:00:00.000000000",
          "2024-09-25T00:00:00.000000000",
          "2024-09-26T00:00:00.000000000",
          "2024-09-27T00:00:00.000000000",
          "2024-09-28T00:00:00.000000000",
          "2024-09-29T00:00:00.000000000",
          "2024-09-30T00:00:00.000000000",
          "2024-10-01T00:00:00.000000000",
          "2024-10-02T00:00:00.000000000",
          "2024-10-03T00:00:00.000000000",
          "2024-10-04T00:00:00.000000000",
          "2024-10-05T00:00:00.000000000",
          "2024-10-06T00:00:00.000000000",
          "2024-10-07T00:00:00.000000000",
          "2024-10-08T00:00:00.000000000",
          "2024-10-09T00:00:00.000000000",
          "2024-10-10T00:00:00.000000000",
          "2024-10-11T00:00:00.000000000",
          "2024-10-12T00:00:00.000000000",
          "2024-10-13T00:00:00.000000000",
          "2024-10-14T00:00:00.000000000",
          "2024-10-15T00:00:00.000000000",
          "2024-10-16T00:00:00.000000000",
          "2024-10-17T00:00:00.000000000",
          "2024-10-18T00:00:00.000000000",
          "2024-10-19T00:00:00.000000000",
          "2024-10-20T00:00:00.000000000",
          "2024-10-21T00:00:00.000000000",
          "2024-10-22T00:00:00.000000000",
          "2024-10-23T00:00:00.000000000",
          "2024-10-24T00:00:00.000000000",
          "2024-10-25T00:00:00.000000000",
          "2024-10-26T00:00:00.000000000",
          "2024-10-27T00:00:00.000000000",
          "2024-10-28T00:00:00.000000000",
          "2024-10-29T00:00:00.000000000",
          "2024-10-30T00:00:00.000000000",
          "2024-10-31T00:00:00.000000000",
          "2024-11-01T00:00:00.000000000",
          "2024-11-02T00:00:00.000000000",
          "2024-11-03T00:00:00.000000000",
          "2024-11-04T00:00:00.000000000",
          "2024-11-05T00:00:00.000000000",
          "2024-11-06T00:00:00.000000000",
          "2024-11-07T00:00:00.000000000",
          "2024-11-08T00:00:00.000000000",
          "2024-11-09T00:00:00.000000000",
          "2024-11-10T00:00:00.000000000",
          "2024-11-11T00:00:00.000000000",
          "2024-11-12T00:00:00.000000000",
          "2024-11-13T00:00:00.000000000",
          "2024-11-14T00:00:00.000000000",
          "2024-11-15T00:00:00.000000000",
          "2024-11-16T00:00:00.000000000",
          "2024-11-17T00:00:00.000000000",
          "2024-11-18T00:00:00.000000000",
          "2024-11-19T00:00:00.000000000",
          "2024-11-20T00:00:00.000000000",
          "2024-11-21T00:00:00.000000000",
          "2024-11-22T00:00:00.000000000",
          "2024-11-23T00:00:00.000000000",
          "2024-11-24T00:00:00.000000000",
          "2024-11-25T00:00:00.000000000",
          "2024-11-26T00:00:00.000000000",
          "2024-11-27T00:00:00.000000000",
          "2024-11-28T00:00:00.000000000",
          "2024-11-29T00:00:00.000000000",
          "2024-11-30T00:00:00.000000000",
          "2024-12-01T00:00:00.000000000",
          "2024-12-02T00:00:00.000000000",
          "2024-12-03T00:00:00.000000000",
          "2024-12-04T00:00:00.000000000",
          "2024-12-05T00:00:00.000000000",
          "2024-12-06T00:00:00.000000000",
          "2024-12-07T00:00:00.000000000",
          "2024-12-08T00:00:00.000000000",
          "2024-12-09T00:00:00.000000000",
          "2024-12-10T00:00:00.000000000",
          "2024-12-11T00:00:00.000000000",
          "2024-12-12T00:00:00.000000000",
          "2024-12-13T00:00:00.000000000",
          "2024-12-14T00:00:00.000000000",
          "2024-12-15T00:00:00.000000000",
          "2024-12-16T00:00:00.000000000",
          "2024-12-17T00:00:00.000000000",
          "2024-12-18T00:00:00.000000000",
          "2024-12-19T00:00:00.000000000",
          "2024-12-20T00:00:00.000000000",
          "2024-12-21T00:00:00.000000000",
          "2024-12-22T00:00:00.000000000",
          "2024-12-23T00:00:00.000000000",
          "2024-12-24T00:00:00.000000000",
          "2024-12-25T00:00:00.000000000",
          "2024-12-26T00:00:00.000000000",
          "2024-12-27T00:00:00.000000000",
          "2024-12-28T00:00:00.000000000",
          "2024-12-29T00:00:00.000000000",
          "2024-12-30T00:00:00.000000000",
          "2024-12-31T00:00:00.000000000"
         ],
         "y": {
          "bdata": "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",
          "dtype": "f8"
         }
        },
        {
         "fill": "tonexty",
         "fillcolor": "rgba(173,216,230,0.2)",
         "line": {
          "color": "rgba(0,0,0,0)"
         },
         "name": "Senkou Span B",
         "showlegend": false,
         "type": "scatter",
         "x": [
          "2024-01-01T00:00:00.000000000",
          "2024-01-02T00:00:00.000000000",
          "2024-01-03T00:00:00.000000000",
          "2024-01-04T00:00:00.000000000",
          "2024-01-05T00:00:00.000000000",
          "2024-01-06T00:00:00.000000000",
          "2024-01-07T00:00:00.000000000",
          "2024-01-08T00:00:00.000000000",
          "2024-01-09T00:00:00.000000000",
          "2024-01-10T00:00:00.000000000",
          "2024-01-11T00:00:00.000000000",
          "2024-01-12T00:00:00.000000000",
          "2024-01-13T00:00:00.000000000",
          "2024-01-14T00:00:00.000000000",
          "2024-01-15T00:00:00.000000000",
          "2024-01-16T00:00:00.000000000",
          "2024-01-17T00:00:00.000000000",
          "2024-01-18T00:00:00.000000000",
          "2024-01-19T00:00:00.000000000",
          "2024-01-20T00:00:00.000000000",
          "2024-01-21T00:00:00.000000000",
          "2024-01-22T00:00:00.000000000",
          "2024-01-23T00:00:00.000000000",
          "2024-01-24T00:00:00.000000000",
          "2024-01-25T00:00:00.000000000",
          "2024-01-26T00:00:00.000000000",
          "2024-01-27T00:00:00.000000000",
          "2024-01-28T00:00:00.000000000",
          "2024-01-29T00:00:00.000000000",
          "2024-01-30T00:00:00.000000000",
          "2024-01-31T00:00:00.000000000",
          "2024-02-01T00:00:00.000000000",
          "2024-02-02T00:00:00.000000000",
          "2024-02-03T00:00:00.000000000",
          "2024-02-04T00:00:00.000000000",
          "2024-02-05T00:00:00.000000000",
          "2024-02-06T00:00:00.000000000",
          "2024-02-07T00:00:00.000000000",
          "2024-02-08T00:00:00.000000000",
          "2024-02-09T00:00:00.000000000",
          "2024-02-10T00:00:00.000000000",
          "2024-02-11T00:00:00.000000000",
          "2024-02-12T00:00:00.000000000",
          "2024-02-13T00:00:00.000000000",
          "2024-02-14T00:00:00.000000000",
          "2024-02-15T00:00:00.000000000",
          "2024-02-16T00:00:00.000000000",
          "2024-02-17T00:00:00.000000000",
          "2024-02-18T00:00:00.000000000",
          "2024-02-19T00:00:00.000000000",
          "2024-02-20T00:00:00.000000000",
          "2024-02-21T00:00:00.000000000",
          "2024-02-22T00:00:00.000000000",
          "2024-02-23T00:00:00.000000000",
          "2024-02-24T00:00:00.000000000",
          "2024-02-25T00:00:00.000000000",
          "2024-02-26T00:00:00.000000000",
          "2024-02-27T00:00:00.000000000",
          "2024-02-28T00:00:00.000000000",
          "2024-02-29T00:00:00.000000000",
          "2024-03-01T00:00:00.000000000",
          "2024-03-02T00:00:00.000000000",
          "2024-03-03T00:00:00.000000000",
          "2024-03-04T00:00:00.000000000",
          "2024-03-05T00:00:00.000000000",
          "2024-03-06T00:00:00.000000000",
          "2024-03-07T00:00:00.000000000",
          "2024-03-08T00:00:00.000000000",
          "2024-03-09T00:00:00.000000000",
          "2024-03-10T00:00:00.000000000",
          "2024-03-11T00:00:00.000000000",
          "2024-03-12T00:00:00.000000000",
          "2024-03-13T00:00:00.000000000",
          "2024-03-14T00:00:00.000000000",
          "2024-03-15T00:00:00.000000000",
          "2024-03-16T00:00:00.000000000",
          "2024-03-17T00:00:00.000000000",
          "2024-03-18T00:00:00.000000000",
          "2024-03-19T00:00:00.000000000",
          "2024-03-20T00:00:00.000000000",
          "2024-03-21T00:00:00.000000000",
          "2024-03-22T00:00:00.000000000",
          "2024-03-23T00:00:00.000000000",
          "2024-03-24T00:00:00.000000000",
          "2024-03-25T00:00:00.000000000",
          "2024-03-26T00:00:00.000000000",
          "2024-03-27T00:00:00.000000000",
          "2024-03-28T00:00:00.000000000",
          "2024-03-29T00:00:00.000000000",
          "2024-03-30T00:00:00.000000000",
          "2024-03-31T00:00:00.000000000",
          "2024-04-01T00:00:00.000000000",
          "2024-04-02T00:00:00.000000000",
          "2024-04-03T00:00:00.000000000",
          "2024-04-04T00:00:00.000000000",
          "2024-04-05T00:00:00.000000000",
          "2024-04-06T00:00:00.000000000",
          "2024-04-07T00:00:00.000000000",
          "2024-04-08T00:00:00.000000000",
          "2024-04-09T00:00:00.000000000",
          "2024-04-10T00:00:00.000000000",
          "2024-04-11T00:00:00.000000000",
          "2024-04-12T00:00:00.000000000",
          "2024-04-13T00:00:00.000000000",
          "2024-04-14T00:00:00.000000000",
          "2024-04-15T00:00:00.000000000",
          "2024-04-16T00:00:00.000000000",
          "2024-04-17T00:00:00.000000000",
          "2024-04-18T00:00:00.000000000",
          "2024-04-19T00:00:00.000000000",
          "2024-04-20T00:00:00.000000000",
          "2024-04-21T00:00:00.000000000",
          "2024-04-22T00:00:00.000000000",
          "2024-04-23T00:00:00.000000000",
          "2024-04-24T00:00:00.000000000",
          "2024-04-25T00:00:00.000000000",
          "2024-04-26T00:00:00.000000000",
          "2024-04-27T00:00:00.000000000",
          "2024-04-28T00:00:00.000000000",
          "2024-04-29T00:00:00.000000000",
          "2024-04-30T00:00:00.000000000",
          "2024-05-01T00:00:00.000000000",
          "2024-05-02T00:00:00.000000000",
          "2024-05-03T00:00:00.000000000",
          "2024-05-04T00:00:00.000000000",
          "2024-05-05T00:00:00.000000000",
          "2024-05-06T00:00:00.000000000",
          "2024-05-07T00:00:00.000000000",
          "2024-05-08T00:00:00.000000000",
          "2024-05-09T00:00:00.000000000",
          "2024-05-10T00:00:00.000000000",
          "2024-05-11T00:00:00.000000000",
          "2024-05-12T00:00:00.000000000",
          "2024-05-13T00:00:00.000000000",
          "2024-05-14T00:00:00.000000000",
          "2024-05-15T00:00:00.000000000",
          "2024-05-16T00:00:00.000000000",
          "2024-05-17T00:00:00.000000000",
          "2024-05-18T00:00:00.000000000",
          "2024-05-19T00:00:00.000000000",
          "2024-05-20T00:00:00.000000000",
          "2024-05-21T00:00:00.000000000",
          "2024-05-22T00:00:00.000000000",
          "2024-05-23T00:00:00.000000000",
          "2024-05-24T00:00:00.000000000",
          "2024-05-25T00:00:00.000000000",
          "2024-05-26T00:00:00.000000000",
          "2024-05-27T00:00:00.000000000",
          "2024-05-28T00:00:00.000000000",
          "2024-05-29T00:00:00.000000000",
          "2024-05-30T00:00:00.000000000",
          "2024-05-31T00:00:00.000000000",
          "2024-06-01T00:00:00.000000000",
          "2024-06-02T00:00:00.000000000",
          "2024-06-03T00:00:00.000000000",
          "2024-06-04T00:00:00.000000000",
          "2024-06-05T00:00:00.000000000",
          "2024-06-06T00:00:00.000000000",
          "2024-06-07T00:00:00.000000000",
          "2024-06-08T00:00:00.000000000",
          "2024-06-09T00:00:00.000000000",
          "2024-06-10T00:00:00.000000000",
          "2024-06-11T00:00:00.000000000",
          "2024-06-12T00:00:00.000000000",
          "2024-06-13T00:00:00.000000000",
          "2024-06-14T00:00:00.000000000",
          "2024-06-15T00:00:00.000000000",
          "2024-06-16T00:00:00.000000000",
          "2024-06-17T00:00:00.000000000",
          "2024-06-18T00:00:00.000000000",
          "2024-06-19T00:00:00.000000000",
          "2024-06-20T00:00:00.000000000",
          "2024-06-21T00:00:00.000000000",
          "2024-06-22T00:00:00.000000000",
          "2024-06-23T00:00:00.000000000",
          "2024-06-24T00:00:00.000000000",
          "2024-06-25T00:00:00.000000000",
          "2024-06-26T00:00:00.000000000",
          "2024-06-27T00:00:00.000000000",
          "2024-06-28T00:00:00.000000000",
          "2024-06-29T00:00:00.000000000",
          "2024-06-30T00:00:00.000000000",
          "2024-07-01T00:00:00.000000000",
          "2024-07-02T00:00:00.000000000",
          "2024-07-03T00:00:00.000000000",
          "2024-07-04T00:00:00.000000000",
          "2024-07-05T00:00:00.000000000",
          "2024-07-06T00:00:00.000000000",
          "2024-07-07T00:00:00.000000000",
          "2024-07-08T00:00:00.000000000",
          "2024-07-09T00:00:00.000000000",
          "2024-07-10T00:00:00.000000000",
          "2024-07-11T00:00:00.000000000",
          "2024-07-12T00:00:00.000000000",
          "2024-07-13T00:00:00.000000000",
          "2024-07-14T00:00:00.000000000",
          "2024-07-15T00:00:00.000000000",
          "2024-07-16T00:00:00.000000000",
          "2024-07-17T00:00:00.000000000",
          "2024-07-18T00:00:00.000000000",
          "2024-07-19T00:00:00.000000000",
          "2024-07-20T00:00:00.000000000",
          "2024-07-21T00:00:00.000000000",
          "2024-07-22T00:00:00.000000000",
          "2024-07-23T00:00:00.000000000",
          "2024-07-24T00:00:00.000000000",
          "2024-07-25T00:00:00.000000000",
          "2024-07-26T00:00:00.000000000",
          "2024-07-27T00:00:00.000000000",
          "2024-07-28T00:00:00.000000000",
          "2024-07-29T00:00:00.000000000",
          "2024-07-30T00:00:00.000000000",
          "2024-07-31T00:00:00.000000000",
          "2024-08-01T00:00:00.000000000",
          "2024-08-02T00:00:00.000000000",
          "2024-08-03T00:00:00.000000000",
          "2024-08-04T00:00:00.000000000",
          "2024-08-05T00:00:00.000000000",
          "2024-08-06T00:00:00.000000000",
          "2024-08-07T00:00:00.000000000",
          "2024-08-08T00:00:00.000000000",
          "2024-08-09T00:00:00.000000000",
          "2024-08-10T00:00:00.000000000",
          "2024-08-11T00:00:00.000000000",
          "2024-08-12T00:00:00.000000000",
          "2024-08-13T00:00:00.000000000",
          "2024-08-14T00:00:00.000000000",
          "2024-08-15T00:00:00.000000000",
          "2024-08-16T00:00:00.000000000",
          "2024-08-17T00:00:00.000000000",
          "2024-08-18T00:00:00.000000000",
          "2024-08-19T00:00:00.000000000",
          "2024-08-20T00:00:00.000000000",
          "2024-08-21T00:00:00.000000000",
          "2024-08-22T00:00:00.000000000",
          "2024-08-23T00:00:00.000000000",
          "2024-08-24T00:00:00.000000000",
          "2024-08-25T00:00:00.000000000",
          "2024-08-26T00:00:00.000000000",
          "2024-08-27T00:00:00.000000000",
          "2024-08-28T00:00:00.000000000",
          "2024-08-29T00:00:00.000000000",
          "2024-08-30T00:00:00.000000000",
          "2024-08-31T00:00:00.000000000",
          "2024-09-01T00:00:00.000000000",
          "2024-09-02T00:00:00.000000000",
          "2024-09-03T00:00:00.000000000",
          "2024-09-04T00:00:00.000000000",
          "2024-09-05T00:00:00.000000000",
          "2024-09-06T00:00:00.000000000",
          "2024-09-07T00:00:00.000000000",
          "2024-09-08T00:00:00.000000000",
          "2024-09-09T00:00:00.000000000",
          "2024-09-10T00:00:00.000000000",
          "2024-09-11T00:00:00.000000000",
          "2024-09-12T00:00:00.000000000",
          "2024-09-13T00:00:00.000000000",
          "2024-09-14T00:00:00.000000000",
          "2024-09-15T00:00:00.000000000",
          "2024-09-16T00:00:00.000000000",
          "2024-09-17T00:00:00.000000000",
          "2024-09-18T00:00:00.000000000",
          "2024-09-19T00:00:00.000000000",
          "2024-09-20T00:00:00.000000000",
          "2024-09-21T00:00:00.000000000",
          "2024-09-22T00:00:00.000000000",
          "2024-09-23T00:00:00.000000000",
          "2024-09-24T00:00:00.000000000",
          "2024-09-25T00:00:00.000000000",
          "2024-09-26T00:00:00.000000000",
          "2024-09-27T00:00:00.000000000",
          "2024-09-28T00:00:00.000000000",
          "2024-09-29T00:00:00.000000000",
          "2024-09-30T00:00:00.000000000",
          "2024-10-01T00:00:00.000000000",
          "2024-10-02T00:00:00.000000000",
          "2024-10-03T00:00:00.000000000",
          "2024-10-04T00:00:00.000000000",
          "2024-10-05T00:00:00.000000000",
          "2024-10-06T00:00:00.000000000",
          "2024-10-07T00:00:00.000000000",
          "2024-10-08T00:00:00.000000000",
          "2024-10-09T00:00:00.000000000",
          "2024-10-10T00:00:00.000000000",
          "2024-10-11T00:00:00.000000000",
          "2024-10-12T00:00:00.000000000",
          "2024-10-13T00:00:00.000000000",
          "2024-10-14T00:00:00.000000000",
          "2024-10-15T00:00:00.000000000",
          "2024-10-16T00:00:00.000000000",
          "2024-10-17T00:00:00.000000000",
          "2024-10-18T00:00:00.000000000",
          "2024-10-19T00:00:00.000000000",
          "2024-10-20T00:00:00.000000000",
          "2024-10-21T00:00:00.000000000",
          "2024-10-22T00:00:00.000000000",
          "2024-10-23T00:00:00.000000000",
          "2024-10-24T00:00:00.000000000",
          "2024-10-25T00:00:00.000000000",
          "2024-10-26T00:00:00.000000000",
          "2024-10-27T00:00:00.000000000",
          "2024-10-28T00:00:00.000000000",
          "2024-10-29T00:00:00.000000000",
          "2024-10-30T00:00:00.000000000",
          "2024-10-31T00:00:00.000000000",
          "2024-11-01T00:00:00.000000000",
          "2024-11-02T00:00:00.000000000",
          "2024-11-03T00:00:00.000000000",
          "2024-11-04T00:00:00.000000000",
          "2024-11-05T00:00:00.000000000",
          "2024-11-06T00:00:00.000000000",
          "2024-11-07T00:00:00.000000000",
          "2024-11-08T00:00:00.000000000",
          "2024-11-09T00:00:00.000000000",
          "2024-11-10T00:00:00.000000000",
          "2024-11-11T00:00:00.000000000",
          "2024-11-12T00:00:00.000000000",
          "2024-11-13T00:00:00.000000000",
          "2024-11-14T00:00:00.000000000",
          "2024-11-15T00:00:00.000000000",
          "2024-11-16T00:00:00.000000000",
          "2024-11-17T00:00:00.000000000",
          "2024-11-18T00:00:00.000000000",
          "2024-11-19T00:00:00.000000000",
          "2024-11-20T00:00:00.000000000",
          "2024-11-21T00:00:00.000000000",
          "2024-11-22T00:00:00.000000000",
          "2024-11-23T00:00:00.000000000",
          "2024-11-24T00:00:00.000000000",
          "2024-11-25T00:00:00.000000000",
          "2024-11-26T00:00:00.000000000",
          "2024-11-27T00:00:00.000000000",
          "2024-11-28T00:00:00.000000000",
          "2024-11-29T00:00:00.000000000",
          "2024-11-30T00:00:00.000000000",
          "2024-12-01T00:00:00.000000000",
          "2024-12-02T00:00:00.000000000",
          "2024-12-03T00:00:00.000000000",
          "2024-12-04T00:00:00.000000000",
          "2024-12-05T00:00:00.000000000",
          "2024-12-06T00:00:00.000000000",
          "2024-12-07T00:00:00.000000000",
          "2024-12-08T00:00:00.000000000",
          "2024-12-09T00:00:00.000000000",
          "2024-12-10T00:00:00.000000000",
          "2024-12-11T00:00:00.000000000",
          "2024-12-12T00:00:00.000000000",
          "2024-12-13T00:00:00.000000000",
          "2024-12-14T00:00:00.000000000",
          "2024-12-15T00:00:00.000000000",
          "2024-12-16T00:00:00.000000000",
          "2024-12-17T00:00:00.000000000",
          "2024-12-18T00:00:00.000000000",
          "2024-12-19T00:00:00.000000000",
          "2024-12-20T00:00:00.000000000",
          "2024-12-21T00:00:00.000000000",
          "2024-12-22T00:00:00.000000000",
          "2024-12-23T00:00:00.000000000",
          "2024-12-24T00:00:00.000000000",
          "2024-12-25T00:00:00.000000000",
          "2024-12-26T00:00:00.000000000",
          "2024-12-27T00:00:00.000000000",
          "2024-12-28T00:00:00.000000000",
          "2024-12-29T00:00:00.000000000",
          "2024-12-30T00:00:00.000000000",
          "2024-12-31T00:00:00.000000000"
         ],
         "y": {
          "bdata": "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",
          "dtype": "f8"
         }
        }
       ],
       "layout": {
        "showlegend": true,
        "template": {
         "data": {
          "bar": [
           {
            "error_x": {
             "color": "#2a3f5f"
            },
            "error_y": {
             "color": "#2a3f5f"
            },
            "marker": {
             "line": {
              "color": "#E5ECF6",
              "width": 0.5
             },
             "pattern": {
              "fillmode": "overlay",
              "size": 10,
              "solidity": 0.2
             }
            },
            "type": "bar"
           }
          ],
          "barpolar": [
           {
            "marker": {
             "line": {
              "color": "#E5ECF6",
              "width": 0.5
             },
             "pattern": {
              "fillmode": "overlay",
              "size": 10,
              "solidity": 0.2
             }
            },
            "type": "barpolar"
           }
          ],
          "carpet": [
           {
            "aaxis": {
             "endlinecolor": "#2a3f5f",
             "gridcolor": "white",
             "linecolor": "white",
             "minorgridcolor": "white",
             "startlinecolor": "#2a3f5f"
            },
            "baxis": {
             "endlinecolor": "#2a3f5f",
             "gridcolor": "white",
             "linecolor": "white",
             "minorgridcolor": "white",
             "startlinecolor": "#2a3f5f"
            },
            "type": "carpet"
           }
          ],
          "choropleth": [
           {
            "colorbar": {
             "outlinewidth": 0,
             "ticks": ""
            },
            "type": "choropleth"
           }
          ],
          "contour": [
           {
            "colorbar": {
             "outlinewidth": 0,
             "ticks": ""
            },
            "colorscale": [
             [
              0,
              "#0d0887"
             ],
             [
              0.1111111111111111,
              "#46039f"
             ],
             [
              0.2222222222222222,
              "#7201a8"
             ],
             [
              0.3333333333333333,
              "#9c179e"
             ],
             [
              0.4444444444444444,
              "#bd3786"
             ],
             [
              0.5555555555555556,
              "#d8576b"
             ],
             [
              0.6666666666666666,
              "#ed7953"
             ],
             [
              0.7777777777777778,
              "#fb9f3a"
             ],
             [
              0.8888888888888888,
              "#fdca26"
             ],
             [
              1,
              "#f0f921"
             ]
            ],
            "type": "contour"
           }
          ],
          "contourcarpet": [
           {
            "colorbar": {
             "outlinewidth": 0,
             "ticks": ""
            },
            "type": "contourcarpet"
           }
          ],
          "heatmap": [
           {
            "colorbar": {
             "outlinewidth": 0,
             "ticks": ""
            },
            "colorscale": [
             [
              0,
              "#0d0887"
             ],
             [
              0.1111111111111111,
              "#46039f"
             ],
             [
              0.2222222222222222,
              "#7201a8"
             ],
             [
              0.3333333333333333,
              "#9c179e"
             ],
             [
              0.4444444444444444,
              "#bd3786"
             ],
             [
              0.5555555555555556,
              "#d8576b"
             ],
             [
              0.6666666666666666,
              "#ed7953"
             ],
             [
              0.7777777777777778,
              "#fb9f3a"
             ],
             [
              0.8888888888888888,
              "#fdca26"
             ],
             [
              1,
              "#f0f921"
             ]
            ],
            "type": "heatmap"
           }
          ],
          "histogram": [
           {
            "marker": {
             "pattern": {
              "fillmode": "overlay",
              "size": 10,
              "solidity": 0.2
             }
            },
            "type": "histogram"
           }
          ],
          "histogram2d": [
           {
            "colorbar": {
             "outlinewidth": 0,
             "ticks": ""
            },
            "colorscale": [
             [
              0,
              "#0d0887"
             ],
             [
              0.1111111111111111,
              "#46039f"
             ],
             [
              0.2222222222222222,
              "#7201a8"
             ],
             [
              0.3333333333333333,
              "#9c179e"
             ],
             [
              0.4444444444444444,
              "#bd3786"
             ],
             [
              0.5555555555555556,
              "#d8576b"
             ],
             [
              0.6666666666666666,
              "#ed7953"
             ],
             [
              0.7777777777777778,
              "#fb9f3a"
             ],
             [
              0.8888888888888888,
              "#fdca26"
             ],
             [
              1,
              "#f0f921"
             ]
            ],
            "type": "histogram2d"
           }
          ],
          "histogram2dcontour": [
           {
            "colorbar": {
             "outlinewidth": 0,
             "ticks": ""
            },
            "colorscale": [
             [
              0,
              "#0d0887"
             ],
             [
              0.1111111111111111,
              "#46039f"
             ],
             [
              0.2222222222222222,
              "#7201a8"
             ],
             [
              0.3333333333333333,
              "#9c179e"
             ],
             [
              0.4444444444444444,
              "#bd3786"
             ],
             [
              0.5555555555555556,
              "#d8576b"
             ],
             [
              0.6666666666666666,
              "#ed7953"
             ],
             [
              0.7777777777777778,
              "#fb9f3a"
             ],
             [
              0.8888888888888888,
              "#fdca26"
             ],
             [
              1,
              "#f0f921"
             ]
            ],
            "type": "histogram2dcontour"
           }
          ],
          "mesh3d": [
           {
            "colorbar": {
             "outlinewidth": 0,
             "ticks": ""
            },
            "type": "mesh3d"
           }
          ],
          "parcoords": [
           {
            "line": {
             "colorbar": {
              "outlinewidth": 0,
              "ticks": ""
             }
            },
            "type": "parcoords"
           }
          ],
          "pie": [
           {
            "automargin": true,
            "type": "pie"
           }
          ],
          "scatter": [
           {
            "fillpattern": {
             "fillmode": "overlay",
             "size": 10,
             "solidity": 0.2
            },
            "type": "scatter"
           }
          ],
          "scatter3d": [
           {
            "line": {
             "colorbar": {
              "outlinewidth": 0,
              "ticks": ""
             }
            },
            "marker": {
             "colorbar": {
              "outlinewidth": 0,
              "ticks": ""
             }
            },
            "type": "scatter3d"
           }
          ],
          "scattercarpet": [
           {
            "marker": {
             "colorbar": {
              "outlinewidth": 0,
              "ticks": ""
             }
            },
            "type": "scattercarpet"
           }
          ],
          "scattergeo": [
           {
            "marker": {
             "colorbar": {
              "outlinewidth": 0,
              "ticks": ""
             }
            },
            "type": "scattergeo"
           }
          ],
          "scattergl": [
           {
            "marker": {
             "colorbar": {
              "outlinewidth": 0,
              "ticks": ""
             }
            },
            "type": "scattergl"
           }
          ],
          "scattermap": [
           {
            "marker": {
             "colorbar": {
              "outlinewidth": 0,
              "ticks": ""
             }
            },
            "type": "scattermap"
           }
          ],
          "scattermapbox": [
           {
            "marker": {
             "colorbar": {
              "outlinewidth": 0,
              "ticks": ""
             }
            },
            "type": "scattermapbox"
           }
          ],
          "scatterpolar": [
           {
            "marker": {
             "colorbar": {
              "outlinewidth": 0,
              "ticks": ""
             }
            },
            "type": "scatterpolar"
           }
          ],
          "scatterpolargl": [
           {
            "marker": {
             "colorbar": {
              "outlinewidth": 0,
              "ticks": ""
             }
            },
            "type": "scatterpolargl"
           }
          ],
          "scatterternary": [
           {
            "marker": {
             "colorbar": {
              "outlinewidth": 0,
              "ticks": ""
             }
            },
            "type": "scatterternary"
           }
          ],
          "surface": [
           {
            "colorbar": {
             "outlinewidth": 0,
             "ticks": ""
            },
            "colorscale": [
             [
              0,
              "#0d0887"
             ],
             [
              0.1111111111111111,
              "#46039f"
             ],
             [
              0.2222222222222222,
              "#7201a8"
             ],
             [
              0.3333333333333333,
              "#9c179e"
             ],
             [
              0.4444444444444444,
              "#bd3786"
             ],
             [
              0.5555555555555556,
              "#d8576b"
             ],
             [
              0.6666666666666666,
              "#ed7953"
             ],
             [
              0.7777777777777778,
              "#fb9f3a"
             ],
             [
              0.8888888888888888,
              "#fdca26"
             ],
             [
              1,
              "#f0f921"
             ]
            ],
            "type": "surface"
           }
          ],
          "table": [
           {
            "cells": {
             "fill": {
              "color": "#EBF0F8"
             },
             "line": {
              "color": "white"
             }
            },
            "header": {
             "fill": {
              "color": "#C8D4E3"
             },
             "line": {
              "color": "white"
             }
            },
            "type": "table"
           }
          ]
         },
         "layout": {
          "annotationdefaults": {
           "arrowcolor": "#2a3f5f",
           "arrowhead": 0,
           "arrowwidth": 1
          },
          "autotypenumbers": "strict",
          "coloraxis": {
           "colorbar": {
            "outlinewidth": 0,
            "ticks": ""
           }
          },
          "colorscale": {
           "diverging": [
            [
             0,
             "#8e0152"
            ],
            [
             0.1,
             "#c51b7d"
            ],
            [
             0.2,
             "#de77ae"
            ],
            [
             0.3,
             "#f1b6da"
            ],
            [
             0.4,
             "#fde0ef"
            ],
            [
             0.5,
             "#f7f7f7"
            ],
            [
             0.6,
             "#e6f5d0"
            ],
            [
             0.7,
             "#b8e186"
            ],
            [
             0.8,
             "#7fbc41"
            ],
            [
             0.9,
             "#4d9221"
            ],
            [
             1,
             "#276419"
            ]
           ],
           "sequential": [
            [
             0,
             "#0d0887"
            ],
            [
             0.1111111111111111,
             "#46039f"
            ],
            [
             0.2222222222222222,
             "#7201a8"
            ],
            [
             0.3333333333333333,
             "#9c179e"
            ],
            [
             0.4444444444444444,
             "#bd3786"
            ],
            [
             0.5555555555555556,
             "#d8576b"
            ],
            [
             0.6666666666666666,
             "#ed7953"
            ],
            [
             0.7777777777777778,
             "#fb9f3a"
            ],
            [
             0.8888888888888888,
             "#fdca26"
            ],
            [
             1,
             "#f0f921"
            ]
           ],
           "sequentialminus": [
            [
             0,
             "#0d0887"
            ],
            [
             0.1111111111111111,
             "#46039f"
            ],
            [
             0.2222222222222222,
             "#7201a8"
            ],
            [
             0.3333333333333333,
             "#9c179e"
            ],
            [
             0.4444444444444444,
             "#bd3786"
            ],
            [
             0.5555555555555556,
             "#d8576b"
            ],
            [
             0.6666666666666666,
             "#ed7953"
            ],
            [
             0.7777777777777778,
             "#fb9f3a"
            ],
            [
             0.8888888888888888,
             "#fdca26"
            ],
            [
             1,
             "#f0f921"
            ]
           ]
          },
          "colorway": [
           "#636efa",
           "#EF553B",
           "#00cc96",
           "#ab63fa",
           "#FFA15A",
           "#19d3f3",
           "#FF6692",
           "#B6E880",
           "#FF97FF",
           "#FECB52"
          ],
          "font": {
           "color": "#2a3f5f"
          },
          "geo": {
           "bgcolor": "white",
           "lakecolor": "white",
           "landcolor": "#E5ECF6",
           "showlakes": true,
           "showland": true,
           "subunitcolor": "white"
          },
          "hoverlabel": {
           "align": "left"
          },
          "hovermode": "closest",
          "mapbox": {
           "style": "light"
          },
          "paper_bgcolor": "white",
          "plot_bgcolor": "#E5ECF6",
          "polar": {
           "angularaxis": {
            "gridcolor": "white",
            "linecolor": "white",
            "ticks": ""
           },
           "bgcolor": "#E5ECF6",
           "radialaxis": {
            "gridcolor": "white",
            "linecolor": "white",
            "ticks": ""
           }
          },
          "scene": {
           "xaxis": {
            "backgroundcolor": "#E5ECF6",
            "gridcolor": "white",
            "gridwidth": 2,
            "linecolor": "white",
            "showbackground": true,
            "ticks": "",
            "zerolinecolor": "white"
           },
           "yaxis": {
            "backgroundcolor": "#E5ECF6",
            "gridcolor": "white",
            "gridwidth": 2,
            "linecolor": "white",
            "showbackground": true,
            "ticks": "",
            "zerolinecolor": "white"
           },
           "zaxis": {
            "backgroundcolor": "#E5ECF6",
            "gridcolor": "white",
            "gridwidth": 2,
            "linecolor": "white",
            "showbackground": true,
            "ticks": "",
            "zerolinecolor": "white"
           }
          },
          "shapedefaults": {
           "line": {
            "color": "#2a3f5f"
           }
          },
          "ternary": {
           "aaxis": {
            "gridcolor": "white",
            "linecolor": "white",
            "ticks": ""
           },
           "baxis": {
            "gridcolor": "white",
            "linecolor": "white",
            "ticks": ""
           },
           "bgcolor": "#E5ECF6",
           "caxis": {
            "gridcolor": "white",
            "linecolor": "white",
            "ticks": ""
           }
          },
          "title": {
           "x": 0.05
          },
          "xaxis": {
           "automargin": true,
           "gridcolor": "white",
           "linecolor": "white",
           "ticks": "",
           "title": {
            "standoff": 15
           },
           "zerolinecolor": "white",
           "zerolinewidth": 2
          },
          "yaxis": {
           "automargin": true,
           "gridcolor": "white",
           "linecolor": "white",
           "ticks": "",
           "title": {
            "standoff": 15
           },
           "zerolinecolor": "white",
           "zerolinewidth": 2
          }
         }
        },
        "title": {
         "text": "Ichimoku Cloud"
        },
        "xaxis": {
         "title": {
          "text": "Date"
         }
        },
        "yaxis": {
         "title": {
          "text": "Indicator Value"
         }
        }
       }
      }
     },
     "metadata": {},
     "output_type": "display_data"
    },
    {
     "data": {
      "application/vnd.plotly.v1+json": {
       "config": {
        "plotlyServerURL": "https://plot.ly"
       },
       "data": [
        {
         "line": {
          "color": "orange",
          "width": 1
         },
         "mode": "lines",
         "name": "RSI",
         "type": "scatter",
         "x": [
          "2024-01-01T00:00:00.000000000",
          "2024-01-02T00:00:00.000000000",
          "2024-01-03T00:00:00.000000000",
          "2024-01-04T00:00:00.000000000",
          "2024-01-05T00:00:00.000000000",
          "2024-01-06T00:00:00.000000000",
          "2024-01-07T00:00:00.000000000",
          "2024-01-08T00:00:00.000000000",
          "2024-01-09T00:00:00.000000000",
          "2024-01-10T00:00:00.000000000",
          "2024-01-11T00:00:00.000000000",
          "2024-01-12T00:00:00.000000000",
          "2024-01-13T00:00:00.000000000",
          "2024-01-14T00:00:00.000000000",
          "2024-01-15T00:00:00.000000000",
          "2024-01-16T00:00:00.000000000",
          "2024-01-17T00:00:00.000000000",
          "2024-01-18T00:00:00.000000000",
          "2024-01-19T00:00:00.000000000",
          "2024-01-20T00:00:00.000000000",
          "2024-01-21T00:00:00.000000000",
          "2024-01-22T00:00:00.000000000",
          "2024-01-23T00:00:00.000000000",
          "2024-01-24T00:00:00.000000000",
          "2024-01-25T00:00:00.000000000",
          "2024-01-26T00:00:00.000000000",
          "2024-01-27T00:00:00.000000000",
          "2024-01-28T00:00:00.000000000",
          "2024-01-29T00:00:00.000000000",
          "2024-01-30T00:00:00.000000000",
          "2024-01-31T00:00:00.000000000",
          "2024-02-01T00:00:00.000000000",
          "2024-02-02T00:00:00.000000000",
          "2024-02-03T00:00:00.000000000",
          "2024-02-04T00:00:00.000000000",
          "2024-02-05T00:00:00.000000000",
          "2024-02-06T00:00:00.000000000",
          "2024-02-07T00:00:00.000000000",
          "2024-02-08T00:00:00.000000000",
          "2024-02-09T00:00:00.000000000",
          "2024-02-10T00:00:00.000000000",
          "2024-02-11T00:00:00.000000000",
          "2024-02-12T00:00:00.000000000",
          "2024-02-13T00:00:00.000000000",
          "2024-02-14T00:00:00.000000000",
          "2024-02-15T00:00:00.000000000",
          "2024-02-16T00:00:00.000000000",
          "2024-02-17T00:00:00.000000000",
          "2024-02-18T00:00:00.000000000",
          "2024-02-19T00:00:00.000000000",
          "2024-02-20T00:00:00.000000000",
          "2024-02-21T00:00:00.000000000",
          "2024-02-22T00:00:00.000000000",
          "2024-02-23T00:00:00.000000000",
          "2024-02-24T00:00:00.000000000",
          "2024-02-25T00:00:00.000000000",
          "2024-02-26T00:00:00.000000000",
          "2024-02-27T00:00:00.000000000",
          "2024-02-28T00:00:00.000000000",
          "2024-02-29T00:00:00.000000000",
          "2024-03-01T00:00:00.000000000",
          "2024-03-02T00:00:00.000000000",
          "2024-03-03T00:00:00.000000000",
          "2024-03-04T00:00:00.000000000",
          "2024-03-05T00:00:00.000000000",
          "2024-03-06T00:00:00.000000000",
          "2024-03-07T00:00:00.000000000",
          "2024-03-08T00:00:00.000000000",
          "2024-03-09T00:00:00.000000000",
          "2024-03-10T00:00:00.000000000",
          "2024-03-11T00:00:00.000000000",
          "2024-03-12T00:00:00.000000000",
          "2024-03-13T00:00:00.000000000",
          "2024-03-14T00:00:00.000000000",
          "2024-03-15T00:00:00.000000000",
          "2024-03-16T00:00:00.000000000",
          "2024-03-17T00:00:00.000000000",
          "2024-03-18T00:00:00.000000000",
          "2024-03-19T00:00:00.000000000",
          "2024-03-20T00:00:00.000000000",
          "2024-03-21T00:00:00.000000000",
          "2024-03-22T00:00:00.000000000",
          "2024-03-23T00:00:00.000000000",
          "2024-03-24T00:00:00.000000000",
          "2024-03-25T00:00:00.000000000",
          "2024-03-26T00:00:00.000000000",
          "2024-03-27T00:00:00.000000000",
          "2024-03-28T00:00:00.000000000",
          "2024-03-29T00:00:00.000000000",
          "2024-03-30T00:00:00.000000000",
          "2024-03-31T00:00:00.000000000",
          "2024-04-01T00:00:00.000000000",
          "2024-04-02T00:00:00.000000000",
          "2024-04-03T00:00:00.000000000",
          "2024-04-04T00:00:00.000000000",
          "2024-04-05T00:00:00.000000000",
          "2024-04-06T00:00:00.000000000",
          "2024-04-07T00:00:00.000000000",
          "2024-04-08T00:00:00.000000000",
          "2024-04-09T00:00:00.000000000",
          "2024-04-10T00:00:00.000000000",
          "2024-04-11T00:00:00.000000000",
          "2024-04-12T00:00:00.000000000",
          "2024-04-13T00:00:00.000000000",
          "2024-04-14T00:00:00.000000000",
          "2024-04-15T00:00:00.000000000",
          "2024-04-16T00:00:00.000000000",
          "2024-04-17T00:00:00.000000000",
          "2024-04-18T00:00:00.000000000",
          "2024-04-19T00:00:00.000000000",
          "2024-04-20T00:00:00.000000000",
          "2024-04-21T00:00:00.000000000",
          "2024-04-22T00:00:00.000000000",
          "2024-04-23T00:00:00.000000000",
          "2024-04-24T00:00:00.000000000",
          "2024-04-25T00:00:00.000000000",
          "2024-04-26T00:00:00.000000000",
          "2024-04-27T00:00:00.000000000",
          "2024-04-28T00:00:00.000000000",
          "2024-04-29T00:00:00.000000000",
          "2024-04-30T00:00:00.000000000",
          "2024-05-01T00:00:00.000000000",
          "2024-05-02T00:00:00.000000000",
          "2024-05-03T00:00:00.000000000",
          "2024-05-04T00:00:00.000000000",
          "2024-05-05T00:00:00.000000000",
          "2024-05-06T00:00:00.000000000",
          "2024-05-07T00:00:00.000000000",
          "2024-05-08T00:00:00.000000000",
          "2024-05-09T00:00:00.000000000",
          "2024-05-10T00:00:00.000000000",
          "2024-05-11T00:00:00.000000000",
          "2024-05-12T00:00:00.000000000",
          "2024-05-13T00:00:00.000000000",
          "2024-05-14T00:00:00.000000000",
          "2024-05-15T00:00:00.000000000",
          "2024-05-16T00:00:00.000000000",
          "2024-05-17T00:00:00.000000000",
          "2024-05-18T00:00:00.000000000",
          "2024-05-19T00:00:00.000000000",
          "2024-05-20T00:00:00.000000000",
          "2024-05-21T00:00:00.000000000",
          "2024-05-22T00:00:00.000000000",
          "2024-05-23T00:00:00.000000000",
          "2024-05-24T00:00:00.000000000",
          "2024-05-25T00:00:00.000000000",
          "2024-05-26T00:00:00.000000000",
          "2024-05-27T00:00:00.000000000",
          "2024-05-28T00:00:00.000000000",
          "2024-05-29T00:00:00.000000000",
          "2024-05-30T00:00:00.000000000",
          "2024-05-31T00:00:00.000000000",
          "2024-06-01T00:00:00.000000000",
          "2024-06-02T00:00:00.000000000",
          "2024-06-03T00:00:00.000000000",
          "2024-06-04T00:00:00.000000000",
          "2024-06-05T00:00:00.000000000",
          "2024-06-06T00:00:00.000000000",
          "2024-06-07T00:00:00.000000000",
          "2024-06-08T00:00:00.000000000",
          "2024-06-09T00:00:00.000000000",
          "2024-06-10T00:00:00.000000000",
          "2024-06-11T00:00:00.000000000",
          "2024-06-12T00:00:00.000000000",
          "2024-06-13T00:00:00.000000000",
          "2024-06-14T00:00:00.000000000",
          "2024-06-15T00:00:00.000000000",
          "2024-06-16T00:00:00.000000000",
          "2024-06-17T00:00:00.000000000",
          "2024-06-18T00:00:00.000000000",
          "2024-06-19T00:00:00.000000000",
          "2024-06-20T00:00:00.000000000",
          "2024-06-21T00:00:00.000000000",
          "2024-06-22T00:00:00.000000000",
          "2024-06-23T00:00:00.000000000",
          "2024-06-24T00:00:00.000000000",
          "2024-06-25T00:00:00.000000000",
          "2024-06-26T00:00:00.000000000",
          "2024-06-27T00:00:00.000000000",
          "2024-06-28T00:00:00.000000000",
          "2024-06-29T00:00:00.000000000",
          "2024-06-30T00:00:00.000000000",
          "2024-07-01T00:00:00.000000000",
          "2024-07-02T00:00:00.000000000",
          "2024-07-03T00:00:00.000000000",
          "2024-07-04T00:00:00.000000000",
          "2024-07-05T00:00:00.000000000",
          "2024-07-06T00:00:00.000000000",
          "2024-07-07T00:00:00.000000000",
          "2024-07-08T00:00:00.000000000",
          "2024-07-09T00:00:00.000000000",
          "2024-07-10T00:00:00.000000000",
          "2024-07-11T00:00:00.000000000",
          "2024-07-12T00:00:00.000000000",
          "2024-07-13T00:00:00.000000000",
          "2024-07-14T00:00:00.000000000",
          "2024-07-15T00:00:00.000000000",
          "2024-07-16T00:00:00.000000000",
          "2024-07-17T00:00:00.000000000",
          "2024-07-18T00:00:00.000000000",
          "2024-07-19T00:00:00.000000000",
          "2024-07-20T00:00:00.000000000",
          "2024-07-21T00:00:00.000000000",
          "2024-07-22T00:00:00.000000000",
          "2024-07-23T00:00:00.000000000",
          "2024-07-24T00:00:00.000000000",
          "2024-07-25T00:00:00.000000000",
          "2024-07-26T00:00:00.000000000",
          "2024-07-27T00:00:00.000000000",
          "2024-07-28T00:00:00.000000000",
          "2024-07-29T00:00:00.000000000",
          "2024-07-30T00:00:00.000000000",
          "2024-07-31T00:00:00.000000000",
          "2024-08-01T00:00:00.000000000",
          "2024-08-02T00:00:00.000000000",
          "2024-08-03T00:00:00.000000000",
          "2024-08-04T00:00:00.000000000",
          "2024-08-05T00:00:00.000000000",
          "2024-08-06T00:00:00.000000000",
          "2024-08-07T00:00:00.000000000",
          "2024-08-08T00:00:00.000000000",
          "2024-08-09T00:00:00.000000000",
          "2024-08-10T00:00:00.000000000",
          "2024-08-11T00:00:00.000000000",
          "2024-08-12T00:00:00.000000000",
          "2024-08-13T00:00:00.000000000",
          "2024-08-14T00:00:00.000000000",
          "2024-08-15T00:00:00.000000000",
          "2024-08-16T00:00:00.000000000",
          "2024-08-17T00:00:00.000000000",
          "2024-08-18T00:00:00.000000000",
          "2024-08-19T00:00:00.000000000",
          "2024-08-20T00:00:00.000000000",
          "2024-08-21T00:00:00.000000000",
          "2024-08-22T00:00:00.000000000",
          "2024-08-23T00:00:00.000000000",
          "2024-08-24T00:00:00.000000000",
          "2024-08-25T00:00:00.000000000",
          "2024-08-26T00:00:00.000000000",
          "2024-08-27T00:00:00.000000000",
          "2024-08-28T00:00:00.000000000",
          "2024-08-29T00:00:00.000000000",
          "2024-08-30T00:00:00.000000000",
          "2024-08-31T00:00:00.000000000",
          "2024-09-01T00:00:00.000000000",
          "2024-09-02T00:00:00.000000000",
          "2024-09-03T00:00:00.000000000",
          "2024-09-04T00:00:00.000000000",
          "2024-09-05T00:00:00.000000000",
          "2024-09-06T00:00:00.000000000",
          "2024-09-07T00:00:00.000000000",
          "2024-09-08T00:00:00.000000000",
          "2024-09-09T00:00:00.000000000",
          "2024-09-10T00:00:00.000000000",
          "2024-09-11T00:00:00.000000000",
          "2024-09-12T00:00:00.000000000",
          "2024-09-13T00:00:00.000000000",
          "2024-09-14T00:00:00.000000000",
          "2024-09-15T00:00:00.000000000",
          "2024-09-16T00:00:00.000000000",
          "2024-09-17T00:00:00.000000000",
          "2024-09-18T00:00:00.000000000",
          "2024-09-19T00:00:00.000000000",
          "2024-09-20T00:00:00.000000000",
          "2024-09-21T00:00:00.000000000",
          "2024-09-22T00:00:00.000000000",
          "2024-09-23T00:00:00.000000000",
          "2024-09-24T00:00:00.000000000",
          "2024-09-25T00:00:00.000000000",
          "2024-09-26T00:00:00.000000000",
          "2024-09-27T00:00:00.000000000",
          "2024-09-28T00:00:00.000000000",
          "2024-09-29T00:00:00.000000000",
          "2024-09-30T00:00:00.000000000",
          "2024-10-01T00:00:00.000000000",
          "2024-10-02T00:00:00.000000000",
          "2024-10-03T00:00:00.000000000",
          "2024-10-04T00:00:00.000000000",
          "2024-10-05T00:00:00.000000000",
          "2024-10-06T00:00:00.000000000",
          "2024-10-07T00:00:00.000000000",
          "2024-10-08T00:00:00.000000000",
          "2024-10-09T00:00:00.000000000",
          "2024-10-10T00:00:00.000000000",
          "2024-10-11T00:00:00.000000000",
          "2024-10-12T00:00:00.000000000",
          "2024-10-13T00:00:00.000000000",
          "2024-10-14T00:00:00.000000000",
          "2024-10-15T00:00:00.000000000",
          "2024-10-16T00:00:00.000000000",
          "2024-10-17T00:00:00.000000000",
          "2024-10-18T00:00:00.000000000",
          "2024-10-19T00:00:00.000000000",
          "2024-10-20T00:00:00.000000000",
          "2024-10-21T00:00:00.000000000",
          "2024-10-22T00:00:00.000000000",
          "2024-10-23T00:00:00.000000000",
          "2024-10-24T00:00:00.000000000",
          "2024-10-25T00:00:00.000000000",
          "2024-10-26T00:00:00.000000000",
          "2024-10-27T00:00:00.000000000",
          "2024-10-28T00:00:00.000000000",
          "2024-10-29T00:00:00.000000000",
          "2024-10-30T00:00:00.000000000",
          "2024-10-31T00:00:00.000000000",
          "2024-11-01T00:00:00.000000000",
          "2024-11-02T00:00:00.000000000",
          "2024-11-03T00:00:00.000000000",
          "2024-11-04T00:00:00.000000000",
          "2024-11-05T00:00:00.000000000",
          "2024-11-06T00:00:00.000000000",
          "2024-11-07T00:00:00.000000000",
          "2024-11-08T00:00:00.000000000",
          "2024-11-09T00:00:00.000000000",
          "2024-11-10T00:00:00.000000000",
          "2024-11-11T00:00:00.000000000",
          "2024-11-12T00:00:00.000000000",
          "2024-11-13T00:00:00.000000000",
          "2024-11-14T00:00:00.000000000",
          "2024-11-15T00:00:00.000000000",
          "2024-11-16T00:00:00.000000000",
          "2024-11-17T00:00:00.000000000",
          "2024-11-18T00:00:00.000000000",
          "2024-11-19T00:00:00.000000000",
          "2024-11-20T00:00:00.000000000",
          "2024-11-21T00:00:00.000000000",
          "2024-11-22T00:00:00.000000000",
          "2024-11-23T00:00:00.000000000",
          "2024-11-24T00:00:00.000000000",
          "2024-11-25T00:00:00.000000000",
          "2024-11-26T00:00:00.000000000",
          "2024-11-27T00:00:00.000000000",
          "2024-11-28T00:00:00.000000000",
          "2024-11-29T00:00:00.000000000",
          "2024-11-30T00:00:00.000000000",
          "2024-12-01T00:00:00.000000000",
          "2024-12-02T00:00:00.000000000",
          "2024-12-03T00:00:00.000000000",
          "2024-12-04T00:00:00.000000000",
          "2024-12-05T00:00:00.000000000",
          "2024-12-06T00:00:00.000000000",
          "2024-12-07T00:00:00.000000000",
          "2024-12-08T00:00:00.000000000",
          "2024-12-09T00:00:00.000000000",
          "2024-12-10T00:00:00.000000000",
          "2024-12-11T00:00:00.000000000",
          "2024-12-12T00:00:00.000000000",
          "2024-12-13T00:00:00.000000000",
          "2024-12-14T00:00:00.000000000",
          "2024-12-15T00:00:00.000000000",
          "2024-12-16T00:00:00.000000000",
          "2024-12-17T00:00:00.000000000",
          "2024-12-18T00:00:00.000000000",
          "2024-12-19T00:00:00.000000000",
          "2024-12-20T00:00:00.000000000",
          "2024-12-21T00:00:00.000000000",
          "2024-12-22T00:00:00.000000000",
          "2024-12-23T00:00:00.000000000",
          "2024-12-24T00:00:00.000000000",
          "2024-12-25T00:00:00.000000000",
          "2024-12-26T00:00:00.000000000",
          "2024-12-27T00:00:00.000000000",
          "2024-12-28T00:00:00.000000000",
          "2024-12-29T00:00:00.000000000",
          "2024-12-30T00:00:00.000000000",
          "2024-12-31T00:00:00.000000000"
         ],
         "y": {
          "bdata": "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",
          "dtype": "f8"
         }
        }
       ],
       "layout": {
        "annotations": [
         {
          "showarrow": false,
          "text": "70",
          "x": 0,
          "xanchor": "left",
          "xref": "x domain",
          "y": 70,
          "yanchor": "bottom",
          "yref": "y"
         },
         {
          "showarrow": false,
          "text": "30",
          "x": 0,
          "xanchor": "left",
          "xref": "x domain",
          "y": 30,
          "yanchor": "top",
          "yref": "y"
         }
        ],
        "shapes": [
         {
          "fillcolor": "rgba(255, 0, 0, 0.2)",
          "layer": "below",
          "line": {
           "width": 0
          },
          "type": "rect",
          "x0": "2024-01-01T00:00:00",
          "x1": "2024-12-31T00:00:00",
          "xref": "x",
          "y0": 70,
          "y1": 100,
          "yref": "y"
         },
         {
          "fillcolor": "rgba(0, 0, 255, 0.2)",
          "layer": "below",
          "line": {
           "width": 0
          },
          "type": "rect",
          "x0": "2024-01-01T00:00:00",
          "x1": "2024-12-31T00:00:00",
          "xref": "x",
          "y0": 0,
          "y1": 30,
          "yref": "y"
         },
         {
          "line": {
           "color": "gray",
           "dash": "dash"
          },
          "type": "line",
          "x0": 0,
          "x1": 1,
          "xref": "x domain",
          "y0": 70,
          "y1": 70,
          "yref": "y"
         },
         {
          "line": {
           "color": "gray",
           "dash": "dash"
          },
          "type": "line",
          "x0": 0,
          "x1": 1,
          "xref": "x domain",
          "y0": 30,
          "y1": 30,
          "yref": "y"
         }
        ],
        "showlegend": true,
        "template": {
         "data": {
          "bar": [
           {
            "error_x": {
             "color": "#2a3f5f"
            },
            "error_y": {
             "color": "#2a3f5f"
            },
            "marker": {
             "line": {
              "color": "#E5ECF6",
              "width": 0.5
             },
             "pattern": {
              "fillmode": "overlay",
              "size": 10,
              "solidity": 0.2
             }
            },
            "type": "bar"
           }
          ],
          "barpolar": [
           {
            "marker": {
             "line": {
              "color": "#E5ECF6",
              "width": 0.5
             },
             "pattern": {
              "fillmode": "overlay",
              "size": 10,
              "solidity": 0.2
             }
            },
            "type": "barpolar"
           }
          ],
          "carpet": [
           {
            "aaxis": {
             "endlinecolor": "#2a3f5f",
             "gridcolor": "white",
             "linecolor": "white",
             "minorgridcolor": "white",
             "startlinecolor": "#2a3f5f"
            },
            "baxis": {
             "endlinecolor": "#2a3f5f",
             "gridcolor": "white",
             "linecolor": "white",
             "minorgridcolor": "white",
             "startlinecolor": "#2a3f5f"
            },
            "type": "carpet"
           }
          ],
          "choropleth": [
           {
            "colorbar": {
             "outlinewidth": 0,
             "ticks": ""
            },
            "type": "choropleth"
           }
          ],
          "contour": [
           {
            "colorbar": {
             "outlinewidth": 0,
             "ticks": ""
            },
            "colorscale": [
             [
              0,
              "#0d0887"
             ],
             [
              0.1111111111111111,
              "#46039f"
             ],
             [
              0.2222222222222222,
              "#7201a8"
             ],
             [
              0.3333333333333333,
              "#9c179e"
             ],
             [
              0.4444444444444444,
              "#bd3786"
             ],
             [
              0.5555555555555556,
              "#d8576b"
             ],
             [
              0.6666666666666666,
              "#ed7953"
             ],
             [
              0.7777777777777778,
              "#fb9f3a"
             ],
             [
              0.8888888888888888,
              "#fdca26"
             ],
             [
              1,
              "#f0f921"
             ]
            ],
            "type": "contour"
           }
          ],
          "contourcarpet": [
           {
            "colorbar": {
             "outlinewidth": 0,
             "ticks": ""
            },
            "type": "contourcarpet"
           }
          ],
          "heatmap": [
           {
            "colorbar": {
             "outlinewidth": 0,
             "ticks": ""
            },
            "colorscale": [
             [
              0,
              "#0d0887"
             ],
             [
              0.1111111111111111,
              "#46039f"
             ],
             [
              0.2222222222222222,
              "#7201a8"
             ],
             [
              0.3333333333333333,
              "#9c179e"
             ],
             [
              0.4444444444444444,
              "#bd3786"
             ],
             [
              0.5555555555555556,
              "#d8576b"
             ],
             [
              0.6666666666666666,
              "#ed7953"
             ],
             [
              0.7777777777777778,
              "#fb9f3a"
             ],
             [
              0.8888888888888888,
              "#fdca26"
             ],
             [
              1,
              "#f0f921"
             ]
            ],
            "type": "heatmap"
           }
          ],
          "histogram": [
           {
            "marker": {
             "pattern": {
              "fillmode": "overlay",
              "size": 10,
              "solidity": 0.2
             }
            },
            "type": "histogram"
           }
          ],
          "histogram2d": [
           {
            "colorbar": {
             "outlinewidth": 0,
             "ticks": ""
            },
            "colorscale": [
             [
              0,
              "#0d0887"
             ],
             [
              0.1111111111111111,
              "#46039f"
             ],
             [
              0.2222222222222222,
              "#7201a8"
             ],
             [
              0.3333333333333333,
              "#9c179e"
             ],
             [
              0.4444444444444444,
              "#bd3786"
             ],
             [
              0.5555555555555556,
              "#d8576b"
             ],
             [
              0.6666666666666666,
              "#ed7953"
             ],
             [
              0.7777777777777778,
              "#fb9f3a"
             ],
             [
              0.8888888888888888,
              "#fdca26"
             ],
             [
              1,
              "#f0f921"
             ]
            ],
            "type": "histogram2d"
           }
          ],
          "histogram2dcontour": [
           {
            "colorbar": {
             "outlinewidth": 0,
             "ticks": ""
            },
            "colorscale": [
             [
              0,
              "#0d0887"
             ],
             [
              0.1111111111111111,
              "#46039f"
             ],
             [
              0.2222222222222222,
              "#7201a8"
             ],
             [
              0.3333333333333333,
              "#9c179e"
             ],
             [
              0.4444444444444444,
              "#bd3786"
             ],
             [
              0.5555555555555556,
              "#d8576b"
             ],
             [
              0.6666666666666666,
              "#ed7953"
             ],
             [
              0.7777777777777778,
              "#fb9f3a"
             ],
             [
              0.8888888888888888,
              "#fdca26"
             ],
             [
              1,
              "#f0f921"
             ]
            ],
            "type": "histogram2dcontour"
           }
          ],
          "mesh3d": [
           {
            "colorbar": {
             "outlinewidth": 0,
             "ticks": ""
            },
            "type": "mesh3d"
           }
          ],
          "parcoords": [
           {
            "line": {
             "colorbar": {
              "outlinewidth": 0,
              "ticks": ""
             }
            },
            "type": "parcoords"
           }
          ],
          "pie": [
           {
            "automargin": true,
            "type": "pie"
           }
          ],
          "scatter": [
           {
            "fillpattern": {
             "fillmode": "overlay",
             "size": 10,
             "solidity": 0.2
            },
            "type": "scatter"
           }
          ],
          "scatter3d": [
           {
            "line": {
             "colorbar": {
              "outlinewidth": 0,
              "ticks": ""
             }
            },
            "marker": {
             "colorbar": {
              "outlinewidth": 0,
              "ticks": ""
             }
            },
            "type": "scatter3d"
           }
          ],
          "scattercarpet": [
           {
            "marker": {
             "colorbar": {
              "outlinewidth": 0,
              "ticks": ""
             }
            },
            "type": "scattercarpet"
           }
          ],
          "scattergeo": [
           {
            "marker": {
             "colorbar": {
              "outlinewidth": 0,
              "ticks": ""
             }
            },
            "type": "scattergeo"
           }
          ],
          "scattergl": [
           {
            "marker": {
             "colorbar": {
              "outlinewidth": 0,
              "ticks": ""
             }
            },
            "type": "scattergl"
           }
          ],
          "scattermap": [
           {
            "marker": {
             "colorbar": {
              "outlinewidth": 0,
              "ticks": ""
             }
            },
            "type": "scattermap"
           }
          ],
          "scattermapbox": [
           {
            "marker": {
             "colorbar": {
              "outlinewidth": 0,
              "ticks": ""
             }
            },
            "type": "scattermapbox"
           }
          ],
          "scatterpolar": [
           {
            "marker": {
             "colorbar": {
              "outlinewidth": 0,
              "ticks": ""
             }
            },
            "type": "scatterpolar"
           }
          ],
          "scatterpolargl": [
           {
            "marker": {
             "colorbar": {
              "outlinewidth": 0,
              "ticks": ""
             }
            },
            "type": "scatterpolargl"
           }
          ],
          "scatterternary": [
           {
            "marker": {
             "colorbar": {
              "outlinewidth": 0,
              "ticks": ""
             }
            },
            "type": "scatterternary"
           }
          ],
          "surface": [
           {
            "colorbar": {
             "outlinewidth": 0,
             "ticks": ""
            },
            "colorscale": [
             [
              0,
              "#0d0887"
             ],
             [
              0.1111111111111111,
              "#46039f"
             ],
             [
              0.2222222222222222,
              "#7201a8"
             ],
             [
              0.3333333333333333,
              "#9c179e"
             ],
             [
              0.4444444444444444,
              "#bd3786"
             ],
             [
              0.5555555555555556,
              "#d8576b"
             ],
             [
              0.6666666666666666,
              "#ed7953"
             ],
             [
              0.7777777777777778,
              "#fb9f3a"
             ],
             [
              0.8888888888888888,
              "#fdca26"
             ],
             [
              1,
              "#f0f921"
             ]
            ],
            "type": "surface"
           }
          ],
          "table": [
           {
            "cells": {
             "fill": {
              "color": "#EBF0F8"
             },
             "line": {
              "color": "white"
             }
            },
            "header": {
             "fill": {
              "color": "#C8D4E3"
             },
             "line": {
              "color": "white"
             }
            },
            "type": "table"
           }
          ]
         },
         "layout": {
          "annotationdefaults": {
           "arrowcolor": "#2a3f5f",
           "arrowhead": 0,
           "arrowwidth": 1
          },
          "autotypenumbers": "strict",
          "coloraxis": {
           "colorbar": {
            "outlinewidth": 0,
            "ticks": ""
           }
          },
          "colorscale": {
           "diverging": [
            [
             0,
             "#8e0152"
            ],
            [
             0.1,
             "#c51b7d"
            ],
            [
             0.2,
             "#de77ae"
            ],
            [
             0.3,
             "#f1b6da"
            ],
            [
             0.4,
             "#fde0ef"
            ],
            [
             0.5,
             "#f7f7f7"
            ],
            [
             0.6,
             "#e6f5d0"
            ],
            [
             0.7,
             "#b8e186"
            ],
            [
             0.8,
             "#7fbc41"
            ],
            [
             0.9,
             "#4d9221"
            ],
            [
             1,
             "#276419"
            ]
           ],
           "sequential": [
            [
             0,
             "#0d0887"
            ],
            [
             0.1111111111111111,
             "#46039f"
            ],
            [
             0.2222222222222222,
             "#7201a8"
            ],
            [
             0.3333333333333333,
             "#9c179e"
            ],
            [
             0.4444444444444444,
             "#bd3786"
            ],
            [
             0.5555555555555556,
             "#d8576b"
            ],
            [
             0.6666666666666666,
             "#ed7953"
            ],
            [
             0.7777777777777778,
             "#fb9f3a"
            ],
            [
             0.8888888888888888,
             "#fdca26"
            ],
            [
             1,
             "#f0f921"
            ]
           ],
           "sequentialminus": [
            [
             0,
             "#0d0887"
            ],
            [
             0.1111111111111111,
             "#46039f"
            ],
            [
             0.2222222222222222,
             "#7201a8"
            ],
            [
             0.3333333333333333,
             "#9c179e"
            ],
            [
             0.4444444444444444,
             "#bd3786"
            ],
            [
             0.5555555555555556,
             "#d8576b"
            ],
            [
             0.6666666666666666,
             "#ed7953"
            ],
            [
             0.7777777777777778,
             "#fb9f3a"
            ],
            [
             0.8888888888888888,
             "#fdca26"
            ],
            [
             1,
             "#f0f921"
            ]
           ]
          },
          "colorway": [
           "#636efa",
           "#EF553B",
           "#00cc96",
           "#ab63fa",
           "#FFA15A",
           "#19d3f3",
           "#FF6692",
           "#B6E880",
           "#FF97FF",
           "#FECB52"
          ],
          "font": {
           "color": "#2a3f5f"
          },
          "geo": {
           "bgcolor": "white",
           "lakecolor": "white",
           "landcolor": "#E5ECF6",
           "showlakes": true,
           "showland": true,
           "subunitcolor": "white"
          },
          "hoverlabel": {
           "align": "left"
          },
          "hovermode": "closest",
          "mapbox": {
           "style": "light"
          },
          "paper_bgcolor": "white",
          "plot_bgcolor": "#E5ECF6",
          "polar": {
           "angularaxis": {
            "gridcolor": "white",
            "linecolor": "white",
            "ticks": ""
           },
           "bgcolor": "#E5ECF6",
           "radialaxis": {
            "gridcolor": "white",
            "linecolor": "white",
            "ticks": ""
           }
          },
          "scene": {
           "xaxis": {
            "backgroundcolor": "#E5ECF6",
            "gridcolor": "white",
            "gridwidth": 2,
            "linecolor": "white",
            "showbackground": true,
            "ticks": "",
            "zerolinecolor": "white"
           },
           "yaxis": {
            "backgroundcolor": "#E5ECF6",
            "gridcolor": "white",
            "gridwidth": 2,
            "linecolor": "white",
            "showbackground": true,
            "ticks": "",
            "zerolinecolor": "white"
           },
           "zaxis": {
            "backgroundcolor": "#E5ECF6",
            "gridcolor": "white",
            "gridwidth": 2,
            "linecolor": "white",
            "showbackground": true,
            "ticks": "",
            "zerolinecolor": "white"
           }
          },
          "shapedefaults": {
           "line": {
            "color": "#2a3f5f"
           }
          },
          "ternary": {
           "aaxis": {
            "gridcolor": "white",
            "linecolor": "white",
            "ticks": ""
           },
           "baxis": {
            "gridcolor": "white",
            "linecolor": "white",
            "ticks": ""
           },
           "bgcolor": "#E5ECF6",
           "caxis": {
            "gridcolor": "white",
            "linecolor": "white",
            "ticks": ""
           }
          },
          "title": {
           "x": 0.05
          },
          "xaxis": {
           "automargin": true,
           "gridcolor": "white",
           "linecolor": "white",
           "ticks": "",
           "title": {
            "standoff": 15
           },
           "zerolinecolor": "white",
           "zerolinewidth": 2
          },
          "yaxis": {
           "automargin": true,
           "gridcolor": "white",
           "linecolor": "white",
           "ticks": "",
           "title": {
            "standoff": 15
           },
           "zerolinecolor": "white",
           "zerolinewidth": 2
          }
         }
        },
        "title": {
         "text": "Relative Strength Index (14)"
        },
        "xaxis": {
         "title": {
          "text": "Date"
         }
        },
        "yaxis": {
         "range": [
          0,
          100
         ],
         "title": {
          "text": "RSI Value"
         }
        }
       }
      }
     },
     "metadata": {},
     "output_type": "display_data"
    },
    {
     "data": {
      "application/vnd.plotly.v1+json": {
       "config": {
        "plotlyServerURL": "https://plot.ly"
       },
       "data": [
        {
         "line": {
          "color": "green",
          "width": 1
         },
         "name": "MACD",
         "type": "scatter",
         "x": [
          "2024-01-01T00:00:00.000000000",
          "2024-01-02T00:00:00.000000000",
          "2024-01-03T00:00:00.000000000",
          "2024-01-04T00:00:00.000000000",
          "2024-01-05T00:00:00.000000000",
          "2024-01-06T00:00:00.000000000",
          "2024-01-07T00:00:00.000000000",
          "2024-01-08T00:00:00.000000000",
          "2024-01-09T00:00:00.000000000",
          "2024-01-10T00:00:00.000000000",
          "2024-01-11T00:00:00.000000000",
          "2024-01-12T00:00:00.000000000",
          "2024-01-13T00:00:00.000000000",
          "2024-01-14T00:00:00.000000000",
          "2024-01-15T00:00:00.000000000",
          "2024-01-16T00:00:00.000000000",
          "2024-01-17T00:00:00.000000000",
          "2024-01-18T00:00:00.000000000",
          "2024-01-19T00:00:00.000000000",
          "2024-01-20T00:00:00.000000000",
          "2024-01-21T00:00:00.000000000",
          "2024-01-22T00:00:00.000000000",
          "2024-01-23T00:00:00.000000000",
          "2024-01-24T00:00:00.000000000",
          "2024-01-25T00:00:00.000000000",
          "2024-01-26T00:00:00.000000000",
          "2024-01-27T00:00:00.000000000",
          "2024-01-28T00:00:00.000000000",
          "2024-01-29T00:00:00.000000000",
          "2024-01-30T00:00:00.000000000",
          "2024-01-31T00:00:00.000000000",
          "2024-02-01T00:00:00.000000000",
          "2024-02-02T00:00:00.000000000",
          "2024-02-03T00:00:00.000000000",
          "2024-02-04T00:00:00.000000000",
          "2024-02-05T00:00:00.000000000",
          "2024-02-06T00:00:00.000000000",
          "2024-02-07T00:00:00.000000000",
          "2024-02-08T00:00:00.000000000",
          "2024-02-09T00:00:00.000000000",
          "2024-02-10T00:00:00.000000000",
          "2024-02-11T00:00:00.000000000",
          "2024-02-12T00:00:00.000000000",
          "2024-02-13T00:00:00.000000000",
          "2024-02-14T00:00:00.000000000",
          "2024-02-15T00:00:00.000000000",
          "2024-02-16T00:00:00.000000000",
          "2024-02-17T00:00:00.000000000",
          "2024-02-18T00:00:00.000000000",
          "2024-02-19T00:00:00.000000000",
          "2024-02-20T00:00:00.000000000",
          "2024-02-21T00:00:00.000000000",
          "2024-02-22T00:00:00.000000000",
          "2024-02-23T00:00:00.000000000",
          "2024-02-24T00:00:00.000000000",
          "2024-02-25T00:00:00.000000000",
          "2024-02-26T00:00:00.000000000",
          "2024-02-27T00:00:00.000000000",
          "2024-02-28T00:00:00.000000000",
          "2024-02-29T00:00:00.000000000",
          "2024-03-01T00:00:00.000000000",
          "2024-03-02T00:00:00.000000000",
          "2024-03-03T00:00:00.000000000",
          "2024-03-04T00:00:00.000000000",
          "2024-03-05T00:00:00.000000000",
          "2024-03-06T00:00:00.000000000",
          "2024-03-07T00:00:00.000000000",
          "2024-03-08T00:00:00.000000000",
          "2024-03-09T00:00:00.000000000",
          "2024-03-10T00:00:00.000000000",
          "2024-03-11T00:00:00.000000000",
          "2024-03-12T00:00:00.000000000",
          "2024-03-13T00:00:00.000000000",
          "2024-03-14T00:00:00.000000000",
          "2024-03-15T00:00:00.000000000",
          "2024-03-16T00:00:00.000000000",
          "2024-03-17T00:00:00.000000000",
          "2024-03-18T00:00:00.000000000",
          "2024-03-19T00:00:00.000000000",
          "2024-03-20T00:00:00.000000000",
          "2024-03-21T00:00:00.000000000",
          "2024-03-22T00:00:00.000000000",
          "2024-03-23T00:00:00.000000000",
          "2024-03-24T00:00:00.000000000",
          "2024-03-25T00:00:00.000000000",
          "2024-03-26T00:00:00.000000000",
          "2024-03-27T00:00:00.000000000",
          "2024-03-28T00:00:00.000000000",
          "2024-03-29T00:00:00.000000000",
          "2024-03-30T00:00:00.000000000",
          "2024-03-31T00:00:00.000000000",
          "2024-04-01T00:00:00.000000000",
          "2024-04-02T00:00:00.000000000",
          "2024-04-03T00:00:00.000000000",
          "2024-04-04T00:00:00.000000000",
          "2024-04-05T00:00:00.000000000",
          "2024-04-06T00:00:00.000000000",
          "2024-04-07T00:00:00.000000000",
          "2024-04-08T00:00:00.000000000",
          "2024-04-09T00:00:00.000000000",
          "2024-04-10T00:00:00.000000000",
          "2024-04-11T00:00:00.000000000",
          "2024-04-12T00:00:00.000000000",
          "2024-04-13T00:00:00.000000000",
          "2024-04-14T00:00:00.000000000",
          "2024-04-15T00:00:00.000000000",
          "2024-04-16T00:00:00.000000000",
          "2024-04-17T00:00:00.000000000",
          "2024-04-18T00:00:00.000000000",
          "2024-04-19T00:00:00.000000000",
          "2024-04-20T00:00:00.000000000",
          "2024-04-21T00:00:00.000000000",
          "2024-04-22T00:00:00.000000000",
          "2024-04-23T00:00:00.000000000",
          "2024-04-24T00:00:00.000000000",
          "2024-04-25T00:00:00.000000000",
          "2024-04-26T00:00:00.000000000",
          "2024-04-27T00:00:00.000000000",
          "2024-04-28T00:00:00.000000000",
          "2024-04-29T00:00:00.000000000",
          "2024-04-30T00:00:00.000000000",
          "2024-05-01T00:00:00.000000000",
          "2024-05-02T00:00:00.000000000",
          "2024-05-03T00:00:00.000000000",
          "2024-05-04T00:00:00.000000000",
          "2024-05-05T00:00:00.000000000",
          "2024-05-06T00:00:00.000000000",
          "2024-05-07T00:00:00.000000000",
          "2024-05-08T00:00:00.000000000",
          "2024-05-09T00:00:00.000000000",
          "2024-05-10T00:00:00.000000000",
          "2024-05-11T00:00:00.000000000",
          "2024-05-12T00:00:00.000000000",
          "2024-05-13T00:00:00.000000000",
          "2024-05-14T00:00:00.000000000",
          "2024-05-15T00:00:00.000000000",
          "2024-05-16T00:00:00.000000000",
          "2024-05-17T00:00:00.000000000",
          "2024-05-18T00:00:00.000000000",
          "2024-05-19T00:00:00.000000000",
          "2024-05-20T00:00:00.000000000",
          "2024-05-21T00:00:00.000000000",
          "2024-05-22T00:00:00.000000000",
          "2024-05-23T00:00:00.000000000",
          "2024-05-24T00:00:00.000000000",
          "2024-05-25T00:00:00.000000000",
          "2024-05-26T00:00:00.000000000",
          "2024-05-27T00:00:00.000000000",
          "2024-05-28T00:00:00.000000000",
          "2024-05-29T00:00:00.000000000",
          "2024-05-30T00:00:00.000000000",
          "2024-05-31T00:00:00.000000000",
          "2024-06-01T00:00:00.000000000",
          "2024-06-02T00:00:00.000000000",
          "2024-06-03T00:00:00.000000000",
          "2024-06-04T00:00:00.000000000",
          "2024-06-05T00:00:00.000000000",
          "2024-06-06T00:00:00.000000000",
          "2024-06-07T00:00:00.000000000",
          "2024-06-08T00:00:00.000000000",
          "2024-06-09T00:00:00.000000000",
          "2024-06-10T00:00:00.000000000",
          "2024-06-11T00:00:00.000000000",
          "2024-06-12T00:00:00.000000000",
          "2024-06-13T00:00:00.000000000",
          "2024-06-14T00:00:00.000000000",
          "2024-06-15T00:00:00.000000000",
          "2024-06-16T00:00:00.000000000",
          "2024-06-17T00:00:00.000000000",
          "2024-06-18T00:00:00.000000000",
          "2024-06-19T00:00:00.000000000",
          "2024-06-20T00:00:00.000000000",
          "2024-06-21T00:00:00.000000000",
          "2024-06-22T00:00:00.000000000",
          "2024-06-23T00:00:00.000000000",
          "2024-06-24T00:00:00.000000000",
          "2024-06-25T00:00:00.000000000",
          "2024-06-26T00:00:00.000000000",
          "2024-06-27T00:00:00.000000000",
          "2024-06-28T00:00:00.000000000",
          "2024-06-29T00:00:00.000000000",
          "2024-06-30T00:00:00.000000000",
          "2024-07-01T00:00:00.000000000",
          "2024-07-02T00:00:00.000000000",
          "2024-07-03T00:00:00.000000000",
          "2024-07-04T00:00:00.000000000",
          "2024-07-05T00:00:00.000000000",
          "2024-07-06T00:00:00.000000000",
          "2024-07-07T00:00:00.000000000",
          "2024-07-08T00:00:00.000000000",
          "2024-07-09T00:00:00.000000000",
          "2024-07-10T00:00:00.000000000",
          "2024-07-11T00:00:00.000000000",
          "2024-07-12T00:00:00.000000000",
          "2024-07-13T00:00:00.000000000",
          "2024-07-14T00:00:00.000000000",
          "2024-07-15T00:00:00.000000000",
          "2024-07-16T00:00:00.000000000",
          "2024-07-17T00:00:00.000000000",
          "2024-07-18T00:00:00.000000000",
          "2024-07-19T00:00:00.000000000",
          "2024-07-20T00:00:00.000000000",
          "2024-07-21T00:00:00.000000000",
          "2024-07-22T00:00:00.000000000",
          "2024-07-23T00:00:00.000000000",
          "2024-07-24T00:00:00.000000000",
          "2024-07-25T00:00:00.000000000",
          "2024-07-26T00:00:00.000000000",
          "2024-07-27T00:00:00.000000000",
          "2024-07-28T00:00:00.000000000",
          "2024-07-29T00:00:00.000000000",
          "2024-07-30T00:00:00.000000000",
          "2024-07-31T00:00:00.000000000",
          "2024-08-01T00:00:00.000000000",
          "2024-08-02T00:00:00.000000000",
          "2024-08-03T00:00:00.000000000",
          "2024-08-04T00:00:00.000000000",
          "2024-08-05T00:00:00.000000000",
          "2024-08-06T00:00:00.000000000",
          "2024-08-07T00:00:00.000000000",
          "2024-08-08T00:00:00.000000000",
          "2024-08-09T00:00:00.000000000",
          "2024-08-10T00:00:00.000000000",
          "2024-08-11T00:00:00.000000000",
          "2024-08-12T00:00:00.000000000",
          "2024-08-13T00:00:00.000000000",
          "2024-08-14T00:00:00.000000000",
          "2024-08-15T00:00:00.000000000",
          "2024-08-16T00:00:00.000000000",
          "2024-08-17T00:00:00.000000000",
          "2024-08-18T00:00:00.000000000",
          "2024-08-19T00:00:00.000000000",
          "2024-08-20T00:00:00.000000000",
          "2024-08-21T00:00:00.000000000",
          "2024-08-22T00:00:00.000000000",
          "2024-08-23T00:00:00.000000000",
          "2024-08-24T00:00:00.000000000",
          "2024-08-25T00:00:00.000000000",
          "2024-08-26T00:00:00.000000000",
          "2024-08-27T00:00:00.000000000",
          "2024-08-28T00:00:00.000000000",
          "2024-08-29T00:00:00.000000000",
          "2024-08-30T00:00:00.000000000",
          "2024-08-31T00:00:00.000000000",
          "2024-09-01T00:00:00.000000000",
          "2024-09-02T00:00:00.000000000",
          "2024-09-03T00:00:00.000000000",
          "2024-09-04T00:00:00.000000000",
          "2024-09-05T00:00:00.000000000",
          "2024-09-06T00:00:00.000000000",
          "2024-09-07T00:00:00.000000000",
          "2024-09-08T00:00:00.000000000",
          "2024-09-09T00:00:00.000000000",
          "2024-09-10T00:00:00.000000000",
          "2024-09-11T00:00:00.000000000",
          "2024-09-12T00:00:00.000000000",
          "2024-09-13T00:00:00.000000000",
          "2024-09-14T00:00:00.000000000",
          "2024-09-15T00:00:00.000000000",
          "2024-09-16T00:00:00.000000000",
          "2024-09-17T00:00:00.000000000",
          "2024-09-18T00:00:00.000000000",
          "2024-09-19T00:00:00.000000000",
          "2024-09-20T00:00:00.000000000",
          "2024-09-21T00:00:00.000000000",
          "2024-09-22T00:00:00.000000000",
          "2024-09-23T00:00:00.000000000",
          "2024-09-24T00:00:00.000000000",
          "2024-09-25T00:00:00.000000000",
          "2024-09-26T00:00:00.000000000",
          "2024-09-27T00:00:00.000000000",
          "2024-09-28T00:00:00.000000000",
          "2024-09-29T00:00:00.000000000",
          "2024-09-30T00:00:00.000000000",
          "2024-10-01T00:00:00.000000000",
          "2024-10-02T00:00:00.000000000",
          "2024-10-03T00:00:00.000000000",
          "2024-10-04T00:00:00.000000000",
          "2024-10-05T00:00:00.000000000",
          "2024-10-06T00:00:00.000000000",
          "2024-10-07T00:00:00.000000000",
          "2024-10-08T00:00:00.000000000",
          "2024-10-09T00:00:00.000000000",
          "2024-10-10T00:00:00.000000000",
          "2024-10-11T00:00:00.000000000",
          "2024-10-12T00:00:00.000000000",
          "2024-10-13T00:00:00.000000000",
          "2024-10-14T00:00:00.000000000",
          "2024-10-15T00:00:00.000000000",
          "2024-10-16T00:00:00.000000000",
          "2024-10-17T00:00:00.000000000",
          "2024-10-18T00:00:00.000000000",
          "2024-10-19T00:00:00.000000000",
          "2024-10-20T00:00:00.000000000",
          "2024-10-21T00:00:00.000000000",
          "2024-10-22T00:00:00.000000000",
          "2024-10-23T00:00:00.000000000",
          "2024-10-24T00:00:00.000000000",
          "2024-10-25T00:00:00.000000000",
          "2024-10-26T00:00:00.000000000",
          "2024-10-27T00:00:00.000000000",
          "2024-10-28T00:00:00.000000000",
          "2024-10-29T00:00:00.000000000",
          "2024-10-30T00:00:00.000000000",
          "2024-10-31T00:00:00.000000000",
          "2024-11-01T00:00:00.000000000",
          "2024-11-02T00:00:00.000000000",
          "2024-11-03T00:00:00.000000000",
          "2024-11-04T00:00:00.000000000",
          "2024-11-05T00:00:00.000000000",
          "2024-11-06T00:00:00.000000000",
          "2024-11-07T00:00:00.000000000",
          "2024-11-08T00:00:00.000000000",
          "2024-11-09T00:00:00.000000000",
          "2024-11-10T00:00:00.000000000",
          "2024-11-11T00:00:00.000000000",
          "2024-11-12T00:00:00.000000000",
          "2024-11-13T00:00:00.000000000",
          "2024-11-14T00:00:00.000000000",
          "2024-11-15T00:00:00.000000000",
          "2024-11-16T00:00:00.000000000",
          "2024-11-17T00:00:00.000000000",
          "2024-11-18T00:00:00.000000000",
          "2024-11-19T00:00:00.000000000",
          "2024-11-20T00:00:00.000000000",
          "2024-11-21T00:00:00.000000000",
          "2024-11-22T00:00:00.000000000",
          "2024-11-23T00:00:00.000000000",
          "2024-11-24T00:00:00.000000000",
          "2024-11-25T00:00:00.000000000",
          "2024-11-26T00:00:00.000000000",
          "2024-11-27T00:00:00.000000000",
          "2024-11-28T00:00:00.000000000",
          "2024-11-29T00:00:00.000000000",
          "2024-11-30T00:00:00.000000000",
          "2024-12-01T00:00:00.000000000",
          "2024-12-02T00:00:00.000000000",
          "2024-12-03T00:00:00.000000000",
          "2024-12-04T00:00:00.000000000",
          "2024-12-05T00:00:00.000000000",
          "2024-12-06T00:00:00.000000000",
          "2024-12-07T00:00:00.000000000",
          "2024-12-08T00:00:00.000000000",
          "2024-12-09T00:00:00.000000000",
          "2024-12-10T00:00:00.000000000",
          "2024-12-11T00:00:00.000000000",
          "2024-12-12T00:00:00.000000000",
          "2024-12-13T00:00:00.000000000",
          "2024-12-14T00:00:00.000000000",
          "2024-12-15T00:00:00.000000000",
          "2024-12-16T00:00:00.000000000",
          "2024-12-17T00:00:00.000000000",
          "2024-12-18T00:00:00.000000000",
          "2024-12-19T00:00:00.000000000",
          "2024-12-20T00:00:00.000000000",
          "2024-12-21T00:00:00.000000000",
          "2024-12-22T00:00:00.000000000",
          "2024-12-23T00:00:00.000000000",
          "2024-12-24T00:00:00.000000000",
          "2024-12-25T00:00:00.000000000",
          "2024-12-26T00:00:00.000000000",
          "2024-12-27T00:00:00.000000000",
          "2024-12-28T00:00:00.000000000",
          "2024-12-29T00:00:00.000000000",
          "2024-12-30T00:00:00.000000000",
          "2024-12-31T00:00:00.000000000"
         ],
         "y": {
          "bdata": "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",
          "dtype": "f8"
         }
        },
        {
         "line": {
          "color": "red",
          "width": 1
         },
         "name": "MACD Signal",
         "type": "scatter",
         "x": [
          "2024-01-01T00:00:00.000000000",
          "2024-01-02T00:00:00.000000000",
          "2024-01-03T00:00:00.000000000",
          "2024-01-04T00:00:00.000000000",
          "2024-01-05T00:00:00.000000000",
          "2024-01-06T00:00:00.000000000",
          "2024-01-07T00:00:00.000000000",
          "2024-01-08T00:00:00.000000000",
          "2024-01-09T00:00:00.000000000",
          "2024-01-10T00:00:00.000000000",
          "2024-01-11T00:00:00.000000000",
          "2024-01-12T00:00:00.000000000",
          "2024-01-13T00:00:00.000000000",
          "2024-01-14T00:00:00.000000000",
          "2024-01-15T00:00:00.000000000",
          "2024-01-16T00:00:00.000000000",
          "2024-01-17T00:00:00.000000000",
          "2024-01-18T00:00:00.000000000",
          "2024-01-19T00:00:00.000000000",
          "2024-01-20T00:00:00.000000000",
          "2024-01-21T00:00:00.000000000",
          "2024-01-22T00:00:00.000000000",
          "2024-01-23T00:00:00.000000000",
          "2024-01-24T00:00:00.000000000",
          "2024-01-25T00:00:00.000000000",
          "2024-01-26T00:00:00.000000000",
          "2024-01-27T00:00:00.000000000",
          "2024-01-28T00:00:00.000000000",
          "2024-01-29T00:00:00.000000000",
          "2024-01-30T00:00:00.000000000",
          "2024-01-31T00:00:00.000000000",
          "2024-02-01T00:00:00.000000000",
          "2024-02-02T00:00:00.000000000",
          "2024-02-03T00:00:00.000000000",
          "2024-02-04T00:00:00.000000000",
          "2024-02-05T00:00:00.000000000",
          "2024-02-06T00:00:00.000000000",
          "2024-02-07T00:00:00.000000000",
          "2024-02-08T00:00:00.000000000",
          "2024-02-09T00:00:00.000000000",
          "2024-02-10T00:00:00.000000000",
          "2024-02-11T00:00:00.000000000",
          "2024-02-12T00:00:00.000000000",
          "2024-02-13T00:00:00.000000000",
          "2024-02-14T00:00:00.000000000",
          "2024-02-15T00:00:00.000000000",
          "2024-02-16T00:00:00.000000000",
          "2024-02-17T00:00:00.000000000",
          "2024-02-18T00:00:00.000000000",
          "2024-02-19T00:00:00.000000000",
          "2024-02-20T00:00:00.000000000",
          "2024-02-21T00:00:00.000000000",
          "2024-02-22T00:00:00.000000000",
          "2024-02-23T00:00:00.000000000",
          "2024-02-24T00:00:00.000000000",
          "2024-02-25T00:00:00.000000000",
          "2024-02-26T00:00:00.000000000",
          "2024-02-27T00:00:00.000000000",
          "2024-02-28T00:00:00.000000000",
          "2024-02-29T00:00:00.000000000",
          "2024-03-01T00:00:00.000000000",
          "2024-03-02T00:00:00.000000000",
          "2024-03-03T00:00:00.000000000",
          "2024-03-04T00:00:00.000000000",
          "2024-03-05T00:00:00.000000000",
          "2024-03-06T00:00:00.000000000",
          "2024-03-07T00:00:00.000000000",
          "2024-03-08T00:00:00.000000000",
          "2024-03-09T00:00:00.000000000",
          "2024-03-10T00:00:00.000000000",
          "2024-03-11T00:00:00.000000000",
          "2024-03-12T00:00:00.000000000",
          "2024-03-13T00:00:00.000000000",
          "2024-03-14T00:00:00.000000000",
          "2024-03-15T00:00:00.000000000",
          "2024-03-16T00:00:00.000000000",
          "2024-03-17T00:00:00.000000000",
          "2024-03-18T00:00:00.000000000",
          "2024-03-19T00:00:00.000000000",
          "2024-03-20T00:00:00.000000000",
          "2024-03-21T00:00:00.000000000",
          "2024-03-22T00:00:00.000000000",
          "2024-03-23T00:00:00.000000000",
          "2024-03-24T00:00:00.000000000",
          "2024-03-25T00:00:00.000000000",
          "2024-03-26T00:00:00.000000000",
          "2024-03-27T00:00:00.000000000",
          "2024-03-28T00:00:00.000000000",
          "2024-03-29T00:00:00.000000000",
          "2024-03-30T00:00:00.000000000",
          "2024-03-31T00:00:00.000000000",
          "2024-04-01T00:00:00.000000000",
          "2024-04-02T00:00:00.000000000",
          "2024-04-03T00:00:00.000000000",
          "2024-04-04T00:00:00.000000000",
          "2024-04-05T00:00:00.000000000",
          "2024-04-06T00:00:00.000000000",
          "2024-04-07T00:00:00.000000000",
          "2024-04-08T00:00:00.000000000",
          "2024-04-09T00:00:00.000000000",
          "2024-04-10T00:00:00.000000000",
          "2024-04-11T00:00:00.000000000",
          "2024-04-12T00:00:00.000000000",
          "2024-04-13T00:00:00.000000000",
          "2024-04-14T00:00:00.000000000",
          "2024-04-15T00:00:00.000000000",
          "2024-04-16T00:00:00.000000000",
          "2024-04-17T00:00:00.000000000",
          "2024-04-18T00:00:00.000000000",
          "2024-04-19T00:00:00.000000000",
          "2024-04-20T00:00:00.000000000",
          "2024-04-21T00:00:00.000000000",
          "2024-04-22T00:00:00.000000000",
          "2024-04-23T00:00:00.000000000",
          "2024-04-24T00:00:00.000000000",
          "2024-04-25T00:00:00.000000000",
          "2024-04-26T00:00:00.000000000",
          "2024-04-27T00:00:00.000000000",
          "2024-04-28T00:00:00.000000000",
          "2024-04-29T00:00:00.000000000",
          "2024-04-30T00:00:00.000000000",
          "2024-05-01T00:00:00.000000000",
          "2024-05-02T00:00:00.000000000",
          "2024-05-03T00:00:00.000000000",
          "2024-05-04T00:00:00.000000000",
          "2024-05-05T00:00:00.000000000",
          "2024-05-06T00:00:00.000000000",
          "2024-05-07T00:00:00.000000000",
          "2024-05-08T00:00:00.000000000",
          "2024-05-09T00:00:00.000000000",
          "2024-05-10T00:00:00.000000000",
          "2024-05-11T00:00:00.000000000",
          "2024-05-12T00:00:00.000000000",
          "2024-05-13T00:00:00.000000000",
          "2024-05-14T00:00:00.000000000",
          "2024-05-15T00:00:00.000000000",
          "2024-05-16T00:00:00.000000000",
          "2024-05-17T00:00:00.000000000",
          "2024-05-18T00:00:00.000000000",
          "2024-05-19T00:00:00.000000000",
          "2024-05-20T00:00:00.000000000",
          "2024-05-21T00:00:00.000000000",
          "2024-05-22T00:00:00.000000000",
          "2024-05-23T00:00:00.000000000",
          "2024-05-24T00:00:00.000000000",
          "2024-05-25T00:00:00.000000000",
          "2024-05-26T00:00:00.000000000",
          "2024-05-27T00:00:00.000000000",
          "2024-05-28T00:00:00.000000000",
          "2024-05-29T00:00:00.000000000",
          "2024-05-30T00:00:00.000000000",
          "2024-05-31T00:00:00.000000000",
          "2024-06-01T00:00:00.000000000",
          "2024-06-02T00:00:00.000000000",
          "2024-06-03T00:00:00.000000000",
          "2024-06-04T00:00:00.000000000",
          "2024-06-05T00:00:00.000000000",
          "2024-06-06T00:00:00.000000000",
          "2024-06-07T00:00:00.000000000",
          "2024-06-08T00:00:00.000000000",
          "2024-06-09T00:00:00.000000000",
          "2024-06-10T00:00:00.000000000",
          "2024-06-11T00:00:00.000000000",
          "2024-06-12T00:00:00.000000000",
          "2024-06-13T00:00:00.000000000",
          "2024-06-14T00:00:00.000000000",
          "2024-06-15T00:00:00.000000000",
          "2024-06-16T00:00:00.000000000",
          "2024-06-17T00:00:00.000000000",
          "2024-06-18T00:00:00.000000000",
          "2024-06-19T00:00:00.000000000",
          "2024-06-20T00:00:00.000000000",
          "2024-06-21T00:00:00.000000000",
          "2024-06-22T00:00:00.000000000",
          "2024-06-23T00:00:00.000000000",
          "2024-06-24T00:00:00.000000000",
          "2024-06-25T00:00:00.000000000",
          "2024-06-26T00:00:00.000000000",
          "2024-06-27T00:00:00.000000000",
          "2024-06-28T00:00:00.000000000",
          "2024-06-29T00:00:00.000000000",
          "2024-06-30T00:00:00.000000000",
          "2024-07-01T00:00:00.000000000",
          "2024-07-02T00:00:00.000000000",
          "2024-07-03T00:00:00.000000000",
          "2024-07-04T00:00:00.000000000",
          "2024-07-05T00:00:00.000000000",
          "2024-07-06T00:00:00.000000000",
          "2024-07-07T00:00:00.000000000",
          "2024-07-08T00:00:00.000000000",
          "2024-07-09T00:00:00.000000000",
          "2024-07-10T00:00:00.000000000",
          "2024-07-11T00:00:00.000000000",
          "2024-07-12T00:00:00.000000000",
          "2024-07-13T00:00:00.000000000",
          "2024-07-14T00:00:00.000000000",
          "2024-07-15T00:00:00.000000000",
          "2024-07-16T00:00:00.000000000",
          "2024-07-17T00:00:00.000000000",
          "2024-07-18T00:00:00.000000000",
          "2024-07-19T00:00:00.000000000",
          "2024-07-20T00:00:00.000000000",
          "2024-07-21T00:00:00.000000000",
          "2024-07-22T00:00:00.000000000",
          "2024-07-23T00:00:00.000000000",
          "2024-07-24T00:00:00.000000000",
          "2024-07-25T00:00:00.000000000",
          "2024-07-26T00:00:00.000000000",
          "2024-07-27T00:00:00.000000000",
          "2024-07-28T00:00:00.000000000",
          "2024-07-29T00:00:00.000000000",
          "2024-07-30T00:00:00.000000000",
          "2024-07-31T00:00:00.000000000",
          "2024-08-01T00:00:00.000000000",
          "2024-08-02T00:00:00.000000000",
          "2024-08-03T00:00:00.000000000",
          "2024-08-04T00:00:00.000000000",
          "2024-08-05T00:00:00.000000000",
          "2024-08-06T00:00:00.000000000",
          "2024-08-07T00:00:00.000000000",
          "2024-08-08T00:00:00.000000000",
          "2024-08-09T00:00:00.000000000",
          "2024-08-10T00:00:00.000000000",
          "2024-08-11T00:00:00.000000000",
          "2024-08-12T00:00:00.000000000",
          "2024-08-13T00:00:00.000000000",
          "2024-08-14T00:00:00.000000000",
          "2024-08-15T00:00:00.000000000",
          "2024-08-16T00:00:00.000000000",
          "2024-08-17T00:00:00.000000000",
          "2024-08-18T00:00:00.000000000",
          "2024-08-19T00:00:00.000000000",
          "2024-08-20T00:00:00.000000000",
          "2024-08-21T00:00:00.000000000",
          "2024-08-22T00:00:00.000000000",
          "2024-08-23T00:00:00.000000000",
          "2024-08-24T00:00:00.000000000",
          "2024-08-25T00:00:00.000000000",
          "2024-08-26T00:00:00.000000000",
          "2024-08-27T00:00:00.000000000",
          "2024-08-28T00:00:00.000000000",
          "2024-08-29T00:00:00.000000000",
          "2024-08-30T00:00:00.000000000",
          "2024-08-31T00:00:00.000000000",
          "2024-09-01T00:00:00.000000000",
          "2024-09-02T00:00:00.000000000",
          "2024-09-03T00:00:00.000000000",
          "2024-09-04T00:00:00.000000000",
          "2024-09-05T00:00:00.000000000",
          "2024-09-06T00:00:00.000000000",
          "2024-09-07T00:00:00.000000000",
          "2024-09-08T00:00:00.000000000",
          "2024-09-09T00:00:00.000000000",
          "2024-09-10T00:00:00.000000000",
          "2024-09-11T00:00:00.000000000",
          "2024-09-12T00:00:00.000000000",
          "2024-09-13T00:00:00.000000000",
          "2024-09-14T00:00:00.000000000",
          "2024-09-15T00:00:00.000000000",
          "2024-09-16T00:00:00.000000000",
          "2024-09-17T00:00:00.000000000",
          "2024-09-18T00:00:00.000000000",
          "2024-09-19T00:00:00.000000000",
          "2024-09-20T00:00:00.000000000",
          "2024-09-21T00:00:00.000000000",
          "2024-09-22T00:00:00.000000000",
          "2024-09-23T00:00:00.000000000",
          "2024-09-24T00:00:00.000000000",
          "2024-09-25T00:00:00.000000000",
          "2024-09-26T00:00:00.000000000",
          "2024-09-27T00:00:00.000000000",
          "2024-09-28T00:00:00.000000000",
          "2024-09-29T00:00:00.000000000",
          "2024-09-30T00:00:00.000000000",
          "2024-10-01T00:00:00.000000000",
          "2024-10-02T00:00:00.000000000",
          "2024-10-03T00:00:00.000000000",
          "2024-10-04T00:00:00.000000000",
          "2024-10-05T00:00:00.000000000",
          "2024-10-06T00:00:00.000000000",
          "2024-10-07T00:00:00.000000000",
          "2024-10-08T00:00:00.000000000",
          "2024-10-09T00:00:00.000000000",
          "2024-10-10T00:00:00.000000000",
          "2024-10-11T00:00:00.000000000",
          "2024-10-12T00:00:00.000000000",
          "2024-10-13T00:00:00.000000000",
          "2024-10-14T00:00:00.000000000",
          "2024-10-15T00:00:00.000000000",
          "2024-10-16T00:00:00.000000000",
          "2024-10-17T00:00:00.000000000",
          "2024-10-18T00:00:00.000000000",
          "2024-10-19T00:00:00.000000000",
          "2024-10-20T00:00:00.000000000",
          "2024-10-21T00:00:00.000000000",
          "2024-10-22T00:00:00.000000000",
          "2024-10-23T00:00:00.000000000",
          "2024-10-24T00:00:00.000000000",
          "2024-10-25T00:00:00.000000000",
          "2024-10-26T00:00:00.000000000",
          "2024-10-27T00:00:00.000000000",
          "2024-10-28T00:00:00.000000000",
          "2024-10-29T00:00:00.000000000",
          "2024-10-30T00:00:00.000000000",
          "2024-10-31T00:00:00.000000000",
          "2024-11-01T00:00:00.000000000",
          "2024-11-02T00:00:00.000000000",
          "2024-11-03T00:00:00.000000000",
          "2024-11-04T00:00:00.000000000",
          "2024-11-05T00:00:00.000000000",
          "2024-11-06T00:00:00.000000000",
          "2024-11-07T00:00:00.000000000",
          "2024-11-08T00:00:00.000000000",
          "2024-11-09T00:00:00.000000000",
          "2024-11-10T00:00:00.000000000",
          "2024-11-11T00:00:00.000000000",
          "2024-11-12T00:00:00.000000000",
          "2024-11-13T00:00:00.000000000",
          "2024-11-14T00:00:00.000000000",
          "2024-11-15T00:00:00.000000000",
          "2024-11-16T00:00:00.000000000",
          "2024-11-17T00:00:00.000000000",
          "2024-11-18T00:00:00.000000000",
          "2024-11-19T00:00:00.000000000",
          "2024-11-20T00:00:00.000000000",
          "2024-11-21T00:00:00.000000000",
          "2024-11-22T00:00:00.000000000",
          "2024-11-23T00:00:00.000000000",
          "2024-11-24T00:00:00.000000000",
          "2024-11-25T00:00:00.000000000",
          "2024-11-26T00:00:00.000000000",
          "2024-11-27T00:00:00.000000000",
          "2024-11-28T00:00:00.000000000",
          "2024-11-29T00:00:00.000000000",
          "2024-11-30T00:00:00.000000000",
          "2024-12-01T00:00:00.000000000",
          "2024-12-02T00:00:00.000000000",
          "2024-12-03T00:00:00.000000000",
          "2024-12-04T00:00:00.000000000",
          "2024-12-05T00:00:00.000000000",
          "2024-12-06T00:00:00.000000000",
          "2024-12-07T00:00:00.000000000",
          "2024-12-08T00:00:00.000000000",
          "2024-12-09T00:00:00.000000000",
          "2024-12-10T00:00:00.000000000",
          "2024-12-11T00:00:00.000000000",
          "2024-12-12T00:00:00.000000000",
          "2024-12-13T00:00:00.000000000",
          "2024-12-14T00:00:00.000000000",
          "2024-12-15T00:00:00.000000000",
          "2024-12-16T00:00:00.000000000",
          "2024-12-17T00:00:00.000000000",
          "2024-12-18T00:00:00.000000000",
          "2024-12-19T00:00:00.000000000",
          "2024-12-20T00:00:00.000000000",
          "2024-12-21T00:00:00.000000000",
          "2024-12-22T00:00:00.000000000",
          "2024-12-23T00:00:00.000000000",
          "2024-12-24T00:00:00.000000000",
          "2024-12-25T00:00:00.000000000",
          "2024-12-26T00:00:00.000000000",
          "2024-12-27T00:00:00.000000000",
          "2024-12-28T00:00:00.000000000",
          "2024-12-29T00:00:00.000000000",
          "2024-12-30T00:00:00.000000000",
          "2024-12-31T00:00:00.000000000"
         ],
         "y": {
          "bdata": "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",
          "dtype": "f8"
         }
        }
       ],
       "layout": {
        "showlegend": true,
        "template": {
         "data": {
          "bar": [
           {
            "error_x": {
             "color": "#2a3f5f"
            },
            "error_y": {
             "color": "#2a3f5f"
            },
            "marker": {
             "line": {
              "color": "#E5ECF6",
              "width": 0.5
             },
             "pattern": {
              "fillmode": "overlay",
              "size": 10,
              "solidity": 0.2
             }
            },
            "type": "bar"
           }
          ],
          "barpolar": [
           {
            "marker": {
             "line": {
              "color": "#E5ECF6",
              "width": 0.5
             },
             "pattern": {
              "fillmode": "overlay",
              "size": 10,
              "solidity": 0.2
             }
            },
            "type": "barpolar"
           }
          ],
          "carpet": [
           {
            "aaxis": {
             "endlinecolor": "#2a3f5f",
             "gridcolor": "white",
             "linecolor": "white",
             "minorgridcolor": "white",
             "startlinecolor": "#2a3f5f"
            },
            "baxis": {
             "endlinecolor": "#2a3f5f",
             "gridcolor": "white",
             "linecolor": "white",
             "minorgridcolor": "white",
             "startlinecolor": "#2a3f5f"
            },
            "type": "carpet"
           }
          ],
          "choropleth": [
           {
            "colorbar": {
             "outlinewidth": 0,
             "ticks": ""
            },
            "type": "choropleth"
           }
          ],
          "contour": [
           {
            "colorbar": {
             "outlinewidth": 0,
             "ticks": ""
            },
            "colorscale": [
             [
              0,
              "#0d0887"
             ],
             [
              0.1111111111111111,
              "#46039f"
             ],
             [
              0.2222222222222222,
              "#7201a8"
             ],
             [
              0.3333333333333333,
              "#9c179e"
             ],
             [
              0.4444444444444444,
              "#bd3786"
             ],
             [
              0.5555555555555556,
              "#d8576b"
             ],
             [
              0.6666666666666666,
              "#ed7953"
             ],
             [
              0.7777777777777778,
              "#fb9f3a"
             ],
             [
              0.8888888888888888,
              "#fdca26"
             ],
             [
              1,
              "#f0f921"
             ]
            ],
            "type": "contour"
           }
          ],
          "contourcarpet": [
           {
            "colorbar": {
             "outlinewidth": 0,
             "ticks": ""
            },
            "type": "contourcarpet"
           }
          ],
          "heatmap": [
           {
            "colorbar": {
             "outlinewidth": 0,
             "ticks": ""
            },
            "colorscale": [
             [
              0,
              "#0d0887"
             ],
             [
              0.1111111111111111,
              "#46039f"
             ],
             [
              0.2222222222222222,
              "#7201a8"
             ],
             [
              0.3333333333333333,
              "#9c179e"
             ],
             [
              0.4444444444444444,
              "#bd3786"
             ],
             [
              0.5555555555555556,
              "#d8576b"
             ],
             [
              0.6666666666666666,
              "#ed7953"
             ],
             [
              0.7777777777777778,
              "#fb9f3a"
             ],
             [
              0.8888888888888888,
              "#fdca26"
             ],
             [
              1,
              "#f0f921"
             ]
            ],
            "type": "heatmap"
           }
          ],
          "histogram": [
           {
            "marker": {
             "pattern": {
              "fillmode": "overlay",
              "size": 10,
              "solidity": 0.2
             }
            },
            "type": "histogram"
           }
          ],
          "histogram2d": [
           {
            "colorbar": {
             "outlinewidth": 0,
             "ticks": ""
            },
            "colorscale": [
             [
              0,
              "#0d0887"
             ],
             [
              0.1111111111111111,
              "#46039f"
             ],
             [
              0.2222222222222222,
              "#7201a8"
             ],
             [
              0.3333333333333333,
              "#9c179e"
             ],
             [
              0.4444444444444444,
              "#bd3786"
             ],
             [
              0.5555555555555556,
              "#d8576b"
             ],
             [
              0.6666666666666666,
              "#ed7953"
             ],
             [
              0.7777777777777778,
              "#fb9f3a"
             ],
             [
              0.8888888888888888,
              "#fdca26"
             ],
             [
              1,
              "#f0f921"
             ]
            ],
            "type": "histogram2d"
           }
          ],
          "histogram2dcontour": [
           {
            "colorbar": {
             "outlinewidth": 0,
             "ticks": ""
            },
            "colorscale": [
             [
              0,
              "#0d0887"
             ],
             [
              0.1111111111111111,
              "#46039f"
             ],
             [
              0.2222222222222222,
              "#7201a8"
             ],
             [
              0.3333333333333333,
              "#9c179e"
             ],
             [
              0.4444444444444444,
              "#bd3786"
             ],
             [
              0.5555555555555556,
              "#d8576b"
             ],
             [
              0.6666666666666666,
              "#ed7953"
             ],
             [
              0.7777777777777778,
              "#fb9f3a"
             ],
             [
              0.8888888888888888,
              "#fdca26"
             ],
             [
              1,
              "#f0f921"
             ]
            ],
            "type": "histogram2dcontour"
           }
          ],
          "mesh3d": [
           {
            "colorbar": {
             "outlinewidth": 0,
             "ticks": ""
            },
            "type": "mesh3d"
           }
          ],
          "parcoords": [
           {
            "line": {
             "colorbar": {
              "outlinewidth": 0,
              "ticks": ""
             }
            },
            "type": "parcoords"
           }
          ],
          "pie": [
           {
            "automargin": true,
            "type": "pie"
           }
          ],
          "scatter": [
           {
            "fillpattern": {
             "fillmode": "overlay",
             "size": 10,
             "solidity": 0.2
            },
            "type": "scatter"
           }
          ],
          "scatter3d": [
           {
            "line": {
             "colorbar": {
              "outlinewidth": 0,
              "ticks": ""
             }
            },
            "marker": {
             "colorbar": {
              "outlinewidth": 0,
              "ticks": ""
             }
            },
            "type": "scatter3d"
           }
          ],
          "scattercarpet": [
           {
            "marker": {
             "colorbar": {
              "outlinewidth": 0,
              "ticks": ""
             }
            },
            "type": "scattercarpet"
           }
          ],
          "scattergeo": [
           {
            "marker": {
             "colorbar": {
              "outlinewidth": 0,
              "ticks": ""
             }
            },
            "type": "scattergeo"
           }
          ],
          "scattergl": [
           {
            "marker": {
             "colorbar": {
              "outlinewidth": 0,
              "ticks": ""
             }
            },
            "type": "scattergl"
           }
          ],
          "scattermap": [
           {
            "marker": {
             "colorbar": {
              "outlinewidth": 0,
              "ticks": ""
             }
            },
            "type": "scattermap"
           }
          ],
          "scattermapbox": [
           {
            "marker": {
             "colorbar": {
              "outlinewidth": 0,
              "ticks": ""
             }
            },
            "type": "scattermapbox"
           }
          ],
          "scatterpolar": [
           {
            "marker": {
             "colorbar": {
              "outlinewidth": 0,
              "ticks": ""
             }
            },
            "type": "scatterpolar"
           }
          ],
          "scatterpolargl": [
           {
            "marker": {
             "colorbar": {
              "outlinewidth": 0,
              "ticks": ""
             }
            },
            "type": "scatterpolargl"
           }
          ],
          "scatterternary": [
           {
            "marker": {
             "colorbar": {
              "outlinewidth": 0,
              "ticks": ""
             }
            },
            "type": "scatterternary"
           }
          ],
          "surface": [
           {
            "colorbar": {
             "outlinewidth": 0,
             "ticks": ""
            },
            "colorscale": [
             [
              0,
              "#0d0887"
             ],
             [
              0.1111111111111111,
              "#46039f"
             ],
             [
              0.2222222222222222,
              "#7201a8"
             ],
             [
              0.3333333333333333,
              "#9c179e"
             ],
             [
              0.4444444444444444,
              "#bd3786"
             ],
             [
              0.5555555555555556,
              "#d8576b"
             ],
             [
              0.6666666666666666,
              "#ed7953"
             ],
             [
              0.7777777777777778,
              "#fb9f3a"
             ],
             [
              0.8888888888888888,
              "#fdca26"
             ],
             [
              1,
              "#f0f921"
             ]
            ],
            "type": "surface"
           }
          ],
          "table": [
           {
            "cells": {
             "fill": {
              "color": "#EBF0F8"
             },
             "line": {
              "color": "white"
             }
            },
            "header": {
             "fill": {
              "color": "#C8D4E3"
             },
             "line": {
              "color": "white"
             }
            },
            "type": "table"
           }
          ]
         },
         "layout": {
          "annotationdefaults": {
           "arrowcolor": "#2a3f5f",
           "arrowhead": 0,
           "arrowwidth": 1
          },
          "autotypenumbers": "strict",
          "coloraxis": {
           "colorbar": {
            "outlinewidth": 0,
            "ticks": ""
           }
          },
          "colorscale": {
           "diverging": [
            [
             0,
             "#8e0152"
            ],
            [
             0.1,
             "#c51b7d"
            ],
            [
             0.2,
             "#de77ae"
            ],
            [
             0.3,
             "#f1b6da"
            ],
            [
             0.4,
             "#fde0ef"
            ],
            [
             0.5,
             "#f7f7f7"
            ],
            [
             0.6,
             "#e6f5d0"
            ],
            [
             0.7,
             "#b8e186"
            ],
            [
             0.8,
             "#7fbc41"
            ],
            [
             0.9,
             "#4d9221"
            ],
            [
             1,
             "#276419"
            ]
           ],
           "sequential": [
            [
             0,
             "#0d0887"
            ],
            [
             0.1111111111111111,
             "#46039f"
            ],
            [
             0.2222222222222222,
             "#7201a8"
            ],
            [
             0.3333333333333333,
             "#9c179e"
            ],
            [
             0.4444444444444444,
             "#bd3786"
            ],
            [
             0.5555555555555556,
             "#d8576b"
            ],
            [
             0.6666666666666666,
             "#ed7953"
            ],
            [
             0.7777777777777778,
             "#fb9f3a"
            ],
            [
             0.8888888888888888,
             "#fdca26"
            ],
            [
             1,
             "#f0f921"
            ]
           ],
           "sequentialminus": [
            [
             0,
             "#0d0887"
            ],
            [
             0.1111111111111111,
             "#46039f"
            ],
            [
             0.2222222222222222,
             "#7201a8"
            ],
            [
             0.3333333333333333,
             "#9c179e"
            ],
            [
             0.4444444444444444,
             "#bd3786"
            ],
            [
             0.5555555555555556,
             "#d8576b"
            ],
            [
             0.6666666666666666,
             "#ed7953"
            ],
            [
             0.7777777777777778,
             "#fb9f3a"
            ],
            [
             0.8888888888888888,
             "#fdca26"
            ],
            [
             1,
             "#f0f921"
            ]
           ]
          },
          "colorway": [
           "#636efa",
           "#EF553B",
           "#00cc96",
           "#ab63fa",
           "#FFA15A",
           "#19d3f3",
           "#FF6692",
           "#B6E880",
           "#FF97FF",
           "#FECB52"
          ],
          "font": {
           "color": "#2a3f5f"
          },
          "geo": {
           "bgcolor": "white",
           "lakecolor": "white",
           "landcolor": "#E5ECF6",
           "showlakes": true,
           "showland": true,
           "subunitcolor": "white"
          },
          "hoverlabel": {
           "align": "left"
          },
          "hovermode": "closest",
          "mapbox": {
           "style": "light"
          },
          "paper_bgcolor": "white",
          "plot_bgcolor": "#E5ECF6",
          "polar": {
           "angularaxis": {
            "gridcolor": "white",
            "linecolor": "white",
            "ticks": ""
           },
           "bgcolor": "#E5ECF6",
           "radialaxis": {
            "gridcolor": "white",
            "linecolor": "white",
            "ticks": ""
           }
          },
          "scene": {
           "xaxis": {
            "backgroundcolor": "#E5ECF6",
            "gridcolor": "white",
            "gridwidth": 2,
            "linecolor": "white",
            "showbackground": true,
            "ticks": "",
            "zerolinecolor": "white"
           },
           "yaxis": {
            "backgroundcolor": "#E5ECF6",
            "gridcolor": "white",
            "gridwidth": 2,
            "linecolor": "white",
            "showbackground": true,
            "ticks": "",
            "zerolinecolor": "white"
           },
           "zaxis": {
            "backgroundcolor": "#E5ECF6",
            "gridcolor": "white",
            "gridwidth": 2,
            "linecolor": "white",
            "showbackground": true,
            "ticks": "",
            "zerolinecolor": "white"
           }
          },
          "shapedefaults": {
           "line": {
            "color": "#2a3f5f"
           }
          },
          "ternary": {
           "aaxis": {
            "gridcolor": "white",
            "linecolor": "white",
            "ticks": ""
           },
           "baxis": {
            "gridcolor": "white",
            "linecolor": "white",
            "ticks": ""
           },
           "bgcolor": "#E5ECF6",
           "caxis": {
            "gridcolor": "white",
            "linecolor": "white",
            "ticks": ""
           }
          },
          "title": {
           "x": 0.05
          },
          "xaxis": {
           "automargin": true,
           "gridcolor": "white",
           "linecolor": "white",
           "ticks": "",
           "title": {
            "standoff": 15
           },
           "zerolinecolor": "white",
           "zerolinewidth": 2
          },
          "yaxis": {
           "automargin": true,
           "gridcolor": "white",
           "linecolor": "white",
           "ticks": "",
           "title": {
            "standoff": 15
           },
           "zerolinecolor": "white",
           "zerolinewidth": 2
          }
         }
        },
        "title": {
         "text": "MACD"
        },
        "xaxis": {
         "title": {
          "text": "Date"
         }
        },
        "yaxis": {
         "title": {
          "text": "MACD Value"
         }
        }
       }
      }
     },
     "metadata": {},
     "output_type": "display_data"
    },
    {
     "data": {
      "application/vnd.plotly.v1+json": {
       "config": {
        "plotlyServerURL": "https://plot.ly"
       },
       "data": [
        {
         "line": {
          "color": "darkblue",
          "width": 1
         },
         "name": "ATR",
         "type": "scatter",
         "x": [
          "2024-01-01T00:00:00.000000000",
          "2024-01-02T00:00:00.000000000",
          "2024-01-03T00:00:00.000000000",
          "2024-01-04T00:00:00.000000000",
          "2024-01-05T00:00:00.000000000",
          "2024-01-06T00:00:00.000000000",
          "2024-01-07T00:00:00.000000000",
          "2024-01-08T00:00:00.000000000",
          "2024-01-09T00:00:00.000000000",
          "2024-01-10T00:00:00.000000000",
          "2024-01-11T00:00:00.000000000",
          "2024-01-12T00:00:00.000000000",
          "2024-01-13T00:00:00.000000000",
          "2024-01-14T00:00:00.000000000",
          "2024-01-15T00:00:00.000000000",
          "2024-01-16T00:00:00.000000000",
          "2024-01-17T00:00:00.000000000",
          "2024-01-18T00:00:00.000000000",
          "2024-01-19T00:00:00.000000000",
          "2024-01-20T00:00:00.000000000",
          "2024-01-21T00:00:00.000000000",
          "2024-01-22T00:00:00.000000000",
          "2024-01-23T00:00:00.000000000",
          "2024-01-24T00:00:00.000000000",
          "2024-01-25T00:00:00.000000000",
          "2024-01-26T00:00:00.000000000",
          "2024-01-27T00:00:00.000000000",
          "2024-01-28T00:00:00.000000000",
          "2024-01-29T00:00:00.000000000",
          "2024-01-30T00:00:00.000000000",
          "2024-01-31T00:00:00.000000000",
          "2024-02-01T00:00:00.000000000",
          "2024-02-02T00:00:00.000000000",
          "2024-02-03T00:00:00.000000000",
          "2024-02-04T00:00:00.000000000",
          "2024-02-05T00:00:00.000000000",
          "2024-02-06T00:00:00.000000000",
          "2024-02-07T00:00:00.000000000",
          "2024-02-08T00:00:00.000000000",
          "2024-02-09T00:00:00.000000000",
          "2024-02-10T00:00:00.000000000",
          "2024-02-11T00:00:00.000000000",
          "2024-02-12T00:00:00.000000000",
          "2024-02-13T00:00:00.000000000",
          "2024-02-14T00:00:00.000000000",
          "2024-02-15T00:00:00.000000000",
          "2024-02-16T00:00:00.000000000",
          "2024-02-17T00:00:00.000000000",
          "2024-02-18T00:00:00.000000000",
          "2024-02-19T00:00:00.000000000",
          "2024-02-20T00:00:00.000000000",
          "2024-02-21T00:00:00.000000000",
          "2024-02-22T00:00:00.000000000",
          "2024-02-23T00:00:00.000000000",
          "2024-02-24T00:00:00.000000000",
          "2024-02-25T00:00:00.000000000",
          "2024-02-26T00:00:00.000000000",
          "2024-02-27T00:00:00.000000000",
          "2024-02-28T00:00:00.000000000",
          "2024-02-29T00:00:00.000000000",
          "2024-03-01T00:00:00.000000000",
          "2024-03-02T00:00:00.000000000",
          "2024-03-03T00:00:00.000000000",
          "2024-03-04T00:00:00.000000000",
          "2024-03-05T00:00:00.000000000",
          "2024-03-06T00:00:00.000000000",
          "2024-03-07T00:00:00.000000000",
          "2024-03-08T00:00:00.000000000",
          "2024-03-09T00:00:00.000000000",
          "2024-03-10T00:00:00.000000000",
          "2024-03-11T00:00:00.000000000",
          "2024-03-12T00:00:00.000000000",
          "2024-03-13T00:00:00.000000000",
          "2024-03-14T00:00:00.000000000",
          "2024-03-15T00:00:00.000000000",
          "2024-03-16T00:00:00.000000000",
          "2024-03-17T00:00:00.000000000",
          "2024-03-18T00:00:00.000000000",
          "2024-03-19T00:00:00.000000000",
          "2024-03-20T00:00:00.000000000",
          "2024-03-21T00:00:00.000000000",
          "2024-03-22T00:00:00.000000000",
          "2024-03-23T00:00:00.000000000",
          "2024-03-24T00:00:00.000000000",
          "2024-03-25T00:00:00.000000000",
          "2024-03-26T00:00:00.000000000",
          "2024-03-27T00:00:00.000000000",
          "2024-03-28T00:00:00.000000000",
          "2024-03-29T00:00:00.000000000",
          "2024-03-30T00:00:00.000000000",
          "2024-03-31T00:00:00.000000000",
          "2024-04-01T00:00:00.000000000",
          "2024-04-02T00:00:00.000000000",
          "2024-04-03T00:00:00.000000000",
          "2024-04-04T00:00:00.000000000",
          "2024-04-05T00:00:00.000000000",
          "2024-04-06T00:00:00.000000000",
          "2024-04-07T00:00:00.000000000",
          "2024-04-08T00:00:00.000000000",
          "2024-04-09T00:00:00.000000000",
          "2024-04-10T00:00:00.000000000",
          "2024-04-11T00:00:00.000000000",
          "2024-04-12T00:00:00.000000000",
          "2024-04-13T00:00:00.000000000",
          "2024-04-14T00:00:00.000000000",
          "2024-04-15T00:00:00.000000000",
          "2024-04-16T00:00:00.000000000",
          "2024-04-17T00:00:00.000000000",
          "2024-04-18T00:00:00.000000000",
          "2024-04-19T00:00:00.000000000",
          "2024-04-20T00:00:00.000000000",
          "2024-04-21T00:00:00.000000000",
          "2024-04-22T00:00:00.000000000",
          "2024-04-23T00:00:00.000000000",
          "2024-04-24T00:00:00.000000000",
          "2024-04-25T00:00:00.000000000",
          "2024-04-26T00:00:00.000000000",
          "2024-04-27T00:00:00.000000000",
          "2024-04-28T00:00:00.000000000",
          "2024-04-29T00:00:00.000000000",
          "2024-04-30T00:00:00.000000000",
          "2024-05-01T00:00:00.000000000",
          "2024-05-02T00:00:00.000000000",
          "2024-05-03T00:00:00.000000000",
          "2024-05-04T00:00:00.000000000",
          "2024-05-05T00:00:00.000000000",
          "2024-05-06T00:00:00.000000000",
          "2024-05-07T00:00:00.000000000",
          "2024-05-08T00:00:00.000000000",
          "2024-05-09T00:00:00.000000000",
          "2024-05-10T00:00:00.000000000",
          "2024-05-11T00:00:00.000000000",
          "2024-05-12T00:00:00.000000000",
          "2024-05-13T00:00:00.000000000",
          "2024-05-14T00:00:00.000000000",
          "2024-05-15T00:00:00.000000000",
          "2024-05-16T00:00:00.000000000",
          "2024-05-17T00:00:00.000000000",
          "2024-05-18T00:00:00.000000000",
          "2024-05-19T00:00:00.000000000",
          "2024-05-20T00:00:00.000000000",
          "2024-05-21T00:00:00.000000000",
          "2024-05-22T00:00:00.000000000",
          "2024-05-23T00:00:00.000000000",
          "2024-05-24T00:00:00.000000000",
          "2024-05-25T00:00:00.000000000",
          "2024-05-26T00:00:00.000000000",
          "2024-05-27T00:00:00.000000000",
          "2024-05-28T00:00:00.000000000",
          "2024-05-29T00:00:00.000000000",
          "2024-05-30T00:00:00.000000000",
          "2024-05-31T00:00:00.000000000",
          "2024-06-01T00:00:00.000000000",
          "2024-06-02T00:00:00.000000000",
          "2024-06-03T00:00:00.000000000",
          "2024-06-04T00:00:00.000000000",
          "2024-06-05T00:00:00.000000000",
          "2024-06-06T00:00:00.000000000",
          "2024-06-07T00:00:00.000000000",
          "2024-06-08T00:00:00.000000000",
          "2024-06-09T00:00:00.000000000",
          "2024-06-10T00:00:00.000000000",
          "2024-06-11T00:00:00.000000000",
          "2024-06-12T00:00:00.000000000",
          "2024-06-13T00:00:00.000000000",
          "2024-06-14T00:00:00.000000000",
          "2024-06-15T00:00:00.000000000",
          "2024-06-16T00:00:00.000000000",
          "2024-06-17T00:00:00.000000000",
          "2024-06-18T00:00:00.000000000",
          "2024-06-19T00:00:00.000000000",
          "2024-06-20T00:00:00.000000000",
          "2024-06-21T00:00:00.000000000",
          "2024-06-22T00:00:00.000000000",
          "2024-06-23T00:00:00.000000000",
          "2024-06-24T00:00:00.000000000",
          "2024-06-25T00:00:00.000000000",
          "2024-06-26T00:00:00.000000000",
          "2024-06-27T00:00:00.000000000",
          "2024-06-28T00:00:00.000000000",
          "2024-06-29T00:00:00.000000000",
          "2024-06-30T00:00:00.000000000",
          "2024-07-01T00:00:00.000000000",
          "2024-07-02T00:00:00.000000000",
          "2024-07-03T00:00:00.000000000",
          "2024-07-04T00:00:00.000000000",
          "2024-07-05T00:00:00.000000000",
          "2024-07-06T00:00:00.000000000",
          "2024-07-07T00:00:00.000000000",
          "2024-07-08T00:00:00.000000000",
          "2024-07-09T00:00:00.000000000",
          "2024-07-10T00:00:00.000000000",
          "2024-07-11T00:00:00.000000000",
          "2024-07-12T00:00:00.000000000",
          "2024-07-13T00:00:00.000000000",
          "2024-07-14T00:00:00.000000000",
          "2024-07-15T00:00:00.000000000",
          "2024-07-16T00:00:00.000000000",
          "2024-07-17T00:00:00.000000000",
          "2024-07-18T00:00:00.000000000",
          "2024-07-19T00:00:00.000000000",
          "2024-07-20T00:00:00.000000000",
          "2024-07-21T00:00:00.000000000",
          "2024-07-22T00:00:00.000000000",
          "2024-07-23T00:00:00.000000000",
          "2024-07-24T00:00:00.000000000",
          "2024-07-25T00:00:00.000000000",
          "2024-07-26T00:00:00.000000000",
          "2024-07-27T00:00:00.000000000",
          "2024-07-28T00:00:00.000000000",
          "2024-07-29T00:00:00.000000000",
          "2024-07-30T00:00:00.000000000",
          "2024-07-31T00:00:00.000000000",
          "2024-08-01T00:00:00.000000000",
          "2024-08-02T00:00:00.000000000",
          "2024-08-03T00:00:00.000000000",
          "2024-08-04T00:00:00.000000000",
          "2024-08-05T00:00:00.000000000",
          "2024-08-06T00:00:00.000000000",
          "2024-08-07T00:00:00.000000000",
          "2024-08-08T00:00:00.000000000",
          "2024-08-09T00:00:00.000000000",
          "2024-08-10T00:00:00.000000000",
          "2024-08-11T00:00:00.000000000",
          "2024-08-12T00:00:00.000000000",
          "2024-08-13T00:00:00.000000000",
          "2024-08-14T00:00:00.000000000",
          "2024-08-15T00:00:00.000000000",
          "2024-08-16T00:00:00.000000000",
          "2024-08-17T00:00:00.000000000",
          "2024-08-18T00:00:00.000000000",
          "2024-08-19T00:00:00.000000000",
          "2024-08-20T00:00:00.000000000",
          "2024-08-21T00:00:00.000000000",
          "2024-08-22T00:00:00.000000000",
          "2024-08-23T00:00:00.000000000",
          "2024-08-24T00:00:00.000000000",
          "2024-08-25T00:00:00.000000000",
          "2024-08-26T00:00:00.000000000",
          "2024-08-27T00:00:00.000000000",
          "2024-08-28T00:00:00.000000000",
          "2024-08-29T00:00:00.000000000",
          "2024-08-30T00:00:00.000000000",
          "2024-08-31T00:00:00.000000000",
          "2024-09-01T00:00:00.000000000",
          "2024-09-02T00:00:00.000000000",
          "2024-09-03T00:00:00.000000000",
          "2024-09-04T00:00:00.000000000",
          "2024-09-05T00:00:00.000000000",
          "2024-09-06T00:00:00.000000000",
          "2024-09-07T00:00:00.000000000",
          "2024-09-08T00:00:00.000000000",
          "2024-09-09T00:00:00.000000000",
          "2024-09-10T00:00:00.000000000",
          "2024-09-11T00:00:00.000000000",
          "2024-09-12T00:00:00.000000000",
          "2024-09-13T00:00:00.000000000",
          "2024-09-14T00:00:00.000000000",
          "2024-09-15T00:00:00.000000000",
          "2024-09-16T00:00:00.000000000",
          "2024-09-17T00:00:00.000000000",
          "2024-09-18T00:00:00.000000000",
          "2024-09-19T00:00:00.000000000",
          "2024-09-20T00:00:00.000000000",
          "2024-09-21T00:00:00.000000000",
          "2024-09-22T00:00:00.000000000",
          "2024-09-23T00:00:00.000000000",
          "2024-09-24T00:00:00.000000000",
          "2024-09-25T00:00:00.000000000",
          "2024-09-26T00:00:00.000000000",
          "2024-09-27T00:00:00.000000000",
          "2024-09-28T00:00:00.000000000",
          "2024-09-29T00:00:00.000000000",
          "2024-09-30T00:00:00.000000000",
          "2024-10-01T00:00:00.000000000",
          "2024-10-02T00:00:00.000000000",
          "2024-10-03T00:00:00.000000000",
          "2024-10-04T00:00:00.000000000",
          "2024-10-05T00:00:00.000000000",
          "2024-10-06T00:00:00.000000000",
          "2024-10-07T00:00:00.000000000",
          "2024-10-08T00:00:00.000000000",
          "2024-10-09T00:00:00.000000000",
          "2024-10-10T00:00:00.000000000",
          "2024-10-11T00:00:00.000000000",
          "2024-10-12T00:00:00.000000000",
          "2024-10-13T00:00:00.000000000",
          "2024-10-14T00:00:00.000000000",
          "2024-10-15T00:00:00.000000000",
          "2024-10-16T00:00:00.000000000",
          "2024-10-17T00:00:00.000000000",
          "2024-10-18T00:00:00.000000000",
          "2024-10-19T00:00:00.000000000",
          "2024-10-20T00:00:00.000000000",
          "2024-10-21T00:00:00.000000000",
          "2024-10-22T00:00:00.000000000",
          "2024-10-23T00:00:00.000000000",
          "2024-10-24T00:00:00.000000000",
          "2024-10-25T00:00:00.000000000",
          "2024-10-26T00:00:00.000000000",
          "2024-10-27T00:00:00.000000000",
          "2024-10-28T00:00:00.000000000",
          "2024-10-29T00:00:00.000000000",
          "2024-10-30T00:00:00.000000000",
          "2024-10-31T00:00:00.000000000",
          "2024-11-01T00:00:00.000000000",
          "2024-11-02T00:00:00.000000000",
          "2024-11-03T00:00:00.000000000",
          "2024-11-04T00:00:00.000000000",
          "2024-11-05T00:00:00.000000000",
          "2024-11-06T00:00:00.000000000",
          "2024-11-07T00:00:00.000000000",
          "2024-11-08T00:00:00.000000000",
          "2024-11-09T00:00:00.000000000",
          "2024-11-10T00:00:00.000000000",
          "2024-11-11T00:00:00.000000000",
          "2024-11-12T00:00:00.000000000",
          "2024-11-13T00:00:00.000000000",
          "2024-11-14T00:00:00.000000000",
          "2024-11-15T00:00:00.000000000",
          "2024-11-16T00:00:00.000000000",
          "2024-11-17T00:00:00.000000000",
          "2024-11-18T00:00:00.000000000",
          "2024-11-19T00:00:00.000000000",
          "2024-11-20T00:00:00.000000000",
          "2024-11-21T00:00:00.000000000",
          "2024-11-22T00:00:00.000000000",
          "2024-11-23T00:00:00.000000000",
          "2024-11-24T00:00:00.000000000",
          "2024-11-25T00:00:00.000000000",
          "2024-11-26T00:00:00.000000000",
          "2024-11-27T00:00:00.000000000",
          "2024-11-28T00:00:00.000000000",
          "2024-11-29T00:00:00.000000000",
          "2024-11-30T00:00:00.000000000",
          "2024-12-01T00:00:00.000000000",
          "2024-12-02T00:00:00.000000000",
          "2024-12-03T00:00:00.000000000",
          "2024-12-04T00:00:00.000000000",
          "2024-12-05T00:00:00.000000000",
          "2024-12-06T00:00:00.000000000",
          "2024-12-07T00:00:00.000000000",
          "2024-12-08T00:00:00.000000000",
          "2024-12-09T00:00:00.000000000",
          "2024-12-10T00:00:00.000000000",
          "2024-12-11T00:00:00.000000000",
          "2024-12-12T00:00:00.000000000",
          "2024-12-13T00:00:00.000000000",
          "2024-12-14T00:00:00.000000000",
          "2024-12-15T00:00:00.000000000",
          "2024-12-16T00:00:00.000000000",
          "2024-12-17T00:00:00.000000000",
          "2024-12-18T00:00:00.000000000",
          "2024-12-19T00:00:00.000000000",
          "2024-12-20T00:00:00.000000000",
          "2024-12-21T00:00:00.000000000",
          "2024-12-22T00:00:00.000000000",
          "2024-12-23T00:00:00.000000000",
          "2024-12-24T00:00:00.000000000",
          "2024-12-25T00:00:00.000000000",
          "2024-12-26T00:00:00.000000000",
          "2024-12-27T00:00:00.000000000",
          "2024-12-28T00:00:00.000000000",
          "2024-12-29T00:00:00.000000000",
          "2024-12-30T00:00:00.000000000",
          "2024-12-31T00:00:00.000000000"
         ],
         "y": {
          "bdata": "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",
          "dtype": "f8"
         }
        }
       ],
       "layout": {
        "showlegend": true,
        "template": {
         "data": {
          "bar": [
           {
            "error_x": {
             "color": "#2a3f5f"
            },
            "error_y": {
             "color": "#2a3f5f"
            },
            "marker": {
             "line": {
              "color": "#E5ECF6",
              "width": 0.5
             },
             "pattern": {
              "fillmode": "overlay",
              "size": 10,
              "solidity": 0.2
             }
            },
            "type": "bar"
           }
          ],
          "barpolar": [
           {
            "marker": {
             "line": {
              "color": "#E5ECF6",
              "width": 0.5
             },
             "pattern": {
              "fillmode": "overlay",
              "size": 10,
              "solidity": 0.2
             }
            },
            "type": "barpolar"
           }
          ],
          "carpet": [
           {
            "aaxis": {
             "endlinecolor": "#2a3f5f",
             "gridcolor": "white",
             "linecolor": "white",
             "minorgridcolor": "white",
             "startlinecolor": "#2a3f5f"
            },
            "baxis": {
             "endlinecolor": "#2a3f5f",
             "gridcolor": "white",
             "linecolor": "white",
             "minorgridcolor": "white",
             "startlinecolor": "#2a3f5f"
            },
            "type": "carpet"
           }
          ],
          "choropleth": [
           {
            "colorbar": {
             "outlinewidth": 0,
             "ticks": ""
            },
            "type": "choropleth"
           }
          ],
          "contour": [
           {
            "colorbar": {
             "outlinewidth": 0,
             "ticks": ""
            },
            "colorscale": [
             [
              0,
              "#0d0887"
             ],
             [
              0.1111111111111111,
              "#46039f"
             ],
             [
              0.2222222222222222,
              "#7201a8"
             ],
             [
              0.3333333333333333,
              "#9c179e"
             ],
             [
              0.4444444444444444,
              "#bd3786"
             ],
             [
              0.5555555555555556,
              "#d8576b"
             ],
             [
              0.6666666666666666,
              "#ed7953"
             ],
             [
              0.7777777777777778,
              "#fb9f3a"
             ],
             [
              0.8888888888888888,
              "#fdca26"
             ],
             [
              1,
              "#f0f921"
             ]
            ],
            "type": "contour"
           }
          ],
          "contourcarpet": [
           {
            "colorbar": {
             "outlinewidth": 0,
             "ticks": ""
            },
            "type": "contourcarpet"
           }
          ],
          "heatmap": [
           {
            "colorbar": {
             "outlinewidth": 0,
             "ticks": ""
            },
            "colorscale": [
             [
              0,
              "#0d0887"
             ],
             [
              0.1111111111111111,
              "#46039f"
             ],
             [
              0.2222222222222222,
              "#7201a8"
             ],
             [
              0.3333333333333333,
              "#9c179e"
             ],
             [
              0.4444444444444444,
              "#bd3786"
             ],
             [
              0.5555555555555556,
              "#d8576b"
             ],
             [
              0.6666666666666666,
              "#ed7953"
             ],
             [
              0.7777777777777778,
              "#fb9f3a"
             ],
             [
              0.8888888888888888,
              "#fdca26"
             ],
             [
              1,
              "#f0f921"
             ]
            ],
            "type": "heatmap"
           }
          ],
          "histogram": [
           {
            "marker": {
             "pattern": {
              "fillmode": "overlay",
              "size": 10,
              "solidity": 0.2
             }
            },
            "type": "histogram"
           }
          ],
          "histogram2d": [
           {
            "colorbar": {
             "outlinewidth": 0,
             "ticks": ""
            },
            "colorscale": [
             [
              0,
              "#0d0887"
             ],
             [
              0.1111111111111111,
              "#46039f"
             ],
             [
              0.2222222222222222,
              "#7201a8"
             ],
             [
              0.3333333333333333,
              "#9c179e"
             ],
             [
              0.4444444444444444,
              "#bd3786"
             ],
             [
              0.5555555555555556,
              "#d8576b"
             ],
             [
              0.6666666666666666,
              "#ed7953"
             ],
             [
              0.7777777777777778,
              "#fb9f3a"
             ],
             [
              0.8888888888888888,
              "#fdca26"
             ],
             [
              1,
              "#f0f921"
             ]
            ],
            "type": "histogram2d"
           }
          ],
          "histogram2dcontour": [
           {
            "colorbar": {
             "outlinewidth": 0,
             "ticks": ""
            },
            "colorscale": [
             [
              0,
              "#0d0887"
             ],
             [
              0.1111111111111111,
              "#46039f"
             ],
             [
              0.2222222222222222,
              "#7201a8"
             ],
             [
              0.3333333333333333,
              "#9c179e"
             ],
             [
              0.4444444444444444,
              "#bd3786"
             ],
             [
              0.5555555555555556,
              "#d8576b"
             ],
             [
              0.6666666666666666,
              "#ed7953"
             ],
             [
              0.7777777777777778,
              "#fb9f3a"
             ],
             [
              0.8888888888888888,
              "#fdca26"
             ],
             [
              1,
              "#f0f921"
             ]
            ],
            "type": "histogram2dcontour"
           }
          ],
          "mesh3d": [
           {
            "colorbar": {
             "outlinewidth": 0,
             "ticks": ""
            },
            "type": "mesh3d"
           }
          ],
          "parcoords": [
           {
            "line": {
             "colorbar": {
              "outlinewidth": 0,
              "ticks": ""
             }
            },
            "type": "parcoords"
           }
          ],
          "pie": [
           {
            "automargin": true,
            "type": "pie"
           }
          ],
          "scatter": [
           {
            "fillpattern": {
             "fillmode": "overlay",
             "size": 10,
             "solidity": 0.2
            },
            "type": "scatter"
           }
          ],
          "scatter3d": [
           {
            "line": {
             "colorbar": {
              "outlinewidth": 0,
              "ticks": ""
             }
            },
            "marker": {
             "colorbar": {
              "outlinewidth": 0,
              "ticks": ""
             }
            },
            "type": "scatter3d"
           }
          ],
          "scattercarpet": [
           {
            "marker": {
             "colorbar": {
              "outlinewidth": 0,
              "ticks": ""
             }
            },
            "type": "scattercarpet"
           }
          ],
          "scattergeo": [
           {
            "marker": {
             "colorbar": {
              "outlinewidth": 0,
              "ticks": ""
             }
            },
            "type": "scattergeo"
           }
          ],
          "scattergl": [
           {
            "marker": {
             "colorbar": {
              "outlinewidth": 0,
              "ticks": ""
             }
            },
            "type": "scattergl"
           }
          ],
          "scattermap": [
           {
            "marker": {
             "colorbar": {
              "outlinewidth": 0,
              "ticks": ""
             }
            },
            "type": "scattermap"
           }
          ],
          "scattermapbox": [
           {
            "marker": {
             "colorbar": {
              "outlinewidth": 0,
              "ticks": ""
             }
            },
            "type": "scattermapbox"
           }
          ],
          "scatterpolar": [
           {
            "marker": {
             "colorbar": {
              "outlinewidth": 0,
              "ticks": ""
             }
            },
            "type": "scatterpolar"
           }
          ],
          "scatterpolargl": [
           {
            "marker": {
             "colorbar": {
              "outlinewidth": 0,
              "ticks": ""
             }
            },
            "type": "scatterpolargl"
           }
          ],
          "scatterternary": [
           {
            "marker": {
             "colorbar": {
              "outlinewidth": 0,
              "ticks": ""
             }
            },
            "type": "scatterternary"
           }
          ],
          "surface": [
           {
            "colorbar": {
             "outlinewidth": 0,
             "ticks": ""
            },
            "colorscale": [
             [
              0,
              "#0d0887"
             ],
             [
              0.1111111111111111,
              "#46039f"
             ],
             [
              0.2222222222222222,
              "#7201a8"
             ],
             [
              0.3333333333333333,
              "#9c179e"
             ],
             [
              0.4444444444444444,
              "#bd3786"
             ],
             [
              0.5555555555555556,
              "#d8576b"
             ],
             [
              0.6666666666666666,
              "#ed7953"
             ],
             [
              0.7777777777777778,
              "#fb9f3a"
             ],
             [
              0.8888888888888888,
              "#fdca26"
             ],
             [
              1,
              "#f0f921"
             ]
            ],
            "type": "surface"
           }
          ],
          "table": [
           {
            "cells": {
             "fill": {
              "color": "#EBF0F8"
             },
             "line": {
              "color": "white"
             }
            },
            "header": {
             "fill": {
              "color": "#C8D4E3"
             },
             "line": {
              "color": "white"
             }
            },
            "type": "table"
           }
          ]
         },
         "layout": {
          "annotationdefaults": {
           "arrowcolor": "#2a3f5f",
           "arrowhead": 0,
           "arrowwidth": 1
          },
          "autotypenumbers": "strict",
          "coloraxis": {
           "colorbar": {
            "outlinewidth": 0,
            "ticks": ""
           }
          },
          "colorscale": {
           "diverging": [
            [
             0,
             "#8e0152"
            ],
            [
             0.1,
             "#c51b7d"
            ],
            [
             0.2,
             "#de77ae"
            ],
            [
             0.3,
             "#f1b6da"
            ],
            [
             0.4,
             "#fde0ef"
            ],
            [
             0.5,
             "#f7f7f7"
            ],
            [
             0.6,
             "#e6f5d0"
            ],
            [
             0.7,
             "#b8e186"
            ],
            [
             0.8,
             "#7fbc41"
            ],
            [
             0.9,
             "#4d9221"
            ],
            [
             1,
             "#276419"
            ]
           ],
           "sequential": [
            [
             0,
             "#0d0887"
            ],
            [
             0.1111111111111111,
             "#46039f"
            ],
            [
             0.2222222222222222,
             "#7201a8"
            ],
            [
             0.3333333333333333,
             "#9c179e"
            ],
            [
             0.4444444444444444,
             "#bd3786"
            ],
            [
             0.5555555555555556,
             "#d8576b"
            ],
            [
             0.6666666666666666,
             "#ed7953"
            ],
            [
             0.7777777777777778,
             "#fb9f3a"
            ],
            [
             0.8888888888888888,
             "#fdca26"
            ],
            [
             1,
             "#f0f921"
            ]
           ],
           "sequentialminus": [
            [
             0,
             "#0d0887"
            ],
            [
             0.1111111111111111,
             "#46039f"
            ],
            [
             0.2222222222222222,
             "#7201a8"
            ],
            [
             0.3333333333333333,
             "#9c179e"
            ],
            [
             0.4444444444444444,
             "#bd3786"
            ],
            [
             0.5555555555555556,
             "#d8576b"
            ],
            [
             0.6666666666666666,
             "#ed7953"
            ],
            [
             0.7777777777777778,
             "#fb9f3a"
            ],
            [
             0.8888888888888888,
             "#fdca26"
            ],
            [
             1,
             "#f0f921"
            ]
           ]
          },
          "colorway": [
           "#636efa",
           "#EF553B",
           "#00cc96",
           "#ab63fa",
           "#FFA15A",
           "#19d3f3",
           "#FF6692",
           "#B6E880",
           "#FF97FF",
           "#FECB52"
          ],
          "font": {
           "color": "#2a3f5f"
          },
          "geo": {
           "bgcolor": "white",
           "lakecolor": "white",
           "landcolor": "#E5ECF6",
           "showlakes": true,
           "showland": true,
           "subunitcolor": "white"
          },
          "hoverlabel": {
           "align": "left"
          },
          "hovermode": "closest",
          "mapbox": {
           "style": "light"
          },
          "paper_bgcolor": "white",
          "plot_bgcolor": "#E5ECF6",
          "polar": {
           "angularaxis": {
            "gridcolor": "white",
            "linecolor": "white",
            "ticks": ""
           },
           "bgcolor": "#E5ECF6",
           "radialaxis": {
            "gridcolor": "white",
            "linecolor": "white",
            "ticks": ""
           }
          },
          "scene": {
           "xaxis": {
            "backgroundcolor": "#E5ECF6",
            "gridcolor": "white",
            "gridwidth": 2,
            "linecolor": "white",
            "showbackground": true,
            "ticks": "",
            "zerolinecolor": "white"
           },
           "yaxis": {
            "backgroundcolor": "#E5ECF6",
            "gridcolor": "white",
            "gridwidth": 2,
            "linecolor": "white",
            "showbackground": true,
            "ticks": "",
            "zerolinecolor": "white"
           },
           "zaxis": {
            "backgroundcolor": "#E5ECF6",
            "gridcolor": "white",
            "gridwidth": 2,
            "linecolor": "white",
            "showbackground": true,
            "ticks": "",
            "zerolinecolor": "white"
           }
          },
          "shapedefaults": {
           "line": {
            "color": "#2a3f5f"
           }
          },
          "ternary": {
           "aaxis": {
            "gridcolor": "white",
            "linecolor": "white",
            "ticks": ""
           },
           "baxis": {
            "gridcolor": "white",
            "linecolor": "white",
            "ticks": ""
           },
           "bgcolor": "#E5ECF6",
           "caxis": {
            "gridcolor": "white",
            "linecolor": "white",
            "ticks": ""
           }
          },
          "title": {
           "x": 0.05
          },
          "xaxis": {
           "automargin": true,
           "gridcolor": "white",
           "linecolor": "white",
           "ticks": "",
           "title": {
            "standoff": 15
           },
           "zerolinecolor": "white",
           "zerolinewidth": 2
          },
          "yaxis": {
           "automargin": true,
           "gridcolor": "white",
           "linecolor": "white",
           "ticks": "",
           "title": {
            "standoff": 15
           },
           "zerolinecolor": "white",
           "zerolinewidth": 2
          }
         }
        },
        "title": {
         "text": "Average True Range (ATR)"
        },
        "xaxis": {
         "title": {
          "text": "Date"
         }
        },
        "yaxis": {
         "title": {
          "text": "ATR Value"
         }
        }
       }
      }
     },
     "metadata": {},
     "output_type": "display_data"
    },
    {
     "data": {
      "application/vnd.plotly.v1+json": {
       "config": {
        "plotlyServerURL": "https://plot.ly"
       },
       "data": [
        {
         "line": {
          "color": "darkgreen",
          "width": 1
         },
         "name": "OBV",
         "type": "scatter",
         "x": [
          "2024-01-01T00:00:00.000000000",
          "2024-01-02T00:00:00.000000000",
          "2024-01-03T00:00:00.000000000",
          "2024-01-04T00:00:00.000000000",
          "2024-01-05T00:00:00.000000000",
          "2024-01-06T00:00:00.000000000",
          "2024-01-07T00:00:00.000000000",
          "2024-01-08T00:00:00.000000000",
          "2024-01-09T00:00:00.000000000",
          "2024-01-10T00:00:00.000000000",
          "2024-01-11T00:00:00.000000000",
          "2024-01-12T00:00:00.000000000",
          "2024-01-13T00:00:00.000000000",
          "2024-01-14T00:00:00.000000000",
          "2024-01-15T00:00:00.000000000",
          "2024-01-16T00:00:00.000000000",
          "2024-01-17T00:00:00.000000000",
          "2024-01-18T00:00:00.000000000",
          "2024-01-19T00:00:00.000000000",
          "2024-01-20T00:00:00.000000000",
          "2024-01-21T00:00:00.000000000",
          "2024-01-22T00:00:00.000000000",
          "2024-01-23T00:00:00.000000000",
          "2024-01-24T00:00:00.000000000",
          "2024-01-25T00:00:00.000000000",
          "2024-01-26T00:00:00.000000000",
          "2024-01-27T00:00:00.000000000",
          "2024-01-28T00:00:00.000000000",
          "2024-01-29T00:00:00.000000000",
          "2024-01-30T00:00:00.000000000",
          "2024-01-31T00:00:00.000000000",
          "2024-02-01T00:00:00.000000000",
          "2024-02-02T00:00:00.000000000",
          "2024-02-03T00:00:00.000000000",
          "2024-02-04T00:00:00.000000000",
          "2024-02-05T00:00:00.000000000",
          "2024-02-06T00:00:00.000000000",
          "2024-02-07T00:00:00.000000000",
          "2024-02-08T00:00:00.000000000",
          "2024-02-09T00:00:00.000000000",
          "2024-02-10T00:00:00.000000000",
          "2024-02-11T00:00:00.000000000",
          "2024-02-12T00:00:00.000000000",
          "2024-02-13T00:00:00.000000000",
          "2024-02-14T00:00:00.000000000",
          "2024-02-15T00:00:00.000000000",
          "2024-02-16T00:00:00.000000000",
          "2024-02-17T00:00:00.000000000",
          "2024-02-18T00:00:00.000000000",
          "2024-02-19T00:00:00.000000000",
          "2024-02-20T00:00:00.000000000",
          "2024-02-21T00:00:00.000000000",
          "2024-02-22T00:00:00.000000000",
          "2024-02-23T00:00:00.000000000",
          "2024-02-24T00:00:00.000000000",
          "2024-02-25T00:00:00.000000000",
          "2024-02-26T00:00:00.000000000",
          "2024-02-27T00:00:00.000000000",
          "2024-02-28T00:00:00.000000000",
          "2024-02-29T00:00:00.000000000",
          "2024-03-01T00:00:00.000000000",
          "2024-03-02T00:00:00.000000000",
          "2024-03-03T00:00:00.000000000",
          "2024-03-04T00:00:00.000000000",
          "2024-03-05T00:00:00.000000000",
          "2024-03-06T00:00:00.000000000",
          "2024-03-07T00:00:00.000000000",
          "2024-03-08T00:00:00.000000000",
          "2024-03-09T00:00:00.000000000",
          "2024-03-10T00:00:00.000000000",
          "2024-03-11T00:00:00.000000000",
          "2024-03-12T00:00:00.000000000",
          "2024-03-13T00:00:00.000000000",
          "2024-03-14T00:00:00.000000000",
          "2024-03-15T00:00:00.000000000",
          "2024-03-16T00:00:00.000000000",
          "2024-03-17T00:00:00.000000000",
          "2024-03-18T00:00:00.000000000",
          "2024-03-19T00:00:00.000000000",
          "2024-03-20T00:00:00.000000000",
          "2024-03-21T00:00:00.000000000",
          "2024-03-22T00:00:00.000000000",
          "2024-03-23T00:00:00.000000000",
          "2024-03-24T00:00:00.000000000",
          "2024-03-25T00:00:00.000000000",
          "2024-03-26T00:00:00.000000000",
          "2024-03-27T00:00:00.000000000",
          "2024-03-28T00:00:00.000000000",
          "2024-03-29T00:00:00.000000000",
          "2024-03-30T00:00:00.000000000",
          "2024-03-31T00:00:00.000000000",
          "2024-04-01T00:00:00.000000000",
          "2024-04-02T00:00:00.000000000",
          "2024-04-03T00:00:00.000000000",
          "2024-04-04T00:00:00.000000000",
          "2024-04-05T00:00:00.000000000",
          "2024-04-06T00:00:00.000000000",
          "2024-04-07T00:00:00.000000000",
          "2024-04-08T00:00:00.000000000",
          "2024-04-09T00:00:00.000000000",
          "2024-04-10T00:00:00.000000000",
          "2024-04-11T00:00:00.000000000",
          "2024-04-12T00:00:00.000000000",
          "2024-04-13T00:00:00.000000000",
          "2024-04-14T00:00:00.000000000",
          "2024-04-15T00:00:00.000000000",
          "2024-04-16T00:00:00.000000000",
          "2024-04-17T00:00:00.000000000",
          "2024-04-18T00:00:00.000000000",
          "2024-04-19T00:00:00.000000000",
          "2024-04-20T00:00:00.000000000",
          "2024-04-21T00:00:00.000000000",
          "2024-04-22T00:00:00.000000000",
          "2024-04-23T00:00:00.000000000",
          "2024-04-24T00:00:00.000000000",
          "2024-04-25T00:00:00.000000000",
          "2024-04-26T00:00:00.000000000",
          "2024-04-27T00:00:00.000000000",
          "2024-04-28T00:00:00.000000000",
          "2024-04-29T00:00:00.000000000",
          "2024-04-30T00:00:00.000000000",
          "2024-05-01T00:00:00.000000000",
          "2024-05-02T00:00:00.000000000",
          "2024-05-03T00:00:00.000000000",
          "2024-05-04T00:00:00.000000000",
          "2024-05-05T00:00:00.000000000",
          "2024-05-06T00:00:00.000000000",
          "2024-05-07T00:00:00.000000000",
          "2024-05-08T00:00:00.000000000",
          "2024-05-09T00:00:00.000000000",
          "2024-05-10T00:00:00.000000000",
          "2024-05-11T00:00:00.000000000",
          "2024-05-12T00:00:00.000000000",
          "2024-05-13T00:00:00.000000000",
          "2024-05-14T00:00:00.000000000",
          "2024-05-15T00:00:00.000000000",
          "2024-05-16T00:00:00.000000000",
          "2024-05-17T00:00:00.000000000",
          "2024-05-18T00:00:00.000000000",
          "2024-05-19T00:00:00.000000000",
          "2024-05-20T00:00:00.000000000",
          "2024-05-21T00:00:00.000000000",
          "2024-05-22T00:00:00.000000000",
          "2024-05-23T00:00:00.000000000",
          "2024-05-24T00:00:00.000000000",
          "2024-05-25T00:00:00.000000000",
          "2024-05-26T00:00:00.000000000",
          "2024-05-27T00:00:00.000000000",
          "2024-05-28T00:00:00.000000000",
          "2024-05-29T00:00:00.000000000",
          "2024-05-30T00:00:00.000000000",
          "2024-05-31T00:00:00.000000000",
          "2024-06-01T00:00:00.000000000",
          "2024-06-02T00:00:00.000000000",
          "2024-06-03T00:00:00.000000000",
          "2024-06-04T00:00:00.000000000",
          "2024-06-05T00:00:00.000000000",
          "2024-06-06T00:00:00.000000000",
          "2024-06-07T00:00:00.000000000",
          "2024-06-08T00:00:00.000000000",
          "2024-06-09T00:00:00.000000000",
          "2024-06-10T00:00:00.000000000",
          "2024-06-11T00:00:00.000000000",
          "2024-06-12T00:00:00.000000000",
          "2024-06-13T00:00:00.000000000",
          "2024-06-14T00:00:00.000000000",
          "2024-06-15T00:00:00.000000000",
          "2024-06-16T00:00:00.000000000",
          "2024-06-17T00:00:00.000000000",
          "2024-06-18T00:00:00.000000000",
          "2024-06-19T00:00:00.000000000",
          "2024-06-20T00:00:00.000000000",
          "2024-06-21T00:00:00.000000000",
          "2024-06-22T00:00:00.000000000",
          "2024-06-23T00:00:00.000000000",
          "2024-06-24T00:00:00.000000000",
          "2024-06-25T00:00:00.000000000",
          "2024-06-26T00:00:00.000000000",
          "2024-06-27T00:00:00.000000000",
          "2024-06-28T00:00:00.000000000",
          "2024-06-29T00:00:00.000000000",
          "2024-06-30T00:00:00.000000000",
          "2024-07-01T00:00:00.000000000",
          "2024-07-02T00:00:00.000000000",
          "2024-07-03T00:00:00.000000000",
          "2024-07-04T00:00:00.000000000",
          "2024-07-05T00:00:00.000000000",
          "2024-07-06T00:00:00.000000000",
          "2024-07-07T00:00:00.000000000",
          "2024-07-08T00:00:00.000000000",
          "2024-07-09T00:00:00.000000000",
          "2024-07-10T00:00:00.000000000",
          "2024-07-11T00:00:00.000000000",
          "2024-07-12T00:00:00.000000000",
          "2024-07-13T00:00:00.000000000",
          "2024-07-14T00:00:00.000000000",
          "2024-07-15T00:00:00.000000000",
          "2024-07-16T00:00:00.000000000",
          "2024-07-17T00:00:00.000000000",
          "2024-07-18T00:00:00.000000000",
          "2024-07-19T00:00:00.000000000",
          "2024-07-20T00:00:00.000000000",
          "2024-07-21T00:00:00.000000000",
          "2024-07-22T00:00:00.000000000",
          "2024-07-23T00:00:00.000000000",
          "2024-07-24T00:00:00.000000000",
          "2024-07-25T00:00:00.000000000",
          "2024-07-26T00:00:00.000000000",
          "2024-07-27T00:00:00.000000000",
          "2024-07-28T00:00:00.000000000",
          "2024-07-29T00:00:00.000000000",
          "2024-07-30T00:00:00.000000000",
          "2024-07-31T00:00:00.000000000",
          "2024-08-01T00:00:00.000000000",
          "2024-08-02T00:00:00.000000000",
          "2024-08-03T00:00:00.000000000",
          "2024-08-04T00:00:00.000000000",
          "2024-08-05T00:00:00.000000000",
          "2024-08-06T00:00:00.000000000",
          "2024-08-07T00:00:00.000000000",
          "2024-08-08T00:00:00.000000000",
          "2024-08-09T00:00:00.000000000",
          "2024-08-10T00:00:00.000000000",
          "2024-08-11T00:00:00.000000000",
          "2024-08-12T00:00:00.000000000",
          "2024-08-13T00:00:00.000000000",
          "2024-08-14T00:00:00.000000000",
          "2024-08-15T00:00:00.000000000",
          "2024-08-16T00:00:00.000000000",
          "2024-08-17T00:00:00.000000000",
          "2024-08-18T00:00:00.000000000",
          "2024-08-19T00:00:00.000000000",
          "2024-08-20T00:00:00.000000000",
          "2024-08-21T00:00:00.000000000",
          "2024-08-22T00:00:00.000000000",
          "2024-08-23T00:00:00.000000000",
          "2024-08-24T00:00:00.000000000",
          "2024-08-25T00:00:00.000000000",
          "2024-08-26T00:00:00.000000000",
          "2024-08-27T00:00:00.000000000",
          "2024-08-28T00:00:00.000000000",
          "2024-08-29T00:00:00.000000000",
          "2024-08-30T00:00:00.000000000",
          "2024-08-31T00:00:00.000000000",
          "2024-09-01T00:00:00.000000000",
          "2024-09-02T00:00:00.000000000",
          "2024-09-03T00:00:00.000000000",
          "2024-09-04T00:00:00.000000000",
          "2024-09-05T00:00:00.000000000",
          "2024-09-06T00:00:00.000000000",
          "2024-09-07T00:00:00.000000000",
          "2024-09-08T00:00:00.000000000",
          "2024-09-09T00:00:00.000000000",
          "2024-09-10T00:00:00.000000000",
          "2024-09-11T00:00:00.000000000",
          "2024-09-12T00:00:00.000000000",
          "2024-09-13T00:00:00.000000000",
          "2024-09-14T00:00:00.000000000",
          "2024-09-15T00:00:00.000000000",
          "2024-09-16T00:00:00.000000000",
          "2024-09-17T00:00:00.000000000",
          "2024-09-18T00:00:00.000000000",
          "2024-09-19T00:00:00.000000000",
          "2024-09-20T00:00:00.000000000",
          "2024-09-21T00:00:00.000000000",
          "2024-09-22T00:00:00.000000000",
          "2024-09-23T00:00:00.000000000",
          "2024-09-24T00:00:00.000000000",
          "2024-09-25T00:00:00.000000000",
          "2024-09-26T00:00:00.000000000",
          "2024-09-27T00:00:00.000000000",
          "2024-09-28T00:00:00.000000000",
          "2024-09-29T00:00:00.000000000",
          "2024-09-30T00:00:00.000000000",
          "2024-10-01T00:00:00.000000000",
          "2024-10-02T00:00:00.000000000",
          "2024-10-03T00:00:00.000000000",
          "2024-10-04T00:00:00.000000000",
          "2024-10-05T00:00:00.000000000",
          "2024-10-06T00:00:00.000000000",
          "2024-10-07T00:00:00.000000000",
          "2024-10-08T00:00:00.000000000",
          "2024-10-09T00:00:00.000000000",
          "2024-10-10T00:00:00.000000000",
          "2024-10-11T00:00:00.000000000",
          "2024-10-12T00:00:00.000000000",
          "2024-10-13T00:00:00.000000000",
          "2024-10-14T00:00:00.000000000",
          "2024-10-15T00:00:00.000000000",
          "2024-10-16T00:00:00.000000000",
          "2024-10-17T00:00:00.000000000",
          "2024-10-18T00:00:00.000000000",
          "2024-10-19T00:00:00.000000000",
          "2024-10-20T00:00:00.000000000",
          "2024-10-21T00:00:00.000000000",
          "2024-10-22T00:00:00.000000000",
          "2024-10-23T00:00:00.000000000",
          "2024-10-24T00:00:00.000000000",
          "2024-10-25T00:00:00.000000000",
          "2024-10-26T00:00:00.000000000",
          "2024-10-27T00:00:00.000000000",
          "2024-10-28T00:00:00.000000000",
          "2024-10-29T00:00:00.000000000",
          "2024-10-30T00:00:00.000000000",
          "2024-10-31T00:00:00.000000000",
          "2024-11-01T00:00:00.000000000",
          "2024-11-02T00:00:00.000000000",
          "2024-11-03T00:00:00.000000000",
          "2024-11-04T00:00:00.000000000",
          "2024-11-05T00:00:00.000000000",
          "2024-11-06T00:00:00.000000000",
          "2024-11-07T00:00:00.000000000",
          "2024-11-08T00:00:00.000000000",
          "2024-11-09T00:00:00.000000000",
          "2024-11-10T00:00:00.000000000",
          "2024-11-11T00:00:00.000000000",
          "2024-11-12T00:00:00.000000000",
          "2024-11-13T00:00:00.000000000",
          "2024-11-14T00:00:00.000000000",
          "2024-11-15T00:00:00.000000000",
          "2024-11-16T00:00:00.000000000",
          "2024-11-17T00:00:00.000000000",
          "2024-11-18T00:00:00.000000000",
          "2024-11-19T00:00:00.000000000",
          "2024-11-20T00:00:00.000000000",
          "2024-11-21T00:00:00.000000000",
          "2024-11-22T00:00:00.000000000",
          "2024-11-23T00:00:00.000000000",
          "2024-11-24T00:00:00.000000000",
          "2024-11-25T00:00:00.000000000",
          "2024-11-26T00:00:00.000000000",
          "2024-11-27T00:00:00.000000000",
          "2024-11-28T00:00:00.000000000",
          "2024-11-29T00:00:00.000000000",
          "2024-11-30T00:00:00.000000000",
          "2024-12-01T00:00:00.000000000",
          "2024-12-02T00:00:00.000000000",
          "2024-12-03T00:00:00.000000000",
          "2024-12-04T00:00:00.000000000",
          "2024-12-05T00:00:00.000000000",
          "2024-12-06T00:00:00.000000000",
          "2024-12-07T00:00:00.000000000",
          "2024-12-08T00:00:00.000000000",
          "2024-12-09T00:00:00.000000000",
          "2024-12-10T00:00:00.000000000",
          "2024-12-11T00:00:00.000000000",
          "2024-12-12T00:00:00.000000000",
          "2024-12-13T00:00:00.000000000",
          "2024-12-14T00:00:00.000000000",
          "2024-12-15T00:00:00.000000000",
          "2024-12-16T00:00:00.000000000",
          "2024-12-17T00:00:00.000000000",
          "2024-12-18T00:00:00.000000000",
          "2024-12-19T00:00:00.000000000",
          "2024-12-20T00:00:00.000000000",
          "2024-12-21T00:00:00.000000000",
          "2024-12-22T00:00:00.000000000",
          "2024-12-23T00:00:00.000000000",
          "2024-12-24T00:00:00.000000000",
          "2024-12-25T00:00:00.000000000",
          "2024-12-26T00:00:00.000000000",
          "2024-12-27T00:00:00.000000000",
          "2024-12-28T00:00:00.000000000",
          "2024-12-29T00:00:00.000000000",
          "2024-12-30T00:00:00.000000000",
          "2024-12-31T00:00:00.000000000"
         ],
         "y": {
          "bdata": "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",
          "dtype": "f8"
         }
        }
       ],
       "layout": {
        "showlegend": true,
        "template": {
         "data": {
          "bar": [
           {
            "error_x": {
             "color": "#2a3f5f"
            },
            "error_y": {
             "color": "#2a3f5f"
            },
            "marker": {
             "line": {
              "color": "#E5ECF6",
              "width": 0.5
             },
             "pattern": {
              "fillmode": "overlay",
              "size": 10,
              "solidity": 0.2
             }
            },
            "type": "bar"
           }
          ],
          "barpolar": [
           {
            "marker": {
             "line": {
              "color": "#E5ECF6",
              "width": 0.5
             },
             "pattern": {
              "fillmode": "overlay",
              "size": 10,
              "solidity": 0.2
             }
            },
            "type": "barpolar"
           }
          ],
          "carpet": [
           {
            "aaxis": {
             "endlinecolor": "#2a3f5f",
             "gridcolor": "white",
             "linecolor": "white",
             "minorgridcolor": "white",
             "startlinecolor": "#2a3f5f"
            },
            "baxis": {
             "endlinecolor": "#2a3f5f",
             "gridcolor": "white",
             "linecolor": "white",
             "minorgridcolor": "white",
             "startlinecolor": "#2a3f5f"
            },
            "type": "carpet"
           }
          ],
          "choropleth": [
           {
            "colorbar": {
             "outlinewidth": 0,
             "ticks": ""
            },
            "type": "choropleth"
           }
          ],
          "contour": [
           {
            "colorbar": {
             "outlinewidth": 0,
             "ticks": ""
            },
            "colorscale": [
             [
              0,
              "#0d0887"
             ],
             [
              0.1111111111111111,
              "#46039f"
             ],
             [
              0.2222222222222222,
              "#7201a8"
             ],
             [
              0.3333333333333333,
              "#9c179e"
             ],
             [
              0.4444444444444444,
              "#bd3786"
             ],
             [
              0.5555555555555556,
              "#d8576b"
             ],
             [
              0.6666666666666666,
              "#ed7953"
             ],
             [
              0.7777777777777778,
              "#fb9f3a"
             ],
             [
              0.8888888888888888,
              "#fdca26"
             ],
             [
              1,
              "#f0f921"
             ]
            ],
            "type": "contour"
           }
          ],
          "contourcarpet": [
           {
            "colorbar": {
             "outlinewidth": 0,
             "ticks": ""
            },
            "type": "contourcarpet"
           }
          ],
          "heatmap": [
           {
            "colorbar": {
             "outlinewidth": 0,
             "ticks": ""
            },
            "colorscale": [
             [
              0,
              "#0d0887"
             ],
             [
              0.1111111111111111,
              "#46039f"
             ],
             [
              0.2222222222222222,
              "#7201a8"
             ],
             [
              0.3333333333333333,
              "#9c179e"
             ],
             [
              0.4444444444444444,
              "#bd3786"
             ],
             [
              0.5555555555555556,
              "#d8576b"
             ],
             [
              0.6666666666666666,
              "#ed7953"
             ],
             [
              0.7777777777777778,
              "#fb9f3a"
             ],
             [
              0.8888888888888888,
              "#fdca26"
             ],
             [
              1,
              "#f0f921"
             ]
            ],
            "type": "heatmap"
           }
          ],
          "histogram": [
           {
            "marker": {
             "pattern": {
              "fillmode": "overlay",
              "size": 10,
              "solidity": 0.2
             }
            },
            "type": "histogram"
           }
          ],
          "histogram2d": [
           {
            "colorbar": {
             "outlinewidth": 0,
             "ticks": ""
            },
            "colorscale": [
             [
              0,
              "#0d0887"
             ],
             [
              0.1111111111111111,
              "#46039f"
             ],
             [
              0.2222222222222222,
              "#7201a8"
             ],
             [
              0.3333333333333333,
              "#9c179e"
             ],
             [
              0.4444444444444444,
              "#bd3786"
             ],
             [
              0.5555555555555556,
              "#d8576b"
             ],
             [
              0.6666666666666666,
              "#ed7953"
             ],
             [
              0.7777777777777778,
              "#fb9f3a"
             ],
             [
              0.8888888888888888,
              "#fdca26"
             ],
             [
              1,
              "#f0f921"
             ]
            ],
            "type": "histogram2d"
           }
          ],
          "histogram2dcontour": [
           {
            "colorbar": {
             "outlinewidth": 0,
             "ticks": ""
            },
            "colorscale": [
             [
              0,
              "#0d0887"
             ],
             [
              0.1111111111111111,
              "#46039f"
             ],
             [
              0.2222222222222222,
              "#7201a8"
             ],
             [
              0.3333333333333333,
              "#9c179e"
             ],
             [
              0.4444444444444444,
              "#bd3786"
             ],
             [
              0.5555555555555556,
              "#d8576b"
             ],
             [
              0.6666666666666666,
              "#ed7953"
             ],
             [
              0.7777777777777778,
              "#fb9f3a"
             ],
             [
              0.8888888888888888,
              "#fdca26"
             ],
             [
              1,
              "#f0f921"
             ]
            ],
            "type": "histogram2dcontour"
           }
          ],
          "mesh3d": [
           {
            "colorbar": {
             "outlinewidth": 0,
             "ticks": ""
            },
            "type": "mesh3d"
           }
          ],
          "parcoords": [
           {
            "line": {
             "colorbar": {
              "outlinewidth": 0,
              "ticks": ""
             }
            },
            "type": "parcoords"
           }
          ],
          "pie": [
           {
            "automargin": true,
            "type": "pie"
           }
          ],
          "scatter": [
           {
            "fillpattern": {
             "fillmode": "overlay",
             "size": 10,
             "solidity": 0.2
            },
            "type": "scatter"
           }
          ],
          "scatter3d": [
           {
            "line": {
             "colorbar": {
              "outlinewidth": 0,
              "ticks": ""
             }
            },
            "marker": {
             "colorbar": {
              "outlinewidth": 0,
              "ticks": ""
             }
            },
            "type": "scatter3d"
           }
          ],
          "scattercarpet": [
           {
            "marker": {
             "colorbar": {
              "outlinewidth": 0,
              "ticks": ""
             }
            },
            "type": "scattercarpet"
           }
          ],
          "scattergeo": [
           {
            "marker": {
             "colorbar": {
              "outlinewidth": 0,
              "ticks": ""
             }
            },
            "type": "scattergeo"
           }
          ],
          "scattergl": [
           {
            "marker": {
             "colorbar": {
              "outlinewidth": 0,
              "ticks": ""
             }
            },
            "type": "scattergl"
           }
          ],
          "scattermap": [
           {
            "marker": {
             "colorbar": {
              "outlinewidth": 0,
              "ticks": ""
             }
            },
            "type": "scattermap"
           }
          ],
          "scattermapbox": [
           {
            "marker": {
             "colorbar": {
              "outlinewidth": 0,
              "ticks": ""
             }
            },
            "type": "scattermapbox"
           }
          ],
          "scatterpolar": [
           {
            "marker": {
             "colorbar": {
              "outlinewidth": 0,
              "ticks": ""
             }
            },
            "type": "scatterpolar"
           }
          ],
          "scatterpolargl": [
           {
            "marker": {
             "colorbar": {
              "outlinewidth": 0,
              "ticks": ""
             }
            },
            "type": "scatterpolargl"
           }
          ],
          "scatterternary": [
           {
            "marker": {
             "colorbar": {
              "outlinewidth": 0,
              "ticks": ""
             }
            },
            "type": "scatterternary"
           }
          ],
          "surface": [
           {
            "colorbar": {
             "outlinewidth": 0,
             "ticks": ""
            },
            "colorscale": [
             [
              0,
              "#0d0887"
             ],
             [
              0.1111111111111111,
              "#46039f"
             ],
             [
              0.2222222222222222,
              "#7201a8"
             ],
             [
              0.3333333333333333,
              "#9c179e"
             ],
             [
              0.4444444444444444,
              "#bd3786"
             ],
             [
              0.5555555555555556,
              "#d8576b"
             ],
             [
              0.6666666666666666,
              "#ed7953"
             ],
             [
              0.7777777777777778,
              "#fb9f3a"
             ],
             [
              0.8888888888888888,
              "#fdca26"
             ],
             [
              1,
              "#f0f921"
             ]
            ],
            "type": "surface"
           }
          ],
          "table": [
           {
            "cells": {
             "fill": {
              "color": "#EBF0F8"
             },
             "line": {
              "color": "white"
             }
            },
            "header": {
             "fill": {
              "color": "#C8D4E3"
             },
             "line": {
              "color": "white"
             }
            },
            "type": "table"
           }
          ]
         },
         "layout": {
          "annotationdefaults": {
           "arrowcolor": "#2a3f5f",
           "arrowhead": 0,
           "arrowwidth": 1
          },
          "autotypenumbers": "strict",
          "coloraxis": {
           "colorbar": {
            "outlinewidth": 0,
            "ticks": ""
           }
          },
          "colorscale": {
           "diverging": [
            [
             0,
             "#8e0152"
            ],
            [
             0.1,
             "#c51b7d"
            ],
            [
             0.2,
             "#de77ae"
            ],
            [
             0.3,
             "#f1b6da"
            ],
            [
             0.4,
             "#fde0ef"
            ],
            [
             0.5,
             "#f7f7f7"
            ],
            [
             0.6,
             "#e6f5d0"
            ],
            [
             0.7,
             "#b8e186"
            ],
            [
             0.8,
             "#7fbc41"
            ],
            [
             0.9,
             "#4d9221"
            ],
            [
             1,
             "#276419"
            ]
           ],
           "sequential": [
            [
             0,
             "#0d0887"
            ],
            [
             0.1111111111111111,
             "#46039f"
            ],
            [
             0.2222222222222222,
             "#7201a8"
            ],
            [
             0.3333333333333333,
             "#9c179e"
            ],
            [
             0.4444444444444444,
             "#bd3786"
            ],
            [
             0.5555555555555556,
             "#d8576b"
            ],
            [
             0.6666666666666666,
             "#ed7953"
            ],
            [
             0.7777777777777778,
             "#fb9f3a"
            ],
            [
             0.8888888888888888,
             "#fdca26"
            ],
            [
             1,
             "#f0f921"
            ]
           ],
           "sequentialminus": [
            [
             0,
             "#0d0887"
            ],
            [
             0.1111111111111111,
             "#46039f"
            ],
            [
             0.2222222222222222,
             "#7201a8"
            ],
            [
             0.3333333333333333,
             "#9c179e"
            ],
            [
             0.4444444444444444,
             "#bd3786"
            ],
            [
             0.5555555555555556,
             "#d8576b"
            ],
            [
             0.6666666666666666,
             "#ed7953"
            ],
            [
             0.7777777777777778,
             "#fb9f3a"
            ],
            [
             0.8888888888888888,
             "#fdca26"
            ],
            [
             1,
             "#f0f921"
            ]
           ]
          },
          "colorway": [
           "#636efa",
           "#EF553B",
           "#00cc96",
           "#ab63fa",
           "#FFA15A",
           "#19d3f3",
           "#FF6692",
           "#B6E880",
           "#FF97FF",
           "#FECB52"
          ],
          "font": {
           "color": "#2a3f5f"
          },
          "geo": {
           "bgcolor": "white",
           "lakecolor": "white",
           "landcolor": "#E5ECF6",
           "showlakes": true,
           "showland": true,
           "subunitcolor": "white"
          },
          "hoverlabel": {
           "align": "left"
          },
          "hovermode": "closest",
          "mapbox": {
           "style": "light"
          },
          "paper_bgcolor": "white",
          "plot_bgcolor": "#E5ECF6",
          "polar": {
           "angularaxis": {
            "gridcolor": "white",
            "linecolor": "white",
            "ticks": ""
           },
           "bgcolor": "#E5ECF6",
           "radialaxis": {
            "gridcolor": "white",
            "linecolor": "white",
            "ticks": ""
           }
          },
          "scene": {
           "xaxis": {
            "backgroundcolor": "#E5ECF6",
            "gridcolor": "white",
            "gridwidth": 2,
            "linecolor": "white",
            "showbackground": true,
            "ticks": "",
            "zerolinecolor": "white"
           },
           "yaxis": {
            "backgroundcolor": "#E5ECF6",
            "gridcolor": "white",
            "gridwidth": 2,
            "linecolor": "white",
            "showbackground": true,
            "ticks": "",
            "zerolinecolor": "white"
           },
           "zaxis": {
            "backgroundcolor": "#E5ECF6",
            "gridcolor": "white",
            "gridwidth": 2,
            "linecolor": "white",
            "showbackground": true,
            "ticks": "",
            "zerolinecolor": "white"
           }
          },
          "shapedefaults": {
           "line": {
            "color": "#2a3f5f"
           }
          },
          "ternary": {
           "aaxis": {
            "gridcolor": "white",
            "linecolor": "white",
            "ticks": ""
           },
           "baxis": {
            "gridcolor": "white",
            "linecolor": "white",
            "ticks": ""
           },
           "bgcolor": "#E5ECF6",
           "caxis": {
            "gridcolor": "white",
            "linecolor": "white",
            "ticks": ""
           }
          },
          "title": {
           "x": 0.05
          },
          "xaxis": {
           "automargin": true,
           "gridcolor": "white",
           "linecolor": "white",
           "ticks": "",
           "title": {
            "standoff": 15
           },
           "zerolinecolor": "white",
           "zerolinewidth": 2
          },
          "yaxis": {
           "automargin": true,
           "gridcolor": "white",
           "linecolor": "white",
           "ticks": "",
           "title": {
            "standoff": 15
           },
           "zerolinecolor": "white",
           "zerolinewidth": 2
          }
         }
        },
        "title": {
         "text": "On-Balance Volume (OBV)"
        },
        "xaxis": {
         "title": {
          "text": "Date"
         }
        },
        "yaxis": {
         "title": {
          "text": "OBV Value"
         }
        }
       }
      }
     },
     "metadata": {},
     "output_type": "display_data"
    },
    {
     "data": {
      "application/vnd.plotly.v1+json": {
       "config": {
        "plotlyServerURL": "https://plot.ly"
       },
       "data": [
        {
         "line": {
          "color": "darkorange",
          "width": 1
         },
         "name": "%K",
         "type": "scatter",
         "x": [
          "2024-01-01T00:00:00.000000000",
          "2024-01-02T00:00:00.000000000",
          "2024-01-03T00:00:00.000000000",
          "2024-01-04T00:00:00.000000000",
          "2024-01-05T00:00:00.000000000",
          "2024-01-06T00:00:00.000000000",
          "2024-01-07T00:00:00.000000000",
          "2024-01-08T00:00:00.000000000",
          "2024-01-09T00:00:00.000000000",
          "2024-01-10T00:00:00.000000000",
          "2024-01-11T00:00:00.000000000",
          "2024-01-12T00:00:00.000000000",
          "2024-01-13T00:00:00.000000000",
          "2024-01-14T00:00:00.000000000",
          "2024-01-15T00:00:00.000000000",
          "2024-01-16T00:00:00.000000000",
          "2024-01-17T00:00:00.000000000",
          "2024-01-18T00:00:00.000000000",
          "2024-01-19T00:00:00.000000000",
          "2024-01-20T00:00:00.000000000",
          "2024-01-21T00:00:00.000000000",
          "2024-01-22T00:00:00.000000000",
          "2024-01-23T00:00:00.000000000",
          "2024-01-24T00:00:00.000000000",
          "2024-01-25T00:00:00.000000000",
          "2024-01-26T00:00:00.000000000",
          "2024-01-27T00:00:00.000000000",
          "2024-01-28T00:00:00.000000000",
          "2024-01-29T00:00:00.000000000",
          "2024-01-30T00:00:00.000000000",
          "2024-01-31T00:00:00.000000000",
          "2024-02-01T00:00:00.000000000",
          "2024-02-02T00:00:00.000000000",
          "2024-02-03T00:00:00.000000000",
          "2024-02-04T00:00:00.000000000",
          "2024-02-05T00:00:00.000000000",
          "2024-02-06T00:00:00.000000000",
          "2024-02-07T00:00:00.000000000",
          "2024-02-08T00:00:00.000000000",
          "2024-02-09T00:00:00.000000000",
          "2024-02-10T00:00:00.000000000",
          "2024-02-11T00:00:00.000000000",
          "2024-02-12T00:00:00.000000000",
          "2024-02-13T00:00:00.000000000",
          "2024-02-14T00:00:00.000000000",
          "2024-02-15T00:00:00.000000000",
          "2024-02-16T00:00:00.000000000",
          "2024-02-17T00:00:00.000000000",
          "2024-02-18T00:00:00.000000000",
          "2024-02-19T00:00:00.000000000",
          "2024-02-20T00:00:00.000000000",
          "2024-02-21T00:00:00.000000000",
          "2024-02-22T00:00:00.000000000",
          "2024-02-23T00:00:00.000000000",
          "2024-02-24T00:00:00.000000000",
          "2024-02-25T00:00:00.000000000",
          "2024-02-26T00:00:00.000000000",
          "2024-02-27T00:00:00.000000000",
          "2024-02-28T00:00:00.000000000",
          "2024-02-29T00:00:00.000000000",
          "2024-03-01T00:00:00.000000000",
          "2024-03-02T00:00:00.000000000",
          "2024-03-03T00:00:00.000000000",
          "2024-03-04T00:00:00.000000000",
          "2024-03-05T00:00:00.000000000",
          "2024-03-06T00:00:00.000000000",
          "2024-03-07T00:00:00.000000000",
          "2024-03-08T00:00:00.000000000",
          "2024-03-09T00:00:00.000000000",
          "2024-03-10T00:00:00.000000000",
          "2024-03-11T00:00:00.000000000",
          "2024-03-12T00:00:00.000000000",
          "2024-03-13T00:00:00.000000000",
          "2024-03-14T00:00:00.000000000",
          "2024-03-15T00:00:00.000000000",
          "2024-03-16T00:00:00.000000000",
          "2024-03-17T00:00:00.000000000",
          "2024-03-18T00:00:00.000000000",
          "2024-03-19T00:00:00.000000000",
          "2024-03-20T00:00:00.000000000",
          "2024-03-21T00:00:00.000000000",
          "2024-03-22T00:00:00.000000000",
          "2024-03-23T00:00:00.000000000",
          "2024-03-24T00:00:00.000000000",
          "2024-03-25T00:00:00.000000000",
          "2024-03-26T00:00:00.000000000",
          "2024-03-27T00:00:00.000000000",
          "2024-03-28T00:00:00.000000000",
          "2024-03-29T00:00:00.000000000",
          "2024-03-30T00:00:00.000000000",
          "2024-03-31T00:00:00.000000000",
          "2024-04-01T00:00:00.000000000",
          "2024-04-02T00:00:00.000000000",
          "2024-04-03T00:00:00.000000000",
          "2024-04-04T00:00:00.000000000",
          "2024-04-05T00:00:00.000000000",
          "2024-04-06T00:00:00.000000000",
          "2024-04-07T00:00:00.000000000",
          "2024-04-08T00:00:00.000000000",
          "2024-04-09T00:00:00.000000000",
          "2024-04-10T00:00:00.000000000",
          "2024-04-11T00:00:00.000000000",
          "2024-04-12T00:00:00.000000000",
          "2024-04-13T00:00:00.000000000",
          "2024-04-14T00:00:00.000000000",
          "2024-04-15T00:00:00.000000000",
          "2024-04-16T00:00:00.000000000",
          "2024-04-17T00:00:00.000000000",
          "2024-04-18T00:00:00.000000000",
          "2024-04-19T00:00:00.000000000",
          "2024-04-20T00:00:00.000000000",
          "2024-04-21T00:00:00.000000000",
          "2024-04-22T00:00:00.000000000",
          "2024-04-23T00:00:00.000000000",
          "2024-04-24T00:00:00.000000000",
          "2024-04-25T00:00:00.000000000",
          "2024-04-26T00:00:00.000000000",
          "2024-04-27T00:00:00.000000000",
          "2024-04-28T00:00:00.000000000",
          "2024-04-29T00:00:00.000000000",
          "2024-04-30T00:00:00.000000000",
          "2024-05-01T00:00:00.000000000",
          "2024-05-02T00:00:00.000000000",
          "2024-05-03T00:00:00.000000000",
          "2024-05-04T00:00:00.000000000",
          "2024-05-05T00:00:00.000000000",
          "2024-05-06T00:00:00.000000000",
          "2024-05-07T00:00:00.000000000",
          "2024-05-08T00:00:00.000000000",
          "2024-05-09T00:00:00.000000000",
          "2024-05-10T00:00:00.000000000",
          "2024-05-11T00:00:00.000000000",
          "2024-05-12T00:00:00.000000000",
          "2024-05-13T00:00:00.000000000",
          "2024-05-14T00:00:00.000000000",
          "2024-05-15T00:00:00.000000000",
          "2024-05-16T00:00:00.000000000",
          "2024-05-17T00:00:00.000000000",
          "2024-05-18T00:00:00.000000000",
          "2024-05-19T00:00:00.000000000",
          "2024-05-20T00:00:00.000000000",
          "2024-05-21T00:00:00.000000000",
          "2024-05-22T00:00:00.000000000",
          "2024-05-23T00:00:00.000000000",
          "2024-05-24T00:00:00.000000000",
          "2024-05-25T00:00:00.000000000",
          "2024-05-26T00:00:00.000000000",
          "2024-05-27T00:00:00.000000000",
          "2024-05-28T00:00:00.000000000",
          "2024-05-29T00:00:00.000000000",
          "2024-05-30T00:00:00.000000000",
          "2024-05-31T00:00:00.000000000",
          "2024-06-01T00:00:00.000000000",
          "2024-06-02T00:00:00.000000000",
          "2024-06-03T00:00:00.000000000",
          "2024-06-04T00:00:00.000000000",
          "2024-06-05T00:00:00.000000000",
          "2024-06-06T00:00:00.000000000",
          "2024-06-07T00:00:00.000000000",
          "2024-06-08T00:00:00.000000000",
          "2024-06-09T00:00:00.000000000",
          "2024-06-10T00:00:00.000000000",
          "2024-06-11T00:00:00.000000000",
          "2024-06-12T00:00:00.000000000",
          "2024-06-13T00:00:00.000000000",
          "2024-06-14T00:00:00.000000000",
          "2024-06-15T00:00:00.000000000",
          "2024-06-16T00:00:00.000000000",
          "2024-06-17T00:00:00.000000000",
          "2024-06-18T00:00:00.000000000",
          "2024-06-19T00:00:00.000000000",
          "2024-06-20T00:00:00.000000000",
          "2024-06-21T00:00:00.000000000",
          "2024-06-22T00:00:00.000000000",
          "2024-06-23T00:00:00.000000000",
          "2024-06-24T00:00:00.000000000",
          "2024-06-25T00:00:00.000000000",
          "2024-06-26T00:00:00.000000000",
          "2024-06-27T00:00:00.000000000",
          "2024-06-28T00:00:00.000000000",
          "2024-06-29T00:00:00.000000000",
          "2024-06-30T00:00:00.000000000",
          "2024-07-01T00:00:00.000000000",
          "2024-07-02T00:00:00.000000000",
          "2024-07-03T00:00:00.000000000",
          "2024-07-04T00:00:00.000000000",
          "2024-07-05T00:00:00.000000000",
          "2024-07-06T00:00:00.000000000",
          "2024-07-07T00:00:00.000000000",
          "2024-07-08T00:00:00.000000000",
          "2024-07-09T00:00:00.000000000",
          "2024-07-10T00:00:00.000000000",
          "2024-07-11T00:00:00.000000000",
          "2024-07-12T00:00:00.000000000",
          "2024-07-13T00:00:00.000000000",
          "2024-07-14T00:00:00.000000000",
          "2024-07-15T00:00:00.000000000",
          "2024-07-16T00:00:00.000000000",
          "2024-07-17T00:00:00.000000000",
          "2024-07-18T00:00:00.000000000",
          "2024-07-19T00:00:00.000000000",
          "2024-07-20T00:00:00.000000000",
          "2024-07-21T00:00:00.000000000",
          "2024-07-22T00:00:00.000000000",
          "2024-07-23T00:00:00.000000000",
          "2024-07-24T00:00:00.000000000",
          "2024-07-25T00:00:00.000000000",
          "2024-07-26T00:00:00.000000000",
          "2024-07-27T00:00:00.000000000",
          "2024-07-28T00:00:00.000000000",
          "2024-07-29T00:00:00.000000000",
          "2024-07-30T00:00:00.000000000",
          "2024-07-31T00:00:00.000000000",
          "2024-08-01T00:00:00.000000000",
          "2024-08-02T00:00:00.000000000",
          "2024-08-03T00:00:00.000000000",
          "2024-08-04T00:00:00.000000000",
          "2024-08-05T00:00:00.000000000",
          "2024-08-06T00:00:00.000000000",
          "2024-08-07T00:00:00.000000000",
          "2024-08-08T00:00:00.000000000",
          "2024-08-09T00:00:00.000000000",
          "2024-08-10T00:00:00.000000000",
          "2024-08-11T00:00:00.000000000",
          "2024-08-12T00:00:00.000000000",
          "2024-08-13T00:00:00.000000000",
          "2024-08-14T00:00:00.000000000",
          "2024-08-15T00:00:00.000000000",
          "2024-08-16T00:00:00.000000000",
          "2024-08-17T00:00:00.000000000",
          "2024-08-18T00:00:00.000000000",
          "2024-08-19T00:00:00.000000000",
          "2024-08-20T00:00:00.000000000",
          "2024-08-21T00:00:00.000000000",
          "2024-08-22T00:00:00.000000000",
          "2024-08-23T00:00:00.000000000",
          "2024-08-24T00:00:00.000000000",
          "2024-08-25T00:00:00.000000000",
          "2024-08-26T00:00:00.000000000",
          "2024-08-27T00:00:00.000000000",
          "2024-08-28T00:00:00.000000000",
          "2024-08-29T00:00:00.000000000",
          "2024-08-30T00:00:00.000000000",
          "2024-08-31T00:00:00.000000000",
          "2024-09-01T00:00:00.000000000",
          "2024-09-02T00:00:00.000000000",
          "2024-09-03T00:00:00.000000000",
          "2024-09-04T00:00:00.000000000",
          "2024-09-05T00:00:00.000000000",
          "2024-09-06T00:00:00.000000000",
          "2024-09-07T00:00:00.000000000",
          "2024-09-08T00:00:00.000000000",
          "2024-09-09T00:00:00.000000000",
          "2024-09-10T00:00:00.000000000",
          "2024-09-11T00:00:00.000000000",
          "2024-09-12T00:00:00.000000000",
          "2024-09-13T00:00:00.000000000",
          "2024-09-14T00:00:00.000000000",
          "2024-09-15T00:00:00.000000000",
          "2024-09-16T00:00:00.000000000",
          "2024-09-17T00:00:00.000000000",
          "2024-09-18T00:00:00.000000000",
          "2024-09-19T00:00:00.000000000",
          "2024-09-20T00:00:00.000000000",
          "2024-09-21T00:00:00.000000000",
          "2024-09-22T00:00:00.000000000",
          "2024-09-23T00:00:00.000000000",
          "2024-09-24T00:00:00.000000000",
          "2024-09-25T00:00:00.000000000",
          "2024-09-26T00:00:00.000000000",
          "2024-09-27T00:00:00.000000000",
          "2024-09-28T00:00:00.000000000",
          "2024-09-29T00:00:00.000000000",
          "2024-09-30T00:00:00.000000000",
          "2024-10-01T00:00:00.000000000",
          "2024-10-02T00:00:00.000000000",
          "2024-10-03T00:00:00.000000000",
          "2024-10-04T00:00:00.000000000",
          "2024-10-05T00:00:00.000000000",
          "2024-10-06T00:00:00.000000000",
          "2024-10-07T00:00:00.000000000",
          "2024-10-08T00:00:00.000000000",
          "2024-10-09T00:00:00.000000000",
          "2024-10-10T00:00:00.000000000",
          "2024-10-11T00:00:00.000000000",
          "2024-10-12T00:00:00.000000000",
          "2024-10-13T00:00:00.000000000",
          "2024-10-14T00:00:00.000000000",
          "2024-10-15T00:00:00.000000000",
          "2024-10-16T00:00:00.000000000",
          "2024-10-17T00:00:00.000000000",
          "2024-10-18T00:00:00.000000000",
          "2024-10-19T00:00:00.000000000",
          "2024-10-20T00:00:00.000000000",
          "2024-10-21T00:00:00.000000000",
          "2024-10-22T00:00:00.000000000",
          "2024-10-23T00:00:00.000000000",
          "2024-10-24T00:00:00.000000000",
          "2024-10-25T00:00:00.000000000",
          "2024-10-26T00:00:00.000000000",
          "2024-10-27T00:00:00.000000000",
          "2024-10-28T00:00:00.000000000",
          "2024-10-29T00:00:00.000000000",
          "2024-10-30T00:00:00.000000000",
          "2024-10-31T00:00:00.000000000",
          "2024-11-01T00:00:00.000000000",
          "2024-11-02T00:00:00.000000000",
          "2024-11-03T00:00:00.000000000",
          "2024-11-04T00:00:00.000000000",
          "2024-11-05T00:00:00.000000000",
          "2024-11-06T00:00:00.000000000",
          "2024-11-07T00:00:00.000000000",
          "2024-11-08T00:00:00.000000000",
          "2024-11-09T00:00:00.000000000",
          "2024-11-10T00:00:00.000000000",
          "2024-11-11T00:00:00.000000000",
          "2024-11-12T00:00:00.000000000",
          "2024-11-13T00:00:00.000000000",
          "2024-11-14T00:00:00.000000000",
          "2024-11-15T00:00:00.000000000",
          "2024-11-16T00:00:00.000000000",
          "2024-11-17T00:00:00.000000000",
          "2024-11-18T00:00:00.000000000",
          "2024-11-19T00:00:00.000000000",
          "2024-11-20T00:00:00.000000000",
          "2024-11-21T00:00:00.000000000",
          "2024-11-22T00:00:00.000000000",
          "2024-11-23T00:00:00.000000000",
          "2024-11-24T00:00:00.000000000",
          "2024-11-25T00:00:00.000000000",
          "2024-11-26T00:00:00.000000000",
          "2024-11-27T00:00:00.000000000",
          "2024-11-28T00:00:00.000000000",
          "2024-11-29T00:00:00.000000000",
          "2024-11-30T00:00:00.000000000",
          "2024-12-01T00:00:00.000000000",
          "2024-12-02T00:00:00.000000000",
          "2024-12-03T00:00:00.000000000",
          "2024-12-04T00:00:00.000000000",
          "2024-12-05T00:00:00.000000000",
          "2024-12-06T00:00:00.000000000",
          "2024-12-07T00:00:00.000000000",
          "2024-12-08T00:00:00.000000000",
          "2024-12-09T00:00:00.000000000",
          "2024-12-10T00:00:00.000000000",
          "2024-12-11T00:00:00.000000000",
          "2024-12-12T00:00:00.000000000",
          "2024-12-13T00:00:00.000000000",
          "2024-12-14T00:00:00.000000000",
          "2024-12-15T00:00:00.000000000",
          "2024-12-16T00:00:00.000000000",
          "2024-12-17T00:00:00.000000000",
          "2024-12-18T00:00:00.000000000",
          "2024-12-19T00:00:00.000000000",
          "2024-12-20T00:00:00.000000000",
          "2024-12-21T00:00:00.000000000",
          "2024-12-22T00:00:00.000000000",
          "2024-12-23T00:00:00.000000000",
          "2024-12-24T00:00:00.000000000",
          "2024-12-25T00:00:00.000000000",
          "2024-12-26T00:00:00.000000000",
          "2024-12-27T00:00:00.000000000",
          "2024-12-28T00:00:00.000000000",
          "2024-12-29T00:00:00.000000000",
          "2024-12-30T00:00:00.000000000",
          "2024-12-31T00:00:00.000000000"
         ],
         "y": {
          "bdata": "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",
          "dtype": "f8"
         }
        },
        {
         "line": {
          "color": "purple",
          "width": 1
         },
         "name": "%D",
         "type": "scatter",
         "x": [
          "2024-01-01T00:00:00.000000000",
          "2024-01-02T00:00:00.000000000",
          "2024-01-03T00:00:00.000000000",
          "2024-01-04T00:00:00.000000000",
          "2024-01-05T00:00:00.000000000",
          "2024-01-06T00:00:00.000000000",
          "2024-01-07T00:00:00.000000000",
          "2024-01-08T00:00:00.000000000",
          "2024-01-09T00:00:00.000000000",
          "2024-01-10T00:00:00.000000000",
          "2024-01-11T00:00:00.000000000",
          "2024-01-12T00:00:00.000000000",
          "2024-01-13T00:00:00.000000000",
          "2024-01-14T00:00:00.000000000",
          "2024-01-15T00:00:00.000000000",
          "2024-01-16T00:00:00.000000000",
          "2024-01-17T00:00:00.000000000",
          "2024-01-18T00:00:00.000000000",
          "2024-01-19T00:00:00.000000000",
          "2024-01-20T00:00:00.000000000",
          "2024-01-21T00:00:00.000000000",
          "2024-01-22T00:00:00.000000000",
          "2024-01-23T00:00:00.000000000",
          "2024-01-24T00:00:00.000000000",
          "2024-01-25T00:00:00.000000000",
          "2024-01-26T00:00:00.000000000",
          "2024-01-27T00:00:00.000000000",
          "2024-01-28T00:00:00.000000000",
          "2024-01-29T00:00:00.000000000",
          "2024-01-30T00:00:00.000000000",
          "2024-01-31T00:00:00.000000000",
          "2024-02-01T00:00:00.000000000",
          "2024-02-02T00:00:00.000000000",
          "2024-02-03T00:00:00.000000000",
          "2024-02-04T00:00:00.000000000",
          "2024-02-05T00:00:00.000000000",
          "2024-02-06T00:00:00.000000000",
          "2024-02-07T00:00:00.000000000",
          "2024-02-08T00:00:00.000000000",
          "2024-02-09T00:00:00.000000000",
          "2024-02-10T00:00:00.000000000",
          "2024-02-11T00:00:00.000000000",
          "2024-02-12T00:00:00.000000000",
          "2024-02-13T00:00:00.000000000",
          "2024-02-14T00:00:00.000000000",
          "2024-02-15T00:00:00.000000000",
          "2024-02-16T00:00:00.000000000",
          "2024-02-17T00:00:00.000000000",
          "2024-02-18T00:00:00.000000000",
          "2024-02-19T00:00:00.000000000",
          "2024-02-20T00:00:00.000000000",
          "2024-02-21T00:00:00.000000000",
          "2024-02-22T00:00:00.000000000",
          "2024-02-23T00:00:00.000000000",
          "2024-02-24T00:00:00.000000000",
          "2024-02-25T00:00:00.000000000",
          "2024-02-26T00:00:00.000000000",
          "2024-02-27T00:00:00.000000000",
          "2024-02-28T00:00:00.000000000",
          "2024-02-29T00:00:00.000000000",
          "2024-03-01T00:00:00.000000000",
          "2024-03-02T00:00:00.000000000",
          "2024-03-03T00:00:00.000000000",
          "2024-03-04T00:00:00.000000000",
          "2024-03-05T00:00:00.000000000",
          "2024-03-06T00:00:00.000000000",
          "2024-03-07T00:00:00.000000000",
          "2024-03-08T00:00:00.000000000",
          "2024-03-09T00:00:00.000000000",
          "2024-03-10T00:00:00.000000000",
          "2024-03-11T00:00:00.000000000",
          "2024-03-12T00:00:00.000000000",
          "2024-03-13T00:00:00.000000000",
          "2024-03-14T00:00:00.000000000",
          "2024-03-15T00:00:00.000000000",
          "2024-03-16T00:00:00.000000000",
          "2024-03-17T00:00:00.000000000",
          "2024-03-18T00:00:00.000000000",
          "2024-03-19T00:00:00.000000000",
          "2024-03-20T00:00:00.000000000",
          "2024-03-21T00:00:00.000000000",
          "2024-03-22T00:00:00.000000000",
          "2024-03-23T00:00:00.000000000",
          "2024-03-24T00:00:00.000000000",
          "2024-03-25T00:00:00.000000000",
          "2024-03-26T00:00:00.000000000",
          "2024-03-27T00:00:00.000000000",
          "2024-03-28T00:00:00.000000000",
          "2024-03-29T00:00:00.000000000",
          "2024-03-30T00:00:00.000000000",
          "2024-03-31T00:00:00.000000000",
          "2024-04-01T00:00:00.000000000",
          "2024-04-02T00:00:00.000000000",
          "2024-04-03T00:00:00.000000000",
          "2024-04-04T00:00:00.000000000",
          "2024-04-05T00:00:00.000000000",
          "2024-04-06T00:00:00.000000000",
          "2024-04-07T00:00:00.000000000",
          "2024-04-08T00:00:00.000000000",
          "2024-04-09T00:00:00.000000000",
          "2024-04-10T00:00:00.000000000",
          "2024-04-11T00:00:00.000000000",
          "2024-04-12T00:00:00.000000000",
          "2024-04-13T00:00:00.000000000",
          "2024-04-14T00:00:00.000000000",
          "2024-04-15T00:00:00.000000000",
          "2024-04-16T00:00:00.000000000",
          "2024-04-17T00:00:00.000000000",
          "2024-04-18T00:00:00.000000000",
          "2024-04-19T00:00:00.000000000",
          "2024-04-20T00:00:00.000000000",
          "2024-04-21T00:00:00.000000000",
          "2024-04-22T00:00:00.000000000",
          "2024-04-23T00:00:00.000000000",
          "2024-04-24T00:00:00.000000000",
          "2024-04-25T00:00:00.000000000",
          "2024-04-26T00:00:00.000000000",
          "2024-04-27T00:00:00.000000000",
          "2024-04-28T00:00:00.000000000",
          "2024-04-29T00:00:00.000000000",
          "2024-04-30T00:00:00.000000000",
          "2024-05-01T00:00:00.000000000",
          "2024-05-02T00:00:00.000000000",
          "2024-05-03T00:00:00.000000000",
          "2024-05-04T00:00:00.000000000",
          "2024-05-05T00:00:00.000000000",
          "2024-05-06T00:00:00.000000000",
          "2024-05-07T00:00:00.000000000",
          "2024-05-08T00:00:00.000000000",
          "2024-05-09T00:00:00.000000000",
          "2024-05-10T00:00:00.000000000",
          "2024-05-11T00:00:00.000000000",
          "2024-05-12T00:00:00.000000000",
          "2024-05-13T00:00:00.000000000",
          "2024-05-14T00:00:00.000000000",
          "2024-05-15T00:00:00.000000000",
          "2024-05-16T00:00:00.000000000",
          "2024-05-17T00:00:00.000000000",
          "2024-05-18T00:00:00.000000000",
          "2024-05-19T00:00:00.000000000",
          "2024-05-20T00:00:00.000000000",
          "2024-05-21T00:00:00.000000000",
          "2024-05-22T00:00:00.000000000",
          "2024-05-23T00:00:00.000000000",
          "2024-05-24T00:00:00.000000000",
          "2024-05-25T00:00:00.000000000",
          "2024-05-26T00:00:00.000000000",
          "2024-05-27T00:00:00.000000000",
          "2024-05-28T00:00:00.000000000",
          "2024-05-29T00:00:00.000000000",
          "2024-05-30T00:00:00.000000000",
          "2024-05-31T00:00:00.000000000",
          "2024-06-01T00:00:00.000000000",
          "2024-06-02T00:00:00.000000000",
          "2024-06-03T00:00:00.000000000",
          "2024-06-04T00:00:00.000000000",
          "2024-06-05T00:00:00.000000000",
          "2024-06-06T00:00:00.000000000",
          "2024-06-07T00:00:00.000000000",
          "2024-06-08T00:00:00.000000000",
          "2024-06-09T00:00:00.000000000",
          "2024-06-10T00:00:00.000000000",
          "2024-06-11T00:00:00.000000000",
          "2024-06-12T00:00:00.000000000",
          "2024-06-13T00:00:00.000000000",
          "2024-06-14T00:00:00.000000000",
          "2024-06-15T00:00:00.000000000",
          "2024-06-16T00:00:00.000000000",
          "2024-06-17T00:00:00.000000000",
          "2024-06-18T00:00:00.000000000",
          "2024-06-19T00:00:00.000000000",
          "2024-06-20T00:00:00.000000000",
          "2024-06-21T00:00:00.000000000",
          "2024-06-22T00:00:00.000000000",
          "2024-06-23T00:00:00.000000000",
          "2024-06-24T00:00:00.000000000",
          "2024-06-25T00:00:00.000000000",
          "2024-06-26T00:00:00.000000000",
          "2024-06-27T00:00:00.000000000",
          "2024-06-28T00:00:00.000000000",
          "2024-06-29T00:00:00.000000000",
          "2024-06-30T00:00:00.000000000",
          "2024-07-01T00:00:00.000000000",
          "2024-07-02T00:00:00.000000000",
          "2024-07-03T00:00:00.000000000",
          "2024-07-04T00:00:00.000000000",
          "2024-07-05T00:00:00.000000000",
          "2024-07-06T00:00:00.000000000",
          "2024-07-07T00:00:00.000000000",
          "2024-07-08T00:00:00.000000000",
          "2024-07-09T00:00:00.000000000",
          "2024-07-10T00:00:00.000000000",
          "2024-07-11T00:00:00.000000000",
          "2024-07-12T00:00:00.000000000",
          "2024-07-13T00:00:00.000000000",
          "2024-07-14T00:00:00.000000000",
          "2024-07-15T00:00:00.000000000",
          "2024-07-16T00:00:00.000000000",
          "2024-07-17T00:00:00.000000000",
          "2024-07-18T00:00:00.000000000",
          "2024-07-19T00:00:00.000000000",
          "2024-07-20T00:00:00.000000000",
          "2024-07-21T00:00:00.000000000",
          "2024-07-22T00:00:00.000000000",
          "2024-07-23T00:00:00.000000000",
          "2024-07-24T00:00:00.000000000",
          "2024-07-25T00:00:00.000000000",
          "2024-07-26T00:00:00.000000000",
          "2024-07-27T00:00:00.000000000",
          "2024-07-28T00:00:00.000000000",
          "2024-07-29T00:00:00.000000000",
          "2024-07-30T00:00:00.000000000",
          "2024-07-31T00:00:00.000000000",
          "2024-08-01T00:00:00.000000000",
          "2024-08-02T00:00:00.000000000",
          "2024-08-03T00:00:00.000000000",
          "2024-08-04T00:00:00.000000000",
          "2024-08-05T00:00:00.000000000",
          "2024-08-06T00:00:00.000000000",
          "2024-08-07T00:00:00.000000000",
          "2024-08-08T00:00:00.000000000",
          "2024-08-09T00:00:00.000000000",
          "2024-08-10T00:00:00.000000000",
          "2024-08-11T00:00:00.000000000",
          "2024-08-12T00:00:00.000000000",
          "2024-08-13T00:00:00.000000000",
          "2024-08-14T00:00:00.000000000",
          "2024-08-15T00:00:00.000000000",
          "2024-08-16T00:00:00.000000000",
          "2024-08-17T00:00:00.000000000",
          "2024-08-18T00:00:00.000000000",
          "2024-08-19T00:00:00.000000000",
          "2024-08-20T00:00:00.000000000",
          "2024-08-21T00:00:00.000000000",
          "2024-08-22T00:00:00.000000000",
          "2024-08-23T00:00:00.000000000",
          "2024-08-24T00:00:00.000000000",
          "2024-08-25T00:00:00.000000000",
          "2024-08-26T00:00:00.000000000",
          "2024-08-27T00:00:00.000000000",
          "2024-08-28T00:00:00.000000000",
          "2024-08-29T00:00:00.000000000",
          "2024-08-30T00:00:00.000000000",
          "2024-08-31T00:00:00.000000000",
          "2024-09-01T00:00:00.000000000",
          "2024-09-02T00:00:00.000000000",
          "2024-09-03T00:00:00.000000000",
          "2024-09-04T00:00:00.000000000",
          "2024-09-05T00:00:00.000000000",
          "2024-09-06T00:00:00.000000000",
          "2024-09-07T00:00:00.000000000",
          "2024-09-08T00:00:00.000000000",
          "2024-09-09T00:00:00.000000000",
          "2024-09-10T00:00:00.000000000",
          "2024-09-11T00:00:00.000000000",
          "2024-09-12T00:00:00.000000000",
          "2024-09-13T00:00:00.000000000",
          "2024-09-14T00:00:00.000000000",
          "2024-09-15T00:00:00.000000000",
          "2024-09-16T00:00:00.000000000",
          "2024-09-17T00:00:00.000000000",
          "2024-09-18T00:00:00.000000000",
          "2024-09-19T00:00:00.000000000",
          "2024-09-20T00:00:00.000000000",
          "2024-09-21T00:00:00.000000000",
          "2024-09-22T00:00:00.000000000",
          "2024-09-23T00:00:00.000000000",
          "2024-09-24T00:00:00.000000000",
          "2024-09-25T00:00:00.000000000",
          "2024-09-26T00:00:00.000000000",
          "2024-09-27T00:00:00.000000000",
          "2024-09-28T00:00:00.000000000",
          "2024-09-29T00:00:00.000000000",
          "2024-09-30T00:00:00.000000000",
          "2024-10-01T00:00:00.000000000",
          "2024-10-02T00:00:00.000000000",
          "2024-10-03T00:00:00.000000000",
          "2024-10-04T00:00:00.000000000",
          "2024-10-05T00:00:00.000000000",
          "2024-10-06T00:00:00.000000000",
          "2024-10-07T00:00:00.000000000",
          "2024-10-08T00:00:00.000000000",
          "2024-10-09T00:00:00.000000000",
          "2024-10-10T00:00:00.000000000",
          "2024-10-11T00:00:00.000000000",
          "2024-10-12T00:00:00.000000000",
          "2024-10-13T00:00:00.000000000",
          "2024-10-14T00:00:00.000000000",
          "2024-10-15T00:00:00.000000000",
          "2024-10-16T00:00:00.000000000",
          "2024-10-17T00:00:00.000000000",
          "2024-10-18T00:00:00.000000000",
          "2024-10-19T00:00:00.000000000",
          "2024-10-20T00:00:00.000000000",
          "2024-10-21T00:00:00.000000000",
          "2024-10-22T00:00:00.000000000",
          "2024-10-23T00:00:00.000000000",
          "2024-10-24T00:00:00.000000000",
          "2024-10-25T00:00:00.000000000",
          "2024-10-26T00:00:00.000000000",
          "2024-10-27T00:00:00.000000000",
          "2024-10-28T00:00:00.000000000",
          "2024-10-29T00:00:00.000000000",
          "2024-10-30T00:00:00.000000000",
          "2024-10-31T00:00:00.000000000",
          "2024-11-01T00:00:00.000000000",
          "2024-11-02T00:00:00.000000000",
          "2024-11-03T00:00:00.000000000",
          "2024-11-04T00:00:00.000000000",
          "2024-11-05T00:00:00.000000000",
          "2024-11-06T00:00:00.000000000",
          "2024-11-07T00:00:00.000000000",
          "2024-11-08T00:00:00.000000000",
          "2024-11-09T00:00:00.000000000",
          "2024-11-10T00:00:00.000000000",
          "2024-11-11T00:00:00.000000000",
          "2024-11-12T00:00:00.000000000",
          "2024-11-13T00:00:00.000000000",
          "2024-11-14T00:00:00.000000000",
          "2024-11-15T00:00:00.000000000",
          "2024-11-16T00:00:00.000000000",
          "2024-11-17T00:00:00.000000000",
          "2024-11-18T00:00:00.000000000",
          "2024-11-19T00:00:00.000000000",
          "2024-11-20T00:00:00.000000000",
          "2024-11-21T00:00:00.000000000",
          "2024-11-22T00:00:00.000000000",
          "2024-11-23T00:00:00.000000000",
          "2024-11-24T00:00:00.000000000",
          "2024-11-25T00:00:00.000000000",
          "2024-11-26T00:00:00.000000000",
          "2024-11-27T00:00:00.000000000",
          "2024-11-28T00:00:00.000000000",
          "2024-11-29T00:00:00.000000000",
          "2024-11-30T00:00:00.000000000",
          "2024-12-01T00:00:00.000000000",
          "2024-12-02T00:00:00.000000000",
          "2024-12-03T00:00:00.000000000",
          "2024-12-04T00:00:00.000000000",
          "2024-12-05T00:00:00.000000000",
          "2024-12-06T00:00:00.000000000",
          "2024-12-07T00:00:00.000000000",
          "2024-12-08T00:00:00.000000000",
          "2024-12-09T00:00:00.000000000",
          "2024-12-10T00:00:00.000000000",
          "2024-12-11T00:00:00.000000000",
          "2024-12-12T00:00:00.000000000",
          "2024-12-13T00:00:00.000000000",
          "2024-12-14T00:00:00.000000000",
          "2024-12-15T00:00:00.000000000",
          "2024-12-16T00:00:00.000000000",
          "2024-12-17T00:00:00.000000000",
          "2024-12-18T00:00:00.000000000",
          "2024-12-19T00:00:00.000000000",
          "2024-12-20T00:00:00.000000000",
          "2024-12-21T00:00:00.000000000",
          "2024-12-22T00:00:00.000000000",
          "2024-12-23T00:00:00.000000000",
          "2024-12-24T00:00:00.000000000",
          "2024-12-25T00:00:00.000000000",
          "2024-12-26T00:00:00.000000000",
          "2024-12-27T00:00:00.000000000",
          "2024-12-28T00:00:00.000000000",
          "2024-12-29T00:00:00.000000000",
          "2024-12-30T00:00:00.000000000",
          "2024-12-31T00:00:00.000000000"
         ],
         "y": {
          "bdata": "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",
          "dtype": "f8"
         }
        }
       ],
       "layout": {
        "annotations": [
         {
          "showarrow": false,
          "text": "80",
          "x": 1,
          "xanchor": "right",
          "xref": "x domain",
          "y": 80,
          "yanchor": "bottom",
          "yref": "y"
         },
         {
          "showarrow": false,
          "text": "20",
          "x": 1,
          "xanchor": "right",
          "xref": "x domain",
          "y": 20,
          "yanchor": "bottom",
          "yref": "y"
         }
        ],
        "shapes": [
         {
          "line": {
           "color": "gray",
           "dash": "dash"
          },
          "type": "line",
          "x0": 0,
          "x1": 1,
          "xref": "x domain",
          "y0": 80,
          "y1": 80,
          "yref": "y"
         },
         {
          "line": {
           "color": "gray",
           "dash": "dash"
          },
          "type": "line",
          "x0": 0,
          "x1": 1,
          "xref": "x domain",
          "y0": 20,
          "y1": 20,
          "yref": "y"
         }
        ],
        "showlegend": true,
        "template": {
         "data": {
          "bar": [
           {
            "error_x": {
             "color": "#2a3f5f"
            },
            "error_y": {
             "color": "#2a3f5f"
            },
            "marker": {
             "line": {
              "color": "#E5ECF6",
              "width": 0.5
             },
             "pattern": {
              "fillmode": "overlay",
              "size": 10,
              "solidity": 0.2
             }
            },
            "type": "bar"
           }
          ],
          "barpolar": [
           {
            "marker": {
             "line": {
              "color": "#E5ECF6",
              "width": 0.5
             },
             "pattern": {
              "fillmode": "overlay",
              "size": 10,
              "solidity": 0.2
             }
            },
            "type": "barpolar"
           }
          ],
          "carpet": [
           {
            "aaxis": {
             "endlinecolor": "#2a3f5f",
             "gridcolor": "white",
             "linecolor": "white",
             "minorgridcolor": "white",
             "startlinecolor": "#2a3f5f"
            },
            "baxis": {
             "endlinecolor": "#2a3f5f",
             "gridcolor": "white",
             "linecolor": "white",
             "minorgridcolor": "white",
             "startlinecolor": "#2a3f5f"
            },
            "type": "carpet"
           }
          ],
          "choropleth": [
           {
            "colorbar": {
             "outlinewidth": 0,
             "ticks": ""
            },
            "type": "choropleth"
           }
          ],
          "contour": [
           {
            "colorbar": {
             "outlinewidth": 0,
             "ticks": ""
            },
            "colorscale": [
             [
              0,
              "#0d0887"
             ],
             [
              0.1111111111111111,
              "#46039f"
             ],
             [
              0.2222222222222222,
              "#7201a8"
             ],
             [
              0.3333333333333333,
              "#9c179e"
             ],
             [
              0.4444444444444444,
              "#bd3786"
             ],
             [
              0.5555555555555556,
              "#d8576b"
             ],
             [
              0.6666666666666666,
              "#ed7953"
             ],
             [
              0.7777777777777778,
              "#fb9f3a"
             ],
             [
              0.8888888888888888,
              "#fdca26"
             ],
             [
              1,
              "#f0f921"
             ]
            ],
            "type": "contour"
           }
          ],
          "contourcarpet": [
           {
            "colorbar": {
             "outlinewidth": 0,
             "ticks": ""
            },
            "type": "contourcarpet"
           }
          ],
          "heatmap": [
           {
            "colorbar": {
             "outlinewidth": 0,
             "ticks": ""
            },
            "colorscale": [
             [
              0,
              "#0d0887"
             ],
             [
              0.1111111111111111,
              "#46039f"
             ],
             [
              0.2222222222222222,
              "#7201a8"
             ],
             [
              0.3333333333333333,
              "#9c179e"
             ],
             [
              0.4444444444444444,
              "#bd3786"
             ],
             [
              0.5555555555555556,
              "#d8576b"
             ],
             [
              0.6666666666666666,
              "#ed7953"
             ],
             [
              0.7777777777777778,
              "#fb9f3a"
             ],
             [
              0.8888888888888888,
              "#fdca26"
             ],
             [
              1,
              "#f0f921"
             ]
            ],
            "type": "heatmap"
           }
          ],
          "histogram": [
           {
            "marker": {
             "pattern": {
              "fillmode": "overlay",
              "size": 10,
              "solidity": 0.2
             }
            },
            "type": "histogram"
           }
          ],
          "histogram2d": [
           {
            "colorbar": {
             "outlinewidth": 0,
             "ticks": ""
            },
            "colorscale": [
             [
              0,
              "#0d0887"
             ],
             [
              0.1111111111111111,
              "#46039f"
             ],
             [
              0.2222222222222222,
              "#7201a8"
             ],
             [
              0.3333333333333333,
              "#9c179e"
             ],
             [
              0.4444444444444444,
              "#bd3786"
             ],
             [
              0.5555555555555556,
              "#d8576b"
             ],
             [
              0.6666666666666666,
              "#ed7953"
             ],
             [
              0.7777777777777778,
              "#fb9f3a"
             ],
             [
              0.8888888888888888,
              "#fdca26"
             ],
             [
              1,
              "#f0f921"
             ]
            ],
            "type": "histogram2d"
           }
          ],
          "histogram2dcontour": [
           {
            "colorbar": {
             "outlinewidth": 0,
             "ticks": ""
            },
            "colorscale": [
             [
              0,
              "#0d0887"
             ],
             [
              0.1111111111111111,
              "#46039f"
             ],
             [
              0.2222222222222222,
              "#7201a8"
             ],
             [
              0.3333333333333333,
              "#9c179e"
             ],
             [
              0.4444444444444444,
              "#bd3786"
             ],
             [
              0.5555555555555556,
              "#d8576b"
             ],
             [
              0.6666666666666666,
              "#ed7953"
             ],
             [
              0.7777777777777778,
              "#fb9f3a"
             ],
             [
              0.8888888888888888,
              "#fdca26"
             ],
             [
              1,
              "#f0f921"
             ]
            ],
            "type": "histogram2dcontour"
           }
          ],
          "mesh3d": [
           {
            "colorbar": {
             "outlinewidth": 0,
             "ticks": ""
            },
            "type": "mesh3d"
           }
          ],
          "parcoords": [
           {
            "line": {
             "colorbar": {
              "outlinewidth": 0,
              "ticks": ""
             }
            },
            "type": "parcoords"
           }
          ],
          "pie": [
           {
            "automargin": true,
            "type": "pie"
           }
          ],
          "scatter": [
           {
            "fillpattern": {
             "fillmode": "overlay",
             "size": 10,
             "solidity": 0.2
            },
            "type": "scatter"
           }
          ],
          "scatter3d": [
           {
            "line": {
             "colorbar": {
              "outlinewidth": 0,
              "ticks": ""
             }
            },
            "marker": {
             "colorbar": {
              "outlinewidth": 0,
              "ticks": ""
             }
            },
            "type": "scatter3d"
           }
          ],
          "scattercarpet": [
           {
            "marker": {
             "colorbar": {
              "outlinewidth": 0,
              "ticks": ""
             }
            },
            "type": "scattercarpet"
           }
          ],
          "scattergeo": [
           {
            "marker": {
             "colorbar": {
              "outlinewidth": 0,
              "ticks": ""
             }
            },
            "type": "scattergeo"
           }
          ],
          "scattergl": [
           {
            "marker": {
             "colorbar": {
              "outlinewidth": 0,
              "ticks": ""
             }
            },
            "type": "scattergl"
           }
          ],
          "scattermap": [
           {
            "marker": {
             "colorbar": {
              "outlinewidth": 0,
              "ticks": ""
             }
            },
            "type": "scattermap"
           }
          ],
          "scattermapbox": [
           {
            "marker": {
             "colorbar": {
              "outlinewidth": 0,
              "ticks": ""
             }
            },
            "type": "scattermapbox"
           }
          ],
          "scatterpolar": [
           {
            "marker": {
             "colorbar": {
              "outlinewidth": 0,
              "ticks": ""
             }
            },
            "type": "scatterpolar"
           }
          ],
          "scatterpolargl": [
           {
            "marker": {
             "colorbar": {
              "outlinewidth": 0,
              "ticks": ""
             }
            },
            "type": "scatterpolargl"
           }
          ],
          "scatterternary": [
           {
            "marker": {
             "colorbar": {
              "outlinewidth": 0,
              "ticks": ""
             }
            },
            "type": "scatterternary"
           }
          ],
          "surface": [
           {
            "colorbar": {
             "outlinewidth": 0,
             "ticks": ""
            },
            "colorscale": [
             [
              0,
              "#0d0887"
             ],
             [
              0.1111111111111111,
              "#46039f"
             ],
             [
              0.2222222222222222,
              "#7201a8"
             ],
             [
              0.3333333333333333,
              "#9c179e"
             ],
             [
              0.4444444444444444,
              "#bd3786"
             ],
             [
              0.5555555555555556,
              "#d8576b"
             ],
             [
              0.6666666666666666,
              "#ed7953"
             ],
             [
              0.7777777777777778,
              "#fb9f3a"
             ],
             [
              0.8888888888888888,
              "#fdca26"
             ],
             [
              1,
              "#f0f921"
             ]
            ],
            "type": "surface"
           }
          ],
          "table": [
           {
            "cells": {
             "fill": {
              "color": "#EBF0F8"
             },
             "line": {
              "color": "white"
             }
            },
            "header": {
             "fill": {
              "color": "#C8D4E3"
             },
             "line": {
              "color": "white"
             }
            },
            "type": "table"
           }
          ]
         },
         "layout": {
          "annotationdefaults": {
           "arrowcolor": "#2a3f5f",
           "arrowhead": 0,
           "arrowwidth": 1
          },
          "autotypenumbers": "strict",
          "coloraxis": {
           "colorbar": {
            "outlinewidth": 0,
            "ticks": ""
           }
          },
          "colorscale": {
           "diverging": [
            [
             0,
             "#8e0152"
            ],
            [
             0.1,
             "#c51b7d"
            ],
            [
             0.2,
             "#de77ae"
            ],
            [
             0.3,
             "#f1b6da"
            ],
            [
             0.4,
             "#fde0ef"
            ],
            [
             0.5,
             "#f7f7f7"
            ],
            [
             0.6,
             "#e6f5d0"
            ],
            [
             0.7,
             "#b8e186"
            ],
            [
             0.8,
             "#7fbc41"
            ],
            [
             0.9,
             "#4d9221"
            ],
            [
             1,
             "#276419"
            ]
           ],
           "sequential": [
            [
             0,
             "#0d0887"
            ],
            [
             0.1111111111111111,
             "#46039f"
            ],
            [
             0.2222222222222222,
             "#7201a8"
            ],
            [
             0.3333333333333333,
             "#9c179e"
            ],
            [
             0.4444444444444444,
             "#bd3786"
            ],
            [
             0.5555555555555556,
             "#d8576b"
            ],
            [
             0.6666666666666666,
             "#ed7953"
            ],
            [
             0.7777777777777778,
             "#fb9f3a"
            ],
            [
             0.8888888888888888,
             "#fdca26"
            ],
            [
             1,
             "#f0f921"
            ]
           ],
           "sequentialminus": [
            [
             0,
             "#0d0887"
            ],
            [
             0.1111111111111111,
             "#46039f"
            ],
            [
             0.2222222222222222,
             "#7201a8"
            ],
            [
             0.3333333333333333,
             "#9c179e"
            ],
            [
             0.4444444444444444,
             "#bd3786"
            ],
            [
             0.5555555555555556,
             "#d8576b"
            ],
            [
             0.6666666666666666,
             "#ed7953"
            ],
            [
             0.7777777777777778,
             "#fb9f3a"
            ],
            [
             0.8888888888888888,
             "#fdca26"
            ],
            [
             1,
             "#f0f921"
            ]
           ]
          },
          "colorway": [
           "#636efa",
           "#EF553B",
           "#00cc96",
           "#ab63fa",
           "#FFA15A",
           "#19d3f3",
           "#FF6692",
           "#B6E880",
           "#FF97FF",
           "#FECB52"
          ],
          "font": {
           "color": "#2a3f5f"
          },
          "geo": {
           "bgcolor": "white",
           "lakecolor": "white",
           "landcolor": "#E5ECF6",
           "showlakes": true,
           "showland": true,
           "subunitcolor": "white"
          },
          "hoverlabel": {
           "align": "left"
          },
          "hovermode": "closest",
          "mapbox": {
           "style": "light"
          },
          "paper_bgcolor": "white",
          "plot_bgcolor": "#E5ECF6",
          "polar": {
           "angularaxis": {
            "gridcolor": "white",
            "linecolor": "white",
            "ticks": ""
           },
           "bgcolor": "#E5ECF6",
           "radialaxis": {
            "gridcolor": "white",
            "linecolor": "white",
            "ticks": ""
           }
          },
          "scene": {
           "xaxis": {
            "backgroundcolor": "#E5ECF6",
            "gridcolor": "white",
            "gridwidth": 2,
            "linecolor": "white",
            "showbackground": true,
            "ticks": "",
            "zerolinecolor": "white"
           },
           "yaxis": {
            "backgroundcolor": "#E5ECF6",
            "gridcolor": "white",
            "gridwidth": 2,
            "linecolor": "white",
            "showbackground": true,
            "ticks": "",
            "zerolinecolor": "white"
           },
           "zaxis": {
            "backgroundcolor": "#E5ECF6",
            "gridcolor": "white",
            "gridwidth": 2,
            "linecolor": "white",
            "showbackground": true,
            "ticks": "",
            "zerolinecolor": "white"
           }
          },
          "shapedefaults": {
           "line": {
            "color": "#2a3f5f"
           }
          },
          "ternary": {
           "aaxis": {
            "gridcolor": "white",
            "linecolor": "white",
            "ticks": ""
           },
           "baxis": {
            "gridcolor": "white",
            "linecolor": "white",
            "ticks": ""
           },
           "bgcolor": "#E5ECF6",
           "caxis": {
            "gridcolor": "white",
            "linecolor": "white",
            "ticks": ""
           }
          },
          "title": {
           "x": 0.05
          },
          "xaxis": {
           "automargin": true,
           "gridcolor": "white",
           "linecolor": "white",
           "ticks": "",
           "title": {
            "standoff": 15
           },
           "zerolinecolor": "white",
           "zerolinewidth": 2
          },
          "yaxis": {
           "automargin": true,
           "gridcolor": "white",
           "linecolor": "white",
           "ticks": "",
           "title": {
            "standoff": 15
           },
           "zerolinecolor": "white",
           "zerolinewidth": 2
          }
         }
        },
        "title": {
         "text": "Stochastic Oscillator"
        },
        "xaxis": {
         "title": {
          "text": "Date"
         }
        },
        "yaxis": {
         "title": {
          "text": "Stochastic Value"
         }
        }
       }
      }
     },
     "metadata": {},
     "output_type": "display_data"
    }
   ],
   "source": [
    "# -------------------------------\n",
    "# Figure 1: Price Chart (Candlestick, Bollinger Bands, SMA20 and SMA200)\n",
    "# -------------------------------\n",
    "fig_price = go.Figure()\n",
    "\n",
    "# Candlestick\n",
    "fig_price.add_trace(go.Candlestick(\n",
    "    x=df.index,\n",
    "    open=df['Open'],\n",
    "    high=df['High'],\n",
    "    low=df['Low'],\n",
    "    close=df['Close'],\n",
    "    name='Candlestick'\n",
    "))\n",
    "\n",
    "# Bollinger Bands and SMA20\n",
    "fig_price.add_trace(go.Scatter(\n",
    "    x=df.index,\n",
    "    y=df['Upper_BB'],\n",
    "    line=dict(color='rgba(173,216,230,0.7)', width=1),\n",
    "    name='Upper Bollinger Band'\n",
    "))\n",
    "fig_price.add_trace(go.Scatter(\n",
    "    x=df.index,\n",
    "    y=df['SMA20'],\n",
    "    line=dict(color='blue', dash='dash', width=1),\n",
    "    name='20-Day SMA'\n",
    "))\n",
    "fig_price.add_trace(go.Scatter(\n",
    "    x=df.index,\n",
    "    y=df['Lower_BB'],\n",
    "    line=dict(color='rgba(173,216,230,0.7)', width=1),\n",
    "    name='Lower Bollinger Band'\n",
    "))\n",
    "\n",
    "# SMA200\n",
    "fig_price.add_trace(go.Scatter(\n",
    "    x=df.index,\n",
    "    y=df['SMA200'],\n",
    "    line=dict(color='red', width=1),\n",
    "    name='200-Day SMA'\n",
    "))\n",
    "\n",
    "fig_price.update_layout(\n",
    "    title='Price Chart: Candlestick, Bollinger Bands, 20-Day SMA, and 200-Day SMA',\n",
    "    xaxis_title='Date',\n",
    "    yaxis_title='Price (USDT)',\n",
    "    showlegend=True\n",
    ")\n",
    "fig_price.show()\n",
    "\n",
    "# -------------------------------\n",
    "# Figure 2: Volume Chart\n",
    "# -------------------------------\n",
    "fig_volume = go.Figure(data=[\n",
    "    go.Bar(\n",
    "        x=df.index,\n",
    "        y=df['Volume'],\n",
    "        name='Volume',\n",
    "        marker_color='blue'\n",
    "    )\n",
    "])\n",
    "fig_volume.update_layout(\n",
    "    title='Volume Chart',\n",
    "    xaxis_title='Date',\n",
    "    yaxis_title='Volume',\n",
    "    showlegend=True\n",
    ")\n",
    "fig_volume.show()\n",
    "\n",
    "# -------------------------------\n",
    "# Figure 3: Trend Indicators (EMA and VWAP)\n",
    "# -------------------------------\n",
    "fig_trend = go.Figure()\n",
    "fig_trend.add_trace(go.Scatter(\n",
    "    x=df.index,\n",
    "    y=df['EMA'],\n",
    "    line=dict(color='purple', width=1),\n",
    "    name='20-Day EMA'\n",
    "))\n",
    "fig_trend.add_trace(go.Scatter(\n",
    "    x=df.index,\n",
    "    y=df['VWAP'],\n",
    "    line=dict(color='orange', width=1),\n",
    "    name='VWAP'\n",
    "))\n",
    "fig_trend.update_layout(\n",
    "    title='Trend Indicators: EMA and VWAP',\n",
    "    xaxis_title='Date',\n",
    "    yaxis_title='Indicator Value',\n",
    "    showlegend=True\n",
    ")\n",
    "fig_trend.show()\n",
    "\n",
    "# -------------------------------\n",
    "# Figure 4: Ichimoku Cloud\n",
    "# -------------------------------\n",
    "fig_ichimoku = go.Figure()\n",
    "fig_ichimoku.add_trace(go.Scatter(\n",
    "    x=df.index,\n",
    "    y=df['Ichimoku_Tenkan'],\n",
    "    line=dict(color='magenta', width=1),\n",
    "    name='Tenkan (Conversion Line)'\n",
    "))\n",
    "fig_ichimoku.add_trace(go.Scatter(\n",
    "    x=df.index,\n",
    "    y=df['Ichimoku_Kijun'],\n",
    "    line=dict(color='brown', width=1),\n",
    "    name='Kijun (Base Line)'\n",
    "))\n",
    "fig_ichimoku.add_trace(go.Scatter(\n",
    "    x=df.index,\n",
    "    y=df['Ichimoku_SenkouA'],\n",
    "    line=dict(color='rgba(0,0,0,0)'),\n",
    "    showlegend=False,\n",
    "    name='Senkou Span A'\n",
    "))\n",
    "fig_ichimoku.add_trace(go.Scatter(\n",
    "    x=df.index,\n",
    "    y=df['Ichimoku_SenkouB'],\n",
    "    line=dict(color='rgba(0,0,0,0)'),\n",
    "    fill='tonexty',\n",
    "    fillcolor='rgba(173,216,230,0.2)',\n",
    "    showlegend=False,\n",
    "    name='Senkou Span B'\n",
    "))\n",
    "fig_ichimoku.update_layout(\n",
    "    title='Ichimoku Cloud',\n",
    "    xaxis_title='Date',\n",
    "    yaxis_title='Indicator Value',\n",
    "    showlegend=True\n",
    ")\n",
    "fig_ichimoku.show()\n",
    "\n",
    "# -------------------------------\n",
    "# Figure 5: RSI (14)\n",
    "# -------------------------------\n",
    "# Calculate the first and last date for the x-axis boundaries\n",
    "x0 = df.index.min()\n",
    "x1 = df.index.max()\n",
    "\n",
    "fig_rsi = go.Figure()\n",
    "\n",
    "# RSI Line\n",
    "fig_rsi.add_trace(go.Scatter(\n",
    "    x=df.index,\n",
    "    y=df['RSI'],\n",
    "    mode='lines',\n",
    "    line=dict(color='orange', width=1),\n",
    "    name='RSI'\n",
    "))\n",
    "\n",
    "# Shaded region for overbought (RSI > 70)\n",
    "fig_rsi.add_shape(\n",
    "    type=\"rect\",\n",
    "    xref=\"x\",  # Use actual x-axis values\n",
    "    yref=\"y\",\n",
    "    x0=x0,\n",
    "    x1=x1,\n",
    "    y0=70,\n",
    "    y1=100,\n",
    "    fillcolor=\"rgba(255, 0, 0, 0.2)\",\n",
    "    layer=\"below\",\n",
    "    line_width=0,\n",
    ")\n",
    "\n",
    "# Shaded region for oversold (RSI < 30)\n",
    "fig_rsi.add_shape(\n",
    "    type=\"rect\",\n",
    "    xref=\"x\",  # Use actual x-axis values\n",
    "    yref=\"y\",\n",
    "    x0=x0,\n",
    "    x1=x1,\n",
    "    y0=0,\n",
    "    y1=30,\n",
    "    fillcolor=\"rgba(0, 0, 255, 0.2)\",\n",
    "    layer=\"below\",\n",
    "    line_width=0,\n",
    ")\n",
    "\n",
    "# Reference lines for RSI at 70 and 30\n",
    "fig_rsi.add_hline(\n",
    "    y=70, line_dash=\"dash\", line_color=\"gray\",\n",
    "    annotation_text=\"70\", annotation_position=\"top left\"\n",
    ")\n",
    "fig_rsi.add_hline(\n",
    "    y=30, line_dash=\"dash\", line_color=\"gray\",\n",
    "    annotation_text=\"30\", annotation_position=\"bottom left\"\n",
    ")\n",
    "\n",
    "fig_rsi.update_layout(\n",
    "    title='Relative Strength Index (14)',\n",
    "    xaxis_title='Date',\n",
    "    yaxis_title='RSI Value',\n",
    "    showlegend=True,\n",
    "    yaxis=dict(range=[0, 100])\n",
    ")\n",
    "\n",
    "fig_rsi.show()\n",
    "\n",
    "# -------------------------------\n",
    "# Figure 6: MACD and MACD Signal\n",
    "# -------------------------------\n",
    "fig_macd = go.Figure()\n",
    "fig_macd.add_trace(go.Scatter(\n",
    "    x=df.index,\n",
    "    y=df['MACD'],\n",
    "    line=dict(color='green', width=1),\n",
    "    name='MACD'\n",
    "))\n",
    "fig_macd.add_trace(go.Scatter(\n",
    "    x=df.index,\n",
    "    y=df['MACD_signal'],\n",
    "    line=dict(color='red', width=1),\n",
    "    name='MACD Signal'\n",
    "))\n",
    "fig_macd.update_layout(\n",
    "    title='MACD',\n",
    "    xaxis_title='Date',\n",
    "    yaxis_title='MACD Value',\n",
    "    showlegend=True\n",
    ")\n",
    "fig_macd.show()\n",
    "\n",
    "# -------------------------------\n",
    "# Figure 7: ATR (Average True Range)\n",
    "# -------------------------------\n",
    "fig_atr = go.Figure()\n",
    "fig_atr.add_trace(go.Scatter(\n",
    "    x=df.index,\n",
    "    y=df['ATR'],\n",
    "    line=dict(color='darkblue', width=1),\n",
    "    name='ATR'\n",
    "))\n",
    "fig_atr.update_layout(\n",
    "    title='Average True Range (ATR)',\n",
    "    xaxis_title='Date',\n",
    "    yaxis_title='ATR Value',\n",
    "    showlegend=True\n",
    ")\n",
    "fig_atr.show()\n",
    "\n",
    "# -------------------------------\n",
    "# Figure 8: OBV (On-Balance Volume)\n",
    "# -------------------------------\n",
    "fig_obv = go.Figure()\n",
    "fig_obv.add_trace(go.Scatter(\n",
    "    x=df.index,\n",
    "    y=df['OBV'],\n",
    "    line=dict(color='darkgreen', width=1),\n",
    "    name='OBV'\n",
    "))\n",
    "fig_obv.update_layout(\n",
    "    title='On-Balance Volume (OBV)',\n",
    "    xaxis_title='Date',\n",
    "    yaxis_title='OBV Value',\n",
    "    showlegend=True\n",
    ")\n",
    "fig_obv.show()\n",
    "\n",
    "# -------------------------------\n",
    "# Figure 9: Stochastic Oscillator (%K and %D)\n",
    "# -------------------------------\n",
    "fig_stoch = go.Figure()\n",
    "fig_stoch.add_trace(go.Scatter(\n",
    "    x=df.index,\n",
    "    y=df['Stochastic_%K'],\n",
    "    line=dict(color='darkorange', width=1),\n",
    "    name='%K'\n",
    "))\n",
    "fig_stoch.add_trace(go.Scatter(\n",
    "    x=df.index,\n",
    "    y=df['Stochastic_%D'],\n",
    "    line=dict(color='purple', width=1),\n",
    "    name='%D'\n",
    "))\n",
    "# Reference lines for Stochastic Oscillator\n",
    "fig_stoch.add_hline(y=80, line_dash=\"dash\", line_color=\"gray\", annotation_text=\"80\")\n",
    "fig_stoch.add_hline(y=20, line_dash=\"dash\", line_color=\"gray\", annotation_text=\"20\")\n",
    "fig_stoch.update_layout(\n",
    "    title='Stochastic Oscillator',\n",
    "    xaxis_title='Date',\n",
    "    yaxis_title='Stochastic Value',\n",
    "    showlegend=True\n",
    ")\n",
    "fig_stoch.show()\n"
   ]
  },
  {
   "cell_type": "code",
   "execution_count": 15,
   "metadata": {},
   "outputs": [
    {
     "data": {
      "application/vnd.plotly.v1+json": {
       "config": {
        "plotlyServerURL": "https://plot.ly"
       },
       "data": [
        {
         "mode": "lines",
         "name": "Close Price",
         "type": "scatter",
         "x": [
          "2024-01-01T00:00:00.000000000",
          "2024-01-02T00:00:00.000000000",
          "2024-01-03T00:00:00.000000000",
          "2024-01-04T00:00:00.000000000",
          "2024-01-05T00:00:00.000000000",
          "2024-01-06T00:00:00.000000000",
          "2024-01-07T00:00:00.000000000",
          "2024-01-08T00:00:00.000000000",
          "2024-01-09T00:00:00.000000000",
          "2024-01-10T00:00:00.000000000",
          "2024-01-11T00:00:00.000000000",
          "2024-01-12T00:00:00.000000000",
          "2024-01-13T00:00:00.000000000",
          "2024-01-14T00:00:00.000000000",
          "2024-01-15T00:00:00.000000000",
          "2024-01-16T00:00:00.000000000",
          "2024-01-17T00:00:00.000000000",
          "2024-01-18T00:00:00.000000000",
          "2024-01-19T00:00:00.000000000",
          "2024-01-20T00:00:00.000000000",
          "2024-01-21T00:00:00.000000000",
          "2024-01-22T00:00:00.000000000",
          "2024-01-23T00:00:00.000000000",
          "2024-01-24T00:00:00.000000000",
          "2024-01-25T00:00:00.000000000",
          "2024-01-26T00:00:00.000000000",
          "2024-01-27T00:00:00.000000000",
          "2024-01-28T00:00:00.000000000",
          "2024-01-29T00:00:00.000000000",
          "2024-01-30T00:00:00.000000000",
          "2024-01-31T00:00:00.000000000",
          "2024-02-01T00:00:00.000000000",
          "2024-02-02T00:00:00.000000000",
          "2024-02-03T00:00:00.000000000",
          "2024-02-04T00:00:00.000000000",
          "2024-02-05T00:00:00.000000000",
          "2024-02-06T00:00:00.000000000",
          "2024-02-07T00:00:00.000000000",
          "2024-02-08T00:00:00.000000000",
          "2024-02-09T00:00:00.000000000",
          "2024-02-10T00:00:00.000000000",
          "2024-02-11T00:00:00.000000000",
          "2024-02-12T00:00:00.000000000",
          "2024-02-13T00:00:00.000000000",
          "2024-02-14T00:00:00.000000000",
          "2024-02-15T00:00:00.000000000",
          "2024-02-16T00:00:00.000000000",
          "2024-02-17T00:00:00.000000000",
          "2024-02-18T00:00:00.000000000",
          "2024-02-19T00:00:00.000000000",
          "2024-02-20T00:00:00.000000000",
          "2024-02-21T00:00:00.000000000",
          "2024-02-22T00:00:00.000000000",
          "2024-02-23T00:00:00.000000000",
          "2024-02-24T00:00:00.000000000",
          "2024-02-25T00:00:00.000000000",
          "2024-02-26T00:00:00.000000000",
          "2024-02-27T00:00:00.000000000",
          "2024-02-28T00:00:00.000000000",
          "2024-02-29T00:00:00.000000000",
          "2024-03-01T00:00:00.000000000",
          "2024-03-02T00:00:00.000000000",
          "2024-03-03T00:00:00.000000000",
          "2024-03-04T00:00:00.000000000",
          "2024-03-05T00:00:00.000000000",
          "2024-03-06T00:00:00.000000000",
          "2024-03-07T00:00:00.000000000",
          "2024-03-08T00:00:00.000000000",
          "2024-03-09T00:00:00.000000000",
          "2024-03-10T00:00:00.000000000",
          "2024-03-11T00:00:00.000000000",
          "2024-03-12T00:00:00.000000000",
          "2024-03-13T00:00:00.000000000",
          "2024-03-14T00:00:00.000000000",
          "2024-03-15T00:00:00.000000000",
          "2024-03-16T00:00:00.000000000",
          "2024-03-17T00:00:00.000000000",
          "2024-03-18T00:00:00.000000000",
          "2024-03-19T00:00:00.000000000",
          "2024-03-20T00:00:00.000000000",
          "2024-03-21T00:00:00.000000000",
          "2024-03-22T00:00:00.000000000",
          "2024-03-23T00:00:00.000000000",
          "2024-03-24T00:00:00.000000000",
          "2024-03-25T00:00:00.000000000",
          "2024-03-26T00:00:00.000000000",
          "2024-03-27T00:00:00.000000000",
          "2024-03-28T00:00:00.000000000",
          "2024-03-29T00:00:00.000000000",
          "2024-03-30T00:00:00.000000000",
          "2024-03-31T00:00:00.000000000",
          "2024-04-01T00:00:00.000000000",
          "2024-04-02T00:00:00.000000000",
          "2024-04-03T00:00:00.000000000",
          "2024-04-04T00:00:00.000000000",
          "2024-04-05T00:00:00.000000000",
          "2024-04-06T00:00:00.000000000",
          "2024-04-07T00:00:00.000000000",
          "2024-04-08T00:00:00.000000000",
          "2024-04-09T00:00:00.000000000",
          "2024-04-10T00:00:00.000000000",
          "2024-04-11T00:00:00.000000000",
          "2024-04-12T00:00:00.000000000",
          "2024-04-13T00:00:00.000000000",
          "2024-04-14T00:00:00.000000000",
          "2024-04-15T00:00:00.000000000",
          "2024-04-16T00:00:00.000000000",
          "2024-04-17T00:00:00.000000000",
          "2024-04-18T00:00:00.000000000",
          "2024-04-19T00:00:00.000000000",
          "2024-04-20T00:00:00.000000000",
          "2024-04-21T00:00:00.000000000",
          "2024-04-22T00:00:00.000000000",
          "2024-04-23T00:00:00.000000000",
          "2024-04-24T00:00:00.000000000",
          "2024-04-25T00:00:00.000000000",
          "2024-04-26T00:00:00.000000000",
          "2024-04-27T00:00:00.000000000",
          "2024-04-28T00:00:00.000000000",
          "2024-04-29T00:00:00.000000000",
          "2024-04-30T00:00:00.000000000",
          "2024-05-01T00:00:00.000000000",
          "2024-05-02T00:00:00.000000000",
          "2024-05-03T00:00:00.000000000",
          "2024-05-04T00:00:00.000000000",
          "2024-05-05T00:00:00.000000000",
          "2024-05-06T00:00:00.000000000",
          "2024-05-07T00:00:00.000000000",
          "2024-05-08T00:00:00.000000000",
          "2024-05-09T00:00:00.000000000",
          "2024-05-10T00:00:00.000000000",
          "2024-05-11T00:00:00.000000000",
          "2024-05-12T00:00:00.000000000",
          "2024-05-13T00:00:00.000000000",
          "2024-05-14T00:00:00.000000000",
          "2024-05-15T00:00:00.000000000",
          "2024-05-16T00:00:00.000000000",
          "2024-05-17T00:00:00.000000000",
          "2024-05-18T00:00:00.000000000",
          "2024-05-19T00:00:00.000000000",
          "2024-05-20T00:00:00.000000000",
          "2024-05-21T00:00:00.000000000",
          "2024-05-22T00:00:00.000000000",
          "2024-05-23T00:00:00.000000000",
          "2024-05-24T00:00:00.000000000",
          "2024-05-25T00:00:00.000000000",
          "2024-05-26T00:00:00.000000000",
          "2024-05-27T00:00:00.000000000",
          "2024-05-28T00:00:00.000000000",
          "2024-05-29T00:00:00.000000000",
          "2024-05-30T00:00:00.000000000",
          "2024-05-31T00:00:00.000000000",
          "2024-06-01T00:00:00.000000000",
          "2024-06-02T00:00:00.000000000",
          "2024-06-03T00:00:00.000000000",
          "2024-06-04T00:00:00.000000000",
          "2024-06-05T00:00:00.000000000",
          "2024-06-06T00:00:00.000000000",
          "2024-06-07T00:00:00.000000000",
          "2024-06-08T00:00:00.000000000",
          "2024-06-09T00:00:00.000000000",
          "2024-06-10T00:00:00.000000000",
          "2024-06-11T00:00:00.000000000",
          "2024-06-12T00:00:00.000000000",
          "2024-06-13T00:00:00.000000000",
          "2024-06-14T00:00:00.000000000",
          "2024-06-15T00:00:00.000000000",
          "2024-06-16T00:00:00.000000000",
          "2024-06-17T00:00:00.000000000",
          "2024-06-18T00:00:00.000000000",
          "2024-06-19T00:00:00.000000000",
          "2024-06-20T00:00:00.000000000",
          "2024-06-21T00:00:00.000000000",
          "2024-06-22T00:00:00.000000000",
          "2024-06-23T00:00:00.000000000",
          "2024-06-24T00:00:00.000000000",
          "2024-06-25T00:00:00.000000000",
          "2024-06-26T00:00:00.000000000",
          "2024-06-27T00:00:00.000000000",
          "2024-06-28T00:00:00.000000000",
          "2024-06-29T00:00:00.000000000",
          "2024-06-30T00:00:00.000000000",
          "2024-07-01T00:00:00.000000000",
          "2024-07-02T00:00:00.000000000",
          "2024-07-03T00:00:00.000000000",
          "2024-07-04T00:00:00.000000000",
          "2024-07-05T00:00:00.000000000",
          "2024-07-06T00:00:00.000000000",
          "2024-07-07T00:00:00.000000000",
          "2024-07-08T00:00:00.000000000",
          "2024-07-09T00:00:00.000000000",
          "2024-07-10T00:00:00.000000000",
          "2024-07-11T00:00:00.000000000",
          "2024-07-12T00:00:00.000000000",
          "2024-07-13T00:00:00.000000000",
          "2024-07-14T00:00:00.000000000",
          "2024-07-15T00:00:00.000000000",
          "2024-07-16T00:00:00.000000000",
          "2024-07-17T00:00:00.000000000",
          "2024-07-18T00:00:00.000000000",
          "2024-07-19T00:00:00.000000000",
          "2024-07-20T00:00:00.000000000",
          "2024-07-21T00:00:00.000000000",
          "2024-07-22T00:00:00.000000000",
          "2024-07-23T00:00:00.000000000",
          "2024-07-24T00:00:00.000000000",
          "2024-07-25T00:00:00.000000000",
          "2024-07-26T00:00:00.000000000",
          "2024-07-27T00:00:00.000000000",
          "2024-07-28T00:00:00.000000000",
          "2024-07-29T00:00:00.000000000",
          "2024-07-30T00:00:00.000000000",
          "2024-07-31T00:00:00.000000000",
          "2024-08-01T00:00:00.000000000",
          "2024-08-02T00:00:00.000000000",
          "2024-08-03T00:00:00.000000000",
          "2024-08-04T00:00:00.000000000",
          "2024-08-05T00:00:00.000000000",
          "2024-08-06T00:00:00.000000000",
          "2024-08-07T00:00:00.000000000",
          "2024-08-08T00:00:00.000000000",
          "2024-08-09T00:00:00.000000000",
          "2024-08-10T00:00:00.000000000",
          "2024-08-11T00:00:00.000000000",
          "2024-08-12T00:00:00.000000000",
          "2024-08-13T00:00:00.000000000",
          "2024-08-14T00:00:00.000000000",
          "2024-08-15T00:00:00.000000000",
          "2024-08-16T00:00:00.000000000",
          "2024-08-17T00:00:00.000000000",
          "2024-08-18T00:00:00.000000000",
          "2024-08-19T00:00:00.000000000",
          "2024-08-20T00:00:00.000000000",
          "2024-08-21T00:00:00.000000000",
          "2024-08-22T00:00:00.000000000",
          "2024-08-23T00:00:00.000000000",
          "2024-08-24T00:00:00.000000000",
          "2024-08-25T00:00:00.000000000",
          "2024-08-26T00:00:00.000000000",
          "2024-08-27T00:00:00.000000000",
          "2024-08-28T00:00:00.000000000",
          "2024-08-29T00:00:00.000000000",
          "2024-08-30T00:00:00.000000000",
          "2024-08-31T00:00:00.000000000",
          "2024-09-01T00:00:00.000000000",
          "2024-09-02T00:00:00.000000000",
          "2024-09-03T00:00:00.000000000",
          "2024-09-04T00:00:00.000000000",
          "2024-09-05T00:00:00.000000000",
          "2024-09-06T00:00:00.000000000",
          "2024-09-07T00:00:00.000000000",
          "2024-09-08T00:00:00.000000000",
          "2024-09-09T00:00:00.000000000",
          "2024-09-10T00:00:00.000000000",
          "2024-09-11T00:00:00.000000000",
          "2024-09-12T00:00:00.000000000",
          "2024-09-13T00:00:00.000000000",
          "2024-09-14T00:00:00.000000000",
          "2024-09-15T00:00:00.000000000",
          "2024-09-16T00:00:00.000000000",
          "2024-09-17T00:00:00.000000000",
          "2024-09-18T00:00:00.000000000",
          "2024-09-19T00:00:00.000000000",
          "2024-09-20T00:00:00.000000000",
          "2024-09-21T00:00:00.000000000",
          "2024-09-22T00:00:00.000000000",
          "2024-09-23T00:00:00.000000000",
          "2024-09-24T00:00:00.000000000",
          "2024-09-25T00:00:00.000000000",
          "2024-09-26T00:00:00.000000000",
          "2024-09-27T00:00:00.000000000",
          "2024-09-28T00:00:00.000000000",
          "2024-09-29T00:00:00.000000000",
          "2024-09-30T00:00:00.000000000",
          "2024-10-01T00:00:00.000000000",
          "2024-10-02T00:00:00.000000000",
          "2024-10-03T00:00:00.000000000",
          "2024-10-04T00:00:00.000000000",
          "2024-10-05T00:00:00.000000000",
          "2024-10-06T00:00:00.000000000",
          "2024-10-07T00:00:00.000000000",
          "2024-10-08T00:00:00.000000000",
          "2024-10-09T00:00:00.000000000",
          "2024-10-10T00:00:00.000000000",
          "2024-10-11T00:00:00.000000000",
          "2024-10-12T00:00:00.000000000",
          "2024-10-13T00:00:00.000000000",
          "2024-10-14T00:00:00.000000000",
          "2024-10-15T00:00:00.000000000",
          "2024-10-16T00:00:00.000000000",
          "2024-10-17T00:00:00.000000000",
          "2024-10-18T00:00:00.000000000",
          "2024-10-19T00:00:00.000000000",
          "2024-10-20T00:00:00.000000000",
          "2024-10-21T00:00:00.000000000",
          "2024-10-22T00:00:00.000000000",
          "2024-10-23T00:00:00.000000000",
          "2024-10-24T00:00:00.000000000",
          "2024-10-25T00:00:00.000000000",
          "2024-10-26T00:00:00.000000000",
          "2024-10-27T00:00:00.000000000",
          "2024-10-28T00:00:00.000000000",
          "2024-10-29T00:00:00.000000000",
          "2024-10-30T00:00:00.000000000",
          "2024-10-31T00:00:00.000000000",
          "2024-11-01T00:00:00.000000000",
          "2024-11-02T00:00:00.000000000",
          "2024-11-03T00:00:00.000000000",
          "2024-11-04T00:00:00.000000000",
          "2024-11-05T00:00:00.000000000",
          "2024-11-06T00:00:00.000000000",
          "2024-11-07T00:00:00.000000000",
          "2024-11-08T00:00:00.000000000",
          "2024-11-09T00:00:00.000000000",
          "2024-11-10T00:00:00.000000000",
          "2024-11-11T00:00:00.000000000",
          "2024-11-12T00:00:00.000000000",
          "2024-11-13T00:00:00.000000000",
          "2024-11-14T00:00:00.000000000",
          "2024-11-15T00:00:00.000000000",
          "2024-11-16T00:00:00.000000000",
          "2024-11-17T00:00:00.000000000",
          "2024-11-18T00:00:00.000000000",
          "2024-11-19T00:00:00.000000000",
          "2024-11-20T00:00:00.000000000",
          "2024-11-21T00:00:00.000000000",
          "2024-11-22T00:00:00.000000000",
          "2024-11-23T00:00:00.000000000",
          "2024-11-24T00:00:00.000000000",
          "2024-11-25T00:00:00.000000000",
          "2024-11-26T00:00:00.000000000",
          "2024-11-27T00:00:00.000000000",
          "2024-11-28T00:00:00.000000000",
          "2024-11-29T00:00:00.000000000",
          "2024-11-30T00:00:00.000000000",
          "2024-12-01T00:00:00.000000000",
          "2024-12-02T00:00:00.000000000",
          "2024-12-03T00:00:00.000000000",
          "2024-12-04T00:00:00.000000000",
          "2024-12-05T00:00:00.000000000",
          "2024-12-06T00:00:00.000000000",
          "2024-12-07T00:00:00.000000000",
          "2024-12-08T00:00:00.000000000",
          "2024-12-09T00:00:00.000000000",
          "2024-12-10T00:00:00.000000000",
          "2024-12-11T00:00:00.000000000",
          "2024-12-12T00:00:00.000000000",
          "2024-12-13T00:00:00.000000000",
          "2024-12-14T00:00:00.000000000",
          "2024-12-15T00:00:00.000000000",
          "2024-12-16T00:00:00.000000000",
          "2024-12-17T00:00:00.000000000",
          "2024-12-18T00:00:00.000000000",
          "2024-12-19T00:00:00.000000000",
          "2024-12-20T00:00:00.000000000",
          "2024-12-21T00:00:00.000000000",
          "2024-12-22T00:00:00.000000000",
          "2024-12-23T00:00:00.000000000",
          "2024-12-24T00:00:00.000000000",
          "2024-12-25T00:00:00.000000000",
          "2024-12-26T00:00:00.000000000",
          "2024-12-27T00:00:00.000000000",
          "2024-12-28T00:00:00.000000000",
          "2024-12-29T00:00:00.000000000",
          "2024-12-30T00:00:00.000000000",
          "2024-12-31T00:00:00.000000000"
         ],
         "y": {
          "bdata": "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",
          "dtype": "f8"
         }
        }
       ],
       "layout": {
        "template": {
         "data": {
          "bar": [
           {
            "error_x": {
             "color": "#2a3f5f"
            },
            "error_y": {
             "color": "#2a3f5f"
            },
            "marker": {
             "line": {
              "color": "#E5ECF6",
              "width": 0.5
             },
             "pattern": {
              "fillmode": "overlay",
              "size": 10,
              "solidity": 0.2
             }
            },
            "type": "bar"
           }
          ],
          "barpolar": [
           {
            "marker": {
             "line": {
              "color": "#E5ECF6",
              "width": 0.5
             },
             "pattern": {
              "fillmode": "overlay",
              "size": 10,
              "solidity": 0.2
             }
            },
            "type": "barpolar"
           }
          ],
          "carpet": [
           {
            "aaxis": {
             "endlinecolor": "#2a3f5f",
             "gridcolor": "white",
             "linecolor": "white",
             "minorgridcolor": "white",
             "startlinecolor": "#2a3f5f"
            },
            "baxis": {
             "endlinecolor": "#2a3f5f",
             "gridcolor": "white",
             "linecolor": "white",
             "minorgridcolor": "white",
             "startlinecolor": "#2a3f5f"
            },
            "type": "carpet"
           }
          ],
          "choropleth": [
           {
            "colorbar": {
             "outlinewidth": 0,
             "ticks": ""
            },
            "type": "choropleth"
           }
          ],
          "contour": [
           {
            "colorbar": {
             "outlinewidth": 0,
             "ticks": ""
            },
            "colorscale": [
             [
              0,
              "#0d0887"
             ],
             [
              0.1111111111111111,
              "#46039f"
             ],
             [
              0.2222222222222222,
              "#7201a8"
             ],
             [
              0.3333333333333333,
              "#9c179e"
             ],
             [
              0.4444444444444444,
              "#bd3786"
             ],
             [
              0.5555555555555556,
              "#d8576b"
             ],
             [
              0.6666666666666666,
              "#ed7953"
             ],
             [
              0.7777777777777778,
              "#fb9f3a"
             ],
             [
              0.8888888888888888,
              "#fdca26"
             ],
             [
              1,
              "#f0f921"
             ]
            ],
            "type": "contour"
           }
          ],
          "contourcarpet": [
           {
            "colorbar": {
             "outlinewidth": 0,
             "ticks": ""
            },
            "type": "contourcarpet"
           }
          ],
          "heatmap": [
           {
            "colorbar": {
             "outlinewidth": 0,
             "ticks": ""
            },
            "colorscale": [
             [
              0,
              "#0d0887"
             ],
             [
              0.1111111111111111,
              "#46039f"
             ],
             [
              0.2222222222222222,
              "#7201a8"
             ],
             [
              0.3333333333333333,
              "#9c179e"
             ],
             [
              0.4444444444444444,
              "#bd3786"
             ],
             [
              0.5555555555555556,
              "#d8576b"
             ],
             [
              0.6666666666666666,
              "#ed7953"
             ],
             [
              0.7777777777777778,
              "#fb9f3a"
             ],
             [
              0.8888888888888888,
              "#fdca26"
             ],
             [
              1,
              "#f0f921"
             ]
            ],
            "type": "heatmap"
           }
          ],
          "histogram": [
           {
            "marker": {
             "pattern": {
              "fillmode": "overlay",
              "size": 10,
              "solidity": 0.2
             }
            },
            "type": "histogram"
           }
          ],
          "histogram2d": [
           {
            "colorbar": {
             "outlinewidth": 0,
             "ticks": ""
            },
            "colorscale": [
             [
              0,
              "#0d0887"
             ],
             [
              0.1111111111111111,
              "#46039f"
             ],
             [
              0.2222222222222222,
              "#7201a8"
             ],
             [
              0.3333333333333333,
              "#9c179e"
             ],
             [
              0.4444444444444444,
              "#bd3786"
             ],
             [
              0.5555555555555556,
              "#d8576b"
             ],
             [
              0.6666666666666666,
              "#ed7953"
             ],
             [
              0.7777777777777778,
              "#fb9f3a"
             ],
             [
              0.8888888888888888,
              "#fdca26"
             ],
             [
              1,
              "#f0f921"
             ]
            ],
            "type": "histogram2d"
           }
          ],
          "histogram2dcontour": [
           {
            "colorbar": {
             "outlinewidth": 0,
             "ticks": ""
            },
            "colorscale": [
             [
              0,
              "#0d0887"
             ],
             [
              0.1111111111111111,
              "#46039f"
             ],
             [
              0.2222222222222222,
              "#7201a8"
             ],
             [
              0.3333333333333333,
              "#9c179e"
             ],
             [
              0.4444444444444444,
              "#bd3786"
             ],
             [
              0.5555555555555556,
              "#d8576b"
             ],
             [
              0.6666666666666666,
              "#ed7953"
             ],
             [
              0.7777777777777778,
              "#fb9f3a"
             ],
             [
              0.8888888888888888,
              "#fdca26"
             ],
             [
              1,
              "#f0f921"
             ]
            ],
            "type": "histogram2dcontour"
           }
          ],
          "mesh3d": [
           {
            "colorbar": {
             "outlinewidth": 0,
             "ticks": ""
            },
            "type": "mesh3d"
           }
          ],
          "parcoords": [
           {
            "line": {
             "colorbar": {
              "outlinewidth": 0,
              "ticks": ""
             }
            },
            "type": "parcoords"
           }
          ],
          "pie": [
           {
            "automargin": true,
            "type": "pie"
           }
          ],
          "scatter": [
           {
            "fillpattern": {
             "fillmode": "overlay",
             "size": 10,
             "solidity": 0.2
            },
            "type": "scatter"
           }
          ],
          "scatter3d": [
           {
            "line": {
             "colorbar": {
              "outlinewidth": 0,
              "ticks": ""
             }
            },
            "marker": {
             "colorbar": {
              "outlinewidth": 0,
              "ticks": ""
             }
            },
            "type": "scatter3d"
           }
          ],
          "scattercarpet": [
           {
            "marker": {
             "colorbar": {
              "outlinewidth": 0,
              "ticks": ""
             }
            },
            "type": "scattercarpet"
           }
          ],
          "scattergeo": [
           {
            "marker": {
             "colorbar": {
              "outlinewidth": 0,
              "ticks": ""
             }
            },
            "type": "scattergeo"
           }
          ],
          "scattergl": [
           {
            "marker": {
             "colorbar": {
              "outlinewidth": 0,
              "ticks": ""
             }
            },
            "type": "scattergl"
           }
          ],
          "scattermap": [
           {
            "marker": {
             "colorbar": {
              "outlinewidth": 0,
              "ticks": ""
             }
            },
            "type": "scattermap"
           }
          ],
          "scattermapbox": [
           {
            "marker": {
             "colorbar": {
              "outlinewidth": 0,
              "ticks": ""
             }
            },
            "type": "scattermapbox"
           }
          ],
          "scatterpolar": [
           {
            "marker": {
             "colorbar": {
              "outlinewidth": 0,
              "ticks": ""
             }
            },
            "type": "scatterpolar"
           }
          ],
          "scatterpolargl": [
           {
            "marker": {
             "colorbar": {
              "outlinewidth": 0,
              "ticks": ""
             }
            },
            "type": "scatterpolargl"
           }
          ],
          "scatterternary": [
           {
            "marker": {
             "colorbar": {
              "outlinewidth": 0,
              "ticks": ""
             }
            },
            "type": "scatterternary"
           }
          ],
          "surface": [
           {
            "colorbar": {
             "outlinewidth": 0,
             "ticks": ""
            },
            "colorscale": [
             [
              0,
              "#0d0887"
             ],
             [
              0.1111111111111111,
              "#46039f"
             ],
             [
              0.2222222222222222,
              "#7201a8"
             ],
             [
              0.3333333333333333,
              "#9c179e"
             ],
             [
              0.4444444444444444,
              "#bd3786"
             ],
             [
              0.5555555555555556,
              "#d8576b"
             ],
             [
              0.6666666666666666,
              "#ed7953"
             ],
             [
              0.7777777777777778,
              "#fb9f3a"
             ],
             [
              0.8888888888888888,
              "#fdca26"
             ],
             [
              1,
              "#f0f921"
             ]
            ],
            "type": "surface"
           }
          ],
          "table": [
           {
            "cells": {
             "fill": {
              "color": "#EBF0F8"
             },
             "line": {
              "color": "white"
             }
            },
            "header": {
             "fill": {
              "color": "#C8D4E3"
             },
             "line": {
              "color": "white"
             }
            },
            "type": "table"
           }
          ]
         },
         "layout": {
          "annotationdefaults": {
           "arrowcolor": "#2a3f5f",
           "arrowhead": 0,
           "arrowwidth": 1
          },
          "autotypenumbers": "strict",
          "coloraxis": {
           "colorbar": {
            "outlinewidth": 0,
            "ticks": ""
           }
          },
          "colorscale": {
           "diverging": [
            [
             0,
             "#8e0152"
            ],
            [
             0.1,
             "#c51b7d"
            ],
            [
             0.2,
             "#de77ae"
            ],
            [
             0.3,
             "#f1b6da"
            ],
            [
             0.4,
             "#fde0ef"
            ],
            [
             0.5,
             "#f7f7f7"
            ],
            [
             0.6,
             "#e6f5d0"
            ],
            [
             0.7,
             "#b8e186"
            ],
            [
             0.8,
             "#7fbc41"
            ],
            [
             0.9,
             "#4d9221"
            ],
            [
             1,
             "#276419"
            ]
           ],
           "sequential": [
            [
             0,
             "#0d0887"
            ],
            [
             0.1111111111111111,
             "#46039f"
            ],
            [
             0.2222222222222222,
             "#7201a8"
            ],
            [
             0.3333333333333333,
             "#9c179e"
            ],
            [
             0.4444444444444444,
             "#bd3786"
            ],
            [
             0.5555555555555556,
             "#d8576b"
            ],
            [
             0.6666666666666666,
             "#ed7953"
            ],
            [
             0.7777777777777778,
             "#fb9f3a"
            ],
            [
             0.8888888888888888,
             "#fdca26"
            ],
            [
             1,
             "#f0f921"
            ]
           ],
           "sequentialminus": [
            [
             0,
             "#0d0887"
            ],
            [
             0.1111111111111111,
             "#46039f"
            ],
            [
             0.2222222222222222,
             "#7201a8"
            ],
            [
             0.3333333333333333,
             "#9c179e"
            ],
            [
             0.4444444444444444,
             "#bd3786"
            ],
            [
             0.5555555555555556,
             "#d8576b"
            ],
            [
             0.6666666666666666,
             "#ed7953"
            ],
            [
             0.7777777777777778,
             "#fb9f3a"
            ],
            [
             0.8888888888888888,
             "#fdca26"
            ],
            [
             1,
             "#f0f921"
            ]
           ]
          },
          "colorway": [
           "#636efa",
           "#EF553B",
           "#00cc96",
           "#ab63fa",
           "#FFA15A",
           "#19d3f3",
           "#FF6692",
           "#B6E880",
           "#FF97FF",
           "#FECB52"
          ],
          "font": {
           "color": "#2a3f5f"
          },
          "geo": {
           "bgcolor": "white",
           "lakecolor": "white",
           "landcolor": "#E5ECF6",
           "showlakes": true,
           "showland": true,
           "subunitcolor": "white"
          },
          "hoverlabel": {
           "align": "left"
          },
          "hovermode": "closest",
          "mapbox": {
           "style": "light"
          },
          "paper_bgcolor": "white",
          "plot_bgcolor": "#E5ECF6",
          "polar": {
           "angularaxis": {
            "gridcolor": "white",
            "linecolor": "white",
            "ticks": ""
           },
           "bgcolor": "#E5ECF6",
           "radialaxis": {
            "gridcolor": "white",
            "linecolor": "white",
            "ticks": ""
           }
          },
          "scene": {
           "xaxis": {
            "backgroundcolor": "#E5ECF6",
            "gridcolor": "white",
            "gridwidth": 2,
            "linecolor": "white",
            "showbackground": true,
            "ticks": "",
            "zerolinecolor": "white"
           },
           "yaxis": {
            "backgroundcolor": "#E5ECF6",
            "gridcolor": "white",
            "gridwidth": 2,
            "linecolor": "white",
            "showbackground": true,
            "ticks": "",
            "zerolinecolor": "white"
           },
           "zaxis": {
            "backgroundcolor": "#E5ECF6",
            "gridcolor": "white",
            "gridwidth": 2,
            "linecolor": "white",
            "showbackground": true,
            "ticks": "",
            "zerolinecolor": "white"
           }
          },
          "shapedefaults": {
           "line": {
            "color": "#2a3f5f"
           }
          },
          "ternary": {
           "aaxis": {
            "gridcolor": "white",
            "linecolor": "white",
            "ticks": ""
           },
           "baxis": {
            "gridcolor": "white",
            "linecolor": "white",
            "ticks": ""
           },
           "bgcolor": "#E5ECF6",
           "caxis": {
            "gridcolor": "white",
            "linecolor": "white",
            "ticks": ""
           }
          },
          "title": {
           "x": 0.05
          },
          "xaxis": {
           "automargin": true,
           "gridcolor": "white",
           "linecolor": "white",
           "ticks": "",
           "title": {
            "standoff": 15
           },
           "zerolinecolor": "white",
           "zerolinewidth": 2
          },
          "yaxis": {
           "automargin": true,
           "gridcolor": "white",
           "linecolor": "white",
           "ticks": "",
           "title": {
            "standoff": 15
           },
           "zerolinecolor": "white",
           "zerolinewidth": 2
          }
         }
        },
        "title": {
         "text": "Line Chart - BTCUSDT"
        },
        "xaxis": {
         "rangeslider": {
          "visible": true
         },
         "title": {
          "text": "Date"
         }
        },
        "yaxis": {
         "title": {
          "text": "Price (USDT)"
         }
        }
       }
      }
     },
     "metadata": {},
     "output_type": "display_data"
    }
   ],
   "source": [
    "fig = go.Figure()\n",
    "fig.add_trace(go.Scatter(x=df.index, y=df['Close'], mode='lines', name='Close Price'))\n",
    "fig.update_layout(\n",
    "    title='Line Chart - BTCUSDT',\n",
    "    xaxis_title='Date',\n",
    "    yaxis_title='Price (USDT)',\n",
    "    xaxis_rangeslider_visible=True\n",
    ")\n",
    "fig.show()\n"
   ]
  },
  {
   "cell_type": "code",
   "execution_count": 16,
   "metadata": {},
   "outputs": [
    {
     "data": {
      "text/plain": [
       "Index(['Open', 'High', 'Low', 'Close', 'Volume', 'Close Time',\n",
       "       'Quote Asset Volume', 'Number of Trades', 'Taker Buy Base Asset Volume',\n",
       "       'Taker Buy Quote Asset Volume', 'Ignore', 'SMA20', 'std20', 'Upper_BB',\n",
       "       'Lower_BB', 'SMA50', 'SMA200', 'RSI', 'MACD', 'MACD_signal', 'EMA',\n",
       "       'ATR', 'OBV', 'VWAP', 'Ichimoku_Tenkan', 'Ichimoku_Kijun',\n",
       "       'Ichimoku_SenkouA', 'Ichimoku_SenkouB', 'Stochastic_%K',\n",
       "       'Stochastic_%D'],\n",
       "      dtype='object')"
      ]
     },
     "execution_count": 16,
     "metadata": {},
     "output_type": "execute_result"
    }
   ],
   "source": [
    "df.columns"
   ]
  },
  {
   "cell_type": "code",
   "execution_count": 17,
   "metadata": {},
   "outputs": [],
   "source": [
    "import matplotlib.pyplot as plt\n",
    "import seaborn as sns"
   ]
  },
  {
   "cell_type": "code",
   "execution_count": 18,
   "metadata": {},
   "outputs": [
    {
     "name": "stdout",
     "output_type": "stream",
     "text": [
      "Correlaciones con valor absoluto mayor o igual a 0.8\n",
      "Correlación entre EMA y Ichimoku_Tenkan: 1.00\n",
      "Correlación entre SMA20 y Ichimoku_Kijun: 0.99\n",
      "Correlación entre Upper_BB y EMA: 0.99\n",
      "Correlación entre SMA20 y EMA: 0.99\n",
      "Correlación entre Upper_BB y Ichimoku_Tenkan: 0.98\n",
      "Correlación entre SMA20 y Ichimoku_Tenkan: 0.98\n",
      "Correlación entre Upper_BB y SMA20: 0.98\n",
      "Correlación entre EMA y Ichimoku_Kijun: 0.98\n",
      "Correlación entre Ichimoku_Tenkan y Ichimoku_Kijun: 0.97\n",
      "Correlación entre SMA20 y Lower_BB: 0.97\n",
      "Correlación entre Upper_BB y Ichimoku_Kijun: 0.96\n",
      "Correlación entre Lower_BB y Ichimoku_Kijun: 0.96\n",
      "Correlación entre MACD y MACD_signal: 0.96\n",
      "Correlación entre SMA50 y Ichimoku_SenkouA: 0.95\n",
      "Correlación entre SMA50 y Ichimoku_Kijun: 0.94\n",
      "Correlación entre Lower_BB y SMA50: 0.94\n",
      "Correlación entre SMA200 y VWAP: 0.93\n",
      "Correlación entre Lower_BB y EMA: 0.93\n",
      "Correlación entre Lower_BB y Ichimoku_Tenkan: 0.93\n",
      "Correlación entre Stochastic_%K y Stochastic_%D: 0.93\n",
      "Correlación entre SMA20 y SMA50: 0.92\n",
      "Correlación entre SMA50 y SMA200: 0.91\n",
      "Correlación entre Lower_BB y SMA200: 0.90\n",
      "Correlación entre SMA200 y Ichimoku_Kijun: 0.90\n",
      "Correlación entre Upper_BB y Lower_BB: 0.90\n",
      "Correlación entre Ichimoku_SenkouA y Ichimoku_SenkouB: 0.89\n",
      "Correlación entre SMA20 y SMA200: 0.88\n",
      "Correlación entre SMA200 y Ichimoku_SenkouA: 0.87\n",
      "Correlación entre SMA50 y EMA: 0.87\n",
      "Correlación entre RSI y Stochastic_%D: 0.86\n",
      "Correlación entre SMA50 y Ichimoku_Tenkan: 0.86\n",
      "Correlación entre Upper_BB y SMA50: 0.85\n",
      "Correlación entre SMA200 y Ichimoku_Tenkan: 0.85\n",
      "Correlación entre SMA200 y EMA: 0.85\n",
      "Correlación entre VWAP y Ichimoku_SenkouA: 0.83\n",
      "Correlación entre SMA50 y Ichimoku_SenkouB: 0.83\n",
      "Correlación entre SMA50 y VWAP: 0.83\n",
      "Correlación entre VWAP y Ichimoku_SenkouB: 0.82\n",
      "Correlación entre Upper_BB y SMA200: 0.82\n",
      "Correlación entre RSI y Stochastic_%K: 0.82\n",
      "Correlación entre Lower_BB y Ichimoku_SenkouA: 0.82\n",
      "Correlación entre Ichimoku_Kijun y Ichimoku_SenkouA: 0.80\n"
     ]
    },
    {
     "data": {
      "image/png": "[encoded data removed]",
      "text/plain": [
       "<Figure size 1600x1200 with 2 Axes>"
      ]
     },
     "metadata": {},
     "output_type": "display_data"
    }
   ],
   "source": [
    "cols = ['Upper_BB', 'SMA20', 'Lower_BB', 'SMA50', 'SMA200', 'EMA', 'VWAP',\n",
    "        'Ichimoku_Tenkan', 'Ichimoku_Kijun', 'Ichimoku_SenkouA', 'Ichimoku_SenkouB',\n",
    "        'RSI', 'MACD', 'MACD_signal', 'ATR', 'OBV', 'Stochastic_%K', 'Stochastic_%D']\n",
    "\n",
    "correlation_matrix = df[cols].corr()\n",
    "\n",
    "# Define un umbral para filtrar correlaciones significativas (por ejemplo, 0.8)\n",
    "threshold = 0.8\n",
    "high_corr = {}\n",
    "\n",
    "# Itera sobre cada par de columnas (evitando duplicados y diagonal)\n",
    "for i in range(len(cols)):\n",
    "    for j in range(i+1, len(cols)):\n",
    "        corr_val = correlation_matrix.iloc[i, j]\n",
    "        if abs(corr_val) >= threshold:\n",
    "            high_corr[(cols[i], cols[j])] = corr_val\n",
    "\n",
    "# Imprime las correlaciones significativas ordenadas por valor absoluto descendente\n",
    "print(\"Correlaciones con valor absoluto mayor o igual a\", threshold)\n",
    "for pair, corr_val in sorted(high_corr.items(), key=lambda x: -abs(x[1])):\n",
    "    print(f\"Correlación entre {pair[0]} y {pair[1]}: {corr_val:.2f}\")\n",
    "\n",
    "# (Opcional) Visualiza la matriz de correlación completa\n",
    "plt.figure(figsize=(16,12))\n",
    "sns.heatmap(correlation_matrix, annot=True, cmap='crest', fmt=\".2f\")\n",
    "plt.title('Matriz de Correlación de Indicadores Técnicos')\n",
    "plt.show()"
   ]
  },
  {
   "cell_type": "code",
   "execution_count": null,
   "metadata": {},
   "outputs": [],
   "source": []
  }
 ],
 "metadata": {
  "kernelspec": {
   "display_name": "Python 3",
   "language": "python",
   "name": "python3"
  },
  "language_info": {
   "codemirror_mode": {
    "name": "ipython",
    "version": 3
   },
   "file_extension": ".py",
   "mimetype": "text/x-python",
   "name": "python",
   "nbconvert_exporter": "python",
   "pygments_lexer": "ipython3",
   "version": "3.11.9"
  }
 },
 "nbformat": 4,
 "nbformat_minor": 2
}
